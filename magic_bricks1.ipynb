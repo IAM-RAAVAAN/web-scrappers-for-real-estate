{
 "metadata": {
  "language_info": {
   "codemirror_mode": {
    "name": "ipython",
    "version": 3
   },
   "file_extension": ".py",
   "mimetype": "text/x-python",
   "name": "python",
   "nbconvert_exporter": "python",
   "pygments_lexer": "ipython3",
   "version": "3.9.2-final"
  },
  "orig_nbformat": 2,
  "kernelspec": {
   "name": "python392jvsc74a57bd007c0eba680f48f47a5ba37da399cd5e89b67f1875bf63e9a800e8853b1dcac6f",
   "display_name": "Python 3.9.2 64-bit"
  },
  "metadata": {
   "interpreter": {
    "hash": "07c0eba680f48f47a5ba37da399cd5e89b67f1875bf63e9a800e8853b1dcac6f"
   }
  }
 },
 "nbformat": 4,
 "nbformat_minor": 2,
 "cells": [
  {
   "cell_type": "code",
   "execution_count": null,
   "metadata": {},
   "outputs": [],
   "source": [
    "import pandas as pd \n",
    "import numpy as np \n",
    "import re \n",
    "import requests\n",
    "import matplotlib.pyplot as plt\n",
    "from bs4 import BeautifulSoup"
   ]
  },
  {
   "cell_type": "code",
   "execution_count": null,
   "metadata": {},
   "outputs": [],
   "source": [
    "    url='https://www.magicbricks.com/flats-for-rent-in-pune-pppfr'\n",
    "    j=requests.get(url)\n",
    "    k=j.text\n",
    "    s=BeautifulSoup(k,'lxml')"
   ]
  },
  {
   "cell_type": "code",
   "execution_count": 75,
   "metadata": {},
   "outputs": [],
   "source": [
    "  def prices(s):\n",
    "    the_price=[]\n",
    "    prices=s.find_all('div',attrs={'class':\"m-srp-card__price\"}) \n",
    "    for i in titel:\n",
    "        the_price.append(i.text)\n",
    "    return the_price"
   ]
  },
  {
   "cell_type": "code",
   "execution_count": 96,
   "metadata": {},
   "outputs": [],
   "source": [
    "  def heading(s):\n",
    "    the_head=[]\n",
    "    heading=s.find_all('span',attrs={'class':\"m-srp-card__title__bhk\"}) \n",
    "    for i in heading:\n",
    "        the_head.append(i.text)\n",
    "    return the_head"
   ]
  },
  {
   "cell_type": "code",
   "execution_count": 107,
   "metadata": {},
   "outputs": [],
   "source": [
    "def the_titel(s):\n",
    "    the_titel1=[]\n",
    "    the_titel=s.find_all('span',attrs={'class':\"m-srp-card__title\"}) \n",
    "    for i in the_titel:\n",
    "        the_titel1.append(i.text.split())\n",
    "    type=[]\n",
    "    for i in the_titel1:\n",
    "        type.append(i[:3])\n",
    "    locality=[]\n",
    "    for i in the_titel1:\n",
    "        locality.append(i[6:])\n",
    "    return locality,type"
   ]
  },
  {
   "cell_type": "code",
   "execution_count": 61,
   "metadata": {},
   "outputs": [],
   "source": [
    "  def the_area(s):\n",
    "        areas=[]\n",
    "        the_area=s.find_all('span',attrs={'class':\"font-type-3\"}) \n",
    "        for i in the_area:\n",
    "            areas.append(i.text)\n",
    "        return areas"
   ]
  },
  {
   "cell_type": "code",
   "execution_count": 70,
   "metadata": {},
   "outputs": [],
   "source": [
    "\"\"\"the_floor=[]\n",
    "floor=s.find_all('div',attrs={'class':\"m-srp-card__summary__item\"})\n",
    "for i in floor:\n",
    "        the_floor.append(i.text)\"\"\""
   ]
  },
  {
   "cell_type": "code",
   "execution_count": 74,
   "metadata": {},
   "outputs": [
    {
     "output_type": "execute_result",
     "data": {
      "text/plain": [
       "'\\ncar parking\\n1 Covered\\n'"
      ]
     },
     "metadata": {},
     "execution_count": 74
    }
   ],
   "source": [
    "the_floor[-1]"
   ]
  },
  {
   "cell_type": "code",
   "execution_count": 88,
   "metadata": {},
   "outputs": [],
   "source": [
    "def the_owner(s):\n",
    "    owner=[]\n",
    "    the_owner=s.find_all('div',attrs={'class':\"m-srp-card__advertiser__name\"})\n",
    "    for i in the_owner:\n",
    "        owner.append(i.text)\n",
    "    return owner\n",
    "        "
   ]
  },
  {
   "cell_type": "code",
   "execution_count": 85,
   "metadata": {},
   "outputs": [],
   "source": [
    "def the_descroption(s):\n",
    "    description=[]\n",
    "    the_descroption=s.find_all('div',attrs={'class':\"m-srp-card__description js-content-read-more truncated\"})\n",
    "    for i in the_descroption:\n",
    "        description.append(i.text)\n",
    "    return description"
   ]
  },
  {
   "cell_type": "code",
   "execution_count": null,
   "metadata": {},
   "outputs": [],
   "source": []
  },
  {
   "cell_type": "code",
   "execution_count": 99,
   "metadata": {},
   "outputs": [],
   "source": [
    "d={ \n",
    "    'the description':the_descroption(s),\n",
    "    'owner':the_owner(s),\n",
    "     #'area':the_area(s),\n",
    "    'heading':heading(s),\n",
    "    'prices':prices(s)\n",
    "}"
   ]
  },
  {
   "cell_type": "code",
   "execution_count": 100,
   "metadata": {},
   "outputs": [
    {
     "output_type": "stream",
     "name": "stdout",
     "text": [
      "the description\n30\nowner\n30\nheading\n30\nprices\n30\n"
     ]
    }
   ],
   "source": [
    "for key,value in d.items():\n",
    "    print(key)\n",
    "    print(len(value))"
   ]
  },
  {
   "cell_type": "code",
   "execution_count": 101,
   "metadata": {},
   "outputs": [],
   "source": [
    "df=pd.DataFrame(d)"
   ]
  },
  {
   "cell_type": "code",
   "execution_count": 112,
   "metadata": {},
   "outputs": [],
   "source": [
    "k,l=the_titel(s)"
   ]
  },
  {
   "cell_type": "code",
   "execution_count": 116,
   "metadata": {},
   "outputs": [],
   "source": [
    "df['locality']=k"
   ]
  },
  {
   "cell_type": "code",
   "execution_count": 117,
   "metadata": {},
   "outputs": [
    {
     "output_type": "execute_result",
     "data": {
      "text/plain": [
       "                                      the description  \\\n",
       "0   \\n1 bhk rental semifurnish flat available sinh...   \n",
       "1   \\n3 bhk semi furnished apartment for rent in f...   \n",
       "2   \\nAvailable for rent 3.5 BHK in karia konark v...   \n",
       "3   \\n1 BHK, Multistorey Apartment is available fo...   \n",
       "4   \\n1 BHK, Multistorey Apartment is available fo...   \n",
       "5   \\nThis Multistorey Apartment is located at 6th...   \n",
       "6   \\nMy Property is located at seventh floor. It ...   \n",
       "7   \\nAn excellent 2 bhk apartment is available fo...   \n",
       "8   \\n1 BHK, Multistorey Apartment is available fo...   \n",
       "9               \\nVery nice home for working people\\n   \n",
       "10  \\nA Beautyful 2 bhk specious flat on rent in f...   \n",
       "11  \\nspacious duplex flat near mirch masal with b...   \n",
       "12  \\nThis 2 BHK Unit is on 2 floor and has 2 bath...   \n",
       "13  \\n1 BHK, Multistorey Apartment is available fo...   \n",
       "14  \\n1 BHK, Multistorey Apartment is available fo...   \n",
       "15  \\n1 BHK, Builder Floor Apartment is available ...   \n",
       "16  \\nHurry Up!!!! 2BHK Semi furnished flat Rent A...   \n",
       "17  \\nThere is a brand new 3 bhk Emerald Global Pr...   \n",
       "18  \\n2 BHK, Multistorey Apartment is available fo...   \n",
       "19  \\n2bhk semi furnished flat at green valley, wa...   \n",
       "20  \\n3 BHK, Multistorey Apartment is available fo...   \n",
       "21  \\nWe charge only flat service fees for an apar...   \n",
       "22  \\nThe Flat has No/Rare Powercut and water supp...   \n",
       "23  \\nSwiss County, Building B,Flat B902,Wakad,The...   \n",
       "24  \\nThis Flat has 2 bedroom and it is on 7th flo...   \n",
       "25  \\nMultistorey apartment is available for rent....   \n",
       "26  \\nA 3 bhk flat for rent in kalyani nagar, pune...   \n",
       "27  \\nMultistorey apartment is available for rent....   \n",
       "28  \\nPower Back Up, Lift, Rain Water Harvesting, ...   \n",
       "29  \\nSpacious 2 balcony east west flat Located in...   \n",
       "\n",
       "                         owner                  heading       prices  \\\n",
       "0     \\nA Square Real Estate\\n      \\n1 BHK Apartment\\n  ₹\\n14,000\\n   \n",
       "1       \\nMohit Real Estates\\n      \\n3 BHK Apartment\\n  ₹\\n36,000\\n   \n",
       "2              Infinity Global      \\n3 BHK Apartment\\n  ₹\\n60,000\\n   \n",
       "3              Inamdar Inamdar      \\n1 BHK Apartment\\n  ₹\\n12,000\\n   \n",
       "4                        Kunal      \\n1 BHK Apartment\\n   ₹\\n6,873\\n   \n",
       "5                         Atul      \\n2 BHK Apartment\\n  ₹\\n15,000\\n   \n",
       "6                   Shokeen VS      \\n2 BHK Apartment\\n  ₹\\n17,000\\n   \n",
       "7                       Nikesh      \\n2 BHK Apartment\\n  ₹\\n12,000\\n   \n",
       "8                    Umbrajkar      \\n1 BHK Apartment\\n  ₹\\n12,000\\n   \n",
       "9    Amanco Realtors Pvt. Ltd.      \\n2 BHK Apartment\\n  ₹\\n15,000\\n   \n",
       "10  Property Point Real Estate      \\n2 BHK Apartment\\n  ₹\\n28,000\\n   \n",
       "11                     Myspace      \\n3 BHK Apartment\\n  ₹\\n45,000\\n   \n",
       "12                Saumya Gupta      \\n2 BHK Apartment\\n  ₹\\n19,500\\n   \n",
       "13              Mahesh Bhosale      \\n1 BHK Apartment\\n   ₹\\n7,000\\n   \n",
       "14                      Milind      \\n1 BHK Apartment\\n  ₹\\n15,000\\n   \n",
       "15                 VIJAY Kadgi  \\n1 BHK Builder Floor\\n  ₹\\n13,000\\n   \n",
       "16        Home Care Properties      \\n2 BHK Apartment\\n  ₹\\n17,000\\n   \n",
       "17   Azuro Property Management      \\n3 BHK Apartment\\n  ₹\\n34,000\\n   \n",
       "18               Hasmukh patel      \\n2 BHK Apartment\\n  ₹\\n20,000\\n   \n",
       "19              Parwani Realty      \\n2 BHK Apartment\\n  ₹\\n28,000\\n   \n",
       "20                 RUTUL GUPTE      \\n3 BHK Apartment\\n  ₹\\n20,000\\n   \n",
       "21                         APM      \\n3 BHK Apartment\\n  ₹\\n24,000\\n   \n",
       "22                Satish Ranga      \\n2 BHK Apartment\\n  ₹\\n20,000\\n   \n",
       "23                   Shailesh       \\n2 BHK Apartment\\n  ₹\\n19,500\\n   \n",
       "24                       Smita      \\n2 BHK Apartment\\n  ₹\\n18,500\\n   \n",
       "25              Pranav Dhavale      \\n2 BHK Apartment\\n  ₹\\n12,000\\n   \n",
       "26      Hiranandani Properties      \\n3 BHK Apartment\\n  ₹\\n33,000\\n   \n",
       "27                      Kshama      \\n1 BHK Apartment\\n  ₹\\n12,500\\n   \n",
       "28            Viraj Properties      \\n1 BHK Apartment\\n  ₹\\n11,000\\n   \n",
       "29                 vijay DHAGE      \\n2 BHK Apartment\\n  ₹\\n20,000\\n   \n",
       "\n",
       "                                             locality  \n",
       "0                                    [Sinhagad, Road]  \n",
       "1            [Fortaleza,, Kalyani, Nagar, 1500, sqft]  \n",
       "2   [Karia, Konark, Vista,, Magarpatta, City, 2600...  \n",
       "3             [Rajnigandha, Complex,, Wadgaon, Sheri]  \n",
       "4                                    [Wadgaon, Sheri]  \n",
       "5                                [Wagholi, 950, sqft]  \n",
       "6   [Pride, World, City,, Charholi, Budruk, 1029, ...  \n",
       "7     [The, Leaf,, Katraj, Kondhwa, Road, 1575, sqft]  \n",
       "8                        [Dharmveer, Park, Bibwewadi]  \n",
       "9   [The, Cliff, Garden,, Hinjewadi, Phase, 3, 950...  \n",
       "10  [Forest, County,, EON, Free, Zone,, Kharadi, 1...  \n",
       "11          [Dahanukar, Colony,, Kothrud, 2500, sqft]  \n",
       "12          [Vishrantwadi,, Airport, Road, 950, sqft]  \n",
       "13                                         [Lonikand]  \n",
       "14                        [Atreya, Society,, Kothrud]  \n",
       "15                                   [in, Dhankawadi]  \n",
       "16         [Sun, Empire,, Sinhagad, Road, 1063, sqft]  \n",
       "17                              [Kharadi, 1698, sqft]  \n",
       "18      [Salunkhe, Vihar,, Mohammed, Wadi, 830, sqft]  \n",
       "19             [Green, Valley,, Wanowrie, 1050, sqft]  \n",
       "20              [Keshav, Nagar,, Mundhwa, 1260, sqft]  \n",
       "21                                [Baner, 1450, sqft]  \n",
       "22          [Karan, Rhea,, Wadgaon, Sheri, 966, sqft]  \n",
       "23                [Swiss, County,, Wakad, 1260, sqft]  \n",
       "24                                   [Sinhagad, Road]  \n",
       "25                              [Ambegaon, 862, sqft]  \n",
       "26  [Imperial, Residence,, Kalyani, Nagar, 1410, s...  \n",
       "27  [Narayan, complex,, hingne, Khurda,, vittalwad...  \n",
       "28  [Golden, Treasure,, Punawale,, Pimpri, Chinchwad]  \n",
       "29  [Elmwoods,, Pimple, Saudagar,, Pimpri, Chinchw...  "
      ],
      "text/html": "<div>\n<style scoped>\n    .dataframe tbody tr th:only-of-type {\n        vertical-align: middle;\n    }\n\n    .dataframe tbody tr th {\n        vertical-align: top;\n    }\n\n    .dataframe thead th {\n        text-align: right;\n    }\n</style>\n<table border=\"1\" class=\"dataframe\">\n  <thead>\n    <tr style=\"text-align: right;\">\n      <th></th>\n      <th>the description</th>\n      <th>owner</th>\n      <th>heading</th>\n      <th>prices</th>\n      <th>locality</th>\n    </tr>\n  </thead>\n  <tbody>\n    <tr>\n      <th>0</th>\n      <td>\\n1 bhk rental semifurnish flat available sinh...</td>\n      <td>\\nA Square Real Estate\\n</td>\n      <td>\\n1 BHK Apartment\\n</td>\n      <td>₹\\n14,000\\n</td>\n      <td>[Sinhagad, Road]</td>\n    </tr>\n    <tr>\n      <th>1</th>\n      <td>\\n3 bhk semi furnished apartment for rent in f...</td>\n      <td>\\nMohit Real Estates\\n</td>\n      <td>\\n3 BHK Apartment\\n</td>\n      <td>₹\\n36,000\\n</td>\n      <td>[Fortaleza,, Kalyani, Nagar, 1500, sqft]</td>\n    </tr>\n    <tr>\n      <th>2</th>\n      <td>\\nAvailable for rent 3.5 BHK in karia konark v...</td>\n      <td>Infinity Global</td>\n      <td>\\n3 BHK Apartment\\n</td>\n      <td>₹\\n60,000\\n</td>\n      <td>[Karia, Konark, Vista,, Magarpatta, City, 2600...</td>\n    </tr>\n    <tr>\n      <th>3</th>\n      <td>\\n1 BHK, Multistorey Apartment is available fo...</td>\n      <td>Inamdar Inamdar</td>\n      <td>\\n1 BHK Apartment\\n</td>\n      <td>₹\\n12,000\\n</td>\n      <td>[Rajnigandha, Complex,, Wadgaon, Sheri]</td>\n    </tr>\n    <tr>\n      <th>4</th>\n      <td>\\n1 BHK, Multistorey Apartment is available fo...</td>\n      <td>Kunal</td>\n      <td>\\n1 BHK Apartment\\n</td>\n      <td>₹\\n6,873\\n</td>\n      <td>[Wadgaon, Sheri]</td>\n    </tr>\n    <tr>\n      <th>5</th>\n      <td>\\nThis Multistorey Apartment is located at 6th...</td>\n      <td>Atul</td>\n      <td>\\n2 BHK Apartment\\n</td>\n      <td>₹\\n15,000\\n</td>\n      <td>[Wagholi, 950, sqft]</td>\n    </tr>\n    <tr>\n      <th>6</th>\n      <td>\\nMy Property is located at seventh floor. It ...</td>\n      <td>Shokeen VS</td>\n      <td>\\n2 BHK Apartment\\n</td>\n      <td>₹\\n17,000\\n</td>\n      <td>[Pride, World, City,, Charholi, Budruk, 1029, ...</td>\n    </tr>\n    <tr>\n      <th>7</th>\n      <td>\\nAn excellent 2 bhk apartment is available fo...</td>\n      <td>Nikesh</td>\n      <td>\\n2 BHK Apartment\\n</td>\n      <td>₹\\n12,000\\n</td>\n      <td>[The, Leaf,, Katraj, Kondhwa, Road, 1575, sqft]</td>\n    </tr>\n    <tr>\n      <th>8</th>\n      <td>\\n1 BHK, Multistorey Apartment is available fo...</td>\n      <td>Umbrajkar</td>\n      <td>\\n1 BHK Apartment\\n</td>\n      <td>₹\\n12,000\\n</td>\n      <td>[Dharmveer, Park, Bibwewadi]</td>\n    </tr>\n    <tr>\n      <th>9</th>\n      <td>\\nVery nice home for working people\\n</td>\n      <td>Amanco Realtors Pvt. Ltd.</td>\n      <td>\\n2 BHK Apartment\\n</td>\n      <td>₹\\n15,000\\n</td>\n      <td>[The, Cliff, Garden,, Hinjewadi, Phase, 3, 950...</td>\n    </tr>\n    <tr>\n      <th>10</th>\n      <td>\\nA Beautyful 2 bhk specious flat on rent in f...</td>\n      <td>Property Point Real Estate</td>\n      <td>\\n2 BHK Apartment\\n</td>\n      <td>₹\\n28,000\\n</td>\n      <td>[Forest, County,, EON, Free, Zone,, Kharadi, 1...</td>\n    </tr>\n    <tr>\n      <th>11</th>\n      <td>\\nspacious duplex flat near mirch masal with b...</td>\n      <td>Myspace</td>\n      <td>\\n3 BHK Apartment\\n</td>\n      <td>₹\\n45,000\\n</td>\n      <td>[Dahanukar, Colony,, Kothrud, 2500, sqft]</td>\n    </tr>\n    <tr>\n      <th>12</th>\n      <td>\\nThis 2 BHK Unit is on 2 floor and has 2 bath...</td>\n      <td>Saumya Gupta</td>\n      <td>\\n2 BHK Apartment\\n</td>\n      <td>₹\\n19,500\\n</td>\n      <td>[Vishrantwadi,, Airport, Road, 950, sqft]</td>\n    </tr>\n    <tr>\n      <th>13</th>\n      <td>\\n1 BHK, Multistorey Apartment is available fo...</td>\n      <td>Mahesh Bhosale</td>\n      <td>\\n1 BHK Apartment\\n</td>\n      <td>₹\\n7,000\\n</td>\n      <td>[Lonikand]</td>\n    </tr>\n    <tr>\n      <th>14</th>\n      <td>\\n1 BHK, Multistorey Apartment is available fo...</td>\n      <td>Milind</td>\n      <td>\\n1 BHK Apartment\\n</td>\n      <td>₹\\n15,000\\n</td>\n      <td>[Atreya, Society,, Kothrud]</td>\n    </tr>\n    <tr>\n      <th>15</th>\n      <td>\\n1 BHK, Builder Floor Apartment is available ...</td>\n      <td>VIJAY Kadgi</td>\n      <td>\\n1 BHK Builder Floor\\n</td>\n      <td>₹\\n13,000\\n</td>\n      <td>[in, Dhankawadi]</td>\n    </tr>\n    <tr>\n      <th>16</th>\n      <td>\\nHurry Up!!!! 2BHK Semi furnished flat Rent A...</td>\n      <td>Home Care Properties</td>\n      <td>\\n2 BHK Apartment\\n</td>\n      <td>₹\\n17,000\\n</td>\n      <td>[Sun, Empire,, Sinhagad, Road, 1063, sqft]</td>\n    </tr>\n    <tr>\n      <th>17</th>\n      <td>\\nThere is a brand new 3 bhk Emerald Global Pr...</td>\n      <td>Azuro Property Management</td>\n      <td>\\n3 BHK Apartment\\n</td>\n      <td>₹\\n34,000\\n</td>\n      <td>[Kharadi, 1698, sqft]</td>\n    </tr>\n    <tr>\n      <th>18</th>\n      <td>\\n2 BHK, Multistorey Apartment is available fo...</td>\n      <td>Hasmukh patel</td>\n      <td>\\n2 BHK Apartment\\n</td>\n      <td>₹\\n20,000\\n</td>\n      <td>[Salunkhe, Vihar,, Mohammed, Wadi, 830, sqft]</td>\n    </tr>\n    <tr>\n      <th>19</th>\n      <td>\\n2bhk semi furnished flat at green valley, wa...</td>\n      <td>Parwani Realty</td>\n      <td>\\n2 BHK Apartment\\n</td>\n      <td>₹\\n28,000\\n</td>\n      <td>[Green, Valley,, Wanowrie, 1050, sqft]</td>\n    </tr>\n    <tr>\n      <th>20</th>\n      <td>\\n3 BHK, Multistorey Apartment is available fo...</td>\n      <td>RUTUL GUPTE</td>\n      <td>\\n3 BHK Apartment\\n</td>\n      <td>₹\\n20,000\\n</td>\n      <td>[Keshav, Nagar,, Mundhwa, 1260, sqft]</td>\n    </tr>\n    <tr>\n      <th>21</th>\n      <td>\\nWe charge only flat service fees for an apar...</td>\n      <td>APM</td>\n      <td>\\n3 BHK Apartment\\n</td>\n      <td>₹\\n24,000\\n</td>\n      <td>[Baner, 1450, sqft]</td>\n    </tr>\n    <tr>\n      <th>22</th>\n      <td>\\nThe Flat has No/Rare Powercut and water supp...</td>\n      <td>Satish Ranga</td>\n      <td>\\n2 BHK Apartment\\n</td>\n      <td>₹\\n20,000\\n</td>\n      <td>[Karan, Rhea,, Wadgaon, Sheri, 966, sqft]</td>\n    </tr>\n    <tr>\n      <th>23</th>\n      <td>\\nSwiss County, Building B,Flat B902,Wakad,The...</td>\n      <td>Shailesh</td>\n      <td>\\n2 BHK Apartment\\n</td>\n      <td>₹\\n19,500\\n</td>\n      <td>[Swiss, County,, Wakad, 1260, sqft]</td>\n    </tr>\n    <tr>\n      <th>24</th>\n      <td>\\nThis Flat has 2 bedroom and it is on 7th flo...</td>\n      <td>Smita</td>\n      <td>\\n2 BHK Apartment\\n</td>\n      <td>₹\\n18,500\\n</td>\n      <td>[Sinhagad, Road]</td>\n    </tr>\n    <tr>\n      <th>25</th>\n      <td>\\nMultistorey apartment is available for rent....</td>\n      <td>Pranav Dhavale</td>\n      <td>\\n2 BHK Apartment\\n</td>\n      <td>₹\\n12,000\\n</td>\n      <td>[Ambegaon, 862, sqft]</td>\n    </tr>\n    <tr>\n      <th>26</th>\n      <td>\\nA 3 bhk flat for rent in kalyani nagar, pune...</td>\n      <td>Hiranandani Properties</td>\n      <td>\\n3 BHK Apartment\\n</td>\n      <td>₹\\n33,000\\n</td>\n      <td>[Imperial, Residence,, Kalyani, Nagar, 1410, s...</td>\n    </tr>\n    <tr>\n      <th>27</th>\n      <td>\\nMultistorey apartment is available for rent....</td>\n      <td>Kshama</td>\n      <td>\\n1 BHK Apartment\\n</td>\n      <td>₹\\n12,500\\n</td>\n      <td>[Narayan, complex,, hingne, Khurda,, vittalwad...</td>\n    </tr>\n    <tr>\n      <th>28</th>\n      <td>\\nPower Back Up, Lift, Rain Water Harvesting, ...</td>\n      <td>Viraj Properties</td>\n      <td>\\n1 BHK Apartment\\n</td>\n      <td>₹\\n11,000\\n</td>\n      <td>[Golden, Treasure,, Punawale,, Pimpri, Chinchwad]</td>\n    </tr>\n    <tr>\n      <th>29</th>\n      <td>\\nSpacious 2 balcony east west flat Located in...</td>\n      <td>vijay DHAGE</td>\n      <td>\\n2 BHK Apartment\\n</td>\n      <td>₹\\n20,000\\n</td>\n      <td>[Elmwoods,, Pimple, Saudagar,, Pimpri, Chinchw...</td>\n    </tr>\n  </tbody>\n</table>\n</div>"
     },
     "metadata": {},
     "execution_count": 117
    }
   ],
   "source": [
    "df"
   ]
  }
 ]
}