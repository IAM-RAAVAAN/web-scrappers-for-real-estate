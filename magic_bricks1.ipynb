{
 "metadata": {
  "language_info": {
   "codemirror_mode": {
    "name": "ipython",
    "version": 3
   },
   "file_extension": ".py",
   "mimetype": "text/x-python",
   "name": "python",
   "nbconvert_exporter": "python",
   "pygments_lexer": "ipython3",
   "version": "3.9.2"
  },
  "orig_nbformat": 2,
  "kernelspec": {
   "name": "python3",
   "display_name": "Python 3.9.2 64-bit",
   "metadata": {
    "interpreter": {
     "hash": "e7370f93d1d0cde622a1f8e1c04877d8463912d04d973331ad4851f04de6915a"
    }
   }
  },
  "metadata": {
   "interpreter": {
    "hash": "07c0eba680f48f47a5ba37da399cd5e89b67f1875bf63e9a800e8853b1dcac6f"
   }
  }
 },
 "nbformat": 4,
 "nbformat_minor": 2,
 "cells": [
  {
   "cell_type": "code",
   "execution_count": 47,
   "metadata": {},
   "outputs": [],
   "source": [
    "import pandas as pd \n",
    "import numpy as np \n",
    "import re \n",
    "import requests\n",
    "import matplotlib.pyplot as plt\n",
    "from bs4 import BeautifulSoup"
   ]
  },
  {
   "cell_type": "code",
   "execution_count": 48,
   "metadata": {},
   "outputs": [],
   "source": [
    "    url='https://www.magicbricks.com/flats-for-rent-in-pune-pppfr'\n",
    "    j=requests.get(url)\n",
    "    k=j.text\n",
    "    s=BeautifulSoup(k,'lxml')"
   ]
  },
  {
   "cell_type": "code",
   "execution_count": 49,
   "metadata": {},
   "outputs": [],
   "source": [
    "  def prices(s):\n",
    "    the_price=[]\n",
    "    prices=s.find_all('div',attrs={'class':\"m-srp-card__price\"}) \n",
    "    for i in prices:\n",
    "        the_price.append(i.text)\n",
    "    return the_price"
   ]
  },
  {
   "cell_type": "code",
   "execution_count": 50,
   "metadata": {},
   "outputs": [],
   "source": [
    "  def heading(s):\n",
    "    the_head=[]\n",
    "    heading=s.find_all('span',attrs={'class':\"m-srp-card__title__bhk\"}) \n",
    "    for i in heading:\n",
    "        the_head.append(i.text)\n",
    "    return the_head"
   ]
  },
  {
   "cell_type": "code",
   "execution_count": 51,
   "metadata": {},
   "outputs": [],
   "source": [
    "def the_titel(s):\n",
    "    the_titel1=[]\n",
    "    the_titel=s.find_all('span',attrs={'class':\"m-srp-card__title\"}) \n",
    "    for i in the_titel:\n",
    "        the_titel1.append(i.text.split())\n",
    "    type=[]\n",
    "    for i in the_titel1:\n",
    "        type.append(i[:3])\n",
    "    locality=[]\n",
    "    for i in the_titel1:\n",
    "        locality.append(i[6:])\n",
    "    return locality,type"
   ]
  },
  {
   "cell_type": "code",
   "execution_count": 52,
   "metadata": {},
   "outputs": [],
   "source": [
    "  def the_area(s):\n",
    "        areas=[]\n",
    "        the_area=s.find_all('span',attrs={'class':\"font-type-3\"}) \n",
    "        for i in the_area:\n",
    "            areas.append(i.text)\n",
    "        return areas"
   ]
  },
  {
   "cell_type": "code",
   "execution_count": 53,
   "metadata": {},
   "outputs": [
    {
     "output_type": "execute_result",
     "data": {
      "text/plain": [
       "'the_floor=[]\\nfloor=s.find_all(\\'div\\',attrs={\\'class\\':\"m-srp-card__summary__item\"})\\nfor i in floor:\\n        the_floor.append(i.text)'"
      ]
     },
     "metadata": {},
     "execution_count": 53
    }
   ],
   "source": [
    "\"\"\"the_floor=[]\n",
    "floor=s.find_all('div',attrs={'class':\"m-srp-card__summary__item\"})\n",
    "for i in floor:\n",
    "        the_floor.append(i.text)\"\"\""
   ]
  },
  {
   "cell_type": "code",
   "execution_count": 54,
   "metadata": {},
   "outputs": [],
   "source": [
    "def the_owner(s):\n",
    "    owner=[]\n",
    "    the_owner=s.find_all('div',attrs={'class':\"m-srp-card__advertiser__name\"})\n",
    "    for i in the_owner:\n",
    "        owner.append(i.text)\n",
    "    return owner\n",
    "        "
   ]
  },
  {
   "cell_type": "code",
   "execution_count": 55,
   "metadata": {},
   "outputs": [],
   "source": [
    "def the_descroption(s):\n",
    "    description=[]\n",
    "    the_descroption=s.find_all('div',attrs={'class':\"m-srp-card__description js-content-read-more truncated\"})\n",
    "    for i in the_descroption:\n",
    "        description.append(i.text)\n",
    "    return description"
   ]
  },
  {
   "cell_type": "code",
   "execution_count": null,
   "metadata": {},
   "outputs": [],
   "source": []
  },
  {
   "cell_type": "code",
   "execution_count": 56,
   "metadata": {},
   "outputs": [],
   "source": [
    "d={ \n",
    "    'the description':the_descroption(s),\n",
    "    'owner':the_owner(s),\n",
    "     #'area':the_area(s),\n",
    "    'heading':heading(s),\n",
    "    'price':prices(s)\n",
    "}"
   ]
  },
  {
   "cell_type": "code",
   "execution_count": 57,
   "metadata": {},
   "outputs": [
    {
     "output_type": "stream",
     "name": "stdout",
     "text": [
      "the description\n30\nowner\n30\nheading\n30\nprice\n30\n"
     ]
    }
   ],
   "source": [
    "for key,value in d.items():\n",
    "    print(key)\n",
    "    print(len(value))"
   ]
  },
  {
   "cell_type": "code",
   "execution_count": 58,
   "metadata": {},
   "outputs": [],
   "source": [
    "df=pd.DataFrame(d)\n",
    "k,l=the_titel(s)\n",
    "df['locality']=k"
   ]
  },
  {
   "cell_type": "code",
   "execution_count": 59,
   "metadata": {},
   "outputs": [],
   "source": [
    "def the_df_function(s):\n",
    "    d={}\n",
    "    df1=pd.DataFrame(d)\n",
    "    df1['the description']=the_descroption(s)\n",
    "    df1['owner']=the_owner(s)\n",
    "    df1['heading']=heading(s)\n",
    "    df1['price']=prices(s)\n",
    "    k,l=the_titel(s)\n",
    "    df1['locality']=k\n",
    "    return df1\n",
    "   \n"
   ]
  },
  {
   "cell_type": "code",
   "execution_count": 60,
   "metadata": {},
   "outputs": [
    {
     "output_type": "execute_result",
     "data": {
      "text/plain": [
       "                                      the description  \\\n",
       "0   \\nMetro tower is part of Amanora Park Town the...   \n",
       "1   \\nMultistorey Apartment has unblocked view on ...   \n",
       "2   \\nAn excellent 1 bhk residential apartment for...   \n",
       "3   \\n3 BHK, Multistorey Apartment is available fo...   \n",
       "4   \\nWe charge only flat service fees for an apar...   \n",
       "5   \\n2 BHK, Multistorey Apartment is available fo...   \n",
       "6   \\nAll daily requirement locations very near by...   \n",
       "7   \\n4 bhk flat available for rent in mohamadwadi...   \n",
       "8   \\nMultistorey apartment is available for rent....   \n",
       "9   \\nLocated in Koregaon Park, Pune, Crest is a p...   \n",
       "10  \\nhello::::This is Reliable Properties pune.::...   \n",
       "11  \\navailbale studio apartment flat for rent in ...   \n",
       "12  \\n2 BHK, Multistorey Apartment is available fo...   \n",
       "13  \\n2 BHK, Multistorey Apartment is available fo...   \n",
       "14  \\n1 bhk semi furnished flat 2 bed walldrob mar...   \n",
       "15  \\n2 BHK, Multistorey Apartment is available fo...   \n",
       "16  \\n2 BHK, Multistorey Apartment is available fo...   \n",
       "17  \\nEast facing with a nice balcony. All basic f...   \n",
       "18  \\nwell ventilated, fresh environment, with all...   \n",
       "19  \\nBrand new 1HALL kitchen in a independent bui...   \n",
       "20  \\n2 BHK, Multistorey Apartment is available fo...   \n",
       "21  \\n2 BHK, Multistorey Apartment is available fo...   \n",
       "22  \\n1 BHK, Multistorey Apartment is available fo...   \n",
       "23  \\n1 BHK, Multistorey Apartment is available fo...   \n",
       "24  \\n24/7 security, water supply. extra 400sqft a...   \n",
       "25  \\n2 BHK, Multistorey Apartment is available fo...   \n",
       "26               \\nthis property is new near ITpark\\n   \n",
       "27  \\nLocated in Wakad this home is ideal for fami...   \n",
       "28  \\nNear Abhinav School. Ideal for people workin...   \n",
       "29  \\n3 BHK, Multistorey Apartment is available fo...   \n",
       "\n",
       "                        owner                  heading         price  \\\n",
       "0                   \\nKiran\\n      \\n1 BHK Apartment\\n   ₹\\n16,000\\n   \n",
       "1                     Vasanth      \\n1 BHK Apartment\\n   ₹\\n11,000\\n   \n",
       "2           1 Roof Properties      \\n1 BHK Apartment\\n   ₹\\n13,000\\n   \n",
       "3                      Girish      \\n3 BHK Apartment\\n   ₹\\n15,000\\n   \n",
       "4   Azuro Property Management      \\n2 BHK Apartment\\n   ₹\\n22,500\\n   \n",
       "5          Shankar Padennavar      \\n2 BHK Apartment\\n   ₹\\n27,000\\n   \n",
       "6                     Mahajan      \\n1 BHK Apartment\\n   ₹\\n11,000\\n   \n",
       "7                  Lavishomes      \\n4 BHK Apartment\\n   ₹\\n48,000\\n   \n",
       "8                      Nikita      \\n1 BHK Apartment\\n    ₹\\n8,000\\n   \n",
       "9                JSK Realtors      \\n3 BHK Apartment\\n  ₹\\n1.3 Lac\\n   \n",
       "10        Reliable Properties      \\n3 BHK Apartment\\n   ₹\\n40,000\\n   \n",
       "11             Royal Property      \\n1 BHK Apartment\\n   ₹\\n10,000\\n   \n",
       "12              santosh Patil      \\n2 BHK Apartment\\n   ₹\\n22,000\\n   \n",
       "13         Anushka Properties      \\n2 BHK Apartment\\n   ₹\\n22,000\\n   \n",
       "14           Shiv Real Estate      \\n1 BHK Apartment\\n   ₹\\n15,500\\n   \n",
       "15               Kenisha Life      \\n2 BHK Apartment\\n   ₹\\n22,000\\n   \n",
       "16              Sanjive Arora      \\n2 BHK Apartment\\n   ₹\\n22,000\\n   \n",
       "17               Daniel Shaji      \\n1 BHK Apartment\\n   ₹\\n10,000\\n   \n",
       "18                   rajender      \\n2 BHK Apartment\\n   ₹\\n12,000\\n   \n",
       "19            Jandial Estates  \\n1 BHK Builder Floor\\n    ₹\\n7,500\\n   \n",
       "20                      Lalit      \\n2 BHK Apartment\\n   ₹\\n19,000\\n   \n",
       "21           Amit Shrivastava      \\n2 BHK Apartment\\n   ₹\\n22,000\\n   \n",
       "22             Manpreet Singh      \\n1 BHK Apartment\\n   ₹\\n16,000\\n   \n",
       "23               Deepak Akole      \\n1 BHK Apartment\\n   ₹\\n15,000\\n   \n",
       "24                Dilip Patil      \\n1 BHK Apartment\\n   ₹\\n10,500\\n   \n",
       "25                      sunil      \\n2 BHK Apartment\\n   ₹\\n16,026\\n   \n",
       "26        Green Home Property      \\n1 BHK Apartment\\n   ₹\\n10,000\\n   \n",
       "27             bhushan jagtap      \\n2 BHK Apartment\\n   ₹\\n14,000\\n   \n",
       "28              Karan Nainwal      \\n2 BHK Apartment\\n    ₹\\n8,000\\n   \n",
       "29                Mehak Desai      \\n3 BHK Apartment\\n   ₹\\n20,000\\n   \n",
       "\n",
       "                                             locality  \n",
       "0                 [Amanora, Metro, Towers,, Hadapsar]  \n",
       "1                                          [Hadapsar]  \n",
       "2                          [DSK, Vidyanagari,, Baner]  \n",
       "3   [Sai, Dwarika,, Katraj, Kondhwa, Road, 1391, s...  \n",
       "4          [Riverdale, Heights,, Kharadi, 1077, sqft]  \n",
       "5         [Buena, Vista, ,, Viman, Nagar, 1030, sqft]  \n",
       "6   [Varun, Park,, Pimple, Saudagar,, Pimpri, Chin...  \n",
       "7      [Nyati, Wind, Chimes,, NIBM, Road, 3202, sqft]  \n",
       "8                  [Nirmohi, Vihar, CHS,, Dhankawadi]  \n",
       "9        [Marvel, Crest,, Koregaon, Park, 2100, sqft]  \n",
       "10     [Clover, Acropolis,, Viman, Nagar, 2100, sqft]  \n",
       "11                [Amanora, Metro, Towers,, Hadapsar]  \n",
       "12                                 [Wakad, 890, sqft]  \n",
       "13       [Konark, Indrayu,, NIBM, Annexe, 1110, sqft]  \n",
       "14                                          [Kothrud]  \n",
       "15  [Godrej, Infinity,, Keshav, Nagar,, Mundhwa, 1...  \n",
       "16  [Ganga, Queens, Gate,, Sopan, Baug, Society,, ...  \n",
       "17                          [Nyati, Evita,, Lohegaon]  \n",
       "18                              [Wagholi, 1100, sqft]  \n",
       "19                                     [in, Wanowrie]  \n",
       "20         [Megapolis, Sunway,, Hinjewadi, 800, sqft]  \n",
       "21               [M, Vijay, Spring, Bloom,, Ghorpadi]  \n",
       "22                   [Chhajed, Galaxy,, Viman, Nagar]  \n",
       "23                                 [Balwant, Darshan]  \n",
       "24                                        [Bibwewadi]  \n",
       "25  [Mantra, Insignia,, Keshav, Nagar,, Mundhwa, 8...  \n",
       "26  [Kolte, Patil, Life, Republic,, Hinjewadi, Pha...  \n",
       "27  [Keyzwoods,, Wakadkar, Wasti,, Pimpri, Chinchw...  \n",
       "28                  [Kesnand, Theur, Road, 740, sqft]  \n",
       "29  [Pride, World, City,, Charholi, Budruk, 1424, ...  "
      ],
      "text/html": "<div>\n<style scoped>\n    .dataframe tbody tr th:only-of-type {\n        vertical-align: middle;\n    }\n\n    .dataframe tbody tr th {\n        vertical-align: top;\n    }\n\n    .dataframe thead th {\n        text-align: right;\n    }\n</style>\n<table border=\"1\" class=\"dataframe\">\n  <thead>\n    <tr style=\"text-align: right;\">\n      <th></th>\n      <th>the description</th>\n      <th>owner</th>\n      <th>heading</th>\n      <th>price</th>\n      <th>locality</th>\n    </tr>\n  </thead>\n  <tbody>\n    <tr>\n      <th>0</th>\n      <td>\\nMetro tower is part of Amanora Park Town the...</td>\n      <td>\\nKiran\\n</td>\n      <td>\\n1 BHK Apartment\\n</td>\n      <td>₹\\n16,000\\n</td>\n      <td>[Amanora, Metro, Towers,, Hadapsar]</td>\n    </tr>\n    <tr>\n      <th>1</th>\n      <td>\\nMultistorey Apartment has unblocked view on ...</td>\n      <td>Vasanth</td>\n      <td>\\n1 BHK Apartment\\n</td>\n      <td>₹\\n11,000\\n</td>\n      <td>[Hadapsar]</td>\n    </tr>\n    <tr>\n      <th>2</th>\n      <td>\\nAn excellent 1 bhk residential apartment for...</td>\n      <td>1 Roof Properties</td>\n      <td>\\n1 BHK Apartment\\n</td>\n      <td>₹\\n13,000\\n</td>\n      <td>[DSK, Vidyanagari,, Baner]</td>\n    </tr>\n    <tr>\n      <th>3</th>\n      <td>\\n3 BHK, Multistorey Apartment is available fo...</td>\n      <td>Girish</td>\n      <td>\\n3 BHK Apartment\\n</td>\n      <td>₹\\n15,000\\n</td>\n      <td>[Sai, Dwarika,, Katraj, Kondhwa, Road, 1391, s...</td>\n    </tr>\n    <tr>\n      <th>4</th>\n      <td>\\nWe charge only flat service fees for an apar...</td>\n      <td>Azuro Property Management</td>\n      <td>\\n2 BHK Apartment\\n</td>\n      <td>₹\\n22,500\\n</td>\n      <td>[Riverdale, Heights,, Kharadi, 1077, sqft]</td>\n    </tr>\n    <tr>\n      <th>5</th>\n      <td>\\n2 BHK, Multistorey Apartment is available fo...</td>\n      <td>Shankar Padennavar</td>\n      <td>\\n2 BHK Apartment\\n</td>\n      <td>₹\\n27,000\\n</td>\n      <td>[Buena, Vista, ,, Viman, Nagar, 1030, sqft]</td>\n    </tr>\n    <tr>\n      <th>6</th>\n      <td>\\nAll daily requirement locations very near by...</td>\n      <td>Mahajan</td>\n      <td>\\n1 BHK Apartment\\n</td>\n      <td>₹\\n11,000\\n</td>\n      <td>[Varun, Park,, Pimple, Saudagar,, Pimpri, Chin...</td>\n    </tr>\n    <tr>\n      <th>7</th>\n      <td>\\n4 bhk flat available for rent in mohamadwadi...</td>\n      <td>Lavishomes</td>\n      <td>\\n4 BHK Apartment\\n</td>\n      <td>₹\\n48,000\\n</td>\n      <td>[Nyati, Wind, Chimes,, NIBM, Road, 3202, sqft]</td>\n    </tr>\n    <tr>\n      <th>8</th>\n      <td>\\nMultistorey apartment is available for rent....</td>\n      <td>Nikita</td>\n      <td>\\n1 BHK Apartment\\n</td>\n      <td>₹\\n8,000\\n</td>\n      <td>[Nirmohi, Vihar, CHS,, Dhankawadi]</td>\n    </tr>\n    <tr>\n      <th>9</th>\n      <td>\\nLocated in Koregaon Park, Pune, Crest is a p...</td>\n      <td>JSK Realtors</td>\n      <td>\\n3 BHK Apartment\\n</td>\n      <td>₹\\n1.3 Lac\\n</td>\n      <td>[Marvel, Crest,, Koregaon, Park, 2100, sqft]</td>\n    </tr>\n    <tr>\n      <th>10</th>\n      <td>\\nhello::::This is Reliable Properties pune.::...</td>\n      <td>Reliable Properties</td>\n      <td>\\n3 BHK Apartment\\n</td>\n      <td>₹\\n40,000\\n</td>\n      <td>[Clover, Acropolis,, Viman, Nagar, 2100, sqft]</td>\n    </tr>\n    <tr>\n      <th>11</th>\n      <td>\\navailbale studio apartment flat for rent in ...</td>\n      <td>Royal Property</td>\n      <td>\\n1 BHK Apartment\\n</td>\n      <td>₹\\n10,000\\n</td>\n      <td>[Amanora, Metro, Towers,, Hadapsar]</td>\n    </tr>\n    <tr>\n      <th>12</th>\n      <td>\\n2 BHK, Multistorey Apartment is available fo...</td>\n      <td>santosh Patil</td>\n      <td>\\n2 BHK Apartment\\n</td>\n      <td>₹\\n22,000\\n</td>\n      <td>[Wakad, 890, sqft]</td>\n    </tr>\n    <tr>\n      <th>13</th>\n      <td>\\n2 BHK, Multistorey Apartment is available fo...</td>\n      <td>Anushka Properties</td>\n      <td>\\n2 BHK Apartment\\n</td>\n      <td>₹\\n22,000\\n</td>\n      <td>[Konark, Indrayu,, NIBM, Annexe, 1110, sqft]</td>\n    </tr>\n    <tr>\n      <th>14</th>\n      <td>\\n1 bhk semi furnished flat 2 bed walldrob mar...</td>\n      <td>Shiv Real Estate</td>\n      <td>\\n1 BHK Apartment\\n</td>\n      <td>₹\\n15,500\\n</td>\n      <td>[Kothrud]</td>\n    </tr>\n    <tr>\n      <th>15</th>\n      <td>\\n2 BHK, Multistorey Apartment is available fo...</td>\n      <td>Kenisha Life</td>\n      <td>\\n2 BHK Apartment\\n</td>\n      <td>₹\\n22,000\\n</td>\n      <td>[Godrej, Infinity,, Keshav, Nagar,, Mundhwa, 1...</td>\n    </tr>\n    <tr>\n      <th>16</th>\n      <td>\\n2 BHK, Multistorey Apartment is available fo...</td>\n      <td>Sanjive Arora</td>\n      <td>\\n2 BHK Apartment\\n</td>\n      <td>₹\\n22,000\\n</td>\n      <td>[Ganga, Queens, Gate,, Sopan, Baug, Society,, ...</td>\n    </tr>\n    <tr>\n      <th>17</th>\n      <td>\\nEast facing with a nice balcony. All basic f...</td>\n      <td>Daniel Shaji</td>\n      <td>\\n1 BHK Apartment\\n</td>\n      <td>₹\\n10,000\\n</td>\n      <td>[Nyati, Evita,, Lohegaon]</td>\n    </tr>\n    <tr>\n      <th>18</th>\n      <td>\\nwell ventilated, fresh environment, with all...</td>\n      <td>rajender</td>\n      <td>\\n2 BHK Apartment\\n</td>\n      <td>₹\\n12,000\\n</td>\n      <td>[Wagholi, 1100, sqft]</td>\n    </tr>\n    <tr>\n      <th>19</th>\n      <td>\\nBrand new 1HALL kitchen in a independent bui...</td>\n      <td>Jandial Estates</td>\n      <td>\\n1 BHK Builder Floor\\n</td>\n      <td>₹\\n7,500\\n</td>\n      <td>[in, Wanowrie]</td>\n    </tr>\n    <tr>\n      <th>20</th>\n      <td>\\n2 BHK, Multistorey Apartment is available fo...</td>\n      <td>Lalit</td>\n      <td>\\n2 BHK Apartment\\n</td>\n      <td>₹\\n19,000\\n</td>\n      <td>[Megapolis, Sunway,, Hinjewadi, 800, sqft]</td>\n    </tr>\n    <tr>\n      <th>21</th>\n      <td>\\n2 BHK, Multistorey Apartment is available fo...</td>\n      <td>Amit Shrivastava</td>\n      <td>\\n2 BHK Apartment\\n</td>\n      <td>₹\\n22,000\\n</td>\n      <td>[M, Vijay, Spring, Bloom,, Ghorpadi]</td>\n    </tr>\n    <tr>\n      <th>22</th>\n      <td>\\n1 BHK, Multistorey Apartment is available fo...</td>\n      <td>Manpreet Singh</td>\n      <td>\\n1 BHK Apartment\\n</td>\n      <td>₹\\n16,000\\n</td>\n      <td>[Chhajed, Galaxy,, Viman, Nagar]</td>\n    </tr>\n    <tr>\n      <th>23</th>\n      <td>\\n1 BHK, Multistorey Apartment is available fo...</td>\n      <td>Deepak Akole</td>\n      <td>\\n1 BHK Apartment\\n</td>\n      <td>₹\\n15,000\\n</td>\n      <td>[Balwant, Darshan]</td>\n    </tr>\n    <tr>\n      <th>24</th>\n      <td>\\n24/7 security, water supply. extra 400sqft a...</td>\n      <td>Dilip Patil</td>\n      <td>\\n1 BHK Apartment\\n</td>\n      <td>₹\\n10,500\\n</td>\n      <td>[Bibwewadi]</td>\n    </tr>\n    <tr>\n      <th>25</th>\n      <td>\\n2 BHK, Multistorey Apartment is available fo...</td>\n      <td>sunil</td>\n      <td>\\n2 BHK Apartment\\n</td>\n      <td>₹\\n16,026\\n</td>\n      <td>[Mantra, Insignia,, Keshav, Nagar,, Mundhwa, 8...</td>\n    </tr>\n    <tr>\n      <th>26</th>\n      <td>\\nthis property is new near ITpark\\n</td>\n      <td>Green Home Property</td>\n      <td>\\n1 BHK Apartment\\n</td>\n      <td>₹\\n10,000\\n</td>\n      <td>[Kolte, Patil, Life, Republic,, Hinjewadi, Pha...</td>\n    </tr>\n    <tr>\n      <th>27</th>\n      <td>\\nLocated in Wakad this home is ideal for fami...</td>\n      <td>bhushan jagtap</td>\n      <td>\\n2 BHK Apartment\\n</td>\n      <td>₹\\n14,000\\n</td>\n      <td>[Keyzwoods,, Wakadkar, Wasti,, Pimpri, Chinchw...</td>\n    </tr>\n    <tr>\n      <th>28</th>\n      <td>\\nNear Abhinav School. Ideal for people workin...</td>\n      <td>Karan Nainwal</td>\n      <td>\\n2 BHK Apartment\\n</td>\n      <td>₹\\n8,000\\n</td>\n      <td>[Kesnand, Theur, Road, 740, sqft]</td>\n    </tr>\n    <tr>\n      <th>29</th>\n      <td>\\n3 BHK, Multistorey Apartment is available fo...</td>\n      <td>Mehak Desai</td>\n      <td>\\n3 BHK Apartment\\n</td>\n      <td>₹\\n20,000\\n</td>\n      <td>[Pride, World, City,, Charholi, Budruk, 1424, ...</td>\n    </tr>\n  </tbody>\n</table>\n</div>"
     },
     "metadata": {},
     "execution_count": 60
    }
   ],
   "source": [
    "df"
   ]
  },
  {
   "cell_type": "code",
   "execution_count": 61,
   "metadata": {},
   "outputs": [],
   "source": [
    "import selenium "
   ]
  },
  {
   "cell_type": "code",
   "execution_count": 62,
   "metadata": {},
   "outputs": [],
   "source": [
    "the_data_pull=[]"
   ]
  },
  {
   "cell_type": "code",
   "execution_count": 63,
   "metadata": {},
   "outputs": [],
   "source": [
    "from selenium import webdriver\n",
    "from selenium.webdriver.common.keys import Keys\n",
    "from time import sleep\n",
    "the_data_pull=[]\n",
    "browser = webdriver.Firefox(executable_path=\"/home/swaraj/Downloads/driver/geckodriver\")\n",
    "browser.get(url)\n",
    "browser.execute_script(\"window.scrollTo(0, document.body.scrollHeight);\")\n",
    "j=requests.get(url)\n",
    "k=j.text\n",
    "s=BeautifulSoup(k,'lxml')\n",
    "for i in range(0,2):\n",
    "    the_data_pull.append(the_df_function(s))\n",
    "    browser.execute_script(\"window.scrollTo(0, document.body.scrollHeight);\")\n",
    "the_data_pull.insert(0,df)\n",
    "result = pd.concat(the_data_pull)\n"
   ]
  },
  {
   "cell_type": "code",
   "execution_count": 64,
   "metadata": {},
   "outputs": [
    {
     "output_type": "execute_result",
     "data": {
      "text/plain": [
       "                                      the description  \\\n",
       "0   \\nMetro tower is part of Amanora Park Town the...   \n",
       "1   \\nMultistorey Apartment has unblocked view on ...   \n",
       "2   \\nAn excellent 1 bhk residential apartment for...   \n",
       "3   \\n3 BHK, Multistorey Apartment is available fo...   \n",
       "4   \\nWe charge only flat service fees for an apar...   \n",
       "5   \\n2 BHK, Multistorey Apartment is available fo...   \n",
       "6   \\nAll daily requirement locations very near by...   \n",
       "7   \\n4 bhk flat available for rent in mohamadwadi...   \n",
       "8   \\nMultistorey apartment is available for rent....   \n",
       "9   \\nLocated in Koregaon Park, Pune, Crest is a p...   \n",
       "10  \\nhello::::This is Reliable Properties pune.::...   \n",
       "11  \\navailbale studio apartment flat for rent in ...   \n",
       "12  \\n2 BHK, Multistorey Apartment is available fo...   \n",
       "13  \\n2 BHK, Multistorey Apartment is available fo...   \n",
       "14  \\n1 bhk semi furnished flat 2 bed walldrob mar...   \n",
       "15  \\n2 BHK, Multistorey Apartment is available fo...   \n",
       "16  \\n2 BHK, Multistorey Apartment is available fo...   \n",
       "17  \\nEast facing with a nice balcony. All basic f...   \n",
       "18  \\nwell ventilated, fresh environment, with all...   \n",
       "19  \\nBrand new 1HALL kitchen in a independent bui...   \n",
       "20  \\n2 BHK, Multistorey Apartment is available fo...   \n",
       "21  \\n2 BHK, Multistorey Apartment is available fo...   \n",
       "22  \\n1 BHK, Multistorey Apartment is available fo...   \n",
       "23  \\n1 BHK, Multistorey Apartment is available fo...   \n",
       "24  \\n24/7 security, water supply. extra 400sqft a...   \n",
       "25  \\n2 BHK, Multistorey Apartment is available fo...   \n",
       "26               \\nthis property is new near ITpark\\n   \n",
       "27  \\nLocated in Wakad this home is ideal for fami...   \n",
       "28  \\nNear Abhinav School. Ideal for people workin...   \n",
       "29  \\n3 BHK, Multistorey Apartment is available fo...   \n",
       "\n",
       "                        owner                  heading         price  \\\n",
       "0                   \\nKiran\\n      \\n1 BHK Apartment\\n   ₹\\n16,000\\n   \n",
       "1                     Vasanth      \\n1 BHK Apartment\\n   ₹\\n11,000\\n   \n",
       "2           1 Roof Properties      \\n1 BHK Apartment\\n   ₹\\n13,000\\n   \n",
       "3                      Girish      \\n3 BHK Apartment\\n   ₹\\n15,000\\n   \n",
       "4   Azuro Property Management      \\n2 BHK Apartment\\n   ₹\\n22,500\\n   \n",
       "5          Shankar Padennavar      \\n2 BHK Apartment\\n   ₹\\n27,000\\n   \n",
       "6                     Mahajan      \\n1 BHK Apartment\\n   ₹\\n11,000\\n   \n",
       "7                  Lavishomes      \\n4 BHK Apartment\\n   ₹\\n48,000\\n   \n",
       "8                      Nikita      \\n1 BHK Apartment\\n    ₹\\n8,000\\n   \n",
       "9                JSK Realtors      \\n3 BHK Apartment\\n  ₹\\n1.3 Lac\\n   \n",
       "10        Reliable Properties      \\n3 BHK Apartment\\n   ₹\\n40,000\\n   \n",
       "11             Royal Property      \\n1 BHK Apartment\\n   ₹\\n10,000\\n   \n",
       "12              santosh Patil      \\n2 BHK Apartment\\n   ₹\\n22,000\\n   \n",
       "13         Anushka Properties      \\n2 BHK Apartment\\n   ₹\\n22,000\\n   \n",
       "14           Shiv Real Estate      \\n1 BHK Apartment\\n   ₹\\n15,500\\n   \n",
       "15               Kenisha Life      \\n2 BHK Apartment\\n   ₹\\n22,000\\n   \n",
       "16              Sanjive Arora      \\n2 BHK Apartment\\n   ₹\\n22,000\\n   \n",
       "17               Daniel Shaji      \\n1 BHK Apartment\\n   ₹\\n10,000\\n   \n",
       "18                   rajender      \\n2 BHK Apartment\\n   ₹\\n12,000\\n   \n",
       "19            Jandial Estates  \\n1 BHK Builder Floor\\n    ₹\\n7,500\\n   \n",
       "20                      Lalit      \\n2 BHK Apartment\\n   ₹\\n19,000\\n   \n",
       "21           Amit Shrivastava      \\n2 BHK Apartment\\n   ₹\\n22,000\\n   \n",
       "22             Manpreet Singh      \\n1 BHK Apartment\\n   ₹\\n16,000\\n   \n",
       "23               Deepak Akole      \\n1 BHK Apartment\\n   ₹\\n15,000\\n   \n",
       "24                Dilip Patil      \\n1 BHK Apartment\\n   ₹\\n10,500\\n   \n",
       "25                      sunil      \\n2 BHK Apartment\\n   ₹\\n16,026\\n   \n",
       "26        Green Home Property      \\n1 BHK Apartment\\n   ₹\\n10,000\\n   \n",
       "27             bhushan jagtap      \\n2 BHK Apartment\\n   ₹\\n14,000\\n   \n",
       "28              Karan Nainwal      \\n2 BHK Apartment\\n    ₹\\n8,000\\n   \n",
       "29                Mehak Desai      \\n3 BHK Apartment\\n   ₹\\n20,000\\n   \n",
       "\n",
       "                                             locality  \n",
       "0                 [Amanora, Metro, Towers,, Hadapsar]  \n",
       "1                                          [Hadapsar]  \n",
       "2                          [DSK, Vidyanagari,, Baner]  \n",
       "3   [Sai, Dwarika,, Katraj, Kondhwa, Road, 1391, s...  \n",
       "4          [Riverdale, Heights,, Kharadi, 1077, sqft]  \n",
       "5         [Buena, Vista, ,, Viman, Nagar, 1030, sqft]  \n",
       "6   [Varun, Park,, Pimple, Saudagar,, Pimpri, Chin...  \n",
       "7      [Nyati, Wind, Chimes,, NIBM, Road, 3202, sqft]  \n",
       "8                  [Nirmohi, Vihar, CHS,, Dhankawadi]  \n",
       "9        [Marvel, Crest,, Koregaon, Park, 2100, sqft]  \n",
       "10     [Clover, Acropolis,, Viman, Nagar, 2100, sqft]  \n",
       "11                [Amanora, Metro, Towers,, Hadapsar]  \n",
       "12                                 [Wakad, 890, sqft]  \n",
       "13       [Konark, Indrayu,, NIBM, Annexe, 1110, sqft]  \n",
       "14                                          [Kothrud]  \n",
       "15  [Godrej, Infinity,, Keshav, Nagar,, Mundhwa, 1...  \n",
       "16  [Ganga, Queens, Gate,, Sopan, Baug, Society,, ...  \n",
       "17                          [Nyati, Evita,, Lohegaon]  \n",
       "18                              [Wagholi, 1100, sqft]  \n",
       "19                                     [in, Wanowrie]  \n",
       "20         [Megapolis, Sunway,, Hinjewadi, 800, sqft]  \n",
       "21               [M, Vijay, Spring, Bloom,, Ghorpadi]  \n",
       "22                   [Chhajed, Galaxy,, Viman, Nagar]  \n",
       "23                                 [Balwant, Darshan]  \n",
       "24                                        [Bibwewadi]  \n",
       "25  [Mantra, Insignia,, Keshav, Nagar,, Mundhwa, 8...  \n",
       "26  [Kolte, Patil, Life, Republic,, Hinjewadi, Pha...  \n",
       "27  [Keyzwoods,, Wakadkar, Wasti,, Pimpri, Chinchw...  \n",
       "28                  [Kesnand, Theur, Road, 740, sqft]  \n",
       "29  [Pride, World, City,, Charholi, Budruk, 1424, ...  "
      ],
      "text/html": "<div>\n<style scoped>\n    .dataframe tbody tr th:only-of-type {\n        vertical-align: middle;\n    }\n\n    .dataframe tbody tr th {\n        vertical-align: top;\n    }\n\n    .dataframe thead th {\n        text-align: right;\n    }\n</style>\n<table border=\"1\" class=\"dataframe\">\n  <thead>\n    <tr style=\"text-align: right;\">\n      <th></th>\n      <th>the description</th>\n      <th>owner</th>\n      <th>heading</th>\n      <th>price</th>\n      <th>locality</th>\n    </tr>\n  </thead>\n  <tbody>\n    <tr>\n      <th>0</th>\n      <td>\\nMetro tower is part of Amanora Park Town the...</td>\n      <td>\\nKiran\\n</td>\n      <td>\\n1 BHK Apartment\\n</td>\n      <td>₹\\n16,000\\n</td>\n      <td>[Amanora, Metro, Towers,, Hadapsar]</td>\n    </tr>\n    <tr>\n      <th>1</th>\n      <td>\\nMultistorey Apartment has unblocked view on ...</td>\n      <td>Vasanth</td>\n      <td>\\n1 BHK Apartment\\n</td>\n      <td>₹\\n11,000\\n</td>\n      <td>[Hadapsar]</td>\n    </tr>\n    <tr>\n      <th>2</th>\n      <td>\\nAn excellent 1 bhk residential apartment for...</td>\n      <td>1 Roof Properties</td>\n      <td>\\n1 BHK Apartment\\n</td>\n      <td>₹\\n13,000\\n</td>\n      <td>[DSK, Vidyanagari,, Baner]</td>\n    </tr>\n    <tr>\n      <th>3</th>\n      <td>\\n3 BHK, Multistorey Apartment is available fo...</td>\n      <td>Girish</td>\n      <td>\\n3 BHK Apartment\\n</td>\n      <td>₹\\n15,000\\n</td>\n      <td>[Sai, Dwarika,, Katraj, Kondhwa, Road, 1391, s...</td>\n    </tr>\n    <tr>\n      <th>4</th>\n      <td>\\nWe charge only flat service fees for an apar...</td>\n      <td>Azuro Property Management</td>\n      <td>\\n2 BHK Apartment\\n</td>\n      <td>₹\\n22,500\\n</td>\n      <td>[Riverdale, Heights,, Kharadi, 1077, sqft]</td>\n    </tr>\n    <tr>\n      <th>5</th>\n      <td>\\n2 BHK, Multistorey Apartment is available fo...</td>\n      <td>Shankar Padennavar</td>\n      <td>\\n2 BHK Apartment\\n</td>\n      <td>₹\\n27,000\\n</td>\n      <td>[Buena, Vista, ,, Viman, Nagar, 1030, sqft]</td>\n    </tr>\n    <tr>\n      <th>6</th>\n      <td>\\nAll daily requirement locations very near by...</td>\n      <td>Mahajan</td>\n      <td>\\n1 BHK Apartment\\n</td>\n      <td>₹\\n11,000\\n</td>\n      <td>[Varun, Park,, Pimple, Saudagar,, Pimpri, Chin...</td>\n    </tr>\n    <tr>\n      <th>7</th>\n      <td>\\n4 bhk flat available for rent in mohamadwadi...</td>\n      <td>Lavishomes</td>\n      <td>\\n4 BHK Apartment\\n</td>\n      <td>₹\\n48,000\\n</td>\n      <td>[Nyati, Wind, Chimes,, NIBM, Road, 3202, sqft]</td>\n    </tr>\n    <tr>\n      <th>8</th>\n      <td>\\nMultistorey apartment is available for rent....</td>\n      <td>Nikita</td>\n      <td>\\n1 BHK Apartment\\n</td>\n      <td>₹\\n8,000\\n</td>\n      <td>[Nirmohi, Vihar, CHS,, Dhankawadi]</td>\n    </tr>\n    <tr>\n      <th>9</th>\n      <td>\\nLocated in Koregaon Park, Pune, Crest is a p...</td>\n      <td>JSK Realtors</td>\n      <td>\\n3 BHK Apartment\\n</td>\n      <td>₹\\n1.3 Lac\\n</td>\n      <td>[Marvel, Crest,, Koregaon, Park, 2100, sqft]</td>\n    </tr>\n    <tr>\n      <th>10</th>\n      <td>\\nhello::::This is Reliable Properties pune.::...</td>\n      <td>Reliable Properties</td>\n      <td>\\n3 BHK Apartment\\n</td>\n      <td>₹\\n40,000\\n</td>\n      <td>[Clover, Acropolis,, Viman, Nagar, 2100, sqft]</td>\n    </tr>\n    <tr>\n      <th>11</th>\n      <td>\\navailbale studio apartment flat for rent in ...</td>\n      <td>Royal Property</td>\n      <td>\\n1 BHK Apartment\\n</td>\n      <td>₹\\n10,000\\n</td>\n      <td>[Amanora, Metro, Towers,, Hadapsar]</td>\n    </tr>\n    <tr>\n      <th>12</th>\n      <td>\\n2 BHK, Multistorey Apartment is available fo...</td>\n      <td>santosh Patil</td>\n      <td>\\n2 BHK Apartment\\n</td>\n      <td>₹\\n22,000\\n</td>\n      <td>[Wakad, 890, sqft]</td>\n    </tr>\n    <tr>\n      <th>13</th>\n      <td>\\n2 BHK, Multistorey Apartment is available fo...</td>\n      <td>Anushka Properties</td>\n      <td>\\n2 BHK Apartment\\n</td>\n      <td>₹\\n22,000\\n</td>\n      <td>[Konark, Indrayu,, NIBM, Annexe, 1110, sqft]</td>\n    </tr>\n    <tr>\n      <th>14</th>\n      <td>\\n1 bhk semi furnished flat 2 bed walldrob mar...</td>\n      <td>Shiv Real Estate</td>\n      <td>\\n1 BHK Apartment\\n</td>\n      <td>₹\\n15,500\\n</td>\n      <td>[Kothrud]</td>\n    </tr>\n    <tr>\n      <th>15</th>\n      <td>\\n2 BHK, Multistorey Apartment is available fo...</td>\n      <td>Kenisha Life</td>\n      <td>\\n2 BHK Apartment\\n</td>\n      <td>₹\\n22,000\\n</td>\n      <td>[Godrej, Infinity,, Keshav, Nagar,, Mundhwa, 1...</td>\n    </tr>\n    <tr>\n      <th>16</th>\n      <td>\\n2 BHK, Multistorey Apartment is available fo...</td>\n      <td>Sanjive Arora</td>\n      <td>\\n2 BHK Apartment\\n</td>\n      <td>₹\\n22,000\\n</td>\n      <td>[Ganga, Queens, Gate,, Sopan, Baug, Society,, ...</td>\n    </tr>\n    <tr>\n      <th>17</th>\n      <td>\\nEast facing with a nice balcony. All basic f...</td>\n      <td>Daniel Shaji</td>\n      <td>\\n1 BHK Apartment\\n</td>\n      <td>₹\\n10,000\\n</td>\n      <td>[Nyati, Evita,, Lohegaon]</td>\n    </tr>\n    <tr>\n      <th>18</th>\n      <td>\\nwell ventilated, fresh environment, with all...</td>\n      <td>rajender</td>\n      <td>\\n2 BHK Apartment\\n</td>\n      <td>₹\\n12,000\\n</td>\n      <td>[Wagholi, 1100, sqft]</td>\n    </tr>\n    <tr>\n      <th>19</th>\n      <td>\\nBrand new 1HALL kitchen in a independent bui...</td>\n      <td>Jandial Estates</td>\n      <td>\\n1 BHK Builder Floor\\n</td>\n      <td>₹\\n7,500\\n</td>\n      <td>[in, Wanowrie]</td>\n    </tr>\n    <tr>\n      <th>20</th>\n      <td>\\n2 BHK, Multistorey Apartment is available fo...</td>\n      <td>Lalit</td>\n      <td>\\n2 BHK Apartment\\n</td>\n      <td>₹\\n19,000\\n</td>\n      <td>[Megapolis, Sunway,, Hinjewadi, 800, sqft]</td>\n    </tr>\n    <tr>\n      <th>21</th>\n      <td>\\n2 BHK, Multistorey Apartment is available fo...</td>\n      <td>Amit Shrivastava</td>\n      <td>\\n2 BHK Apartment\\n</td>\n      <td>₹\\n22,000\\n</td>\n      <td>[M, Vijay, Spring, Bloom,, Ghorpadi]</td>\n    </tr>\n    <tr>\n      <th>22</th>\n      <td>\\n1 BHK, Multistorey Apartment is available fo...</td>\n      <td>Manpreet Singh</td>\n      <td>\\n1 BHK Apartment\\n</td>\n      <td>₹\\n16,000\\n</td>\n      <td>[Chhajed, Galaxy,, Viman, Nagar]</td>\n    </tr>\n    <tr>\n      <th>23</th>\n      <td>\\n1 BHK, Multistorey Apartment is available fo...</td>\n      <td>Deepak Akole</td>\n      <td>\\n1 BHK Apartment\\n</td>\n      <td>₹\\n15,000\\n</td>\n      <td>[Balwant, Darshan]</td>\n    </tr>\n    <tr>\n      <th>24</th>\n      <td>\\n24/7 security, water supply. extra 400sqft a...</td>\n      <td>Dilip Patil</td>\n      <td>\\n1 BHK Apartment\\n</td>\n      <td>₹\\n10,500\\n</td>\n      <td>[Bibwewadi]</td>\n    </tr>\n    <tr>\n      <th>25</th>\n      <td>\\n2 BHK, Multistorey Apartment is available fo...</td>\n      <td>sunil</td>\n      <td>\\n2 BHK Apartment\\n</td>\n      <td>₹\\n16,026\\n</td>\n      <td>[Mantra, Insignia,, Keshav, Nagar,, Mundhwa, 8...</td>\n    </tr>\n    <tr>\n      <th>26</th>\n      <td>\\nthis property is new near ITpark\\n</td>\n      <td>Green Home Property</td>\n      <td>\\n1 BHK Apartment\\n</td>\n      <td>₹\\n10,000\\n</td>\n      <td>[Kolte, Patil, Life, Republic,, Hinjewadi, Pha...</td>\n    </tr>\n    <tr>\n      <th>27</th>\n      <td>\\nLocated in Wakad this home is ideal for fami...</td>\n      <td>bhushan jagtap</td>\n      <td>\\n2 BHK Apartment\\n</td>\n      <td>₹\\n14,000\\n</td>\n      <td>[Keyzwoods,, Wakadkar, Wasti,, Pimpri, Chinchw...</td>\n    </tr>\n    <tr>\n      <th>28</th>\n      <td>\\nNear Abhinav School. Ideal for people workin...</td>\n      <td>Karan Nainwal</td>\n      <td>\\n2 BHK Apartment\\n</td>\n      <td>₹\\n8,000\\n</td>\n      <td>[Kesnand, Theur, Road, 740, sqft]</td>\n    </tr>\n    <tr>\n      <th>29</th>\n      <td>\\n3 BHK, Multistorey Apartment is available fo...</td>\n      <td>Mehak Desai</td>\n      <td>\\n3 BHK Apartment\\n</td>\n      <td>₹\\n20,000\\n</td>\n      <td>[Pride, World, City,, Charholi, Budruk, 1424, ...</td>\n    </tr>\n  </tbody>\n</table>\n</div>"
     },
     "metadata": {},
     "execution_count": 64
    }
   ],
   "source": [
    "df"
   ]
  },
  {
   "cell_type": "code",
   "execution_count": 65,
   "metadata": {},
   "outputs": [
    {
     "output_type": "execute_result",
     "data": {
      "text/plain": [
       "                                      the description  \\\n",
       "0   \\nMetro tower is part of Amanora Park Town the...   \n",
       "1   \\nMultistorey Apartment has unblocked view on ...   \n",
       "2   \\nAn excellent 1 bhk residential apartment for...   \n",
       "3   \\n3 BHK, Multistorey Apartment is available fo...   \n",
       "4   \\nWe charge only flat service fees for an apar...   \n",
       "..                                                ...   \n",
       "25  \\n2 BHK, Multistorey Apartment is available fo...   \n",
       "26               \\nthis property is new near ITpark\\n   \n",
       "27  \\nLocated in Wakad this home is ideal for fami...   \n",
       "28  \\nNear Abhinav School. Ideal for people workin...   \n",
       "29  \\n3 BHK, Multistorey Apartment is available fo...   \n",
       "\n",
       "                        owner              heading        price  \\\n",
       "0                   \\nKiran\\n  \\n1 BHK Apartment\\n  ₹\\n16,000\\n   \n",
       "1                     Vasanth  \\n1 BHK Apartment\\n  ₹\\n11,000\\n   \n",
       "2           1 Roof Properties  \\n1 BHK Apartment\\n  ₹\\n13,000\\n   \n",
       "3                      Girish  \\n3 BHK Apartment\\n  ₹\\n15,000\\n   \n",
       "4   Azuro Property Management  \\n2 BHK Apartment\\n  ₹\\n22,500\\n   \n",
       "..                        ...                  ...          ...   \n",
       "25                      sunil  \\n2 BHK Apartment\\n  ₹\\n16,026\\n   \n",
       "26        Green Home Property  \\n1 BHK Apartment\\n  ₹\\n10,000\\n   \n",
       "27             bhushan jagtap  \\n2 BHK Apartment\\n  ₹\\n14,000\\n   \n",
       "28              Karan Nainwal  \\n2 BHK Apartment\\n   ₹\\n8,000\\n   \n",
       "29                Mehak Desai  \\n3 BHK Apartment\\n  ₹\\n20,000\\n   \n",
       "\n",
       "                                             locality  \n",
       "0                 [Amanora, Metro, Towers,, Hadapsar]  \n",
       "1                                          [Hadapsar]  \n",
       "2                          [DSK, Vidyanagari,, Baner]  \n",
       "3   [Sai, Dwarika,, Katraj, Kondhwa, Road, 1391, s...  \n",
       "4          [Riverdale, Heights,, Kharadi, 1077, sqft]  \n",
       "..                                                ...  \n",
       "25  [Mantra, Insignia,, Keshav, Nagar,, Mundhwa, 8...  \n",
       "26  [Kolte, Patil, Life, Republic,, Hinjewadi, Pha...  \n",
       "27  [Keyzwoods,, Wakadkar, Wasti,, Pimpri, Chinchw...  \n",
       "28                  [Kesnand, Theur, Road, 740, sqft]  \n",
       "29  [Pride, World, City,, Charholi, Budruk, 1424, ...  \n",
       "\n",
       "[90 rows x 5 columns]"
      ],
      "text/html": "<div>\n<style scoped>\n    .dataframe tbody tr th:only-of-type {\n        vertical-align: middle;\n    }\n\n    .dataframe tbody tr th {\n        vertical-align: top;\n    }\n\n    .dataframe thead th {\n        text-align: right;\n    }\n</style>\n<table border=\"1\" class=\"dataframe\">\n  <thead>\n    <tr style=\"text-align: right;\">\n      <th></th>\n      <th>the description</th>\n      <th>owner</th>\n      <th>heading</th>\n      <th>price</th>\n      <th>locality</th>\n    </tr>\n  </thead>\n  <tbody>\n    <tr>\n      <th>0</th>\n      <td>\\nMetro tower is part of Amanora Park Town the...</td>\n      <td>\\nKiran\\n</td>\n      <td>\\n1 BHK Apartment\\n</td>\n      <td>₹\\n16,000\\n</td>\n      <td>[Amanora, Metro, Towers,, Hadapsar]</td>\n    </tr>\n    <tr>\n      <th>1</th>\n      <td>\\nMultistorey Apartment has unblocked view on ...</td>\n      <td>Vasanth</td>\n      <td>\\n1 BHK Apartment\\n</td>\n      <td>₹\\n11,000\\n</td>\n      <td>[Hadapsar]</td>\n    </tr>\n    <tr>\n      <th>2</th>\n      <td>\\nAn excellent 1 bhk residential apartment for...</td>\n      <td>1 Roof Properties</td>\n      <td>\\n1 BHK Apartment\\n</td>\n      <td>₹\\n13,000\\n</td>\n      <td>[DSK, Vidyanagari,, Baner]</td>\n    </tr>\n    <tr>\n      <th>3</th>\n      <td>\\n3 BHK, Multistorey Apartment is available fo...</td>\n      <td>Girish</td>\n      <td>\\n3 BHK Apartment\\n</td>\n      <td>₹\\n15,000\\n</td>\n      <td>[Sai, Dwarika,, Katraj, Kondhwa, Road, 1391, s...</td>\n    </tr>\n    <tr>\n      <th>4</th>\n      <td>\\nWe charge only flat service fees for an apar...</td>\n      <td>Azuro Property Management</td>\n      <td>\\n2 BHK Apartment\\n</td>\n      <td>₹\\n22,500\\n</td>\n      <td>[Riverdale, Heights,, Kharadi, 1077, sqft]</td>\n    </tr>\n    <tr>\n      <th>...</th>\n      <td>...</td>\n      <td>...</td>\n      <td>...</td>\n      <td>...</td>\n      <td>...</td>\n    </tr>\n    <tr>\n      <th>25</th>\n      <td>\\n2 BHK, Multistorey Apartment is available fo...</td>\n      <td>sunil</td>\n      <td>\\n2 BHK Apartment\\n</td>\n      <td>₹\\n16,026\\n</td>\n      <td>[Mantra, Insignia,, Keshav, Nagar,, Mundhwa, 8...</td>\n    </tr>\n    <tr>\n      <th>26</th>\n      <td>\\nthis property is new near ITpark\\n</td>\n      <td>Green Home Property</td>\n      <td>\\n1 BHK Apartment\\n</td>\n      <td>₹\\n10,000\\n</td>\n      <td>[Kolte, Patil, Life, Republic,, Hinjewadi, Pha...</td>\n    </tr>\n    <tr>\n      <th>27</th>\n      <td>\\nLocated in Wakad this home is ideal for fami...</td>\n      <td>bhushan jagtap</td>\n      <td>\\n2 BHK Apartment\\n</td>\n      <td>₹\\n14,000\\n</td>\n      <td>[Keyzwoods,, Wakadkar, Wasti,, Pimpri, Chinchw...</td>\n    </tr>\n    <tr>\n      <th>28</th>\n      <td>\\nNear Abhinav School. Ideal for people workin...</td>\n      <td>Karan Nainwal</td>\n      <td>\\n2 BHK Apartment\\n</td>\n      <td>₹\\n8,000\\n</td>\n      <td>[Kesnand, Theur, Road, 740, sqft]</td>\n    </tr>\n    <tr>\n      <th>29</th>\n      <td>\\n3 BHK, Multistorey Apartment is available fo...</td>\n      <td>Mehak Desai</td>\n      <td>\\n3 BHK Apartment\\n</td>\n      <td>₹\\n20,000\\n</td>\n      <td>[Pride, World, City,, Charholi, Budruk, 1424, ...</td>\n    </tr>\n  </tbody>\n</table>\n<p>90 rows × 5 columns</p>\n</div>"
     },
     "metadata": {},
     "execution_count": 65
    }
   ],
   "source": [
    "result"
   ]
  },
  {
   "cell_type": "code",
   "execution_count": 66,
   "metadata": {},
   "outputs": [
    {
     "output_type": "stream",
     "name": "stdout",
     "text": [
      "/run/media/swaraj/volume y/code/work/working\n"
     ]
    }
   ],
   "source": [
    "!pwd\n"
   ]
  },
  {
   "cell_type": "code",
   "execution_count": 68,
   "metadata": {},
   "outputs": [],
   "source": [
    "result.to_csv('/run/media/swaraj/volume y/code/work/working/magicbricks.csv')"
   ]
  }
 ]
}