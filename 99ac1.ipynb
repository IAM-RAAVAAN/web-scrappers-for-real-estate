{
 "metadata": {
  "language_info": {
   "codemirror_mode": {
    "name": "ipython",
    "version": 3
   },
   "file_extension": ".py",
   "mimetype": "text/x-python",
   "name": "python",
   "nbconvert_exporter": "python",
   "pygments_lexer": "ipython3",
   "version": "3.9.2"
  },
  "orig_nbformat": 2,
  "kernelspec": {
   "name": "python3",
   "display_name": "Python 3.9.2 64-bit",
   "metadata": {
    "interpreter": {
     "hash": "e7370f93d1d0cde622a1f8e1c04877d8463912d04d973331ad4851f04de6915a"
    }
   }
  }
 },
 "nbformat": 4,
 "nbformat_minor": 2,
 "cells": [
  {
   "cell_type": "code",
   "execution_count": 3,
   "metadata": {},
   "outputs": [],
   "source": [
    "\n",
    "import pandas as pd\n",
    "import numpy as numpy\n",
    "df =pd.read_csv('99acers2.csv')"
   ]
  },
  {
   "cell_type": "code",
   "execution_count": 4,
   "metadata": {},
   "outputs": [
    {
     "output_type": "execute_result",
     "data": {
      "text/plain": [
       "     Unnamed: 0                                               link  \\\n",
       "0             0  /2-bhk-bedroom-residential-apartments-for-rent...   \n",
       "1             1  /2-bhk-bedroom-residential-apartments-for-rent...   \n",
       "2             2  /3-bhk-bedroom-residential-apartments-for-rent...   \n",
       "3             3  /4-bhk-bedroom-independent-house-for-rent-in-m...   \n",
       "4             4  /1-bhk-bedroom-residential-apartments-for-rent...   \n",
       "..          ...                                                ...   \n",
       "99           21  /1-bhk-bedroom-independent-house-for-rent-in-b...   \n",
       "100          22  /2-bhk-bedroom-residential-apartments-for-rent...   \n",
       "101          23  /1-bhk-bedroom-residential-apartments-for-rent...   \n",
       "102          24  /2-bhk-bedroom-residential-apartments-for-rent...   \n",
       "103          25  /2-bhk-bedroom-residential-apartments-for-rent...   \n",
       "\n",
       "                                                 title  \\\n",
       "0     2 BHK Residential Apartment for rent in Chikhali   \n",
       "1      2 BHK Residential Apartment for rent in Bavdhan   \n",
       "2    3 BHK Residential Apartment for rent in Shanka...   \n",
       "3    4 Bedroom Independent House for rent in Market...   \n",
       "4        1 BHK Residential Apartment for rent in Aundh   \n",
       "..                                                 ...   \n",
       "99       1 Bedroom Independent House for rent in Warje   \n",
       "100   2 BHK Residential Apartment for rent in Hadapsar   \n",
       "101    1 BHK Residential Apartment for rent in Dhayari   \n",
       "102  2 BHK Residential Apartment for rent in Pimple...   \n",
       "103  2 BHK Residential Apartment for rent in Pimple...   \n",
       "\n",
       "                              prices                    location  \\\n",
       "0     ₹ 10,000 /monthDeposit ₹ 30000          Sonigara Blue Dice   \n",
       "1     ₹ 18,000 /monthDeposit ₹ 50000               Utsav Homes 3   \n",
       "2    ₹ 30,000 /monthDeposit ₹ 150000         Kalpataru Splendour   \n",
       "3    ₹ 35,000 /monthDeposit ₹ 150000                         NaN   \n",
       "4     ₹ 18,000 /monthDeposit ₹ 50000                Surobhi Park   \n",
       "..                               ...                         ...   \n",
       "99                   ₹ 10,500 /month     Brahmachaitanya Society   \n",
       "100                  ₹ 17,000 /month  Kumar Park Infinia Phase 4   \n",
       "101                   ₹ 7,000 /month              Muktai Complex   \n",
       "102                  ₹ 20,000 /month                   Rose Icon   \n",
       "103                  ₹ 20,000 /month                   Rose Icon   \n",
       "\n",
       "             type                                          area  \\\n",
       "0    2 BHK2 Baths   1,000 sq.ft. (93 sq.m.) Super built-up Area   \n",
       "1    2 BHK2 Baths             850 sq.ft. (79 sq.m.) Carpet Area   \n",
       "2    3 BHK3 Baths          1,457 sq.ft. (135 sq.m.) Carpet Area   \n",
       "3    4 BHK4 Baths            2,500 sq.ft. (232 sq.m.) Plot Area   \n",
       "4     1 BHK1 Bath     700 sq.ft. (65 sq.m.) Super built-up Area   \n",
       "..            ...                                           ...   \n",
       "99    1 BHK1 Bath            7,500 sq.ft. (697 sq.m.) Plot Area   \n",
       "100  2 BHK2 Baths  1,400 sq.ft. (130 sq.m.) Super built-up Area   \n",
       "101   1 BHK1 Bath     550 sq.ft. (51 sq.m.) Super built-up Area   \n",
       "102  2 BHK2 Baths           920 sq.ft. (85 sq.m.) Built-up Area   \n",
       "103  2 BHK2 Baths           920 sq.ft. (85 sq.m.) Built-up Area   \n",
       "\n",
       "                                                  text  \\\n",
       "0    Looking for an affordable apartment with best ...   \n",
       "1    Looking for an affordable apartment with best ...   \n",
       "2    Looking for an affordable apartment with best ...   \n",
       "3    The house of your dreams is available for rent...   \n",
       "4    Prime location fully furnished airy society ev...   \n",
       "..                                                 ...   \n",
       "99   1 bhk flat is availble now near from highway a...   \n",
       "100  I want to rent out a 2 bhk apartment available...   \n",
       "101  I want to rent out a 1 bhk apartment available...   \n",
       "102  I want to rent out a 2 bhk apartment available...   \n",
       "103  I want to rent out a 2 bhk apartment available...   \n",
       "\n",
       "                                 dates  \n",
       "0    Posted on 31st Mar, 2021 by Owner  \n",
       "1    Posted on 15th Mar, 2021 by Owner  \n",
       "2    Posted on 30th Mar, 2021 by Owner  \n",
       "3    Posted on 30th Mar, 2021 by Owner  \n",
       "4         Posted on Yesterday by Owner  \n",
       "..                                 ...  \n",
       "99        Posted on Yesterday by Owner  \n",
       "100       Posted on Yesterday by Owner  \n",
       "101       Posted on Yesterday by Owner  \n",
       "102       Posted on Yesterday by Owner  \n",
       "103       Posted on Yesterday by Owner  \n",
       "\n",
       "[104 rows x 9 columns]"
      ],
      "text/html": "<div>\n<style scoped>\n    .dataframe tbody tr th:only-of-type {\n        vertical-align: middle;\n    }\n\n    .dataframe tbody tr th {\n        vertical-align: top;\n    }\n\n    .dataframe thead th {\n        text-align: right;\n    }\n</style>\n<table border=\"1\" class=\"dataframe\">\n  <thead>\n    <tr style=\"text-align: right;\">\n      <th></th>\n      <th>Unnamed: 0</th>\n      <th>link</th>\n      <th>title</th>\n      <th>prices</th>\n      <th>location</th>\n      <th>type</th>\n      <th>area</th>\n      <th>text</th>\n      <th>dates</th>\n    </tr>\n  </thead>\n  <tbody>\n    <tr>\n      <th>0</th>\n      <td>0</td>\n      <td>/2-bhk-bedroom-residential-apartments-for-rent...</td>\n      <td>2 BHK Residential Apartment for rent in Chikhali</td>\n      <td>₹ 10,000 /monthDeposit ₹ 30000</td>\n      <td>Sonigara Blue Dice</td>\n      <td>2 BHK2 Baths</td>\n      <td>1,000 sq.ft. (93 sq.m.) Super built-up Area</td>\n      <td>Looking for an affordable apartment with best ...</td>\n      <td>Posted on 31st Mar, 2021 by Owner</td>\n    </tr>\n    <tr>\n      <th>1</th>\n      <td>1</td>\n      <td>/2-bhk-bedroom-residential-apartments-for-rent...</td>\n      <td>2 BHK Residential Apartment for rent in Bavdhan</td>\n      <td>₹ 18,000 /monthDeposit ₹ 50000</td>\n      <td>Utsav Homes 3</td>\n      <td>2 BHK2 Baths</td>\n      <td>850 sq.ft. (79 sq.m.) Carpet Area</td>\n      <td>Looking for an affordable apartment with best ...</td>\n      <td>Posted on 15th Mar, 2021 by Owner</td>\n    </tr>\n    <tr>\n      <th>2</th>\n      <td>2</td>\n      <td>/3-bhk-bedroom-residential-apartments-for-rent...</td>\n      <td>3 BHK Residential Apartment for rent in Shanka...</td>\n      <td>₹ 30,000 /monthDeposit ₹ 150000</td>\n      <td>Kalpataru Splendour</td>\n      <td>3 BHK3 Baths</td>\n      <td>1,457 sq.ft. (135 sq.m.) Carpet Area</td>\n      <td>Looking for an affordable apartment with best ...</td>\n      <td>Posted on 30th Mar, 2021 by Owner</td>\n    </tr>\n    <tr>\n      <th>3</th>\n      <td>3</td>\n      <td>/4-bhk-bedroom-independent-house-for-rent-in-m...</td>\n      <td>4 Bedroom Independent House for rent in Market...</td>\n      <td>₹ 35,000 /monthDeposit ₹ 150000</td>\n      <td>NaN</td>\n      <td>4 BHK4 Baths</td>\n      <td>2,500 sq.ft. (232 sq.m.) Plot Area</td>\n      <td>The house of your dreams is available for rent...</td>\n      <td>Posted on 30th Mar, 2021 by Owner</td>\n    </tr>\n    <tr>\n      <th>4</th>\n      <td>4</td>\n      <td>/1-bhk-bedroom-residential-apartments-for-rent...</td>\n      <td>1 BHK Residential Apartment for rent in Aundh</td>\n      <td>₹ 18,000 /monthDeposit ₹ 50000</td>\n      <td>Surobhi Park</td>\n      <td>1 BHK1 Bath</td>\n      <td>700 sq.ft. (65 sq.m.) Super built-up Area</td>\n      <td>Prime location fully furnished airy society ev...</td>\n      <td>Posted on Yesterday by Owner</td>\n    </tr>\n    <tr>\n      <th>...</th>\n      <td>...</td>\n      <td>...</td>\n      <td>...</td>\n      <td>...</td>\n      <td>...</td>\n      <td>...</td>\n      <td>...</td>\n      <td>...</td>\n      <td>...</td>\n    </tr>\n    <tr>\n      <th>99</th>\n      <td>21</td>\n      <td>/1-bhk-bedroom-independent-house-for-rent-in-b...</td>\n      <td>1 Bedroom Independent House for rent in Warje</td>\n      <td>₹ 10,500 /month</td>\n      <td>Brahmachaitanya Society</td>\n      <td>1 BHK1 Bath</td>\n      <td>7,500 sq.ft. (697 sq.m.) Plot Area</td>\n      <td>1 bhk flat is availble now near from highway a...</td>\n      <td>Posted on Yesterday by Owner</td>\n    </tr>\n    <tr>\n      <th>100</th>\n      <td>22</td>\n      <td>/2-bhk-bedroom-residential-apartments-for-rent...</td>\n      <td>2 BHK Residential Apartment for rent in Hadapsar</td>\n      <td>₹ 17,000 /month</td>\n      <td>Kumar Park Infinia Phase 4</td>\n      <td>2 BHK2 Baths</td>\n      <td>1,400 sq.ft. (130 sq.m.) Super built-up Area</td>\n      <td>I want to rent out a 2 bhk apartment available...</td>\n      <td>Posted on Yesterday by Owner</td>\n    </tr>\n    <tr>\n      <th>101</th>\n      <td>23</td>\n      <td>/1-bhk-bedroom-residential-apartments-for-rent...</td>\n      <td>1 BHK Residential Apartment for rent in Dhayari</td>\n      <td>₹ 7,000 /month</td>\n      <td>Muktai Complex</td>\n      <td>1 BHK1 Bath</td>\n      <td>550 sq.ft. (51 sq.m.) Super built-up Area</td>\n      <td>I want to rent out a 1 bhk apartment available...</td>\n      <td>Posted on Yesterday by Owner</td>\n    </tr>\n    <tr>\n      <th>102</th>\n      <td>24</td>\n      <td>/2-bhk-bedroom-residential-apartments-for-rent...</td>\n      <td>2 BHK Residential Apartment for rent in Pimple...</td>\n      <td>₹ 20,000 /month</td>\n      <td>Rose Icon</td>\n      <td>2 BHK2 Baths</td>\n      <td>920 sq.ft. (85 sq.m.) Built-up Area</td>\n      <td>I want to rent out a 2 bhk apartment available...</td>\n      <td>Posted on Yesterday by Owner</td>\n    </tr>\n    <tr>\n      <th>103</th>\n      <td>25</td>\n      <td>/2-bhk-bedroom-residential-apartments-for-rent...</td>\n      <td>2 BHK Residential Apartment for rent in Pimple...</td>\n      <td>₹ 20,000 /month</td>\n      <td>Rose Icon</td>\n      <td>2 BHK2 Baths</td>\n      <td>920 sq.ft. (85 sq.m.) Built-up Area</td>\n      <td>I want to rent out a 2 bhk apartment available...</td>\n      <td>Posted on Yesterday by Owner</td>\n    </tr>\n  </tbody>\n</table>\n<p>104 rows × 9 columns</p>\n</div>"
     },
     "metadata": {},
     "execution_count": 4
    }
   ],
   "source": [
    "df"
   ]
  },
  {
   "cell_type": "code",
   "execution_count": 5,
   "metadata": {},
   "outputs": [],
   "source": [
    "df['link']='https://www.99acres.com'+df['link']"
   ]
  },
  {
   "cell_type": "code",
   "execution_count": 9,
   "metadata": {},
   "outputs": [],
   "source": [
    "df.to_csv('/run/media/swaraj/volume y/code/work/working/99acers2.csv')"
   ]
  },
  {
   "cell_type": "code",
   "execution_count": 8,
   "metadata": {},
   "outputs": [
    {
     "output_type": "stream",
     "name": "stdout",
     "text": [
      "/run/media/swaraj/volume y/code/work/working\n"
     ]
    }
   ],
   "source": [
    "!pwd\n"
   ]
  }
 ]
}