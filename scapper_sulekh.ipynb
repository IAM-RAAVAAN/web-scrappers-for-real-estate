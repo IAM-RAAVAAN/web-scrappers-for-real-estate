{
 "metadata": {
  "language_info": {
   "codemirror_mode": {
    "name": "ipython",
    "version": 3
   },
   "file_extension": ".py",
   "mimetype": "text/x-python",
   "name": "python",
   "nbconvert_exporter": "python",
   "pygments_lexer": "ipython3",
   "version": "3.9.2"
  },
  "orig_nbformat": 2,
  "kernelspec": {
   "name": "python3",
   "display_name": "Python 3",
   "language": "python"
  }
 },
 "nbformat": 4,
 "nbformat_minor": 2,
 "cells": [
  {
   "cell_type": "code",
   "execution_count": 1,
   "metadata": {},
   "outputs": [],
   "source": [
    "import pandas as pd \n",
    "import numpy as np \n",
    "import requests\n",
    "import csv \n",
    "import re\n",
    "from bs4 import BeautifulSoup"
   ]
  },
  {
   "cell_type": "code",
   "execution_count": 2,
   "metadata": {},
   "outputs": [],
   "source": [
    "url=\"https://property.sulekha.com/apartments-flats-for-rent/pune#\"\n",
    "j=requests.get(url)\n",
    "k=j.text\n",
    "s=BeautifulSoup(k,'lxml')\n"
   ]
  },
  {
   "cell_type": "code",
   "execution_count": 3,
   "metadata": {
    "tags": [
     "outputPrepend"
    ]
   },
   "outputs": [
    {
     "output_type": "stream",
     "name": "stdout",
     "text": [
      "     <a href=\"https://www.sulekha.com/real-estate-developers/pune\" title=\"Real Estate Developers in Pune\">\n            Real Estate Developers\n           </a>\n          </li>\n          <li>\n           <a href=\"https://www.sulekha.com/cottages/pune\" title=\"Cottages in Pune\">\n            Cottages\n           </a>\n          </li>\n          <li>\n           <a href=\"https://www.sulekha.com/residential-packers-and-movers/pune\" title=\"Residential Packers and Movers in Pune\">\n            Residential Packers and Movers\n           </a>\n          </li>\n          <li>\n           <a href=\"https://property.sulekha.com/pg-for-boys-ads/pune\" title=\"Boys PG / Hostel in Pune\">\n            Boys PG / Hostel\n           </a>\n          </li>\n          <li>\n           <a href=\"https://property.sulekha.com/pg-for-girls-ads/pune\" title=\"Girls PG / Hostel in Pune\">\n            Girls PG / Hostel\n           </a>\n          </li>\n          <li>\n           <a href=\"https://property.sulekha.com/male-roommates-ads/pune\" title=\"Male Roommates in Pune\">\n            Male Roommates\n           </a>\n          </li>\n          <li>\n           <a href=\"https://property.sulekha.com/female-roommates-ads/pune\" title=\"Female Roommates in Pune\">\n            Female Roommates\n           </a>\n          </li>\n          <li>\n           <a href=\"https://property.sulekha.com/roommates-flatmates-ads/pune\" title=\"Roommates in Pune\">\n            Roommates\n           </a>\n          </li>\n          <li>\n           <a href=\"https://property.sulekha.com/pg-hostels-ads/pune\" title=\"PG / Hostel in Pune\">\n            PG / Hostel\n           </a>\n          </li>\n          <li>\n           <a href=\"https://property.sulekha.com/apartments-flats-for-sale/pune\" title=\"Flats For Sale in Pune\">\n            Flats For Sale\n           </a>\n          </li>\n          <li>\n           <a href=\"https://property.sulekha.com/new-projects-for-sale/pune\" title=\"New Projects in Pune\">\n            New Projects\n           </a>\n          </li>\n          <li>\n           <a href=\"https://property.sulekha.com/plots-land-for-sale/pune\" title=\"Plots and Land For Sale in Pune\">\n            Plots and Land For Sale\n           </a>\n          </li>\n          <li>\n           <a href=\"https://property.sulekha.com/individual-houses-villas-for-sale/pune\" title=\"Individual House For Sale in Pune\">\n            Individual House For Sale\n           </a>\n          </li>\n          <li>\n           <a href=\"https://property.sulekha.com/gated-community-houses-villas-for-sale/pune\" title=\"Gated Community Villas in Pune\">\n            Gated Community Villas\n           </a>\n          </li>\n          <li>\n           <a href=\"https://property.sulekha.com/gated-community-apartments-flats-for-sale/pune\" title=\"Gated Community Flats in Pune\">\n            Gated Community Flats\n           </a>\n          </li>\n          <li>\n           <a href=\"https://property.sulekha.com/ready-to-move-apartments-flats-for-sale/pune\" title=\"Ready to Move Flats in Pune\">\n            Ready to Move Flats\n           </a>\n          </li>\n          <li>\n           <a href=\"https://property.sulekha.com/ongoing-projects-for-sale/pune\" title=\"Ongoing Projects in Pune\">\n            Ongoing Projects\n           </a>\n          </li>\n          <li>\n           <a href=\"https://property.sulekha.com/studio-apartments-flats-for-sale/pune\" title=\"Studio Apartments in Pune\">\n            Studio Apartments\n           </a>\n          </li>\n          <li>\n           <a href=\"https://property.sulekha.com/builder-floors-for-sale/pune\" title=\"Builder Floors in Pune\">\n            Builder Floors\n           </a>\n          </li>\n          <li>\n           <a href=\"https://property.sulekha.com/gated-community-plots-lands-for-sale/pune\" title=\"Gated Community Plots in Pune\">\n            Gated Community Plots\n           </a>\n          </li>\n          <li>\n           <a href=\"https://property.sulekha.com/upcoming-projects-for-sale/pune\" title=\"Upcoming Projects in Pune\">\n            Upcoming Projects\n           </a>\n          </li>\n          <li>\n           <a href=\"https://property.sulekha.com/4-bhk-row-house-for-sale/pune\" title=\"4 BHK Row Houses For Sale in Pune\">\n            4 BHK Row Houses For Sale\n           </a>\n          </li>\n          <li>\n           <a href=\"https://property.sulekha.com/row-house-for-sale/pune\" title=\"Row Houses For Sale in Pune\">\n            Row Houses For Sale\n           </a>\n          </li>\n          <li>\n           <a href=\"https://property.sulekha.com/2-bhk-row-house-for-sale/pune\" title=\"2 BHK Row Houses For Sale in Pune\">\n            2 BHK Row Houses For Sale\n           </a>\n          </li>\n          <li>\n           <a href=\"https://property.sulekha.com/3-bhk-row-house-for-sale/pune\" title=\"3 BHK Row Houses For Sale in Pune\">\n            3 BHK Row Houses For Sale\n           </a>\n          </li>\n          <li>\n           <a href=\"https://property.sulekha.com/1-bhk-row-house-for-sale/pune\" title=\"1 BHK Row Houses For Sale in Pune\">\n            1 BHK Row Houses For Sale\n           </a>\n          </li>\n          <li>\n           <a href=\"https://property.sulekha.com/commercial-property-for-sale/pune\" title=\"Commercial Property For Sale in Pune\">\n            Commercial Property For Sale\n           </a>\n          </li>\n          <li>\n           <a href=\"https://property.sulekha.com/residential-property-for-sale/pune\" title=\"Property For Sale in Pune\">\n            Property For Sale\n           </a>\n          </li>\n          <li>\n           <a href=\"https://property.sulekha.com/apartments-flats-for-resale/pune\" title=\"Flats For Resale in Pune\">\n            Flats For Resale\n           </a>\n          </li>\n          <li>\n           <a href=\"https://property.sulekha.com/individual-houses-villas-for-resale/pune\" title=\"Individual Houses For Resale in Pune\">\n            Individual Houses For Resale\n           </a>\n          </li>\n          <li>\n           <a href=\"https://property.sulekha.com/row-house-for-resale/pune\" title=\"Row Houses For Resale in Pune\">\n            Row Houses For Resale\n           </a>\n          </li>\n          <li>\n           <a href=\"https://property.sulekha.com/ready-to-move-houses-villas-for-sale/pune\" title=\"Ready to Move Houses in Pune\">\n            Ready to Move Houses\n           </a>\n          </li>\n          <li>\n           <a href=\"https://property.sulekha.com/gated-community-houses-villas-for-resale/pune\" title=\"Gated Community Villas in Pune\">\n            Gated Community Villas\n           </a>\n          </li>\n          <li>\n           <a href=\"https://property.sulekha.com/studio-apartments-flats-for-resale/pune\" title=\"Studio Apartments in Pune\">\n            Studio Apartments\n           </a>\n          </li>\n          <li>\n           <a href=\"https://property.sulekha.com/gated-community-properties-for-resale/pune\" title=\"Gated Community Property For Resale in Pune\">\n            Gated Community Property For Resale\n           </a>\n          </li>\n          <li>\n           <a href=\"https://property.sulekha.com/gated-community-apartments-flats-for-resale/pune\" title=\"Gated Community Flats in Pune\">\n            Gated Community Flats\n           </a>\n          </li>\n          <li>\n           <a href=\"https://property.sulekha.com/gated-community-properties-for-sale/pune\" title=\"Gated Community Property in Pune\">\n            Gated Community Property\n           </a>\n          </li>\n          <li>\n           <a href=\"https://property.sulekha.com/builder-floors-for-resale/pune\" title=\"Builder Floors in Pune\">\n            Builder Floors\n           </a>\n          </li>\n         </ul>\n        </div>\n       </div>\n      </div>\n     </div>\n    </div>\n   </section>\n   <div class=\"hide\" id=\"divlspnmpromotion\">\n    <div class=\"sidebanner\" id=\"divleftpmbanner\">\n     <a href=\"https://www.sulekha.com/packers-and-movers/pune?utm_source=internalpromo_rentaladlistings&amp;utm_medium=web&amp;utm_content=insidelistingsfilter&amp;utm_campaign=internalpromo_packersmovers\" tabindex=\"0\" target=\"_blank\">\n      <img alt=\"Packers and Movers\" class=\"lazy\" data-original=\"//sulcdn.azureedge.net/content/images/packers-and-movers-ads-300-250.jpg\"/>\n      <p class=\"text\">\n       Connect with verified Packers and Movers in Chennai\n      </p>\n     </a>\n    </div>\n   </div>\n   <footer>\n    <div class=\"container\">\n     <div class=\"footer-main\">\n      <div>\n       <strong>\n        Corporate\n       </strong>\n       <ul>\n        <li>\n         <a href=\"https://www.sulekha.com/collateral/aboutus\" title=\"About us\">\n          About us\n         </a>\n        </li>\n        <li>\n         <a href=\"http://careers.sulekha.com/\" title=\"Careers\">\n          Careers\n         </a>\n        </li>\n        <li>\n         <a href=\"https://www.sulekha.com/collateral/contactus\" title=\"Contact us\">\n          Contact us\n         </a>\n        </li>\n        <li>\n         <a href=\"https://www.sulekha.com/collateral/press\" title=\"Media coverage\">\n          Media coverage\n         </a>\n        </li>\n        <li>\n         <a href=\"https://www.sulekha.com/collateral/ads\" title=\"Ads / commercials\">\n          Ads / commercials\n         </a>\n        </li>\n        <li>\n         <a href=\"https://www.sulekha.com/collateral/advertise\" title=\"Advertise on Sulekha\">\n          Advertise on Sulekha\n         </a>\n        </li>\n        <li>\n         <a href=\"https://www.sulekha.com/collateral/terms\" title=\"Terms &amp; conditions\">\n          Terms &amp; conditions\n         </a>\n        </li>\n        <li>\n         <a href=\"https://www.sulekha.com/collateral/privacy\" title=\"Privacy policy\">\n          Privacy policy\n         </a>\n        </li>\n        <li>\n         <a href=\"https://www.sulekha.com/collateral/collateralpolicy\" title=\"Copyright policy\">\n          Copyright policy\n         </a>\n        </li>\n       </ul>\n      </div>\n      <div>\n       <strong>\n        Top cities (India)\n       </strong>\n       <ul>\n        <li>\n         <a href=\"https://www.sulekha.com/bangalore\" title=\"Sulekha.com Bangalore\">\n          Bangalore\n         </a>\n        </li>\n        <li>\n         <a href=\"https://www.sulekha.com/chennai\" title=\"Sulekha.com Chennai\">\n          Chennai\n         </a>\n        </li>\n        <li>\n         <a href=\"https://www.sulekha.com/delhi\" title=\"Sulekha.com Delhi\">\n          Delhi\n         </a>\n        </li>\n        <li>\n         <a href=\"https://www.sulekha.com/mumbai\" title=\"Sulekha.com Mumbai\">\n          Mumbai\n         </a>\n        </li>\n        <li>\n         <a href=\"https://www.sulekha.com/hyderabad\" title=\"Sulekha.com Hyderabad\">\n          Hyderabad\n         </a>\n        </li>\n        <li>\n         <a href=\"https://www.sulekha.com/pune\" title=\"Sulekha.com Pune\">\n          Pune\n         </a>\n        </li>\n        <li>\n         <a href=\"https://www.sulekha.com/kolkata\" title=\"Sulekha.com Kolkata\">\n          Kolkata\n         </a>\n        </li>\n        <li>\n         <a href=\"https://www.sulekha.com/ahmedabad\" title=\"Sulekha.com Ahmedabad\">\n          Ahmedabad\n         </a>\n        </li>\n        <li>\n         <a href=\"https://www.sulekha.com/gurgaon\" title=\"Sulekha.com Gurgaon\">\n          Gurgaon\n         </a>\n        </li>\n        <li>\n         <a href=\"https://www.sulekha.com/faridabad\" title=\"Sulekha.com Faridabad\">\n          Faridabad\n         </a>\n        </li>\n        <li>\n         <a href=\"https://www.sulekha.com/ghaziabad\" title=\"Sulekha.com Ghaziabad\">\n          Ghaziabad\n         </a>\n        </li>\n        <li>\n         <a href=\"https://www.sulekha.com/noida\" title=\"Sulekha.com Noida\">\n          Noida\n         </a>\n        </li>\n        <li>\n         <a href=\"https://www.sulekha.com/greaternoida\" title=\"Sulekha.com Greater Noida\">\n          Greater Noida\n         </a>\n        </li>\n       </ul>\n      </div>\n      <div>\n       <strong>\n        Top cities (US)\n       </strong>\n       <ul>\n        <li>\n         <a href=\"https://us.sulekha.com/austin-metro-area\" title=\"Austin\">\n          Austin\n         </a>\n        </li>\n        <li>\n         <a href=\"https://us.sulekha.com/atlanta-metro-area\" title=\"Atlanta\">\n          Atlanta\n         </a>\n        </li>\n        <li>\n         <a href=\"https://us.sulekha.com/bay-area\" title=\"Bay Area\">\n          Bay Area\n         </a>\n        </li>\n        <li>\n         <a href=\"https://us.sulekha.com/boston-metro-area\" title=\"Boston\">\n          Boston\n         </a>\n        </li>\n        <li>\n         <a href=\"https://us.sulekha.com/chicago-metro-area\" title=\"Chicago\">\n          Chicago\n         </a>\n        </li>\n        <li>\n         <a href=\"https://us.sulekha.com/los-angeles-metro-area\" title=\"Los Angeles\">\n          Los Angeles\n         </a>\n        </li>\n        <li>\n         <a href=\"https://us.sulekha.com/new-jersey-area\" title=\"New Jersey\">\n          New Jersey\n         </a>\n        </li>\n        <li>\n         <a href=\"https://us.sulekha.com/new-york-metro-area\" title=\"New York\">\n          New York\n         </a>\n        </li>\n        <li>\n         <a href=\"https://us.sulekha.com/toronto-metro-area\" title=\"Toronto\">\n          Toronto\n         </a>\n        </li>\n       </ul>\n      </div>\n      <div>\n       <strong>\n        Sulekha domains\n       </strong>\n       <ul>\n        <li>\n         <a href=\"https://property.sulekha.com\" title=\"Sulekha Property\">\n          Property\n         </a>\n        </li>\n        <li>\n         <a href=\"https://property.sulekha.com/residential-property-for-rent\" title=\"Sulekha Rentals\">\n          Rentals\n         </a>\n        </li>\n        <li>\n         <a href=\"https://property.sulekha.com/pg-hostels-ads/pune\" title=\"PG in pune\">\n          PG\n         </a>\n        </li>\n        <li>\n         <a href=\"https://property.sulekha.com/roommates-flatmates-ads/pune\" title=\"Roommates in pune\">\n          Roommates\n         </a>\n        </li>\n        <li>\n         <a href=\"https://www.sulekha.com/home-services/pune\" title=\"Sulekha Home services\">\n          Home services\n         </a>\n        </li>\n        <li>\n         <a href=\"https://www.sulekha.com/business-services/pune\" title=\"Sulekha Office services\">\n          Office services\n         </a>\n        </li>\n        <li>\n         <a href=\"https://www.sulekha.com/products\" title=\"Sulekha Products\">\n          Products\n         </a>\n        </li>\n        <li>\n         <a href=\"https://www.sulekha.com/education-training/pune\" title=\"Sulekha Education\">\n          Education\n         </a>\n        </li>\n        <li>\n         <a href=\"https://www.sulekha.com/wedding-services/\" title=\"Sulekha Wedding Services\">\n          Wedding Services\n         </a>\n        </li>\n        <li>\n         <a href=\"https://www.sulekha.com/home/\" title=\"Sulekha Home Improvement\">\n          Home Improvement\n         </a>\n        </li>\n        <li>\n         <a href=\"https://www.sulekha.com/study-abroad/\" title=\"Sulekha Study Abroad\">\n          Study Abroad\n         </a>\n        </li>\n        <li>\n         <a href=\"https://elearn.sulekha.com/\" title=\"Sulekha Elearn\">\n          Elearn\n         </a>\n        </li>\n       </ul>\n      </div>\n     </div>\n     <div class=\"footer-bottom\">\n      <span>\n       © 2021 Copyright Sulekha.com. All Rights Reserved.\n      </span>\n      <div class=\"social-icons\">\n       <a class=\"ftr-ic-twitter f-icon\" href=\"https://twitter.com/sulekhadotcom\" rel=\"noreferrer\" rev=\"FTB|SOC|TWT\" target=\"_blank\" title=\"Follow us on Twitter\">\n       </a>\n       <a class=\"ftr-ic-facebook f-icon\" href=\"https://www.facebook.com/Sulekhadotcom\" rel=\"noreferrer\" rev=\"FTB|SOC|FB\" target=\"_blank\" title=\"Be a fan on Facebook\">\n       </a>\n       <a class=\"ftr-ic-pinterest f-icon\" href=\"https://www.pinterest.com/sulekhadotcom/\" rel=\"noreferrer\" rev=\"FTB|SOC|PIN\" target=\"_blank\" title=\"Pinterest\">\n       </a>\n       <a class=\"ftr-ic-youtube f-icon\" href=\"https://www.youtube.com/c/sulekha\" rel=\"noreferrer\" rev=\"FTB|SOC|GP\" target=\"_blank\" title=\"Youtube\">\n       </a>\n       <a class=\"ftr-ic-linkedin f-icon\" href=\"https://www.linkedin.com/company/sulekha.com\" rel=\"noreferrer\" rev=\"FTB|SOC|GP\" target=\"_blank\" title=\"Linkedin\">\n       </a>\n       <a class=\"ftr-ic-instagram f-icon\" href=\"https://www.instagram.com/sulekhaindia/\" rel=\"noreferrer\" rev=\"FTB|SOC|GP\" target=\"_blank\" title=\"Instagram\">\n       </a>\n      </div>\n     </div>\n    </div>\n   </footer>\n   <input id=\"partialPageData\" type=\"hidden\" value=\"eyIkaWQiOiIxIiwiQ2l0eUlkIjo3LCJBcmVhSWQiOjAsIkNhdGVnb3J5SWQiOjkwMDAsIk5lZWRJZCI6MCwiTmVlZEZpbHRlclZhbHVlcyI6IjI1NjIwMzo5Njk3MTgiLCJSb3V0ZU5hbWUiOiJGbGF0cyBmb3IgUmVudCIsIlBhZ2VWaWV3VHlwZSI6NCwiSGFzTGNmIjp0cnVlLCJCcmVhZENydW1iVGl0bGUiOiJGbGF0cyBGb3IgUmVudCIsIklzT25seVByaW1hcnlUYWciOmZhbHNlLCJDbGVhckNhY2hlIjpmYWxzZSwiSHViSWQiOiIiLCJBdHRyaWJ1dGVzIjoiMjU2MjAzOjk2OTcxOCIsIlZlcnNpb24iOjIsIklzQWRMaXN0aW5nUGFnZSI6dHJ1ZSwiSXNBZERldGFpbFBhZ2UiOmZhbHNlLCJSZWZOZWVkSWQiOjAsIlRlbXBsYXRlTmFtZSI6IiIsIklzUHdhIjpmYWxzZSwiRGlzYWJsZUdvb2dsZUFkcyI6ZmFsc2UsIlN0YXRlQ29kZSI6Ik1IIiwiUm91dGVJZCI6ImFwYXJ0bWVudHMtZmxhdHMtZm9yLXJlbnQiLCJDaXR5TmFtZSI6IlB1bmUiLCJTZXJ2aWNlVHlwZSI6InByb3BlcnR5In0=\"/>\n   <input id=\"hdnResetUrl\" type=\"hidden\"/>\n   <input id=\"hdnAdListingsCount\" type=\"hidden\" value=\"15\"/>\n   <input id=\"hdnCategoryName\" type=\"hidden\" value=\"Rentals\"/>\n   <input id=\"hdnCategoryId\" type=\"hidden\" value=\"9000\"/>\n   <input id=\"hdnCityName\" type=\"hidden\" value=\"Pune\"/>\n   <input id=\"hdnIsAboutEnabled\" type=\"hidden\" value=\"True\"/>\n   <input id=\"hidlocalityfilter\" type=\"hidden\" value=\"0\"/>\n   <input id=\"hidattributefilter\" type=\"hidden\" value=\"256203:969718\"/>\n   <input id=\"hdnlatitude\" type=\"hidden\" value=\"0\"/>\n   <input id=\"hdnlongitude\" type=\"hidden\" value=\"0\"/>\n   <input id=\"hdnRouteId\" type=\"hidden\" value=\"apartments-flats-for-rent\"/>\n   <input id=\"hdnIsAjaxEnabled\" type=\"hidden\" value=\"True\"/>\n   <input id=\"hdnBreadCrumbTitle\" type=\"hidden\" value=\"Flats For Rent\"/>\n   <input id=\"hdnAreaName\" type=\"hidden\"/>\n   <input id=\"hdnhaslcf\" type=\"hidden\" value=\"True\"/>\n   <input id=\"hdnIsBlogAjaxEnabled\" type=\"hidden\" value=\"False\"/>\n   <input id=\"hdnclearcache\" type=\"hidden\"/>\n   <input id=\"hdnListingType\" type=\"hidden\" value=\"ad\"/>\n   <input id=\"hdnTotalPages\" type=\"hidden\" value=\"0\"/>\n   <input id=\"hdnIsMobileDevice\" type=\"hidden\" value=\"Web\"/>\n   <input id=\"busypcid\" type=\"hidden\"/>\n   <input id=\"hdnRequestURL\" type=\"hidden\"/>\n   <input id=\"hdnTemplateType\" type=\"hidden\"/>\n   <input id=\"hdnTrackingObj\" type=\"hidden\" value=\"https://property.sulekha.com/apartments-flats-for-rent/pune?routeid=apartments-flats-for-rent&amp;listingtype=ad&amp;categoryid=9000&amp;needid=0&amp;attributefiltervalues=256203%3a969718&amp;refneedid=0&amp;refattributefiltervalues=256203%3a969718&amp;content-enabled=false&amp;about-enabled=true&amp;brand-enabled=false&amp;ajaxfilter-enabled=true&amp;url-category-type=12&amp;hubid=&amp;show-review=false&amp;orders=&amp;enable-comments=false&amp;disable-m=true&amp;menuid=&amp;exampagetype=false&amp;elearn-tag=&amp;cityname=pune&amp;host=property&amp;\"/>\n   <input id=\"hdnStateCode\" type=\"hidden\" value=\"MH\"/>\n   <input id=\"hdnPWAPage\" type=\"hidden\" value=\"false\"/>\n   <input id=\"hdnPageType\" type=\"hidden\" value=\"RentalAdListing\"/>\n   <input id=\"hdnCacheValue\" type=\"hidden\"/>\n   <input id=\"hdnGroupCityId\" type=\"hidden\" value=\"7\"/>\n   <input id=\"hdnDomainName\" type=\"hidden\"/>\n   <input id=\"hdnUrlReferer\" type=\"hidden\" value=\"null\"/>\n   <input id=\"wpNeedid\" type=\"hidden\"/>\n   <input id=\"wpCityid\" type=\"hidden\" value=\"7\"/>\n   <input id=\"wpCategorygroup\" type=\"hidden\"/>\n   <input id=\"wpSubCategoryid\" type=\"hidden\" value=\"9000\"/>\n   <input id=\"cityId\" type=\"hidden\" value=\"7\"/>\n   <input id=\"localIP\" type=\"hidden\" value=\"103.160.133.222\"/>\n   <input id=\"IsSlideOver\" type=\"hidden\" value=\"False\"/>\n   <input id=\"Isstickapp\" type=\"hidden\" value=\"False\"/>\n   <input id=\"devicetype\" type=\"hidden\" value=\"Unknown\"/>\n   <input id=\"hdnIsPropertyRelatedPage\" type=\"hidden\" value=\"true\"/>\n   <input id=\"hdnServiceType\" type=\"hidden\" value=\"property\"/>\n   <input id=\"hdnUserPid\" type=\"hidden\"/>\n   <input id=\"bannertimer\" type=\"hidden\" value=\"0\"/>\n  </div>\n </body>\n</html>\n"
     ]
    }
   ],
   "source": [
    "print(s.prettify())"
   ]
  },
  {
   "cell_type": "code",
   "execution_count": 4,
   "metadata": {},
   "outputs": [],
   "source": [
    "def title_link(s):\n",
    "    tit=[]\n",
    "    link=[]\n",
    "    sta=s.find_all('a',attrs={'class':\"bizlinkurl\"}) \n",
    "    for k in sta:\n",
    "        tit.append(k.text)\n",
    "        link.append(k['href'])\n",
    "    d={\n",
    "        'title_link':tit,\n",
    "        'links':link\n",
    "    }\n",
    "    df=pd.DataFrame()\n",
    "    return df"
   ]
  },
  {
   "cell_type": "code",
   "execution_count": 73,
   "metadata": {},
   "outputs": [],
   "source": [
    " address=[]\n",
    " k=[]\n",
    " sta=s.find_all('div',attrs={'class':\"locality\"}) \n",
    " for a in sta:\n",
    "     address.append(a.text)\n",
    "\n",
    "\n",
    "\n",
    " "
   ]
  },
  {
   "cell_type": "code",
   "execution_count": 76,
   "metadata": {},
   "outputs": [
    {
     "output_type": "execute_result",
     "data": {
      "text/plain": [
       "15"
      ]
     },
     "metadata": {},
     "execution_count": 76
    }
   ],
   "source": [
    "len(location)"
   ]
  },
  {
   "cell_type": "code",
   "execution_count": 69,
   "metadata": {},
   "outputs": [
    {
     "output_type": "stream",
     "name": "stdout",
     "text": [
      "['  Hadapsar, Pune    View Map ', '  EON IT PARK, Kharadi, Pune   Landmark: EON IT PARK  View Map ', '  Balewadi, Pune   Landmark: Near Jupiter Hospital  View Map ', '  Chinchwad Gaon, Pune   Landmark: talathi karyalya  View Map ', '  Shivthirth Nagar, Kothrud, Pune    View Map ', '  Magarpatta, Pune    View Map ', '  Hinjewadi Rajiv Gandhi Infotech Park, Hinjewadi, Pune   Landmark: Near Infosys Phase 2 Hinjewadi  View Map ', '  Kharadi, Pune   Landmark: Near eon it park  View Map ', '  Charholi Budruk, Pimpri Chinchwad   Landmark: sai mandir  View Map ', '  Moshi Pradhikaran, Pimpri Chinchwad   Landmark: Spineroad  View Map ', '  Wakad, Dange Chowk, Pimpri Chinchwad   Landmark: Wakad  View Map ', '  Near Ajmera school, Ajmera Complex, Pimpri Chinchwad    View Map ', '  Kharadi, Pune    View Map ', '  Kolte Patil Tuscan Estate., Kharadi, Pune   Landmark: Behind Radisson Hotel  View Map ', '  Matruchaya society, Kalyani Nagar, Pune   Landmark: Near gurunanak  View Map ']\n"
     ]
    }
   ],
   "source": [
    "\n",
    "print(address)"
   ]
  },
  {
   "cell_type": "code",
   "execution_count": 42,
   "metadata": {},
   "outputs": [],
   "source": [
    "location=[]\n",
    "sta=s.find_all('a',attrs={'class':\"view-on-map\"})    \n",
    "for a in sta:\n",
    "    location.append(a['data-latlong'])"
   ]
  },
  {
   "cell_type": "code",
   "execution_count": 79,
   "metadata": {},
   "outputs": [],
   "source": [
    "prices=[]\n",
    "sta=s.find_all('span',attrs={'class':\"deposit\"})    \n",
    "for i in sta:\n",
    "    prices.append(i.text)\n",
    "sta=s.find_all('span',attrs={'class':\"Deposit\"})    \n",
    "for i in sta:\n",
    "    prices.append(i.text)"
   ]
  },
  {
   "cell_type": "code",
   "execution_count": 63,
   "metadata": {},
   "outputs": [
    {
     "output_type": "execute_result",
     "data": {
      "text/plain": [
       "15"
      ]
     },
     "metadata": {},
     "execution_count": 63
    }
   ],
   "source": [
    "len(prices[:])"
   ]
  },
  {
   "cell_type": "code",
   "execution_count": 64,
   "metadata": {},
   "outputs": [
    {
     "output_type": "execute_result",
     "data": {
      "text/plain": [
       "[' Deposit:  30,000  ',\n",
       " ' Deposit:  75,000  ',\n",
       " ' Deposit:  60,000  ',\n",
       " ' Deposit:  25,000  ',\n",
       " ' Deposit:  40,000  ',\n",
       " ' Deposit:  80,000  ',\n",
       " ' Deposit:  60,000  ',\n",
       " ' Deposit:  50,000  ',\n",
       " ' Deposit:  40,000  ',\n",
       " ' Deposit:  25,000  ',\n",
       " ' Deposit:  50,000  ',\n",
       " ' Deposit:  20,000  ',\n",
       " ' Deposit:  12,000  ',\n",
       " ' Deposit:  105,000  ',\n",
       " ' Deposit:  16,000  ']"
      ]
     },
     "metadata": {},
     "execution_count": 64
    }
   ],
   "source": [
    "prices[:]"
   ]
  },
  {
   "cell_type": "code",
   "execution_count": 80,
   "metadata": {},
   "outputs": [],
   "source": [
    "financial=[]\n",
    "sta=s.find_all('span',attrs={'class':\"price primary\"})    \n",
    "for i in sta:\n",
    "    financial.append(i.text)"
   ]
  },
  {
   "cell_type": "code",
   "execution_count": 88,
   "metadata": {},
   "outputs": [
    {
     "output_type": "execute_result",
     "data": {
      "text/plain": [
       "['   13,960  / month   Deposit:  30,000   ',\n",
       " '   26,001  / month   Deposit:  75,000   ',\n",
       " '   22,000  / month   Deposit:  60,000   ',\n",
       " '   10,000  / month   Deposit:  25,000   ',\n",
       " '   14,000  / month   Deposit:  40,000   ',\n",
       " '   25,000  / month   Deposit:  80,000   ',\n",
       " '   21,000  / month   Deposit:  60,000   ',\n",
       " '   18,125  / month   Deposit:  50,000   ',\n",
       " '   14,000  / month   Deposit:  40,000   ',\n",
       " '   9,000  / month   Deposit:  25,000   ',\n",
       " '   18,000  / month   Deposit:  50,000   ',\n",
       " '   9,000  / month   Deposit:  20,000   ',\n",
       " '   6,500  / month   Deposit:  12,000   ',\n",
       " '   35,000  / month   Deposit:  105,000   ',\n",
       " '   11,000  / month   Deposit:  16,000   ']"
      ]
     },
     "metadata": {},
     "execution_count": 88
    }
   ],
   "source": [
    "financial"
   ]
  },
  {
   "cell_type": "code",
   "execution_count": 90,
   "metadata": {},
   "outputs": [],
   "source": [
    "ammenities=[]\n",
    "sta=s.find_all('div',attrs={'class':\"amenities flat\"})   \n",
    "for i in sta:\n",
    "    ammenities.append(i.text)"
   ]
  },
  {
   "cell_type": "code",
   "execution_count": 91,
   "metadata": {},
   "outputs": [],
   "source": [
    "spec_flat=[]\n",
    "sta=s.find_all('div',attrs={'class':\"spec flat\"})   \n",
    "for i in sta:\n",
    "    spec_flat.append(i.text)"
   ]
  },
  {
   "cell_type": "code",
   "execution_count": 92,
   "metadata": {},
   "outputs": [
    {
     "output_type": "execute_result",
     "data": {
      "text/plain": [
       "['No Car Parking 3rd (of 4 Floors) Semi Furnished Family Veg/Non Veg',\n",
       " '1 Car Parking 5th (of 10 Floors) Semi Furnished Family/Bachelor Veg/Non Veg',\n",
       " '1 Car Parking 1st (of 2 Floors) Semi Furnished Family/Bachelor',\n",
       " 'No Car Parking 3rd (of 5 Floors) UnFurnished Family Veg/Non Veg',\n",
       " 'No Car Parking 1st (of 3 Floors) UnFurnished Family/Bachelor',\n",
       " '1 Car Parking 5th (of 11 Floors) Fully Furnished Family/Bachelor',\n",
       " '1 Car Parking 23th (of 23 Floors) Semi Furnished Family/Bachelor Veg/Non Veg',\n",
       " '1 Car Parking 2nd (of 8 Floors) Semi Furnished Family/Bachelor Veg/Non Veg',\n",
       " '1 Car Parking 11th (of 12 Floors) UnFurnished Family Only Vegetarian',\n",
       " '1 Car Parking 2nd (of 4 Floors) Semi Furnished Family Veg/Non Veg',\n",
       " '1 Car Parking 8th (of 8 Floors) UnFurnished Family/Bachelor Veg/Non Veg',\n",
       " '1 Car Parking 1st (of 3 Floors) UnFurnished Family/Bachelor',\n",
       " 'No Car Parking Ground Floor (of 4 Floors) Semi Furnished Family/Bachelor Veg/Non Veg',\n",
       " '1 Car Parking 5th (of 11 Floors) Fully Furnished Family/Bachelor Veg/Non Veg',\n",
       " '1 Car Parking Ground Floor (of 1 Floors) Fully Furnished Family/Bachelor Veg/Non Veg']"
      ]
     },
     "metadata": {},
     "execution_count": 92
    }
   ],
   "source": []
  },
  {
   "cell_type": "code",
   "execution_count": 93,
   "metadata": {},
   "outputs": [],
   "source": [
    "spec_flat_necce=[]\n",
    "sta=s.find_all('div',attrs={'class':\"spec icon primary\"})   \n",
    "for i in sta:\n",
    "    spec_flat_necce.append(i.text)"
   ]
  },
  {
   "cell_type": "code",
   "execution_count": null,
   "metadata": {},
   "outputs": [],
   "source": [
    "spec_flat_necce"
   ]
  },
  {
   "cell_type": "code",
   "execution_count": 96,
   "metadata": {},
   "outputs": [],
   "source": [
    "dates_bro=[]\n",
    "sta=s.find_all('div',attrs={'class':\"posted\"})   \n",
    "for i in sta:\n",
    "    dates_bro.append(i.text)\n"
   ]
  },
  {
   "cell_type": "code",
   "execution_count": 98,
   "metadata": {},
   "outputs": [
    {
     "output_type": "execute_result",
     "data": {
      "text/plain": [
       "15"
      ]
     },
     "metadata": {},
     "execution_count": 98
    }
   ],
   "source": [
    "len(dates_bro)"
   ]
  },
  {
   "cell_type": "code",
   "execution_count": 101,
   "metadata": {},
   "outputs": [],
   "source": [
    "the_text=[]\n",
    "sta=s.find_all('span',attrs={'class':\"listing-desc view-less\"})   \n",
    "for i in sta:\n",
    "    the_text.append(i.text)"
   ]
  },
  {
   "cell_type": "code",
   "execution_count": 102,
   "metadata": {},
   "outputs": [
    {
     "output_type": "execute_result",
     "data": {
      "text/plain": [
       "['East fag 1 BHK Flat for Rent Hadapsar, Pune . The Flat is a Semi Furnished property with Geysers, AC, Fans, Lights, Chimney, Modular Kitchen, Wardrobes. The builg has a total of 4 floor(s) and the Flat is on the 3rd Floor. The Flat is available for Rent at Rs.13960. Additional Information about the property: This Flat also has 1 balconies, Pooja Room, Study Room, Kids Room. The Flat offers you an unparalleled lig experience with amenities like Corporation water, Drage Facility, 24*7 Power Backup, Lifts, Gym, Security, ATM, Visitors Parg, Feng Shui / Vastu, Shopg Complex, Piped Gas, Inte, Tennis Court, Badton Court, Indoor Games, Play Ground, Yoga room, Medical Center, CCTV, Park, Community Hall, Service Lifts, Mtenance Staff, Jogg Track, R Water Harvesg, Sewage Treatment, Fire Safety, Laundromat, Cafe/Food Court, Day Care Center, Library, Basketball Court, Volleyball Court, Solar Power, Garbage Chute, Lobby Area, Plantation Avenue, Water treatment. With this property say goodbye to all your pargand 1 two-wheeler parg slot(s) Rent Amount: Rs.13960 Monthly Mtenance is Rs.0. Super Built-up Area: 500 sqft Built-up Area: 500 sqft Age of Construction: 3-5 Years',\n",
       " 'East facing 2 BHK Apartment for Rent in Kharadi, Pune . The Apartment is a Semi Furnished property with Geysers, Fans, Lights, Modular Kitchen. The building has a total of 10 floor(s) and the Flat is on the 5th Floor. The Flat is available for Rent at Rs 26,001/-. Additional Information about the property: This Flat also has 1 balconies, Pooja Room. The Apartment offers you an unparalleled living experience with amenities like ATM, Drainage Facility, 24*7 Power Backup, Lifts, Security, Play Ground, Feng Shui / Vastu, Park, CCTV, Day Care Center, Rain Water Harvesting, Medical Center, Fire Safety, Jogging Track, Swimming Pool, Gym, Kids Pool. With this property say goodbye to all your parking woes as it comes with 1 Covered car parking slot(s) and 2 two-wheeler parking slot(s) Rent Amount: Rs 26,001/- Monthly Maintenance is Rs 130. Super Built-up Area: 1000 sqft Built-up Area: 950 sqft Carpet Area: 850 sqft Age of Construction: 1-3 Years Nearest Landmark: EON IT PARK',\n",
       " 'A well-built East facing 2 BHK Semi Furnished Residential Apartment available for Rent, Balewadi in Pune . The Apartment is situated on the 1st Floor. It consists of is furnished with: Fans, Lights, also get 1 Covered car parking and 1 two-wheeler parking. The property offers amenities like Feng Shui / Vastu. Additional Property Info : Rent Amount: Rs 22,000/- Super Built-up Area: 1100 sqft Built-up Area: 1050 sqft',\n",
       " '1 BHK UnFurnished 600 sqft Residential Flat for Rent Cchwad Gaon, Pune . The Flat has 1 bathroom(s), and thisplex has a total of 3 floors & my Flat is floor no 5th , and it will be available Immediate. It is a 5-10 Years property. Rent quoted for this property is Rs.10000. The Flat has 1 balconies. It is East fag property and has Ceramic tiles floog.& 1 two-wheeler parg. Amenitiesclude – Corporation water, 24*7 Power Backup. Monthly Mtenance is Rs.600. I Prefer : *Family *Veg/Non Veg',\n",
       " 'A well-built North facing 2 BHK Fully Furnished Residential Apartment available for Rent, Magarpatta in Pune . The Apartment is situated on the 5th Floor. It consists of is furnished with: AC, Fans, Lights, Chimney, Modular Kitchen, Wardrobes, Dining Table, Sofa, Geysers, Refrigerator, RO Water Purifier, Gas Stove, Mattress, TV, also get 1 Covered car parking and 1 two-wheeler parking. The property offers amenities like Lifts, 24*7 Power Backup, Gym, Security, Swimming Pool, Corporation water, Club House, CCTV. Additional Property Info : Rent Amount: Rs 25,000/- Super Built-up Area: 930 sqft Built-up Area: 900 sqft',\n",
       " 'BHK Apartment is up for Rent for 21,000/-. The Semi Furnished Apartment has a super built up area of 1033 sqft and is located on the 23th Floor. It is situated in Hinjewadi which is one of the known areas in Pune . 2 BHK bedroom , 1 balconies , Study Room, Pooja Room and comes with Geysers, Fans, Lights, Chimney, Modular Kitchen. The Flat comes with 1 Covered car parking & 1 two-wheeler parking. This property makes your living more convenient by offering amenities like Corporation water, Drainage Facility, 24*7 Power Backup, Lifts, Gym, Swimming Pool, Security, Club House, ATM, Visitors Parking, Broadband Connectivity, Feng Shui / Vastu, Shopping Complex, Piped Gas, Intercom, Badminton Court, Yoga room, Medical Center, CCTV, Park, Service Lifts, Maintenance Staff, Jogging Track, Fire Safety, Solar Power, Garbage Chute Additional Property Info :Flooring Info: Vitrified tiles Take hold of this most coveted property now! Rent Amount: Rs 21,000/- Super Built-up Area: 1033 sqft Built-up Area: 1030 sqft Carpet Area: 765 sqft Age of Construction: New',\n",
       " '2 BHK Semi Furnished 1000 sqft Residential Apartment for Rent in Kharadi, Pune . The Apartment has 2 bathroom(s), and this complex has a total of 8 floors & my Apartment is in floor no 2nd , and it will be available in Immediate. It is a 3-5 Years property. Rent quoted for this property is Rs 18,000/-. The Apartment has 2 balconies. It is furnished with Geysers, Fans, Lights, Modular Kitchen, Wardrobes. It is East facing property and has Vitrified tiles flooring. Apartment has 1 Covered car parking & 1 two-wheeler parking. Other rooms include ? Pooja Room. Amenities include ? Corporation water, 24*7 Power Backup, Lifts, Gym, Security, Shopping Complex, Feng Shui / Vastu, Visitors Parking, Broadband Connectivity, Club House, Piped Gas, CCTV, Medical Center, Maintenance Staff, Rain Water Harvesting. I Prefer : *Family/Bachelor *Veg/Non Veg',\n",
       " '2 BHK UnFurnished 1010 sqft Residential Flat for Rent Charholi Budruk, Pimpri Cchwad . The Flat has 2 bathroom(s), and thisplex has a total of 12 floors & my Flat is floor no 11th , and it will be available Immediate. It is a < 1 Year property. Rent quoted for this property is Rs.14000. The Flat has 2 balconies. It is East fag property and has Vitrified tiles floog. Flat has 1 Covered car parg & 2 two-wheeler parg. Amenitiesclude – Corporation water, Drage Facility, 24*7 Power Backup, Lifts, Gym, Swimg Pool, Security, Club House, Visitors Parg, Broadband Connectivity, Inte, Play Ground, Yoga room, CCTV, Park, Community Hall, Service Lifts, Mtenance Staff, Jogg Track, R Water Harvesg, Sewage Treatment, Fire Safety, Solar Power, Garbage Chute, Steam and Sauna, Plantation Avenue, Water treatment. Monthly Mtenance is Rs.500. I Prefer : *Family *Only Vegetarian',\n",
       " '1 BHK Apartment is up for Rent for 9,000/-. The Semi Furnished Apartment has a super built up area of 650 sqft and is located on the 2nd Floor. It is situated in Moshi Pradhikaran which is one of the known areas in Pimpri Chinchwad . 1 BHK bedroom , 1 balconies , Study Room and comes with Fans, Lights. The Flat comes with 1 Covered car parking & 1 two-wheeler parking. This property makes your living more convenient by offering amenities like Corporation water, Drainage Facility, Security, Feng Shui / Vastu, Visitors Parking, Club House, Piped Gas, CCTV, Park, Tennis Court, Fire Safety, Water treatment, Maintenance Staff Additional Property Info :Flooring Info: Vitrified tiles Take hold of this most coveted property now! Rent Amount: Rs 9,000/- Super Built-up Area: 650 sqft Built-up Area: 610 sqft Carpet Area: 575 sqft Age of Construction: 5-10 Years',\n",
       " 'East facing 3 BHK Flat for Rent in Dange Chowk, Pimpri Chinchwad . The Flat is a UnFurnished property. The building has a total of 8 floor(s) and the Apartment is on the 8th Floor. The Apartment is available for Rent at Rs 18,000/-. Additional Information about the property: This Apartment also has 1 balconies The Apartment offers you an unparalleled living experience with amenities like Corporation water, Gym, Swimming Pool, Security, 24*7 Power Backup, Club House, Lifts, Visitors Parking, Play Ground, CCTV, Park, Community Hall, Maintenance Staff, Fire Safety, Rain Water Harvesting. With this property say goodbye to all your parking woes as it comes with 1 Covered car parking slot(s) and 1 two-wheeler parking slot(s) Rent Amount: Rs 18,000/- Monthly Maintenance is Rs 1000. Super Built-up Area: 1134 sqft Built-up Area: 1133 sqft Carpet Area: 840 sqft Age of Construction: New Nearest Landmark: Wakad',\n",
       " '1 BHK UnFurnished 600 sqft Residential Flat for Rent in Ajmera Complex, Pimpri Chinchwad . The Flat has 1 bathroom(s), and this complex has a total of 3 floors & my Apartment is in floor no 1st , and it will be available in Immediate. Rent quoted for this property is Rs 9,000/-. The Apartment has 1 balconies. It is North facing property and has Mosaic flooring. Apartment has 1 Open car parking & 2 two-wheeler parking. Amenities include ? Corporation water, Drainage Facility, 24*7 Power Backup, Security.',\n",
       " '1 RK Flat is up for Rent for 6500. The Semi Furnished Flat has a super built up area of 310 sqft and is located on the Ground Floor. It is situated Kharadi which is one of the known areas Pune . 1 RK, No balconies, . & 1 two-wheeler parg. This property makes your lig more convenient by offeg amenities like Corporation water Additional Property Info : Take hold of this most coveted property now! Rent Amount: Rs.6500 Super Built-up Area: 310 sqft Built-up Area: 285 sqft',\n",
       " 'West facing 3 BHK Flat for Rent in Kharadi, Pune . The Flat is a Fully Furnished property with Geysers, Sofa, TV, AC, Fans, Mattress, Gas Stove, Lights, Chimney, RO Water Purifier, Modular Kitchen, Microoven, Refrigerator, Wardrobes, Dining Table. The building has a total of 11 floor(s) and the Apartment is on the 5th Floor. The Apartment is available for Rent at Rs 35,000/-. Additional Information about the property: This Apartment also has 2 balconies, Servant Room. The Flat offers you an unparalleled living experience with amenities like Corporation water, Club House, Piped Gas, Medical Center, Rain Water Harvesting, Day Care Center, Steam and Sauna, Water treatment, Jacuzzi, Library, Sewage Treatment, CCTV, ATM, Intercom, Drainage Facility, 24*7 Power Backup, Lifts, Gym, Swimming Pool, Security, Shopping Complex, Feng Shui / Vastu, Broadband Connectivity, Visitors Parking, Tennis Court, Park, Basketball Court, Kids Pool, Infinity Pool, Roof Top Pool, Lobby Area, Garbage Chute, Solar Power, Volleyball Court, Fire Safety, Community Hall, Badminton Court, Indoor Games, Service Lifts, Laundromat, Cafe/Food Court, Maintenance Staff, Play Ground, Yoga room, Jogging Track. With this property say goodbye to all your parking woes as it comes with 1 Covered car parking slot(s) and 2 two-wheeler parking slot(s) Rent Amount: Rs 35,000/- Monthly Maintenance is Rs 500. Super Built-up Area: 1600 sqft Built-up Area: 1500 sqft Carpet Area: 1350 sqft Age of Construction: 5-10 Years Nearest Landmark: Behind Radisson Hotel',\n",
       " '1 RK Apartment is up for Rent for 11,000/-. The Fully Furnished Apartment has a super built up area of 550 sqft and is located on the Ground Floor. It is situated in Kalyani Nagar which is one of the known areas in Pune . 1 RK bedroom , 1 balconies and comes with Geysers, Fans, Lights, Wardrobes, Modular Kitchen, Mattress, Gas Stove, Refrigerator. The Apartment comes with 1 Open car parking & 3 two-wheeler parking. This property makes your living more convenient by offering amenities like Corporation water, Drainage Facility, Club House, Visitors Parking, ATM, Play Ground, Jogging Track, Sewage Treatment, Fire Safety, Garbage Chute, Water treatment Additional Property Info :Flooring Info: Granite Take hold of this most coveted property now! Rent Amount: Rs 11,000/- Super Built-up Area: 550 sqft Built-up Area: 500 sqft Carpet Area: 450 sqft Age of Construction: 5-10 Years']"
      ]
     },
     "metadata": {},
     "execution_count": 102
    }
   ],
   "source": [
    "the_text"
   ]
  }
 ]
}