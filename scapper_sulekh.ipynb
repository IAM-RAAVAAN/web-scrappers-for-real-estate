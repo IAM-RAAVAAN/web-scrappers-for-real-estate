{
 "metadata": {
  "language_info": {
   "codemirror_mode": {
    "name": "ipython",
    "version": 3
   },
   "file_extension": ".py",
   "mimetype": "text/x-python",
   "name": "python",
   "nbconvert_exporter": "python",
   "pygments_lexer": "ipython3",
   "version": "3.9.2-final"
  },
  "orig_nbformat": 2,
  "kernelspec": {
   "name": "python392jvsc74a57bd007c0eba680f48f47a5ba37da399cd5e89b67f1875bf63e9a800e8853b1dcac6f",
   "display_name": "Python 3.9.2 64-bit"
  },
  "metadata": {
   "interpreter": {
    "hash": "07c0eba680f48f47a5ba37da399cd5e89b67f1875bf63e9a800e8853b1dcac6f"
   }
  }
 },
 "nbformat": 4,
 "nbformat_minor": 2,
 "cells": [
  {
   "cell_type": "code",
   "execution_count": 2,
   "metadata": {},
   "outputs": [],
   "source": [
    "import pandas as pd \n",
    "import numpy as np \n",
    "import requests\n",
    "import csv \n",
    "import re\n",
    "from bs4 import BeautifulSoup\n",
    "from selenium import webdriver"
   ]
  },
  {
   "cell_type": "code",
   "execution_count": 150,
   "metadata": {},
   "outputs": [
    {
     "output_type": "stream",
     "name": "stdout",
     "text": [
      "Collecting selenium\n",
      "  Using cached selenium-3.141.0-py2.py3-none-any.whl (904 kB)\n",
      "Requirement already satisfied: urllib3 in c:\\users\\swara\\appdata\\local\\programs\\python\\python39\\lib\\site-packages (from selenium) (1.26.4)\n",
      "Installing collected packages: selenium\n",
      "Successfully installed selenium-3.141.0\n"
     ]
    }
   ],
   "source": [
    "!pip install selenium"
   ]
  },
  {
   "cell_type": "code",
   "execution_count": 4,
   "metadata": {},
   "outputs": [
    {
     "output_type": "error",
     "ename": "NoSuchElementException",
     "evalue": "Message: no such element: Unable to locate element: {\"method\":\"css selector\",\"selector\":\"[id=\"bt_gerar_cpf\"]\"}\n  (Session info: chrome=89.0.4389.114)\n",
     "traceback": [
      "\u001b[1;31m---------------------------------------------------------------------------\u001b[0m",
      "\u001b[1;31mNoSuchElementException\u001b[0m                    Traceback (most recent call last)",
      "\u001b[1;32m<ipython-input-4-751de72423f9>\u001b[0m in \u001b[0;36m<module>\u001b[1;34m\u001b[0m\n\u001b[0;32m      7\u001b[0m     \u001b[1;32mreturn\u001b[0m \u001b[0mtext\u001b[0m\u001b[1;33m\u001b[0m\u001b[1;33m\u001b[0m\u001b[0m\n\u001b[0;32m      8\u001b[0m \u001b[1;33m\u001b[0m\u001b[0m\n\u001b[1;32m----> 9\u001b[1;33m \u001b[0mprint\u001b[0m\u001b[1;33m(\u001b[0m\u001b[0mopen_browser\u001b[0m\u001b[1;33m(\u001b[0m\u001b[1;33m)\u001b[0m\u001b[1;33m)\u001b[0m\u001b[1;33m\u001b[0m\u001b[1;33m\u001b[0m\u001b[0m\n\u001b[0m\u001b[0;32m     10\u001b[0m \u001b[0mopen_browser\u001b[0m\u001b[1;33m(\u001b[0m\u001b[1;33m)\u001b[0m\u001b[1;33m\u001b[0m\u001b[1;33m\u001b[0m\u001b[0m\n",
      "\u001b[1;32m<ipython-input-4-751de72423f9>\u001b[0m in \u001b[0;36mopen_browser\u001b[1;34m()\u001b[0m\n\u001b[0;32m      2\u001b[0m     \u001b[0mdriver\u001b[0m \u001b[1;33m=\u001b[0m \u001b[0mwebdriver\u001b[0m\u001b[1;33m.\u001b[0m\u001b[0mChrome\u001b[0m\u001b[1;33m(\u001b[0m\u001b[1;34m\"K:\\code\\work_dev/chromedriver\"\u001b[0m\u001b[1;33m)\u001b[0m\u001b[1;33m\u001b[0m\u001b[1;33m\u001b[0m\u001b[0m\n\u001b[0;32m      3\u001b[0m     \u001b[0mdriver\u001b[0m\u001b[1;33m.\u001b[0m\u001b[0mget\u001b[0m\u001b[1;33m(\u001b[0m\u001b[1;34m\"https://property.sulekha.com/apartments-flats-for-rent/pune#\"\u001b[0m\u001b[1;33m)\u001b[0m\u001b[1;33m\u001b[0m\u001b[1;33m\u001b[0m\u001b[0m\n\u001b[1;32m----> 4\u001b[1;33m     \u001b[0mdriver\u001b[0m\u001b[1;33m.\u001b[0m\u001b[0mfind_element_by_id\u001b[0m\u001b[1;33m(\u001b[0m\u001b[1;34m'bt_gerar_cpf'\u001b[0m\u001b[1;33m)\u001b[0m\u001b[1;33m.\u001b[0m\u001b[0mclick\u001b[0m\u001b[1;33m(\u001b[0m\u001b[1;33m)\u001b[0m\u001b[1;33m\u001b[0m\u001b[1;33m\u001b[0m\u001b[0m\n\u001b[0m\u001b[0;32m      5\u001b[0m     \u001b[0mtext_field\u001b[0m \u001b[1;33m=\u001b[0m \u001b[0mdriver\u001b[0m\u001b[1;33m.\u001b[0m\u001b[0mfind_element_by_id\u001b[0m\u001b[1;33m(\u001b[0m\u001b[1;34m'texto_cpf'\u001b[0m\u001b[1;33m)\u001b[0m\u001b[1;33m\u001b[0m\u001b[1;33m\u001b[0m\u001b[0m\n\u001b[0;32m      6\u001b[0m     \u001b[0mtext\u001b[0m \u001b[1;33m=\u001b[0m \u001b[0mwait\u001b[0m\u001b[1;33m(\u001b[0m\u001b[0mdriver\u001b[0m\u001b[1;33m,\u001b[0m \u001b[1;36m10\u001b[0m\u001b[1;33m)\u001b[0m\u001b[1;33m.\u001b[0m\u001b[0muntil\u001b[0m\u001b[1;33m(\u001b[0m\u001b[1;32mlambda\u001b[0m \u001b[0mdriver\u001b[0m\u001b[1;33m:\u001b[0m \u001b[1;32mnot\u001b[0m \u001b[0mtext_field\u001b[0m\u001b[1;33m.\u001b[0m\u001b[0mtext\u001b[0m \u001b[1;33m==\u001b[0m \u001b[1;34m'Gerando...'\u001b[0m \u001b[1;32mand\u001b[0m \u001b[0mtext_field\u001b[0m\u001b[1;33m.\u001b[0m\u001b[0mtext\u001b[0m\u001b[1;33m)\u001b[0m\u001b[1;33m\u001b[0m\u001b[1;33m\u001b[0m\u001b[0m\n",
      "\u001b[1;32m~\\AppData\\Local\\Programs\\Python\\Python39\\lib\\site-packages\\selenium\\webdriver\\remote\\webdriver.py\u001b[0m in \u001b[0;36mfind_element_by_id\u001b[1;34m(self, id_)\u001b[0m\n\u001b[0;32m    358\u001b[0m             \u001b[0melement\u001b[0m \u001b[1;33m=\u001b[0m \u001b[0mdriver\u001b[0m\u001b[1;33m.\u001b[0m\u001b[0mfind_element_by_id\u001b[0m\u001b[1;33m(\u001b[0m\u001b[1;34m'foo'\u001b[0m\u001b[1;33m)\u001b[0m\u001b[1;33m\u001b[0m\u001b[1;33m\u001b[0m\u001b[0m\n\u001b[0;32m    359\u001b[0m         \"\"\"\n\u001b[1;32m--> 360\u001b[1;33m         \u001b[1;32mreturn\u001b[0m \u001b[0mself\u001b[0m\u001b[1;33m.\u001b[0m\u001b[0mfind_element\u001b[0m\u001b[1;33m(\u001b[0m\u001b[0mby\u001b[0m\u001b[1;33m=\u001b[0m\u001b[0mBy\u001b[0m\u001b[1;33m.\u001b[0m\u001b[0mID\u001b[0m\u001b[1;33m,\u001b[0m \u001b[0mvalue\u001b[0m\u001b[1;33m=\u001b[0m\u001b[0mid_\u001b[0m\u001b[1;33m)\u001b[0m\u001b[1;33m\u001b[0m\u001b[1;33m\u001b[0m\u001b[0m\n\u001b[0m\u001b[0;32m    361\u001b[0m \u001b[1;33m\u001b[0m\u001b[0m\n\u001b[0;32m    362\u001b[0m     \u001b[1;32mdef\u001b[0m \u001b[0mfind_elements_by_id\u001b[0m\u001b[1;33m(\u001b[0m\u001b[0mself\u001b[0m\u001b[1;33m,\u001b[0m \u001b[0mid_\u001b[0m\u001b[1;33m)\u001b[0m\u001b[1;33m:\u001b[0m\u001b[1;33m\u001b[0m\u001b[1;33m\u001b[0m\u001b[0m\n",
      "\u001b[1;32m~\\AppData\\Local\\Programs\\Python\\Python39\\lib\\site-packages\\selenium\\webdriver\\remote\\webdriver.py\u001b[0m in \u001b[0;36mfind_element\u001b[1;34m(self, by, value)\u001b[0m\n\u001b[0;32m    974\u001b[0m                 \u001b[0mby\u001b[0m \u001b[1;33m=\u001b[0m \u001b[0mBy\u001b[0m\u001b[1;33m.\u001b[0m\u001b[0mCSS_SELECTOR\u001b[0m\u001b[1;33m\u001b[0m\u001b[1;33m\u001b[0m\u001b[0m\n\u001b[0;32m    975\u001b[0m                 \u001b[0mvalue\u001b[0m \u001b[1;33m=\u001b[0m \u001b[1;34m'[name=\"%s\"]'\u001b[0m \u001b[1;33m%\u001b[0m \u001b[0mvalue\u001b[0m\u001b[1;33m\u001b[0m\u001b[1;33m\u001b[0m\u001b[0m\n\u001b[1;32m--> 976\u001b[1;33m         return self.execute(Command.FIND_ELEMENT, {\n\u001b[0m\u001b[0;32m    977\u001b[0m             \u001b[1;34m'using'\u001b[0m\u001b[1;33m:\u001b[0m \u001b[0mby\u001b[0m\u001b[1;33m,\u001b[0m\u001b[1;33m\u001b[0m\u001b[1;33m\u001b[0m\u001b[0m\n\u001b[0;32m    978\u001b[0m             'value': value})['value']\n",
      "\u001b[1;32m~\\AppData\\Local\\Programs\\Python\\Python39\\lib\\site-packages\\selenium\\webdriver\\remote\\webdriver.py\u001b[0m in \u001b[0;36mexecute\u001b[1;34m(self, driver_command, params)\u001b[0m\n\u001b[0;32m    319\u001b[0m         \u001b[0mresponse\u001b[0m \u001b[1;33m=\u001b[0m \u001b[0mself\u001b[0m\u001b[1;33m.\u001b[0m\u001b[0mcommand_executor\u001b[0m\u001b[1;33m.\u001b[0m\u001b[0mexecute\u001b[0m\u001b[1;33m(\u001b[0m\u001b[0mdriver_command\u001b[0m\u001b[1;33m,\u001b[0m \u001b[0mparams\u001b[0m\u001b[1;33m)\u001b[0m\u001b[1;33m\u001b[0m\u001b[1;33m\u001b[0m\u001b[0m\n\u001b[0;32m    320\u001b[0m         \u001b[1;32mif\u001b[0m \u001b[0mresponse\u001b[0m\u001b[1;33m:\u001b[0m\u001b[1;33m\u001b[0m\u001b[1;33m\u001b[0m\u001b[0m\n\u001b[1;32m--> 321\u001b[1;33m             \u001b[0mself\u001b[0m\u001b[1;33m.\u001b[0m\u001b[0merror_handler\u001b[0m\u001b[1;33m.\u001b[0m\u001b[0mcheck_response\u001b[0m\u001b[1;33m(\u001b[0m\u001b[0mresponse\u001b[0m\u001b[1;33m)\u001b[0m\u001b[1;33m\u001b[0m\u001b[1;33m\u001b[0m\u001b[0m\n\u001b[0m\u001b[0;32m    322\u001b[0m             response['value'] = self._unwrap_value(\n\u001b[0;32m    323\u001b[0m                 response.get('value', None))\n",
      "\u001b[1;32m~\\AppData\\Local\\Programs\\Python\\Python39\\lib\\site-packages\\selenium\\webdriver\\remote\\errorhandler.py\u001b[0m in \u001b[0;36mcheck_response\u001b[1;34m(self, response)\u001b[0m\n\u001b[0;32m    240\u001b[0m                 \u001b[0malert_text\u001b[0m \u001b[1;33m=\u001b[0m \u001b[0mvalue\u001b[0m\u001b[1;33m[\u001b[0m\u001b[1;34m'alert'\u001b[0m\u001b[1;33m]\u001b[0m\u001b[1;33m.\u001b[0m\u001b[0mget\u001b[0m\u001b[1;33m(\u001b[0m\u001b[1;34m'text'\u001b[0m\u001b[1;33m)\u001b[0m\u001b[1;33m\u001b[0m\u001b[1;33m\u001b[0m\u001b[0m\n\u001b[0;32m    241\u001b[0m             \u001b[1;32mraise\u001b[0m \u001b[0mexception_class\u001b[0m\u001b[1;33m(\u001b[0m\u001b[0mmessage\u001b[0m\u001b[1;33m,\u001b[0m \u001b[0mscreen\u001b[0m\u001b[1;33m,\u001b[0m \u001b[0mstacktrace\u001b[0m\u001b[1;33m,\u001b[0m \u001b[0malert_text\u001b[0m\u001b[1;33m)\u001b[0m\u001b[1;33m\u001b[0m\u001b[1;33m\u001b[0m\u001b[0m\n\u001b[1;32m--> 242\u001b[1;33m         \u001b[1;32mraise\u001b[0m \u001b[0mexception_class\u001b[0m\u001b[1;33m(\u001b[0m\u001b[0mmessage\u001b[0m\u001b[1;33m,\u001b[0m \u001b[0mscreen\u001b[0m\u001b[1;33m,\u001b[0m \u001b[0mstacktrace\u001b[0m\u001b[1;33m)\u001b[0m\u001b[1;33m\u001b[0m\u001b[1;33m\u001b[0m\u001b[0m\n\u001b[0m\u001b[0;32m    243\u001b[0m \u001b[1;33m\u001b[0m\u001b[0m\n\u001b[0;32m    244\u001b[0m     \u001b[1;32mdef\u001b[0m \u001b[0m_value_or_default\u001b[0m\u001b[1;33m(\u001b[0m\u001b[0mself\u001b[0m\u001b[1;33m,\u001b[0m \u001b[0mobj\u001b[0m\u001b[1;33m,\u001b[0m \u001b[0mkey\u001b[0m\u001b[1;33m,\u001b[0m \u001b[0mdefault\u001b[0m\u001b[1;33m)\u001b[0m\u001b[1;33m:\u001b[0m\u001b[1;33m\u001b[0m\u001b[1;33m\u001b[0m\u001b[0m\n",
      "\u001b[1;31mNoSuchElementException\u001b[0m: Message: no such element: Unable to locate element: {\"method\":\"css selector\",\"selector\":\"[id=\"bt_gerar_cpf\"]\"}\n  (Session info: chrome=89.0.4389.114)\n"
     ]
    }
   ],
   "source": [
    "def open_browser():\n",
    "    driver = webdriver.Chrome(\"K:\\code\\work_dev/chromedriver\")\n",
    "    driver.get(\"https://property.sulekha.com/apartments-flats-for-rent/pune#\")\n",
    "    driver.find_element_by_id('bt_gerar_cpf').click()\n",
    "    text_field = driver.find_element_by_id('texto_cpf')\n",
    "    text = wait(driver, 10).until(lambda driver: not text_field.text == 'Gerando...' and text_field.text)\n",
    "    return text\n",
    "\n",
    "print(open_browser())\n",
    "open_browser()"
   ]
  },
  {
   "cell_type": "code",
   "execution_count": 36,
   "metadata": {},
   "outputs": [],
   "source": [
    "def title_link(s):\n",
    "    tit=[]\n",
    "    link=[]\n",
    "    sta=s.find_all('a',attrs={'class':\"bizlinkurl\"}) \n",
    "    for k in sta:\n",
    "        tit.append(k.text)\n",
    "        link.append(k['href'])\n",
    "    d={\n",
    "        'title_link':tit,\n",
    "        'links':link\n",
    "    }\n",
    "    df=pd.DataFrame(d)\n",
    "    return df"
   ]
  },
  {
   "cell_type": "code",
   "execution_count": 37,
   "metadata": {},
   "outputs": [],
   "source": [
    "def address(s):\n",
    "    address=[]\n",
    "    sta=s.find_all('div',attrs={'class':\"locality\"}) \n",
    "    for a in sta:\n",
    "        address.append(a.text)\n",
    "    return address\n",
    "\n",
    "\n",
    " "
   ]
  },
  {
   "cell_type": "code",
   "execution_count": 38,
   "metadata": {},
   "outputs": [],
   "source": [
    "def location(s):\n",
    "    location=[]\n",
    "    sta=s.find_all('a',attrs={'class':\"view-on-map\"})    \n",
    "    for a in sta:\n",
    "        location.append(a['data-latlong'])\n",
    "    return location"
   ]
  },
  {
   "cell_type": "code",
   "execution_count": 49,
   "metadata": {},
   "outputs": [],
   "source": [
    "def prices(s):\n",
    "    prices=[]\n",
    "    sta=s.find_all('span',attrs={'class':\"deposit\"})    \n",
    "    for i in sta:\n",
    "        prices.append(i.text)\n",
    "    \"\"\"    sta=s.find_all('span',attrs={'class':\"Deposit\"})    \n",
    "    for i in sta:\n",
    "        prices.append(i.text)\"\"\"\n",
    "    return prices"
   ]
  },
  {
   "cell_type": "code",
   "execution_count": 40,
   "metadata": {},
   "outputs": [],
   "source": [
    "def financial(s):\n",
    "    financial=[]\n",
    "    sta=s.find_all('span',attrs={'class':\"price primary\"})    \n",
    "    for i in sta:\n",
    "        financial.append(i.text)\n",
    "    return financial"
   ]
  },
  {
   "cell_type": "code",
   "execution_count": 53,
   "metadata": {},
   "outputs": [],
   "source": [
    "def amenities(s):\n",
    "    ammenities=[]\n",
    "    sta=s.find_all('div',attrs={'class':\"amenities flat\"})   \n",
    "    for i in sta:\n",
    "        ammenities.append(i.text)\n",
    "    return ammenities"
   ]
  },
  {
   "cell_type": "code",
   "execution_count": 42,
   "metadata": {},
   "outputs": [],
   "source": [
    "def spec_flat(s):\n",
    "    spec_flat=[]\n",
    "    sta=s.find_all('div',attrs={'class':\"spec flat\"})   \n",
    "    for i in sta:\n",
    "        spec_flat.append(i.text)\n",
    "    return spec_flat"
   ]
  },
  {
   "cell_type": "code",
   "execution_count": 43,
   "metadata": {},
   "outputs": [],
   "source": [
    "def spec_flat_necce(s):\n",
    "    spec_flat_necce=[]\n",
    "    sta=s.find_all('div',attrs={'class':\"spec icon primary\"})   \n",
    "    for i in sta:\n",
    "        spec_flat_necce.append(i.text)\n",
    "    return spec_flat_necce"
   ]
  },
  {
   "cell_type": "code",
   "execution_count": 44,
   "metadata": {},
   "outputs": [],
   "source": [
    "def dates_bro(s):\n",
    "    dates_bro=[]\n",
    "    sta=s.find_all('div',attrs={'class':\"posted\"})   \n",
    "    for i in sta:\n",
    "        dates_bro.append(i.text)\n",
    "    return dates_bro"
   ]
  },
  {
   "cell_type": "code",
   "execution_count": 45,
   "metadata": {},
   "outputs": [],
   "source": [
    "def the_text(s):\n",
    "    the_text=[]\n",
    "    sta=s.find_all('span',attrs={'class':\"listing-desc view-less\"})   \n",
    "    for i in sta:\n",
    "        the_text.append(i.text)"
   ]
  },
  {
   "cell_type": "code",
   "execution_count": 46,
   "metadata": {},
   "outputs": [],
   "source": [
    "url=\"https://property.sulekha.com/apartments-flats-for-rent/pune#\"\n",
    "j=requests.get(url)\n",
    "k=j.text\n",
    "s=BeautifulSoup(k,'lxml')"
   ]
  },
  {
   "cell_type": "code",
   "execution_count": 145,
   "metadata": {},
   "outputs": [],
   "source": [
    "def the_filter(df):\n",
    "    the_liost=df['financial']\n",
    "    prices=[]\n",
    "    deposit=[]\n",
    "    for l in the_liost:\n",
    "        k=l.split(' ')\n",
    "        prices.append(k[3])\n",
    "        deposit.append(k[-4])\n",
    "    df['prices']=prices\n",
    "    df['deposit']=deposit\n",
    "    k=df['dates_bro']\n",
    "    the_posted_dates=[]\n",
    "    details_of=[]\n",
    "    for i in k :\n",
    "        i=i.strip()\n",
    "        i=i.split(\" \")\n",
    "        the_posted_dates.append(i[-3:])\n",
    "        details_of.append(' '.join(i[0:-3]))\n",
    "    df['the_posted_dates']=the_posted_dates\n",
    "    df['details']=details_of\n",
    "    df_new=df.drop(['financial',\t'dates_bro'], axis = 1)\n",
    "    df_new=df_new.drop(['amenities'],axis=1)\n",
    "    k=len(df['the_posted_dates'])\n",
    "    the_date=[]\n",
    "    for i in range(0,k):\n",
    "        j=df['the_posted_dates'][i]\n",
    "        the_date.append(\" \".join(j))\n",
    "    df_new['the_posted_dates']=pd.to_datetime(the_date)\n",
    "    return df_new"
   ]
  },
  {
   "cell_type": "code",
   "execution_count": 146,
   "metadata": {},
   "outputs": [],
   "source": [
    "df=title_link(s)\n",
    "df['adress']=address(s)\n",
    "#df['prices']=prices(s)\n",
    "df['financial']=financial(s)\n",
    "df['dates_bro']=dates_bro(s)\n",
    "df['spec_flat']=spec_flat(s)\n",
    "df['spec_flat_necce']=spec_flat_necce(s)\n",
    "df['amenities']=amenities(s)\n",
    "df['location']=location(s)\n",
    "df=the_filter(df)"
   ]
  },
  {
   "cell_type": "code",
   "execution_count": 147,
   "metadata": {},
   "outputs": [
    {
     "output_type": "execute_result",
     "data": {
      "text/plain": [
       "                                           title_link  \\\n",
       "0   2 BHK Residential Apartment for Rent at kumar ...   \n",
       "1   2 BHK Residential Apartment for Rent at La Glo...   \n",
       "2   1 RK Residential Apartment for Rent in Baner Gaon   \n",
       "3   1 RK Residential Apartment for Rent in Pavana ...   \n",
       "4     1 BHK Residential Apartment for Rent in Kothrud   \n",
       "5   2 BHK Residential Apartment for Rent in Magarp...   \n",
       "6   1 RK Residential Apartment for Rent at Gurukru...   \n",
       "7   1 RK Residential Apartment for Rent at shree a...   \n",
       "8   2 BHK Residential Apartment for Rent in Moshi ...   \n",
       "9   1 BHK Residential Apartment for Rent at life R...   \n",
       "10  1 BHK Residential Apartment for Rent at Vardha...   \n",
       "11     1 RK Residential Apartment for Rent in Kharadi   \n",
       "12  1 BHK Residential Apartment for Rent at Raksha...   \n",
       "13    1 RK Residential Apartment for Rent in Yerawada   \n",
       "14  1 RK Studio Apartment for Rent at Sana bunglow...   \n",
       "\n",
       "                                                links  \\\n",
       "0   /apartments-flats-for-rent/1150-sqft-2-bhk-fla...   \n",
       "1   /apartments-flats-for-rent/1050-sqft-2-bhk-apa...   \n",
       "2   /apartments-flats-for-rent/250-sqft-1-rk-flat-...   \n",
       "3   /apartments-flats-for-rent/300-sqft-1-rk-flat-...   \n",
       "4   /apartments-flats-for-rent/625-sqft-1-bhk-flat...   \n",
       "5   /apartments-flats-for-rent/930-sqft-2-bhk-apar...   \n",
       "6   /apartments-flats-for-rent/400-sqft-1-rk-flat-...   \n",
       "7   /apartments-flats-for-rent/600-sqft-1-rk-flat-...   \n",
       "8   /apartments-flats-for-rent/860-sqft-2-bhk-apar...   \n",
       "9   /apartments-flats-for-rent/680-sqft-1-bhk-flat...   \n",
       "10  /apartments-flats-for-rent/621-sqft-1-bhk-flat...   \n",
       "11  /apartments-flats-for-rent/285-sqft-1-rk-flat-...   \n",
       "12  /apartments-flats-for-rent/585-sqft-1-bhk-flat...   \n",
       "13  /apartments-flats-for-rent/400-sqft-1-rk-apart...   \n",
       "14  /apartments-flats-for-rent/320-sqft-1-rk-apart...   \n",
       "\n",
       "                                               adress  \\\n",
       "0                         Hadapsar, Pune    View Map    \n",
       "1     Kalyani Nagar, Pune   Landmark: Near Nyati m...   \n",
       "2     Baner Gaon, Pune   Landmark: Orchid school  ...   \n",
       "3                     Pavana Nagar, Pune    View Map    \n",
       "4        Shivthirth Nagar, Kothrud, Pune    View Map    \n",
       "5                       Magarpatta, Pune    View Map    \n",
       "6                          Kharadi, Pune    View Map    \n",
       "7     Bhosari, Pimpri Chinchwad   Landmark: centra...   \n",
       "8     Moshi Pradhikaran, Pimpri Chinchwad    View ...   \n",
       "9     Marunji, Pimpri Chinchwad   Landmark: life r...   \n",
       "10    Wakad, Dange Chowk, Pimpri Chinchwad   Landm...   \n",
       "11                         Kharadi, Pune    View Map    \n",
       "12    Kasba Peth, Pune   Landmark: Shree Hospital ...   \n",
       "13           Nagpur Chal, Yerawada, Pune    View Map    \n",
       "14    Kalyani Nagar, Pune   Landmark: Near gurunan...   \n",
       "\n",
       "                                            spec_flat  \\\n",
       "0   1 Car Parking 4th (of 11 Floors) UnFurnished F...   \n",
       "1   2 Car Parking 6th (of 7 Floors) Fully Furnishe...   \n",
       "2   1 Car Parking 2nd (of 3 Floors) Semi Furnished...   \n",
       "3   No Car Parking 1st (of 1 Floors) UnFurnished B...   \n",
       "4   No Car Parking 1st (of 3 Floors) UnFurnished F...   \n",
       "5   1 Car Parking 5th (of 11 Floors) UnFurnished F...   \n",
       "6   No Car Parking 2nd (of 4 Floors) UnFurnished F...   \n",
       "7   1 Car Parking 4th (of 4 Floors) Semi Furnished...   \n",
       "8   1 Car Parking 3rd (of 4 Floors) UnFurnished Fa...   \n",
       "9   1 Car Parking 19th (of 22 Floors) UnFurnished ...   \n",
       "10  1 Car Parking 4th (of 6 Floors) UnFurnished Fa...   \n",
       "11  No Car Parking 3rd (of 3 Floors) UnFurnished F...   \n",
       "12  1 Car Parking 4th (of 6 Floors) UnFurnished Fa...   \n",
       "13  No Car Parking 2nd (of 2 Floors) UnFurnished F...   \n",
       "14  1 Car Parking 2nd (of 2 Floors) Fully Furnishe...   \n",
       "\n",
       "                                      spec_flat_necce               location  \\\n",
       "0   Corporation water Drainage Facility 24*7 Power...    18.515806,73.927164   \n",
       "1      Drainage Facility Lifts Security +22 Amenities                    0,0   \n",
       "2                                   Feng Shui / Vastu                    0,0   \n",
       "3                                   Corporation water  18.6259403,73.7804315   \n",
       "4        Corporation water Drainage Facility Security                    0,0   \n",
       "5                  Lifts Park Club House +2 Amenities                    0,0   \n",
       "6                 Corporation water Drainage Facility                    0,0   \n",
       "7   Corporation water Drainage Facility Visitors P...  18.6440005,73.8505065   \n",
       "8   Corporation water Drainage Facility Visitors P...  18.6527077,73.8480927   \n",
       "9   Corporation water Drainage Facility 24*7 Power...  18.6208973,73.7106885   \n",
       "10  Corporation water 24*7 Power Backup Lifts +11 ...                    0,0   \n",
       "11                                  Corporation water    18.552013,73.937569   \n",
       "12  Corporation water Drainage Facility 24*7 Power...  18.5204281,73.8567143   \n",
       "13  Corporation water Drainage Facility 24*7 Power...                    0,0   \n",
       "14  Corporation water Drainage Facility Visitors P...                    0,0   \n",
       "\n",
       "    prices deposit the_posted_dates  \\\n",
       "0      for  45,000       2021-03-01   \n",
       "1       26  80,000       2020-12-11   \n",
       "2    7,000  20,000       2021-03-08   \n",
       "3    6,500  15,000       2021-03-10   \n",
       "4   14,000  40,000       2021-03-10   \n",
       "5   18,000  50,000       2021-02-23   \n",
       "6    6,000  15,000       2021-03-26   \n",
       "7    8,000  20,000       2020-02-28   \n",
       "8      850  30,000       2020-08-08   \n",
       "9   13,000  40,000       2020-12-06   \n",
       "10  13,000  30,000       2021-02-26   \n",
       "11   6,000  12,000       2021-03-19   \n",
       "12  16,000  50,000       2021-02-09   \n",
       "13   6,000  12,000       2020-10-30   \n",
       "14  10,000  25,000       2021-03-31   \n",
       "\n",
       "                                              details  \n",
       "0   Building:  kumar paradise  Broker:  Sejal Prop...  \n",
       "1   Building:  La Gloriosa  Broker:  Mountain Gate...  \n",
       "2                         Broker:  Life Real Estates   \n",
       "3                     Broker:  Krishna estate agency   \n",
       "4                        Broker:  Sachin Enterprises   \n",
       "5           Broker:  Trimurti Real Estate consultant   \n",
       "6   Building:  Gurukrupa housing society  Broker: ...  \n",
       "7   Building:  shree apartment  Broker:  The Relia...  \n",
       "8                          Broker:  Prime Properties   \n",
       "9   Building:  life Republic   Broker:  Nimbleland...  \n",
       "10  Building:  Vardhaman Dreams  Broker:  Magic Ho...  \n",
       "11                          Broker:  Nilkanth Barate   \n",
       "12  Building:  Rakshak Nagar Gold  Broker:  Aditya...  \n",
       "13                          Broker:  S.S Enterprises   \n",
       "14     Building:  Sana bunglow  Broker:  Joad Estate   "
      ],
      "text/html": "<div>\n<style scoped>\n    .dataframe tbody tr th:only-of-type {\n        vertical-align: middle;\n    }\n\n    .dataframe tbody tr th {\n        vertical-align: top;\n    }\n\n    .dataframe thead th {\n        text-align: right;\n    }\n</style>\n<table border=\"1\" class=\"dataframe\">\n  <thead>\n    <tr style=\"text-align: right;\">\n      <th></th>\n      <th>title_link</th>\n      <th>links</th>\n      <th>adress</th>\n      <th>spec_flat</th>\n      <th>spec_flat_necce</th>\n      <th>location</th>\n      <th>prices</th>\n      <th>deposit</th>\n      <th>the_posted_dates</th>\n      <th>details</th>\n    </tr>\n  </thead>\n  <tbody>\n    <tr>\n      <th>0</th>\n      <td>2 BHK Residential Apartment for Rent at kumar ...</td>\n      <td>/apartments-flats-for-rent/1150-sqft-2-bhk-fla...</td>\n      <td>Hadapsar, Pune    View Map</td>\n      <td>1 Car Parking 4th (of 11 Floors) UnFurnished F...</td>\n      <td>Corporation water Drainage Facility 24*7 Power...</td>\n      <td>18.515806,73.927164</td>\n      <td>for</td>\n      <td>45,000</td>\n      <td>2021-03-01</td>\n      <td>Building:  kumar paradise  Broker:  Sejal Prop...</td>\n    </tr>\n    <tr>\n      <th>1</th>\n      <td>2 BHK Residential Apartment for Rent at La Glo...</td>\n      <td>/apartments-flats-for-rent/1050-sqft-2-bhk-apa...</td>\n      <td>Kalyani Nagar, Pune   Landmark: Near Nyati m...</td>\n      <td>2 Car Parking 6th (of 7 Floors) Fully Furnishe...</td>\n      <td>Drainage Facility Lifts Security +22 Amenities</td>\n      <td>0,0</td>\n      <td>26</td>\n      <td>80,000</td>\n      <td>2020-12-11</td>\n      <td>Building:  La Gloriosa  Broker:  Mountain Gate...</td>\n    </tr>\n    <tr>\n      <th>2</th>\n      <td>1 RK Residential Apartment for Rent in Baner Gaon</td>\n      <td>/apartments-flats-for-rent/250-sqft-1-rk-flat-...</td>\n      <td>Baner Gaon, Pune   Landmark: Orchid school  ...</td>\n      <td>1 Car Parking 2nd (of 3 Floors) Semi Furnished...</td>\n      <td>Feng Shui / Vastu</td>\n      <td>0,0</td>\n      <td>7,000</td>\n      <td>20,000</td>\n      <td>2021-03-08</td>\n      <td>Broker:  Life Real Estates</td>\n    </tr>\n    <tr>\n      <th>3</th>\n      <td>1 RK Residential Apartment for Rent in Pavana ...</td>\n      <td>/apartments-flats-for-rent/300-sqft-1-rk-flat-...</td>\n      <td>Pavana Nagar, Pune    View Map</td>\n      <td>No Car Parking 1st (of 1 Floors) UnFurnished B...</td>\n      <td>Corporation water</td>\n      <td>18.6259403,73.7804315</td>\n      <td>6,500</td>\n      <td>15,000</td>\n      <td>2021-03-10</td>\n      <td>Broker:  Krishna estate agency</td>\n    </tr>\n    <tr>\n      <th>4</th>\n      <td>1 BHK Residential Apartment for Rent in Kothrud</td>\n      <td>/apartments-flats-for-rent/625-sqft-1-bhk-flat...</td>\n      <td>Shivthirth Nagar, Kothrud, Pune    View Map</td>\n      <td>No Car Parking 1st (of 3 Floors) UnFurnished F...</td>\n      <td>Corporation water Drainage Facility Security</td>\n      <td>0,0</td>\n      <td>14,000</td>\n      <td>40,000</td>\n      <td>2021-03-10</td>\n      <td>Broker:  Sachin Enterprises</td>\n    </tr>\n    <tr>\n      <th>5</th>\n      <td>2 BHK Residential Apartment for Rent in Magarp...</td>\n      <td>/apartments-flats-for-rent/930-sqft-2-bhk-apar...</td>\n      <td>Magarpatta, Pune    View Map</td>\n      <td>1 Car Parking 5th (of 11 Floors) UnFurnished F...</td>\n      <td>Lifts Park Club House +2 Amenities</td>\n      <td>0,0</td>\n      <td>18,000</td>\n      <td>50,000</td>\n      <td>2021-02-23</td>\n      <td>Broker:  Trimurti Real Estate consultant</td>\n    </tr>\n    <tr>\n      <th>6</th>\n      <td>1 RK Residential Apartment for Rent at Gurukru...</td>\n      <td>/apartments-flats-for-rent/400-sqft-1-rk-flat-...</td>\n      <td>Kharadi, Pune    View Map</td>\n      <td>No Car Parking 2nd (of 4 Floors) UnFurnished F...</td>\n      <td>Corporation water Drainage Facility</td>\n      <td>0,0</td>\n      <td>6,000</td>\n      <td>15,000</td>\n      <td>2021-03-26</td>\n      <td>Building:  Gurukrupa housing society  Broker: ...</td>\n    </tr>\n    <tr>\n      <th>7</th>\n      <td>1 RK Residential Apartment for Rent at shree a...</td>\n      <td>/apartments-flats-for-rent/600-sqft-1-rk-flat-...</td>\n      <td>Bhosari, Pimpri Chinchwad   Landmark: centra...</td>\n      <td>1 Car Parking 4th (of 4 Floors) Semi Furnished...</td>\n      <td>Corporation water Drainage Facility Visitors P...</td>\n      <td>18.6440005,73.8505065</td>\n      <td>8,000</td>\n      <td>20,000</td>\n      <td>2020-02-28</td>\n      <td>Building:  shree apartment  Broker:  The Relia...</td>\n    </tr>\n    <tr>\n      <th>8</th>\n      <td>2 BHK Residential Apartment for Rent in Moshi ...</td>\n      <td>/apartments-flats-for-rent/860-sqft-2-bhk-apar...</td>\n      <td>Moshi Pradhikaran, Pimpri Chinchwad    View ...</td>\n      <td>1 Car Parking 3rd (of 4 Floors) UnFurnished Fa...</td>\n      <td>Corporation water Drainage Facility Visitors P...</td>\n      <td>18.6527077,73.8480927</td>\n      <td>850</td>\n      <td>30,000</td>\n      <td>2020-08-08</td>\n      <td>Broker:  Prime Properties</td>\n    </tr>\n    <tr>\n      <th>9</th>\n      <td>1 BHK Residential Apartment for Rent at life R...</td>\n      <td>/apartments-flats-for-rent/680-sqft-1-bhk-flat...</td>\n      <td>Marunji, Pimpri Chinchwad   Landmark: life r...</td>\n      <td>1 Car Parking 19th (of 22 Floors) UnFurnished ...</td>\n      <td>Corporation water Drainage Facility 24*7 Power...</td>\n      <td>18.6208973,73.7106885</td>\n      <td>13,000</td>\n      <td>40,000</td>\n      <td>2020-12-06</td>\n      <td>Building:  life Republic   Broker:  Nimbleland...</td>\n    </tr>\n    <tr>\n      <th>10</th>\n      <td>1 BHK Residential Apartment for Rent at Vardha...</td>\n      <td>/apartments-flats-for-rent/621-sqft-1-bhk-flat...</td>\n      <td>Wakad, Dange Chowk, Pimpri Chinchwad   Landm...</td>\n      <td>1 Car Parking 4th (of 6 Floors) UnFurnished Fa...</td>\n      <td>Corporation water 24*7 Power Backup Lifts +11 ...</td>\n      <td>0,0</td>\n      <td>13,000</td>\n      <td>30,000</td>\n      <td>2021-02-26</td>\n      <td>Building:  Vardhaman Dreams  Broker:  Magic Ho...</td>\n    </tr>\n    <tr>\n      <th>11</th>\n      <td>1 RK Residential Apartment for Rent in Kharadi</td>\n      <td>/apartments-flats-for-rent/285-sqft-1-rk-flat-...</td>\n      <td>Kharadi, Pune    View Map</td>\n      <td>No Car Parking 3rd (of 3 Floors) UnFurnished F...</td>\n      <td>Corporation water</td>\n      <td>18.552013,73.937569</td>\n      <td>6,000</td>\n      <td>12,000</td>\n      <td>2021-03-19</td>\n      <td>Broker:  Nilkanth Barate</td>\n    </tr>\n    <tr>\n      <th>12</th>\n      <td>1 BHK Residential Apartment for Rent at Raksha...</td>\n      <td>/apartments-flats-for-rent/585-sqft-1-bhk-flat...</td>\n      <td>Kasba Peth, Pune   Landmark: Shree Hospital ...</td>\n      <td>1 Car Parking 4th (of 6 Floors) UnFurnished Fa...</td>\n      <td>Corporation water Drainage Facility 24*7 Power...</td>\n      <td>18.5204281,73.8567143</td>\n      <td>16,000</td>\n      <td>50,000</td>\n      <td>2021-02-09</td>\n      <td>Building:  Rakshak Nagar Gold  Broker:  Aditya...</td>\n    </tr>\n    <tr>\n      <th>13</th>\n      <td>1 RK Residential Apartment for Rent in Yerawada</td>\n      <td>/apartments-flats-for-rent/400-sqft-1-rk-apart...</td>\n      <td>Nagpur Chal, Yerawada, Pune    View Map</td>\n      <td>No Car Parking 2nd (of 2 Floors) UnFurnished F...</td>\n      <td>Corporation water Drainage Facility 24*7 Power...</td>\n      <td>0,0</td>\n      <td>6,000</td>\n      <td>12,000</td>\n      <td>2020-10-30</td>\n      <td>Broker:  S.S Enterprises</td>\n    </tr>\n    <tr>\n      <th>14</th>\n      <td>1 RK Studio Apartment for Rent at Sana bunglow...</td>\n      <td>/apartments-flats-for-rent/320-sqft-1-rk-apart...</td>\n      <td>Kalyani Nagar, Pune   Landmark: Near gurunan...</td>\n      <td>1 Car Parking 2nd (of 2 Floors) Fully Furnishe...</td>\n      <td>Corporation water Drainage Facility Visitors P...</td>\n      <td>0,0</td>\n      <td>10,000</td>\n      <td>25,000</td>\n      <td>2021-03-31</td>\n      <td>Building:  Sana bunglow  Broker:  Joad Estate</td>\n    </tr>\n  </tbody>\n</table>\n</div>"
     },
     "metadata": {},
     "execution_count": 147
    }
   ],
   "source": [
    "df"
   ]
  },
  {
   "cell_type": "code",
   "execution_count": 101,
   "metadata": {},
   "outputs": [],
   "source": []
  },
  {
   "cell_type": "code",
   "execution_count": 142,
   "metadata": {},
   "outputs": [],
   "source": []
  }
 ]
}