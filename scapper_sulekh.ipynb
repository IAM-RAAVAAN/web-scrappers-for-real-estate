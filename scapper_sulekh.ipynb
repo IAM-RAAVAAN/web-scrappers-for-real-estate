{
 "metadata": {
  "language_info": {
   "codemirror_mode": {
    "name": "ipython",
    "version": 3
   },
   "file_extension": ".py",
   "mimetype": "text/x-python",
   "name": "python",
   "nbconvert_exporter": "python",
   "pygments_lexer": "ipython3",
   "version": "3.9.4"
  },
  "orig_nbformat": 2,
  "kernelspec": {
   "name": "python394jvsc74a57bd0588b1dd76ca082666fe2f995fff1e9efb2de790f2352d1450e516a9edc988200",
   "display_name": "Python 3.9.4 64-bit"
  },
  "metadata": {
   "interpreter": {
    "hash": "588b1dd76ca082666fe2f995fff1e9efb2de790f2352d1450e516a9edc988200"
   }
  }
 },
 "nbformat": 4,
 "nbformat_minor": 2,
 "cells": [
  {
   "cell_type": "code",
   "execution_count": 111,
   "metadata": {},
   "outputs": [],
   "source": [
    "import pandas as pd \n",
    "import numpy as np \n",
    "import requests\n",
    "import csv \n",
    "import re\n",
    "from bs4 import BeautifulSoup\n",
    "from selenium import webdriver"
   ]
  },
  {
   "cell_type": "code",
   "execution_count": 112,
   "metadata": {},
   "outputs": [],
   "source": [
    "def title_link(s):\n",
    "    tit=[]\n",
    "    link=[]\n",
    "    sta=s.find_all('a',attrs={'class':\"bizlinkurl\"}) \n",
    "    for k in sta:\n",
    "        tit.append(k.text)\n",
    "        link.append(k['href'])\n",
    "    d={\n",
    "        'title_link':tit,\n",
    "        'links':link\n",
    "    }\n",
    "    df=pd.DataFrame(d)\n",
    "    return df"
   ]
  },
  {
   "cell_type": "code",
   "execution_count": 113,
   "metadata": {},
   "outputs": [],
   "source": [
    "def address(s):\n",
    "    address=[]\n",
    "    sta=s.find_all('div',attrs={'class':\"locality\"}) \n",
    "    for a in sta:\n",
    "        address.append(a.text.split()[0])\n",
    "    return address\n",
    "\n",
    "\n",
    " "
   ]
  },
  {
   "cell_type": "code",
   "execution_count": 114,
   "metadata": {},
   "outputs": [],
   "source": [
    "def location(s):\n",
    "    location=[]\n",
    "    sta=s.find_all('a',attrs={'class':\"view-on-map\"})    \n",
    "    for a in sta:\n",
    "        location.append(a['data-latlong'])\n",
    "    return location"
   ]
  },
  {
   "cell_type": "code",
   "execution_count": 115,
   "metadata": {},
   "outputs": [],
   "source": [
    "def prices(s):\n",
    "    prices=[]\n",
    "    sta=s.find_all('span',attrs={'class':\"deposit\"})    \n",
    "    for i in sta:\n",
    "        prices.append(i.text)\n",
    "    \"\"\"    sta=s.find_all('span',attrs={'class':\"Deposit\"})    \n",
    "    for i in sta:\n",
    "        prices.append(i.text)\"\"\"\n",
    "    return prices"
   ]
  },
  {
   "cell_type": "code",
   "execution_count": 116,
   "metadata": {},
   "outputs": [],
   "source": [
    "def financial(s):\n",
    "    financial=[]\n",
    "    sta=s.find_all('span',attrs={'class':\"price primary\"})    \n",
    "    for i in sta:\n",
    "        financial.append(i.text)\n",
    "    return financial"
   ]
  },
  {
   "cell_type": "code",
   "execution_count": 117,
   "metadata": {},
   "outputs": [],
   "source": [
    "def amenities(s):\n",
    "    ammenities=[]\n",
    "    sta=s.find_all('div',attrs={'class':\"amenities flat\"})   \n",
    "    for i in sta:\n",
    "        ammenities.append(i.text)\n",
    "    return ammenities"
   ]
  },
  {
   "cell_type": "code",
   "execution_count": 118,
   "metadata": {},
   "outputs": [],
   "source": [
    "def spec_flat(s):\n",
    "    spec_flat=[]\n",
    "    sta=s.find_all('div',attrs={'class':\"spec flat\"})   \n",
    "    for i in sta:\n",
    "        spec_flat.append(i.text)\n",
    "    return spec_flat"
   ]
  },
  {
   "cell_type": "code",
   "execution_count": 119,
   "metadata": {},
   "outputs": [],
   "source": [
    "def spec_flat_necce(s):\n",
    "    spec_flat_necce=[]\n",
    "    sta=s.find_all('div',attrs={'class':\"spec icon primary\"})   \n",
    "    for i in sta:\n",
    "        spec_flat_necce.append(i.text)\n",
    "    return spec_flat_necce"
   ]
  },
  {
   "cell_type": "code",
   "execution_count": 120,
   "metadata": {},
   "outputs": [],
   "source": [
    "def the_area(s):\n",
    "    clean=[]\n",
    "    area=[]\n",
    "    sta=s.find_all('span',attrs={'class':\"feature primary\"})   \n",
    "    for i in sta:\n",
    "        area.append(i.text.split())\n",
    "    for a in area:\n",
    "        clean.append(\" \".join(a[-3:]))\n",
    "    return clean"
   ]
  },
  {
   "cell_type": "code",
   "execution_count": 121,
   "metadata": {},
   "outputs": [
    {
     "output_type": "stream",
     "name": "stdout",
     "text": [
      "1150 Sq Feet\n1050 Sq Feet\n250 Sq Feet\n300 Sq Feet\n930 Sq Feet\n625 Sq Feet\n400 Sq Feet\n600 Sq Feet\n860 Sq Feet\n680 Sq Feet\n621 Sq Feet\n285 Sq Feet\n585 Sq Feet\n400 Sq Feet\n675 Sq Feet\nAvailability Status: Immediate\n860 Sq Feet\n285 Sq Feet\n585 Sq Feet\n400 Sq Feet\n675 Sq Feet\n400 Sq Feet\n200 Sq Feet\n1509 Sq Feet\n900 Sq Feet\n"
     ]
    }
   ],
   "source": [
    "# for a in area:\n",
    "#     print(\" \".join(a[-3:]))"
   ]
  },
  {
   "cell_type": "code",
   "execution_count": 122,
   "metadata": {},
   "outputs": [],
   "source": [
    "def dates_bro(s):\n",
    "    dates_bro=[]\n",
    "    sta=s.find_all('div',attrs={'class':\"posted\"})   \n",
    "    for i in sta:\n",
    "        dates_bro.append(i.text)\n",
    "    return dates_bro"
   ]
  },
  {
   "cell_type": "code",
   "execution_count": 123,
   "metadata": {},
   "outputs": [],
   "source": [
    "def the_text(s):\n",
    "    the_text=[]\n",
    "    sta=s.find_all('span',attrs={'class':\"listing-desc view-less\"})   \n",
    "    for i in sta:\n",
    "        the_text.append(i.text)"
   ]
  },
  {
   "cell_type": "code",
   "execution_count": 124,
   "metadata": {},
   "outputs": [],
   "source": [
    "url=\"https://property.sulekha.com/apartments-flats-for-rent/pune#\"\n",
    "j=requests.get(url)\n",
    "k=j.text\n",
    "s=BeautifulSoup(k,'lxml')"
   ]
  },
  {
   "cell_type": "code",
   "execution_count": 125,
   "metadata": {},
   "outputs": [],
   "source": [
    "def the_filter(df):\n",
    "    the_liost=df['financial']\n",
    "    prices=[]\n",
    "    deposit=[]\n",
    "    for l in the_liost:\n",
    "        k=l.split(' ')\n",
    "        prices.append(k[3])\n",
    "        deposit.append(k[-4])\n",
    "    df['prices']=prices\n",
    "    df['deposit']=deposit\n",
    "    k=df['dates_bro']\n",
    "    the_posted_dates=[]\n",
    "    details_of=[]\n",
    "    for i in k :\n",
    "        i=i.strip()\n",
    "        i=i.split(\" \")\n",
    "        the_posted_dates.append(i[-3:])\n",
    "        details_of.append(' '.join(i[0:-3]))\n",
    "    df['the_posted_dates']=the_posted_dates\n",
    "    df['details']=details_of\n",
    "    df_new=df.drop(['financial',\t'dates_bro'], axis = 1)\n",
    "    df_new=df_new.drop(['amenities'],axis=1)\n",
    "    k=len(df['the_posted_dates'])\n",
    "    the_date=[]\n",
    "    for i in range(0,k):\n",
    "        j=df['the_posted_dates'][i]\n",
    "        the_date.append(\" \".join(j))\n",
    "    df_new['the_posted_dates']=pd.to_datetime(the_date)\n",
    "    return df_new"
   ]
  },
  {
   "cell_type": "code",
   "execution_count": 126,
   "metadata": {},
   "outputs": [],
   "source": [
    "def data_frames(s):\n",
    "    df=title_link(s)\n",
    "    df['adress']=address(s)\n",
    "    #df['prices']=prices(s)\n",
    "    df['financial']=financial(s)\n",
    "    df['dates_bro']=dates_bro(s)\n",
    "    df['spec_flat']=spec_flat(s)\n",
    "    df['spec_flat_necce']=spec_flat_necce(s)\n",
    "    df['amenities']=amenities(s)\n",
    "    df['location']=location(s)\n",
    "    df['area']=the_area(s)\n",
    "    df=the_filter(df)\n",
    "    return df"
   ]
  },
  {
   "cell_type": "code",
   "execution_count": 127,
   "metadata": {},
   "outputs": [],
   "source": [
    "import time "
   ]
  },
  {
   "cell_type": "code",
   "execution_count": 128,
   "metadata": {},
   "outputs": [],
   "source": [
    "from selenium import webdriver\n",
    "from selenium.webdriver.common.keys import Keys\n",
    "from time import sleep\n",
    "the_data_pull=[]\n",
    "# browser = webdriver.Firefox(executable_path=r\"C:\\Users\\swaraj\\Desktop\\codes\\modules\\geckodriver-v0.29.1-win64\\geckodriver\")\n",
    "browser.execute_script(\"window.scrollTo(0, document.body.scrollHeight);\")\n",
    "browser.get(url)\n",
    "for i in range(2,7):\n",
    "    i=str(i)\n",
    "    browser.execute_script(\"window.scrollTo(0, document.body.scrollHeight);\")\n",
    "    time.sleep(2)\n",
    "    try :\n",
    "        element = browser.find_element_by_link_text(\"View More\")\n",
    "        k=element.click()\n",
    "    except:\n",
    "        pass\n",
    "    \n",
    "    #j=requests.get(browser.page_source)\n",
    "    #k=j.text\n",
    "    s=BeautifulSoup(browser.page_source,'lxml')\n",
    "    THE_DA=data_frames(s)\n",
    "    the_data_pull.append(THE_DA)\n",
    "\n",
    "    sleep(2)\n",
    "browser.quit()"
   ]
  },
  {
   "cell_type": "code",
   "execution_count": 129,
   "metadata": {},
   "outputs": [],
   "source": [
    "df=pd.concat(the_data_pull)"
   ]
  },
  {
   "cell_type": "code",
   "execution_count": 130,
   "metadata": {},
   "outputs": [],
   "source": [
    "df['links']=df['links'].apply(lambda x:'https://property.sulekha.com'+x )"
   ]
  },
  {
   "cell_type": "code",
   "execution_count": 131,
   "metadata": {},
   "outputs": [
    {
     "output_type": "execute_result",
     "data": {
      "text/plain": [
       "                                           title_link  \\\n",
       "0   2 BHK Residential Apartment for Rent at kumar ...   \n",
       "1   2 BHK Residential Apartment for Rent at La Glo...   \n",
       "2   1 RK Residential Apartment for Rent in Baner Gaon   \n",
       "3   1 RK Residential Apartment for Rent in Pavana ...   \n",
       "4   2 BHK Residential Apartment for Rent in Magarp...   \n",
       "..                                                ...   \n",
       "20      1 RK Residential Apartment for Rent in Pimpri   \n",
       "21    1 BHK Residential Apartment for Rent in Dhayari   \n",
       "22  3 BHK Residential Apartment for Rent at Eterna...   \n",
       "23  2 BHK Residential Apartment for Rent at Gyanga...   \n",
       "24  1 RK Residential Apartment for Rent at swami i...   \n",
       "\n",
       "                                                links       adress  \\\n",
       "0   https://property.sulekha.com/apartments-flats-...    Hadapsar,   \n",
       "1   https://property.sulekha.com/apartments-flats-...      Kalyani   \n",
       "2   https://property.sulekha.com/apartments-flats-...        Baner   \n",
       "3   https://property.sulekha.com/apartments-flats-...       Pavana   \n",
       "4   https://property.sulekha.com/apartments-flats-...  Magarpatta,   \n",
       "..                                                ...          ...   \n",
       "20  https://property.sulekha.com/apartments-flats-...      Pimpri,   \n",
       "21  https://property.sulekha.com/apartments-flats-...       Benkar   \n",
       "22  https://property.sulekha.com/apartments-flats-...       Undri,   \n",
       "23  https://property.sulekha.com/apartments-flats-...     Wireless   \n",
       "24  https://property.sulekha.com/apartments-flats-...    Hadapsar,   \n",
       "\n",
       "                                            spec_flat  \\\n",
       "0   1 Car Parking 4th (of 11 Floors) UnFurnished F...   \n",
       "1   2 Car Parking 6th (of 7 Floors) Fully Furnishe...   \n",
       "2   1 Car Parking 2nd (of 3 Floors) Semi Furnished...   \n",
       "3   No Car Parking 1st (of 1 Floors) UnFurnished B...   \n",
       "4   1 Car Parking 5th (of 11 Floors) UnFurnished F...   \n",
       "..                                                ...   \n",
       "20  1 Car Parking Ground Floor (of 1 Floors) UnFur...   \n",
       "21  No Car Parking 3rd (of 4 Floors) UnFurnished F...   \n",
       "22  1 Car Parking 4th (of 11 Floors) Fully Furnish...   \n",
       "23  1 Car Parking 1st (of 5 Floors) UnFurnished Fa...   \n",
       "24  No Car Parking 1st (of 4 Floors) Semi Furnishe...   \n",
       "\n",
       "                                      spec_flat_necce               location  \\\n",
       "0   Corporation water Drainage Facility 24*7 Power...    18.515806,73.927164   \n",
       "1      Drainage Facility Lifts Security +22 Amenities                    0,0   \n",
       "2                                   Feng Shui / Vastu                    0,0   \n",
       "3                                   Corporation water  18.6259403,73.7804315   \n",
       "4                  Lifts Park Club House +2 Amenities                    0,0   \n",
       "..                                                ...                    ...   \n",
       "20  Corporation water Drainage Facility 24*7 Power...  18.6297811,73.7997094   \n",
       "21  Corporation water ATM Visitors Parking +1 Amen...                    0,0   \n",
       "22  24*7 Power Backup Lifts Swimming Pool +16 Amen...  18.4566651,73.9095279   \n",
       "23  Corporation water Drainage Facility Lifts +10 ...   18.564194,73.8040924   \n",
       "24  Corporation water Drainage Facility 24*7 Power...    18.515806,73.927164   \n",
       "\n",
       "            area  prices    deposit the_posted_dates  \\\n",
       "0   1150 Sq Feet     for     45,000       2021-03-01   \n",
       "1   1050 Sq Feet      26     80,000       2020-12-11   \n",
       "2    250 Sq Feet   7,000     20,000       2021-03-08   \n",
       "3    300 Sq Feet   6,500     15,000       2021-03-10   \n",
       "4    930 Sq Feet  18,000     50,000       2021-02-23   \n",
       "..           ...     ...        ...              ...   \n",
       "20   400 Sq Feet   7,000     50,000       2019-06-29   \n",
       "21   550 Sq Feet   5,600     20,000       2021-05-15   \n",
       "22  1509 Sq Feet     for  2,000,000       2020-03-18   \n",
       "23   900 Sq Feet  15,000     50,000       2021-04-12   \n",
       "24   420 Sq Feet   6,890     14,000       2021-03-25   \n",
       "\n",
       "                                              details  \n",
       "0   Building:  kumar paradise  Broker:  Sejal Prop...  \n",
       "1   Building:  La Gloriosa  Broker:  Mountain Gate...  \n",
       "2                         Broker:  Life Real Estates   \n",
       "3                     Broker:  Krishna estate agency   \n",
       "4           Broker:  Trimurti Real Estate consultant   \n",
       "..                                                ...  \n",
       "20                        Broker:  Vision Associates   \n",
       "21                         Broker:  Rama Enterprises   \n",
       "22  Building:  Eternal Exotica  Broker:  Ozone Pro...  \n",
       "23      Building:  Gyanganga  Owner:  Shrikant DALVI   \n",
       "24      Building:  swami   Broker:  Sejal Properties   \n",
       "\n",
       "[125 rows x 11 columns]"
      ],
      "text/html": "<div>\n<style scoped>\n    .dataframe tbody tr th:only-of-type {\n        vertical-align: middle;\n    }\n\n    .dataframe tbody tr th {\n        vertical-align: top;\n    }\n\n    .dataframe thead th {\n        text-align: right;\n    }\n</style>\n<table border=\"1\" class=\"dataframe\">\n  <thead>\n    <tr style=\"text-align: right;\">\n      <th></th>\n      <th>title_link</th>\n      <th>links</th>\n      <th>adress</th>\n      <th>spec_flat</th>\n      <th>spec_flat_necce</th>\n      <th>location</th>\n      <th>area</th>\n      <th>prices</th>\n      <th>deposit</th>\n      <th>the_posted_dates</th>\n      <th>details</th>\n    </tr>\n  </thead>\n  <tbody>\n    <tr>\n      <th>0</th>\n      <td>2 BHK Residential Apartment for Rent at kumar ...</td>\n      <td>https://property.sulekha.com/apartments-flats-...</td>\n      <td>Hadapsar,</td>\n      <td>1 Car Parking 4th (of 11 Floors) UnFurnished F...</td>\n      <td>Corporation water Drainage Facility 24*7 Power...</td>\n      <td>18.515806,73.927164</td>\n      <td>1150 Sq Feet</td>\n      <td>for</td>\n      <td>45,000</td>\n      <td>2021-03-01</td>\n      <td>Building:  kumar paradise  Broker:  Sejal Prop...</td>\n    </tr>\n    <tr>\n      <th>1</th>\n      <td>2 BHK Residential Apartment for Rent at La Glo...</td>\n      <td>https://property.sulekha.com/apartments-flats-...</td>\n      <td>Kalyani</td>\n      <td>2 Car Parking 6th (of 7 Floors) Fully Furnishe...</td>\n      <td>Drainage Facility Lifts Security +22 Amenities</td>\n      <td>0,0</td>\n      <td>1050 Sq Feet</td>\n      <td>26</td>\n      <td>80,000</td>\n      <td>2020-12-11</td>\n      <td>Building:  La Gloriosa  Broker:  Mountain Gate...</td>\n    </tr>\n    <tr>\n      <th>2</th>\n      <td>1 RK Residential Apartment for Rent in Baner Gaon</td>\n      <td>https://property.sulekha.com/apartments-flats-...</td>\n      <td>Baner</td>\n      <td>1 Car Parking 2nd (of 3 Floors) Semi Furnished...</td>\n      <td>Feng Shui / Vastu</td>\n      <td>0,0</td>\n      <td>250 Sq Feet</td>\n      <td>7,000</td>\n      <td>20,000</td>\n      <td>2021-03-08</td>\n      <td>Broker:  Life Real Estates</td>\n    </tr>\n    <tr>\n      <th>3</th>\n      <td>1 RK Residential Apartment for Rent in Pavana ...</td>\n      <td>https://property.sulekha.com/apartments-flats-...</td>\n      <td>Pavana</td>\n      <td>No Car Parking 1st (of 1 Floors) UnFurnished B...</td>\n      <td>Corporation water</td>\n      <td>18.6259403,73.7804315</td>\n      <td>300 Sq Feet</td>\n      <td>6,500</td>\n      <td>15,000</td>\n      <td>2021-03-10</td>\n      <td>Broker:  Krishna estate agency</td>\n    </tr>\n    <tr>\n      <th>4</th>\n      <td>2 BHK Residential Apartment for Rent in Magarp...</td>\n      <td>https://property.sulekha.com/apartments-flats-...</td>\n      <td>Magarpatta,</td>\n      <td>1 Car Parking 5th (of 11 Floors) UnFurnished F...</td>\n      <td>Lifts Park Club House +2 Amenities</td>\n      <td>0,0</td>\n      <td>930 Sq Feet</td>\n      <td>18,000</td>\n      <td>50,000</td>\n      <td>2021-02-23</td>\n      <td>Broker:  Trimurti Real Estate consultant</td>\n    </tr>\n    <tr>\n      <th>...</th>\n      <td>...</td>\n      <td>...</td>\n      <td>...</td>\n      <td>...</td>\n      <td>...</td>\n      <td>...</td>\n      <td>...</td>\n      <td>...</td>\n      <td>...</td>\n      <td>...</td>\n      <td>...</td>\n    </tr>\n    <tr>\n      <th>20</th>\n      <td>1 RK Residential Apartment for Rent in Pimpri</td>\n      <td>https://property.sulekha.com/apartments-flats-...</td>\n      <td>Pimpri,</td>\n      <td>1 Car Parking Ground Floor (of 1 Floors) UnFur...</td>\n      <td>Corporation water Drainage Facility 24*7 Power...</td>\n      <td>18.6297811,73.7997094</td>\n      <td>400 Sq Feet</td>\n      <td>7,000</td>\n      <td>50,000</td>\n      <td>2019-06-29</td>\n      <td>Broker:  Vision Associates</td>\n    </tr>\n    <tr>\n      <th>21</th>\n      <td>1 BHK Residential Apartment for Rent in Dhayari</td>\n      <td>https://property.sulekha.com/apartments-flats-...</td>\n      <td>Benkar</td>\n      <td>No Car Parking 3rd (of 4 Floors) UnFurnished F...</td>\n      <td>Corporation water ATM Visitors Parking +1 Amen...</td>\n      <td>0,0</td>\n      <td>550 Sq Feet</td>\n      <td>5,600</td>\n      <td>20,000</td>\n      <td>2021-05-15</td>\n      <td>Broker:  Rama Enterprises</td>\n    </tr>\n    <tr>\n      <th>22</th>\n      <td>3 BHK Residential Apartment for Rent at Eterna...</td>\n      <td>https://property.sulekha.com/apartments-flats-...</td>\n      <td>Undri,</td>\n      <td>1 Car Parking 4th (of 11 Floors) Fully Furnish...</td>\n      <td>24*7 Power Backup Lifts Swimming Pool +16 Amen...</td>\n      <td>18.4566651,73.9095279</td>\n      <td>1509 Sq Feet</td>\n      <td>for</td>\n      <td>2,000,000</td>\n      <td>2020-03-18</td>\n      <td>Building:  Eternal Exotica  Broker:  Ozone Pro...</td>\n    </tr>\n    <tr>\n      <th>23</th>\n      <td>2 BHK Residential Apartment for Rent at Gyanga...</td>\n      <td>https://property.sulekha.com/apartments-flats-...</td>\n      <td>Wireless</td>\n      <td>1 Car Parking 1st (of 5 Floors) UnFurnished Fa...</td>\n      <td>Corporation water Drainage Facility Lifts +10 ...</td>\n      <td>18.564194,73.8040924</td>\n      <td>900 Sq Feet</td>\n      <td>15,000</td>\n      <td>50,000</td>\n      <td>2021-04-12</td>\n      <td>Building:  Gyanganga  Owner:  Shrikant DALVI</td>\n    </tr>\n    <tr>\n      <th>24</th>\n      <td>1 RK Residential Apartment for Rent at swami i...</td>\n      <td>https://property.sulekha.com/apartments-flats-...</td>\n      <td>Hadapsar,</td>\n      <td>No Car Parking 1st (of 4 Floors) Semi Furnishe...</td>\n      <td>Corporation water Drainage Facility 24*7 Power...</td>\n      <td>18.515806,73.927164</td>\n      <td>420 Sq Feet</td>\n      <td>6,890</td>\n      <td>14,000</td>\n      <td>2021-03-25</td>\n      <td>Building:  swami   Broker:  Sejal Properties</td>\n    </tr>\n  </tbody>\n</table>\n<p>125 rows × 11 columns</p>\n</div>"
     },
     "metadata": {},
     "execution_count": 131
    }
   ],
   "source": [
    "df"
   ]
  },
  {
   "cell_type": "code",
   "execution_count": 133,
   "metadata": {},
   "outputs": [],
   "source": [
    "df.to_csv(r\"C:\\Users\\swaraj\\Desktop\\codes\\modules\\working\\sulekha.csv\")"
   ]
  },
  {
   "cell_type": "code",
   "execution_count": null,
   "metadata": {},
   "outputs": [],
   "source": []
  }
 ]
}