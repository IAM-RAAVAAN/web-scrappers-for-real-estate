{
 "metadata": {
  "language_info": {
   "codemirror_mode": {
    "name": "ipython",
    "version": 3
   },
   "file_extension": ".py",
   "mimetype": "text/x-python",
   "name": "python",
   "nbconvert_exporter": "python",
   "pygments_lexer": "ipython3",
   "version": "3.9.2"
  },
  "orig_nbformat": 2,
  "kernelspec": {
   "name": "python3",
   "display_name": "Python 3",
   "language": "python"
  }
 },
 "nbformat": 4,
 "nbformat_minor": 2,
 "cells": [
  {
   "cell_type": "code",
   "execution_count": 142,
   "metadata": {},
   "outputs": [],
   "source": [
    "import requests \n",
    "import re\n",
    "from bs4 import BeautifulSoup\n",
    "import pandas as pd"
   ]
  },
  {
   "cell_type": "code",
   "execution_count": 254,
   "metadata": {},
   "outputs": [],
   "source": [
    "number_of_pages=3"
   ]
  },
  {
   "cell_type": "code",
   "execution_count": 182,
   "metadata": {},
   "outputs": [],
   "source": [
    "\n",
    "def details(s):\n",
    "##for prices and BHK AND AREA\n",
    "    price=s.find_all('span',attrs={'class':\"val\"}) \n",
    "    k=[]\n",
    "    for p in price:\n",
    "        k.append(p.text)\n",
    "\n",
    "    l=[]\n",
    "    for k in k:\n",
    "        if k:\n",
    "            l.append(k)\n",
    "\n",
    "    k=[]\n",
    "    for i in range(0,len(l),3):\n",
    "        k.append(l[i:i+3])\n",
    "    return k\n"
   ]
  },
  {
   "cell_type": "code",
   "execution_count": 184,
   "metadata": {},
   "outputs": [],
   "source": [
    "  def tit_text(s):\n",
    "    title=s.find_all('a',attrs={'class':\"typelink\"}) #titles \n",
    "    k=[]\n",
    "    k1=[]\n",
    "    for a in title:\n",
    "        k.append( a['href'])\n",
    "        k1.append(a.text)##links and name that appers\n",
    "    return k,k1"
   ]
  },
  {
   "cell_type": "code",
   "execution_count": 185,
   "metadata": {},
   "outputs": [],
   "source": [
    "def style(s):\n",
    "    sta=s.find_all('td',attrs={'class':\"val\"}) \n",
    "    k=[]\n",
    "    for si in sta:\n",
    "        k.append(si.text)\n",
    "    return k"
   ]
  },
  {
   "cell_type": "code",
   "execution_count": 201,
   "metadata": {},
   "outputs": [],
   "source": [
    "def dep(s):\n",
    "    detail=s.find_all('li',attrs={'title':\"deposit\"}) \n",
    "    k=[]\n",
    "    for d in detail:\n",
    "        k.append(d.text)\n",
    "    return k"
   ]
  },
  {
   "cell_type": "code",
   "execution_count": 177,
   "metadata": {},
   "outputs": [
    {
     "output_type": "execute_result",
     "data": {
      "text/plain": [
       "   BHK   PRICE   AREA           style    deposite\n",
       "0   1    6,750   450      Unfurnished  No Deposit\n",
       "1   1    6,000   580      Unfurnished  No Deposit\n",
       "2   1   10,000   600      Unfurnished  No Deposit\n",
       "3   2   19,000  1102      Unfurnished  No Deposit\n",
       "4   1    5,000   350      Unfurnished  No Deposit\n",
       "5   1    5,000   450      Unfurnished  No Deposit\n",
       "6   1    9,000   500      Unfurnished  No Deposit\n",
       "7   1    6,000   650      Unfurnished  No Deposit\n",
       "8   2   14,000   852   Semi-Furnished  No Deposit\n",
       "9   1    9,500   570      Unfurnished  No Deposit\n",
       "10  2    9,000   750   Semi-Furnished  No Deposit\n",
       "11  1    6,000   480   Semi-Furnished  No Deposit\n",
       "12  1   10,000   720   Semi-Furnished  No Deposit\n",
       "13  2   17,000  1100      Unfurnished  No Deposit\n",
       "14  3   22,000  1605   Semi-Furnished  No Deposit\n",
       "15  1   12,000   919        Furnished  No Deposit\n",
       "16  1   10,000   640      Unfurnished  No Deposit\n",
       "17  3   19,000  2000      Unfurnished  No Deposit\n",
       "18  2   15,000  1500      Unfurnished  No Deposit\n",
       "19  2   20,000   824   Semi-Furnished  No Deposit"
      ],
      "text/html": "<div>\n<style scoped>\n    .dataframe tbody tr th:only-of-type {\n        vertical-align: middle;\n    }\n\n    .dataframe tbody tr th {\n        vertical-align: top;\n    }\n\n    .dataframe thead th {\n        text-align: right;\n    }\n</style>\n<table border=\"1\" class=\"dataframe\">\n  <thead>\n    <tr style=\"text-align: right;\">\n      <th></th>\n      <th>BHK</th>\n      <th>PRICE</th>\n      <th>AREA</th>\n      <th>style</th>\n      <th>deposite</th>\n    </tr>\n  </thead>\n  <tbody>\n    <tr>\n      <th>0</th>\n      <td>1</td>\n      <td>6,750</td>\n      <td>450</td>\n      <td>Unfurnished</td>\n      <td>No Deposit</td>\n    </tr>\n    <tr>\n      <th>1</th>\n      <td>1</td>\n      <td>6,000</td>\n      <td>580</td>\n      <td>Unfurnished</td>\n      <td>No Deposit</td>\n    </tr>\n    <tr>\n      <th>2</th>\n      <td>1</td>\n      <td>10,000</td>\n      <td>600</td>\n      <td>Unfurnished</td>\n      <td>No Deposit</td>\n    </tr>\n    <tr>\n      <th>3</th>\n      <td>2</td>\n      <td>19,000</td>\n      <td>1102</td>\n      <td>Unfurnished</td>\n      <td>No Deposit</td>\n    </tr>\n    <tr>\n      <th>4</th>\n      <td>1</td>\n      <td>5,000</td>\n      <td>350</td>\n      <td>Unfurnished</td>\n      <td>No Deposit</td>\n    </tr>\n    <tr>\n      <th>5</th>\n      <td>1</td>\n      <td>5,000</td>\n      <td>450</td>\n      <td>Unfurnished</td>\n      <td>No Deposit</td>\n    </tr>\n    <tr>\n      <th>6</th>\n      <td>1</td>\n      <td>9,000</td>\n      <td>500</td>\n      <td>Unfurnished</td>\n      <td>No Deposit</td>\n    </tr>\n    <tr>\n      <th>7</th>\n      <td>1</td>\n      <td>6,000</td>\n      <td>650</td>\n      <td>Unfurnished</td>\n      <td>No Deposit</td>\n    </tr>\n    <tr>\n      <th>8</th>\n      <td>2</td>\n      <td>14,000</td>\n      <td>852</td>\n      <td>Semi-Furnished</td>\n      <td>No Deposit</td>\n    </tr>\n    <tr>\n      <th>9</th>\n      <td>1</td>\n      <td>9,500</td>\n      <td>570</td>\n      <td>Unfurnished</td>\n      <td>No Deposit</td>\n    </tr>\n    <tr>\n      <th>10</th>\n      <td>2</td>\n      <td>9,000</td>\n      <td>750</td>\n      <td>Semi-Furnished</td>\n      <td>No Deposit</td>\n    </tr>\n    <tr>\n      <th>11</th>\n      <td>1</td>\n      <td>6,000</td>\n      <td>480</td>\n      <td>Semi-Furnished</td>\n      <td>No Deposit</td>\n    </tr>\n    <tr>\n      <th>12</th>\n      <td>1</td>\n      <td>10,000</td>\n      <td>720</td>\n      <td>Semi-Furnished</td>\n      <td>No Deposit</td>\n    </tr>\n    <tr>\n      <th>13</th>\n      <td>2</td>\n      <td>17,000</td>\n      <td>1100</td>\n      <td>Unfurnished</td>\n      <td>No Deposit</td>\n    </tr>\n    <tr>\n      <th>14</th>\n      <td>3</td>\n      <td>22,000</td>\n      <td>1605</td>\n      <td>Semi-Furnished</td>\n      <td>No Deposit</td>\n    </tr>\n    <tr>\n      <th>15</th>\n      <td>1</td>\n      <td>12,000</td>\n      <td>919</td>\n      <td>Furnished</td>\n      <td>No Deposit</td>\n    </tr>\n    <tr>\n      <th>16</th>\n      <td>1</td>\n      <td>10,000</td>\n      <td>640</td>\n      <td>Unfurnished</td>\n      <td>No Deposit</td>\n    </tr>\n    <tr>\n      <th>17</th>\n      <td>3</td>\n      <td>19,000</td>\n      <td>2000</td>\n      <td>Unfurnished</td>\n      <td>No Deposit</td>\n    </tr>\n    <tr>\n      <th>18</th>\n      <td>2</td>\n      <td>15,000</td>\n      <td>1500</td>\n      <td>Unfurnished</td>\n      <td>No Deposit</td>\n    </tr>\n    <tr>\n      <th>19</th>\n      <td>2</td>\n      <td>20,000</td>\n      <td>824</td>\n      <td>Semi-Furnished</td>\n      <td>No Deposit</td>\n    </tr>\n  </tbody>\n</table>\n</div>"
     },
     "metadata": {},
     "execution_count": 177
    }
   ],
   "source": []
  },
  {
   "cell_type": "code",
   "execution_count": 236,
   "metadata": {},
   "outputs": [],
   "source": [
    "def scrap(url):\n",
    "    j=requests.get(url)\n",
    "    k=j.text\n",
    "    s=BeautifulSoup(k,'lxml')\n",
    "    print()\n",
    "    col=['BHK','PRICE','AREA']\n",
    "    df=pd.DataFrame(details(s),columns=col)\n",
    "    col=['text','links']\n",
    "    k,k1=tit_text(s)\n",
    "    try:\n",
    "     df['link']=k\n",
    "    except:\n",
    "        df['link']='NA'\n",
    "    try:\n",
    "        df['text']=k1\n",
    "    except:\n",
    "        df['text']='NA'\n",
    "    try:\n",
    "        df['deposite']=dep(s)\n",
    "    except:\n",
    "        df['deposite']='NA'\n",
    "    try:\n",
    "        df['furnished']=style(s)\n",
    "    except:\n",
    "        df['furnished']='NA'\n",
    "    \n",
    "    return df"
   ]
  },
  {
   "cell_type": "code",
   "execution_count": 237,
   "metadata": {},
   "outputs": [],
   "source": [
    "url=\"https://www.makaan.com/listings?listingType=rent&pageType=CITY_URLS&cityName=Pune&cityId=21&templateId=MAKAAN_CITY_LISTING_BUY\"\n"
   ]
  },
  {
   "cell_type": "code",
   "execution_count": 242,
   "metadata": {},
   "outputs": [
    {
     "output_type": "stream",
     "name": "stdout",
     "text": [
      "\n"
     ]
    }
   ],
   "source": [
    "dat=[]\n",
    "df=scrap(url)\n",
    "dat.append(df)"
   ]
  },
  {
   "cell_type": "code",
   "execution_count": 243,
   "metadata": {},
   "outputs": [],
   "source": [
    "url=url+'&page='"
   ]
  },
  {
   "cell_type": "code",
   "execution_count": 250,
   "metadata": {},
   "outputs": [
    {
     "output_type": "stream",
     "name": "stdout",
     "text": [
      "\n",
      "\n",
      "\n",
      "\n",
      "\n",
      "\n",
      "\n",
      "\n",
      "\n",
      "\n",
      "\n",
      "\n",
      "\n",
      "\n",
      "\n",
      "\n",
      "\n",
      "\n"
     ]
    }
   ],
   "source": [
    "for i in range(2,number_of_pages):\n",
    "    url=url+str(i)\n",
    "    df=scrap(url)\n",
    "    dat.append(df)\n",
    "result = pd.concat(dat)"
   ]
  },
  {
   "cell_type": "code",
   "execution_count": 251,
   "metadata": {},
   "outputs": [],
   "source": [
    "result.reset_index(inplace = True, drop = True) "
   ]
  },
  {
   "cell_type": "code",
   "execution_count": 252,
   "metadata": {},
   "outputs": [],
   "source": [
    "result.to_csv('scraped_data.csv')"
   ]
  },
  {
   "cell_type": "code",
   "execution_count": null,
   "metadata": {},
   "outputs": [],
   "source": []
  }
 ]
}