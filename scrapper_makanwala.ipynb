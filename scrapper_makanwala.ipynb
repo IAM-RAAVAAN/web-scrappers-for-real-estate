{
 "metadata": {
  "language_info": {
   "codemirror_mode": {
    "name": "ipython",
    "version": 3
   },
   "file_extension": ".py",
   "mimetype": "text/x-python",
   "name": "python",
   "nbconvert_exporter": "python",
   "pygments_lexer": "ipython3",
   "version": "3.9.2"
  },
  "orig_nbformat": 2,
  "kernelspec": {
   "name": "python392jvsc74a57bd0588b1dd76ca082666fe2f995fff1e9efb2de790f2352d1450e516a9edc988200",
   "display_name": "Python 3.9.2 64-bit"
  },
  "metadata": {
   "interpreter": {
    "hash": "588b1dd76ca082666fe2f995fff1e9efb2de790f2352d1450e516a9edc988200"
   }
  }
 },
 "nbformat": 4,
 "nbformat_minor": 2,
 "cells": [
  {
   "cell_type": "code",
   "execution_count": 61,
   "metadata": {},
   "outputs": [],
   "source": [
    "import requests \n",
    "import re\n",
    "from bs4 import BeautifulSoup\n",
    "import pandas as pd"
   ]
  },
  {
   "cell_type": "code",
   "execution_count": 62,
   "metadata": {},
   "outputs": [],
   "source": [
    "number_of_pages=3"
   ]
  },
  {
   "cell_type": "code",
   "execution_count": 63,
   "metadata": {},
   "outputs": [],
   "source": [
    "def locality(s):\n",
    "    s=requests.get(url).text\n",
    "    s=BeautifulSoup(s,'lxml')\n",
    "    sta=s.find_all('span',attrs={'itemprop':\"addressLocality\"}) \n",
    "    k=[]\n",
    "    for si in sta:\n",
    "        k.append(si.text)\n",
    "    return k"
   ]
  },
  {
   "cell_type": "code",
   "execution_count": 64,
   "metadata": {},
   "outputs": [],
   "source": [
    "\n",
    "def details(s):\n",
    "##for prices and BHK AND AREA\n",
    "    price=s.find_all('span',attrs={'class':\"val\"}) \n",
    "    \n",
    "    k=[]\n",
    "    for p in price:\n",
    "        k.append(p.text)\n",
    "\n",
    "    l=[]\n",
    "    for k in k:\n",
    "        if k:\n",
    "            l.append(k)\n",
    "    #geeting the line append in the cards\n",
    "    k=[]\n",
    "    for i in range(0,len(l),3):\n",
    "        k.append(l[i:i+3])\n",
    "    return k\n"
   ]
  },
  {
   "cell_type": "code",
   "execution_count": 65,
   "metadata": {},
   "outputs": [],
   "source": [
    "  def tit_text(s):\n",
    "    title=s.find_all('a',attrs={'class':\"typelink\"}) #titles \n",
    "    k=[]\n",
    "    k1=[]\n",
    "    for a in title:\n",
    "        k.append( a['href'])\n",
    "        k1.append(a.text)##links and name that appers\n",
    "    return k,k1"
   ]
  },
  {
   "cell_type": "code",
   "execution_count": 66,
   "metadata": {},
   "outputs": [],
   "source": [
    "def style(s):\n",
    "    sta=s.find_all('td',attrs={'class':\"val\"}) \n",
    "    k=[]\n",
    "    for si in sta:\n",
    "        k.append(si.text)\n",
    "    return k"
   ]
  },
  {
   "cell_type": "code",
   "execution_count": 67,
   "metadata": {},
   "outputs": [],
   "source": [
    "def dep(s):\n",
    "    detail=s.find_all('li',attrs={'title':\"deposit\"}) \n",
    "    k=[]\n",
    "    for d in detail:\n",
    "        k.append(d.text)\n",
    "    return k"
   ]
  },
  {
   "cell_type": "code",
   "execution_count": 68,
   "metadata": {},
   "outputs": [],
   "source": [
    "def name(s):\n",
    "\n",
    "    sta=s.find_all('span',attrs={'itemprop':\"name\"}) \n",
    "    k=[]\n",
    "    for si in sta:\n",
    "        k.append(si.text)\n",
    "    return k"
   ]
  },
  {
   "cell_type": "code",
   "execution_count": 69,
   "metadata": {},
   "outputs": [],
   "source": [
    "def scrap(url):\n",
    "    s=requests.get(url).text\n",
    "    s=BeautifulSoup(s,'lxml')\n",
    "    print()\n",
    "    col=['BHK','PRICE','AREA']\n",
    "    #in spreade sheet\n",
    "    df=pd.DataFrame(details(s),columns=col)\n",
    "    col=['text','links']\n",
    "    k,k1=tit_text(s)\n",
    "    try:\n",
    "     df['link']=k\n",
    "    except:\n",
    "        df['link']='NA'\n",
    "    try:\n",
    "        df['text']=k1\n",
    "    except:\n",
    "        df['text']='NA'\n",
    "    try:\n",
    "        df['deposite']=dep(s)\n",
    "    except:\n",
    "        df['deposite']='NA'\n",
    "    try:\n",
    "        df['furnished']=style(s)\n",
    "    except:\n",
    "        df['furnished']='NA'\n",
    "    try:\n",
    "        df['locality']=locality(s)\n",
    "    except:\n",
    "        df['locality']='NA'\n",
    "    try:\n",
    "        df['Name']=name(s)\n",
    "    except:\n",
    "        df['Name']='NA'\n",
    "    \n",
    "    return df"
   ]
  },
  {
   "cell_type": "code",
   "execution_count": 70,
   "metadata": {},
   "outputs": [],
   "source": [
    "url=\"https://www.makaan.com/listings?listingType=rent&pageType=CITY_URLS&cityName=Pune&cityId=21&templateId=MAKAAN_CITY_LISTING_BUY\"\n"
   ]
  },
  {
   "cell_type": "code",
   "execution_count": 71,
   "metadata": {},
   "outputs": [
    {
     "output_type": "stream",
     "name": "stdout",
     "text": [
      "\n"
     ]
    }
   ],
   "source": [
    "dat=[]\n",
    "df=scrap(url)\n",
    "dat.append(df)"
   ]
  },
  {
   "cell_type": "code",
   "execution_count": 72,
   "metadata": {},
   "outputs": [],
   "source": [
    "url=url+'&page='"
   ]
  },
  {
   "cell_type": "code",
   "execution_count": 73,
   "metadata": {},
   "outputs": [
    {
     "output_type": "stream",
     "name": "stdout",
     "text": [
      "https://www.makaan.com/listings?listingType=rent&pageType=CITY_URLS&cityName=Pune&cityId=21&templateId=MAKAAN_CITY_LISTING_BUY&page=2\n",
      "\n"
     ]
    }
   ],
   "source": [
    "for i in range(2,number_of_pages):\n",
    "    url=url+str(i)\n",
    "    print(url)\n",
    "    df=scrap(url)\n",
    "    dat.append(df)\n",
    "    url=url[:-1]\n",
    "result = pd.concat(dat)"
   ]
  },
  {
   "cell_type": "code",
   "execution_count": 74,
   "metadata": {},
   "outputs": [],
   "source": [
    "result.reset_index(inplace = True, drop = True) "
   ]
  },
  {
   "cell_type": "code",
   "execution_count": 57,
   "metadata": {},
   "outputs": [],
   "source": []
  },
  {
   "cell_type": "code",
   "execution_count": 75,
   "metadata": {},
   "outputs": [
    {
     "output_type": "execute_result",
     "data": {
      "text/plain": [
       "['seller',\n",
       " 'seller',\n",
       " 'seller',\n",
       " 'seller',\n",
       " 'seller',\n",
       " 'seller',\n",
       " 'seller',\n",
       " 'seller',\n",
       " 'seller',\n",
       " 'seller',\n",
       " 'seller',\n",
       " 'seller',\n",
       " 'seller',\n",
       " 'seller',\n",
       " 'seller',\n",
       " 'seller',\n",
       " 'seller',\n",
       " 'seller',\n",
       " 'seller',\n",
       " 'seller']"
      ]
     },
     "metadata": {},
     "execution_count": 75
    }
   ],
   "source": [
    "k"
   ]
  },
  {
   "cell_type": "code",
   "execution_count": 76,
   "metadata": {},
   "outputs": [
    {
     "output_type": "execute_result",
     "data": {
      "text/plain": [
       "   BHK   PRICE   AREA                                               link  \\\n",
       "0   1    6,750   450   https://www.makaan.com/pune/builder-project-in...   \n",
       "1   1    9,000   610   https://www.makaan.com/pune/d-b-realty-aadiraj...   \n",
       "2   2   18,500   975   https://www.makaan.com/pune/reputed-builder-an...   \n",
       "3   2   14,500   940   https://www.makaan.com/pune/krisala-developers...   \n",
       "4   1    5,500   400   https://www.makaan.com/pune/builder-project-in...   \n",
       "5   1    5,500   400   https://www.makaan.com/pune/builder-project-in...   \n",
       "6   1    3,500   500   https://www.makaan.com/pune/builder-project-in...   \n",
       "7   3   21,000  1250   https://www.makaan.com/pune/sonigara-homes-nil...   \n",
       "8   2   14,000  1000   https://www.makaan.com/pune/reputed-builder-po...   \n",
       "9   1   12,000   600   https://www.makaan.com/pune/stone-shelters-bap...   \n",
       "10  2   10,000   860   https://www.makaan.com/pune/viraj-construction...   \n",
       "11  2   13,500  1068   https://www.makaan.com/pune/ak-surana-develope...   \n",
       "12  2   15,000  1120   https://www.makaan.com/pune/kolte-patil-develo...   \n",
       "13  2   13,500   819   https://www.makaan.com/pune/builder-project-in...   \n",
       "14  2    9,000   630   https://www.makaan.com/pune/essen-group-and-md...   \n",
       "15  2   13,000  1000   https://www.makaan.com/pune/builder-project-in...   \n",
       "16  1    9,000   500   https://www.makaan.com/pune/builder-project-in...   \n",
       "17  3   25,000  1600   https://www.makaan.com/pune/runal-developers-g...   \n",
       "18  1   12,500   650   https://www.makaan.com/pune/gemini-housing-gra...   \n",
       "19  2   25,000  2000   https://www.makaan.com/pune/builder-project-in...   \n",
       "20  1    6,500   400   https://www.makaan.com/pune/builder-project-in...   \n",
       "21  1   10,000   600   https://www.makaan.com/pune/builder-project-in...   \n",
       "22  1    7,000   425   https://www.makaan.com/pune/builder-project-in...   \n",
       "23  3   18,000  1500   https://www.makaan.com/pune/builder-project-in...   \n",
       "24  1    8,500   270   https://www.makaan.com/pune/reputed-builder-re...   \n",
       "25  2   10,000   900   https://www.makaan.com/pune/builder-project-in...   \n",
       "26  1    7,000   600   https://www.makaan.com/pune/builder-project-in...   \n",
       "27  2   14,000  1375   https://www.makaan.com/pune/shapoorji-pallonji...   \n",
       "28  1   11,000   580   https://www.makaan.com/pune/builder-project-in...   \n",
       "29  2   12,000   825   https://www.makaan.com/pune/rajmata-constructi...   \n",
       "30  2   10,500   950   https://www.makaan.com/pune/builder-project-in...   \n",
       "31  1    8,000   850   https://www.makaan.com/pune/lunkad-builder-ana...   \n",
       "32  2    9,000   900   https://www.makaan.com/pune/builder-project-in...   \n",
       "33  1   13,500   678   https://www.makaan.com/pune/saarrthi-group-sov...   \n",
       "34  1   11,000   550   https://www.makaan.com/pune/builder-project-in...   \n",
       "35  1    5,000   300   https://www.makaan.com/pune/sagar-developers-d...   \n",
       "36  1    6,800   550   https://www.makaan.com/pune/builder-project-in...   \n",
       "37  2   15,500  1186   https://www.makaan.com/pune/shree-infracon-nid...   \n",
       "38  2   17,000   891   https://www.makaan.com/pune/achalare-realtors-...   \n",
       "39  2   16,000   820   https://www.makaan.com/pune/sankla-buildcoon-p...   \n",
       "\n",
       "                       text    deposite       furnished        locality  \\\n",
       "0   1 BHK Independent Floor  No Deposit     Unfurnished         Mundhwa   \n",
       "1           1 BHK Apartment  No Deposit     Unfurnished           Dighi   \n",
       "2           2 BHK Apartment  No Deposit     Unfurnished           Wakad   \n",
       "3   2 BHK Independent House  No Deposit  Semi-Furnished       Tathawade   \n",
       "4   1 BHK Independent Floor  No Deposit     Unfurnished         Shivane   \n",
       "5     1 RK Studio Apartment  No Deposit  Semi-Furnished         Wagholi   \n",
       "6     1 RK Studio Apartment  No Deposit       Furnished     Karve Nagar   \n",
       "7           3 BHK Apartment  No Deposit     Unfurnished       Chinchwad   \n",
       "8           2 BHK Apartment  No Deposit     Unfurnished           Warje   \n",
       "9           1 BHK Apartment  No Deposit     Unfurnished       Hinjewadi   \n",
       "10          2 BHK Apartment  No Deposit  Semi-Furnished         Manjari   \n",
       "11          2 BHK Apartment  No Deposit     Unfurnished         Kondhwa   \n",
       "12          2 BHK Apartment  No Deposit  Semi-Furnished         Wagholi   \n",
       "13          2 BHK Apartment  No Deposit       Furnished           Daund   \n",
       "14          2 BHK Apartment  No Deposit     Unfurnished        Chikhali   \n",
       "15  2 BHK Independent House  No Deposit     Unfurnished         Dhanori   \n",
       "16          1 BHK Apartment  No Deposit     Unfurnished       Hinjewadi   \n",
       "17          3 BHK Apartment  No Deposit       Furnished           Ravet   \n",
       "18          1 BHK Apartment  No Deposit  Semi-Furnished         Manjari   \n",
       "19  2 BHK Independent House  No Deposit       Furnished  Manjari Budruk   \n",
       "20    1 RK Studio Apartment  No Deposit     Unfurnished      Old Sangvi   \n",
       "21  1 BHK Independent Floor  No Deposit  Semi-Furnished    Pimple Gurav   \n",
       "22    1 RK Studio Apartment  No Deposit  Semi-Furnished        Wadegaon   \n",
       "23  3 BHK Independent House  No Deposit  Semi-Furnished       Chinchwad   \n",
       "24    1 RK Studio Apartment  No Deposit     Unfurnished          Pimpri   \n",
       "25          2 BHK Apartment  No Deposit  Semi-Furnished         Mundhwa   \n",
       "26  1 BHK Independent Floor  No Deposit     Unfurnished        Lohegaon   \n",
       "27              2 BHK Villa  No Deposit  Semi-Furnished       Hinjewadi   \n",
       "28          1 BHK Apartment  No Deposit  Semi-Furnished     New Sangavi   \n",
       "29          2 BHK Apartment  No Deposit     Unfurnished          Alandi   \n",
       "30  2 BHK Independent House  No Deposit     Unfurnished         Mundhwa   \n",
       "31          1 BHK Apartment  No Deposit     Unfurnished          Alandi   \n",
       "32  2 BHK Independent House  No Deposit  Semi-Furnished         Mundhwa   \n",
       "33          1 BHK Apartment  No Deposit  Semi-Furnished       Hinjewadi   \n",
       "34          1 BHK Apartment  No Deposit     Unfurnished   Wadgaon Sheri   \n",
       "35    1 RK Studio Apartment  No Deposit  Semi-Furnished           Ravet   \n",
       "36          1 BHK Apartment  No Deposit     Unfurnished  Manjari Budruk   \n",
       "37          2 BHK Apartment  No Deposit     Unfurnished        Lohegaon   \n",
       "38          2 BHK Apartment  No Deposit  Semi-Furnished           Baner   \n",
       "39          2 BHK Apartment  No Deposit  Semi-Furnished        Hadapsar   \n",
       "\n",
       "      Name  \n",
       "0   seller  \n",
       "1   seller  \n",
       "2   seller  \n",
       "3   seller  \n",
       "4   seller  \n",
       "5   seller  \n",
       "6   seller  \n",
       "7   seller  \n",
       "8   seller  \n",
       "9   seller  \n",
       "10  seller  \n",
       "11  seller  \n",
       "12  seller  \n",
       "13  seller  \n",
       "14  seller  \n",
       "15  seller  \n",
       "16  seller  \n",
       "17  seller  \n",
       "18  seller  \n",
       "19  seller  \n",
       "20  seller  \n",
       "21  seller  \n",
       "22  seller  \n",
       "23  seller  \n",
       "24  seller  \n",
       "25  seller  \n",
       "26  seller  \n",
       "27  seller  \n",
       "28  seller  \n",
       "29  seller  \n",
       "30  seller  \n",
       "31  seller  \n",
       "32  seller  \n",
       "33  seller  \n",
       "34  seller  \n",
       "35  seller  \n",
       "36  seller  \n",
       "37  seller  \n",
       "38  seller  \n",
       "39  seller  "
      ],
      "text/html": "<div>\n<style scoped>\n    .dataframe tbody tr th:only-of-type {\n        vertical-align: middle;\n    }\n\n    .dataframe tbody tr th {\n        vertical-align: top;\n    }\n\n    .dataframe thead th {\n        text-align: right;\n    }\n</style>\n<table border=\"1\" class=\"dataframe\">\n  <thead>\n    <tr style=\"text-align: right;\">\n      <th></th>\n      <th>BHK</th>\n      <th>PRICE</th>\n      <th>AREA</th>\n      <th>link</th>\n      <th>text</th>\n      <th>deposite</th>\n      <th>furnished</th>\n      <th>locality</th>\n      <th>Name</th>\n    </tr>\n  </thead>\n  <tbody>\n    <tr>\n      <th>0</th>\n      <td>1</td>\n      <td>6,750</td>\n      <td>450</td>\n      <td>https://www.makaan.com/pune/builder-project-in...</td>\n      <td>1 BHK Independent Floor</td>\n      <td>No Deposit</td>\n      <td>Unfurnished</td>\n      <td>Mundhwa</td>\n      <td>seller</td>\n    </tr>\n    <tr>\n      <th>1</th>\n      <td>1</td>\n      <td>9,000</td>\n      <td>610</td>\n      <td>https://www.makaan.com/pune/d-b-realty-aadiraj...</td>\n      <td>1 BHK Apartment</td>\n      <td>No Deposit</td>\n      <td>Unfurnished</td>\n      <td>Dighi</td>\n      <td>seller</td>\n    </tr>\n    <tr>\n      <th>2</th>\n      <td>2</td>\n      <td>18,500</td>\n      <td>975</td>\n      <td>https://www.makaan.com/pune/reputed-builder-an...</td>\n      <td>2 BHK Apartment</td>\n      <td>No Deposit</td>\n      <td>Unfurnished</td>\n      <td>Wakad</td>\n      <td>seller</td>\n    </tr>\n    <tr>\n      <th>3</th>\n      <td>2</td>\n      <td>14,500</td>\n      <td>940</td>\n      <td>https://www.makaan.com/pune/krisala-developers...</td>\n      <td>2 BHK Independent House</td>\n      <td>No Deposit</td>\n      <td>Semi-Furnished</td>\n      <td>Tathawade</td>\n      <td>seller</td>\n    </tr>\n    <tr>\n      <th>4</th>\n      <td>1</td>\n      <td>5,500</td>\n      <td>400</td>\n      <td>https://www.makaan.com/pune/builder-project-in...</td>\n      <td>1 BHK Independent Floor</td>\n      <td>No Deposit</td>\n      <td>Unfurnished</td>\n      <td>Shivane</td>\n      <td>seller</td>\n    </tr>\n    <tr>\n      <th>5</th>\n      <td>1</td>\n      <td>5,500</td>\n      <td>400</td>\n      <td>https://www.makaan.com/pune/builder-project-in...</td>\n      <td>1 RK Studio Apartment</td>\n      <td>No Deposit</td>\n      <td>Semi-Furnished</td>\n      <td>Wagholi</td>\n      <td>seller</td>\n    </tr>\n    <tr>\n      <th>6</th>\n      <td>1</td>\n      <td>3,500</td>\n      <td>500</td>\n      <td>https://www.makaan.com/pune/builder-project-in...</td>\n      <td>1 RK Studio Apartment</td>\n      <td>No Deposit</td>\n      <td>Furnished</td>\n      <td>Karve Nagar</td>\n      <td>seller</td>\n    </tr>\n    <tr>\n      <th>7</th>\n      <td>3</td>\n      <td>21,000</td>\n      <td>1250</td>\n      <td>https://www.makaan.com/pune/sonigara-homes-nil...</td>\n      <td>3 BHK Apartment</td>\n      <td>No Deposit</td>\n      <td>Unfurnished</td>\n      <td>Chinchwad</td>\n      <td>seller</td>\n    </tr>\n    <tr>\n      <th>8</th>\n      <td>2</td>\n      <td>14,000</td>\n      <td>1000</td>\n      <td>https://www.makaan.com/pune/reputed-builder-po...</td>\n      <td>2 BHK Apartment</td>\n      <td>No Deposit</td>\n      <td>Unfurnished</td>\n      <td>Warje</td>\n      <td>seller</td>\n    </tr>\n    <tr>\n      <th>9</th>\n      <td>1</td>\n      <td>12,000</td>\n      <td>600</td>\n      <td>https://www.makaan.com/pune/stone-shelters-bap...</td>\n      <td>1 BHK Apartment</td>\n      <td>No Deposit</td>\n      <td>Unfurnished</td>\n      <td>Hinjewadi</td>\n      <td>seller</td>\n    </tr>\n    <tr>\n      <th>10</th>\n      <td>2</td>\n      <td>10,000</td>\n      <td>860</td>\n      <td>https://www.makaan.com/pune/viraj-construction...</td>\n      <td>2 BHK Apartment</td>\n      <td>No Deposit</td>\n      <td>Semi-Furnished</td>\n      <td>Manjari</td>\n      <td>seller</td>\n    </tr>\n    <tr>\n      <th>11</th>\n      <td>2</td>\n      <td>13,500</td>\n      <td>1068</td>\n      <td>https://www.makaan.com/pune/ak-surana-develope...</td>\n      <td>2 BHK Apartment</td>\n      <td>No Deposit</td>\n      <td>Unfurnished</td>\n      <td>Kondhwa</td>\n      <td>seller</td>\n    </tr>\n    <tr>\n      <th>12</th>\n      <td>2</td>\n      <td>15,000</td>\n      <td>1120</td>\n      <td>https://www.makaan.com/pune/kolte-patil-develo...</td>\n      <td>2 BHK Apartment</td>\n      <td>No Deposit</td>\n      <td>Semi-Furnished</td>\n      <td>Wagholi</td>\n      <td>seller</td>\n    </tr>\n    <tr>\n      <th>13</th>\n      <td>2</td>\n      <td>13,500</td>\n      <td>819</td>\n      <td>https://www.makaan.com/pune/builder-project-in...</td>\n      <td>2 BHK Apartment</td>\n      <td>No Deposit</td>\n      <td>Furnished</td>\n      <td>Daund</td>\n      <td>seller</td>\n    </tr>\n    <tr>\n      <th>14</th>\n      <td>2</td>\n      <td>9,000</td>\n      <td>630</td>\n      <td>https://www.makaan.com/pune/essen-group-and-md...</td>\n      <td>2 BHK Apartment</td>\n      <td>No Deposit</td>\n      <td>Unfurnished</td>\n      <td>Chikhali</td>\n      <td>seller</td>\n    </tr>\n    <tr>\n      <th>15</th>\n      <td>2</td>\n      <td>13,000</td>\n      <td>1000</td>\n      <td>https://www.makaan.com/pune/builder-project-in...</td>\n      <td>2 BHK Independent House</td>\n      <td>No Deposit</td>\n      <td>Unfurnished</td>\n      <td>Dhanori</td>\n      <td>seller</td>\n    </tr>\n    <tr>\n      <th>16</th>\n      <td>1</td>\n      <td>9,000</td>\n      <td>500</td>\n      <td>https://www.makaan.com/pune/builder-project-in...</td>\n      <td>1 BHK Apartment</td>\n      <td>No Deposit</td>\n      <td>Unfurnished</td>\n      <td>Hinjewadi</td>\n      <td>seller</td>\n    </tr>\n    <tr>\n      <th>17</th>\n      <td>3</td>\n      <td>25,000</td>\n      <td>1600</td>\n      <td>https://www.makaan.com/pune/runal-developers-g...</td>\n      <td>3 BHK Apartment</td>\n      <td>No Deposit</td>\n      <td>Furnished</td>\n      <td>Ravet</td>\n      <td>seller</td>\n    </tr>\n    <tr>\n      <th>18</th>\n      <td>1</td>\n      <td>12,500</td>\n      <td>650</td>\n      <td>https://www.makaan.com/pune/gemini-housing-gra...</td>\n      <td>1 BHK Apartment</td>\n      <td>No Deposit</td>\n      <td>Semi-Furnished</td>\n      <td>Manjari</td>\n      <td>seller</td>\n    </tr>\n    <tr>\n      <th>19</th>\n      <td>2</td>\n      <td>25,000</td>\n      <td>2000</td>\n      <td>https://www.makaan.com/pune/builder-project-in...</td>\n      <td>2 BHK Independent House</td>\n      <td>No Deposit</td>\n      <td>Furnished</td>\n      <td>Manjari Budruk</td>\n      <td>seller</td>\n    </tr>\n    <tr>\n      <th>20</th>\n      <td>1</td>\n      <td>6,500</td>\n      <td>400</td>\n      <td>https://www.makaan.com/pune/builder-project-in...</td>\n      <td>1 RK Studio Apartment</td>\n      <td>No Deposit</td>\n      <td>Unfurnished</td>\n      <td>Old Sangvi</td>\n      <td>seller</td>\n    </tr>\n    <tr>\n      <th>21</th>\n      <td>1</td>\n      <td>10,000</td>\n      <td>600</td>\n      <td>https://www.makaan.com/pune/builder-project-in...</td>\n      <td>1 BHK Independent Floor</td>\n      <td>No Deposit</td>\n      <td>Semi-Furnished</td>\n      <td>Pimple Gurav</td>\n      <td>seller</td>\n    </tr>\n    <tr>\n      <th>22</th>\n      <td>1</td>\n      <td>7,000</td>\n      <td>425</td>\n      <td>https://www.makaan.com/pune/builder-project-in...</td>\n      <td>1 RK Studio Apartment</td>\n      <td>No Deposit</td>\n      <td>Semi-Furnished</td>\n      <td>Wadegaon</td>\n      <td>seller</td>\n    </tr>\n    <tr>\n      <th>23</th>\n      <td>3</td>\n      <td>18,000</td>\n      <td>1500</td>\n      <td>https://www.makaan.com/pune/builder-project-in...</td>\n      <td>3 BHK Independent House</td>\n      <td>No Deposit</td>\n      <td>Semi-Furnished</td>\n      <td>Chinchwad</td>\n      <td>seller</td>\n    </tr>\n    <tr>\n      <th>24</th>\n      <td>1</td>\n      <td>8,500</td>\n      <td>270</td>\n      <td>https://www.makaan.com/pune/reputed-builder-re...</td>\n      <td>1 RK Studio Apartment</td>\n      <td>No Deposit</td>\n      <td>Unfurnished</td>\n      <td>Pimpri</td>\n      <td>seller</td>\n    </tr>\n    <tr>\n      <th>25</th>\n      <td>2</td>\n      <td>10,000</td>\n      <td>900</td>\n      <td>https://www.makaan.com/pune/builder-project-in...</td>\n      <td>2 BHK Apartment</td>\n      <td>No Deposit</td>\n      <td>Semi-Furnished</td>\n      <td>Mundhwa</td>\n      <td>seller</td>\n    </tr>\n    <tr>\n      <th>26</th>\n      <td>1</td>\n      <td>7,000</td>\n      <td>600</td>\n      <td>https://www.makaan.com/pune/builder-project-in...</td>\n      <td>1 BHK Independent Floor</td>\n      <td>No Deposit</td>\n      <td>Unfurnished</td>\n      <td>Lohegaon</td>\n      <td>seller</td>\n    </tr>\n    <tr>\n      <th>27</th>\n      <td>2</td>\n      <td>14,000</td>\n      <td>1375</td>\n      <td>https://www.makaan.com/pune/shapoorji-pallonji...</td>\n      <td>2 BHK Villa</td>\n      <td>No Deposit</td>\n      <td>Semi-Furnished</td>\n      <td>Hinjewadi</td>\n      <td>seller</td>\n    </tr>\n    <tr>\n      <th>28</th>\n      <td>1</td>\n      <td>11,000</td>\n      <td>580</td>\n      <td>https://www.makaan.com/pune/builder-project-in...</td>\n      <td>1 BHK Apartment</td>\n      <td>No Deposit</td>\n      <td>Semi-Furnished</td>\n      <td>New Sangavi</td>\n      <td>seller</td>\n    </tr>\n    <tr>\n      <th>29</th>\n      <td>2</td>\n      <td>12,000</td>\n      <td>825</td>\n      <td>https://www.makaan.com/pune/rajmata-constructi...</td>\n      <td>2 BHK Apartment</td>\n      <td>No Deposit</td>\n      <td>Unfurnished</td>\n      <td>Alandi</td>\n      <td>seller</td>\n    </tr>\n    <tr>\n      <th>30</th>\n      <td>2</td>\n      <td>10,500</td>\n      <td>950</td>\n      <td>https://www.makaan.com/pune/builder-project-in...</td>\n      <td>2 BHK Independent House</td>\n      <td>No Deposit</td>\n      <td>Unfurnished</td>\n      <td>Mundhwa</td>\n      <td>seller</td>\n    </tr>\n    <tr>\n      <th>31</th>\n      <td>1</td>\n      <td>8,000</td>\n      <td>850</td>\n      <td>https://www.makaan.com/pune/lunkad-builder-ana...</td>\n      <td>1 BHK Apartment</td>\n      <td>No Deposit</td>\n      <td>Unfurnished</td>\n      <td>Alandi</td>\n      <td>seller</td>\n    </tr>\n    <tr>\n      <th>32</th>\n      <td>2</td>\n      <td>9,000</td>\n      <td>900</td>\n      <td>https://www.makaan.com/pune/builder-project-in...</td>\n      <td>2 BHK Independent House</td>\n      <td>No Deposit</td>\n      <td>Semi-Furnished</td>\n      <td>Mundhwa</td>\n      <td>seller</td>\n    </tr>\n    <tr>\n      <th>33</th>\n      <td>1</td>\n      <td>13,500</td>\n      <td>678</td>\n      <td>https://www.makaan.com/pune/saarrthi-group-sov...</td>\n      <td>1 BHK Apartment</td>\n      <td>No Deposit</td>\n      <td>Semi-Furnished</td>\n      <td>Hinjewadi</td>\n      <td>seller</td>\n    </tr>\n    <tr>\n      <th>34</th>\n      <td>1</td>\n      <td>11,000</td>\n      <td>550</td>\n      <td>https://www.makaan.com/pune/builder-project-in...</td>\n      <td>1 BHK Apartment</td>\n      <td>No Deposit</td>\n      <td>Unfurnished</td>\n      <td>Wadgaon Sheri</td>\n      <td>seller</td>\n    </tr>\n    <tr>\n      <th>35</th>\n      <td>1</td>\n      <td>5,000</td>\n      <td>300</td>\n      <td>https://www.makaan.com/pune/sagar-developers-d...</td>\n      <td>1 RK Studio Apartment</td>\n      <td>No Deposit</td>\n      <td>Semi-Furnished</td>\n      <td>Ravet</td>\n      <td>seller</td>\n    </tr>\n    <tr>\n      <th>36</th>\n      <td>1</td>\n      <td>6,800</td>\n      <td>550</td>\n      <td>https://www.makaan.com/pune/builder-project-in...</td>\n      <td>1 BHK Apartment</td>\n      <td>No Deposit</td>\n      <td>Unfurnished</td>\n      <td>Manjari Budruk</td>\n      <td>seller</td>\n    </tr>\n    <tr>\n      <th>37</th>\n      <td>2</td>\n      <td>15,500</td>\n      <td>1186</td>\n      <td>https://www.makaan.com/pune/shree-infracon-nid...</td>\n      <td>2 BHK Apartment</td>\n      <td>No Deposit</td>\n      <td>Unfurnished</td>\n      <td>Lohegaon</td>\n      <td>seller</td>\n    </tr>\n    <tr>\n      <th>38</th>\n      <td>2</td>\n      <td>17,000</td>\n      <td>891</td>\n      <td>https://www.makaan.com/pune/achalare-realtors-...</td>\n      <td>2 BHK Apartment</td>\n      <td>No Deposit</td>\n      <td>Semi-Furnished</td>\n      <td>Baner</td>\n      <td>seller</td>\n    </tr>\n    <tr>\n      <th>39</th>\n      <td>2</td>\n      <td>16,000</td>\n      <td>820</td>\n      <td>https://www.makaan.com/pune/sankla-buildcoon-p...</td>\n      <td>2 BHK Apartment</td>\n      <td>No Deposit</td>\n      <td>Semi-Furnished</td>\n      <td>Hadapsar</td>\n      <td>seller</td>\n    </tr>\n  </tbody>\n</table>\n</div>"
     },
     "metadata": {},
     "execution_count": 76
    }
   ],
   "source": [
    "result"
   ]
  },
  {
   "cell_type": "code",
   "execution_count": 78,
   "metadata": {},
   "outputs": [],
   "source": [
    "result.to_csv('scraped_data.csv')"
   ]
  },
  {
   "cell_type": "code",
   "execution_count": 40,
   "metadata": {},
   "outputs": [
    {
     "output_type": "execute_result",
     "data": {
      "text/plain": [
       "(['https://www.makaan.com/pune/builder-project-in-mundhwa-11795490/1bhk-1t-450-sqft-builderfloor-for-rent',\n",
       "  'https://www.makaan.com/pune/d-b-realty-aadiraj-heights-in-dighi-13866614/1bhk-1t-610-sqft-apartment-for-rent',\n",
       "  'https://www.makaan.com/pune/reputed-builder-anukul-residency-in-wakad-13866218/2bhk-2t-975-sqft-apartment-for-rent',\n",
       "  'https://www.makaan.com/pune/krisala-developers-41-estera-in-tathawade-13866113/2bhk-2t-940-sqft-independenthouse-for-rent',\n",
       "  'https://www.makaan.com/pune/builder-project-in-shivane-13852534/1bhk-1t-400-sqft-builderfloor-for-rent',\n",
       "  'https://www.makaan.com/pune/builder-project-in-wagholi-13855801/1rk-1t-400-sqft-apartment-for-rent',\n",
       "  'https://www.makaan.com/pune/builder-project-in-karve-nagar-13850073/1rk-2t-500-sqft-independenthouse-for-rent',\n",
       "  'https://www.makaan.com/pune/sonigara-homes-nilay-in-chinchwad-13843613/3bhk-3t-1250-sqft-apartment-for-rent',\n",
       "  'https://www.makaan.com/pune/reputed-builder-popular-nagar-in-warje-13828547/2bhk-2t-1000-sqft-apartment-for-rent',\n",
       "  'https://www.makaan.com/pune/stone-shelters-bappa-residency-in-hinjewadi-13828620/1bhk-1t-600-sqft-apartment-for-rent',\n",
       "  'https://www.makaan.com/pune/viraj-construction-pune-megh-malhar-in-manjari-13813256/2bhk-2t-860-sqft-apartment-for-rent',\n",
       "  'https://www.makaan.com/pune/ak-surana-developers-shree-vardhman-nagar-in-kondhwa-13820614/2bhk-2t-1068-sqft-apartment-for-rent',\n",
       "  'https://www.makaan.com/pune/kolte-patil-developers-green-groves-cilantro-in-wagholi-13813157/2bhk-2t-1120-sqft-apartment-for-rent',\n",
       "  'https://www.makaan.com/pune/builder-project-in-daund-13807744/2bhk-1t-819-sqft-apartment-for-rent',\n",
       "  'https://www.makaan.com/pune/essen-group-and-md-group-aishwaryam-hamara-phase-ii-in-chikhali-13801336/2bhk-1t-630-sqft-apartment-for-rent',\n",
       "  'https://www.makaan.com/pune/builder-project-in-dhanori-13801334/2bhk-2t-1000-sqft-independenthouse-for-rent',\n",
       "  'https://www.makaan.com/pune/builder-project-in-hinjewadi-13787977/1bhk-2t-500-sqft-apartment-for-rent',\n",
       "  'https://www.makaan.com/pune/runal-developers-gateway-phase-1-in-ravet-13784790/3bhk-3t-1600-sqft-apartment-for-rent',\n",
       "  'https://www.makaan.com/pune/gemini-housing-grand-bay-in-manjari-13793342/1bhk-1t-650-sqft-apartment-for-rent',\n",
       "  'https://www.makaan.com/pune/builder-project-in-manjari-budruk-13793359/2bhk-2t-2000-sqft-independenthouse-for-rent'],\n",
       " ['1 BHK Independent Floor',\n",
       "  '1 BHK Apartment',\n",
       "  '2 BHK Apartment',\n",
       "  '2 BHK Independent House',\n",
       "  '1 BHK Independent Floor',\n",
       "  '1 RK Studio Apartment',\n",
       "  '1 RK Studio Apartment',\n",
       "  '3 BHK Apartment',\n",
       "  '2 BHK Apartment',\n",
       "  '1 BHK Apartment',\n",
       "  '2 BHK Apartment',\n",
       "  '2 BHK Apartment',\n",
       "  '2 BHK Apartment',\n",
       "  '2 BHK Apartment',\n",
       "  '2 BHK Apartment',\n",
       "  '2 BHK Independent House',\n",
       "  '1 BHK Apartment',\n",
       "  '3 BHK Apartment',\n",
       "  '1 BHK Apartment',\n",
       "  '2 BHK Independent House'])"
      ]
     },
     "metadata": {},
     "execution_count": 40
    }
   ],
   "source": [
    "k=tit_text(s)\n",
    "k"
   ]
  }
 ]
}