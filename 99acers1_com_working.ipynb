{
 "metadata": {
  "language_info": {
   "codemirror_mode": {
    "name": "ipython",
    "version": 3
   },
   "file_extension": ".py",
   "mimetype": "text/x-python",
   "name": "python",
   "nbconvert_exporter": "python",
   "pygments_lexer": "ipython3",
   "version": "3.9.4"
  },
  "orig_nbformat": 2,
  "kernelspec": {
   "name": "python3",
   "display_name": "Python 3.9.4 64-bit"
  },
  "metadata": {
   "interpreter": {
    "hash": "588b1dd76ca082666fe2f995fff1e9efb2de790f2352d1450e516a9edc988200"
   }
  },
  "interpreter": {
   "hash": "588b1dd76ca082666fe2f995fff1e9efb2de790f2352d1450e516a9edc988200"
  }
 },
 "nbformat": 4,
 "nbformat_minor": 2,
 "cells": [
  {
   "cell_type": "code",
   "execution_count": 188,
   "metadata": {},
   "outputs": [],
   "source": [
    "import pandas as pd \n",
    "import numpy as np \n",
    "import requests\n",
    "import csv \n",
    "import re\n",
    "from bs4 import BeautifulSoup"
   ]
  },
  {
   "cell_type": "code",
   "execution_count": 189,
   "metadata": {},
   "outputs": [],
   "source": [
    "    url='https://www.99acres.com/property-in-ahmedabad-ffid'\n",
    "    j=requests.get(url)\n",
    "    k=j.text\n",
    "    s=BeautifulSoup(k,'lxml')"
   ]
  },
  {
   "cell_type": "code",
   "execution_count": 190,
   "metadata": {},
   "outputs": [],
   "source": [
    "def titel(s):\n",
    "    titel=[]\n",
    "    link=[]\n",
    "    #the filter is being applied to filter the neccesary file from the site \n",
    "    titel=s.find_all('a',attrs={'class':\"body_med srpTuple__propertyName\"}) \n",
    "    for i in titel:\n",
    "        k=i['href']\n",
    "        #print(i['href'])\n",
    "        link.append(k)\n",
    "        #print(i.text)\n",
    "    z=[]\n",
    "    for i in titel:\n",
    "       z.append(i.text)\n",
    "    d={\n",
    "    'link':link,\n",
    "    'title':z\n",
    "     }\n",
    "    df=pd.DataFrame(d)\n",
    "    return df"
   ]
  },
  {
   "cell_type": "code",
   "execution_count": 191,
   "metadata": {},
   "outputs": [],
   "source": [
    "def loc(s):\n",
    "    location=s.find_all('td',attrs={'class':\"list_header_bold srpTuple__spacer10\"}) \n",
    "    loc=[]\n",
    "    for i in location:\n",
    "        loc.append(i.text)\n",
    "    return loc"
   ]
  },
  {
   "cell_type": "code",
   "execution_count": 192,
   "metadata": {},
   "outputs": [],
   "source": [
    "def prices(s):\n",
    "    prices=s.find_all('td',attrs={'id':\"srp_tuple_price\"}) \n",
    "    k=[]\n",
    "    for i in prices:\n",
    "        k.append(i.text)\n",
    "    return k"
   ]
  },
  {
   "cell_type": "code",
   "execution_count": 193,
   "metadata": {},
   "outputs": [],
   "source": [
    "def area(s):\n",
    "    area=s.find_all('td',attrs={'id':\"srp_tuple_primary_area\"}) \n",
    "    lis_area=[]\n",
    "    for i in area:\n",
    "        lis_area.append(i.text)\n",
    "    #print(lis_area)\n",
    "    return lis_area\n",
    "    "
   ]
  },
  {
   "cell_type": "code",
   "execution_count": 194,
   "metadata": {},
   "outputs": [],
   "source": [
    "def lis__type(s):\n",
    "    type=s.find_all('td',attrs={'id':\"srp_tuple_bedroom\"}) \n",
    "    lis__type=[]\n",
    "    for i in type:\n",
    "        lis__type.append(i.text)\n",
    "        #print(i.text)\n",
    "    return lis__type\n"
   ]
  },
  {
   "cell_type": "code",
   "execution_count": 195,
   "metadata": {},
   "outputs": [],
   "source": [
    "def desc(s):\n",
    "    desc=s.find_all('div',attrs={'id':\"srp_tuple_description\"}) \n",
    "    lis__desc=[]\n",
    "    for i in desc:\n",
    "        lis__desc.append(i.text)\n",
    "        #print(i.text)\n",
    "    return lis__desc"
   ]
  },
  {
   "cell_type": "code",
   "execution_count": 196,
   "metadata": {},
   "outputs": [],
   "source": [
    "def dates(s):\n",
    "    date_of=s.find_all('div',attrs={'class':\"caption_strong_small\"}) \n",
    "    date_li=[]\n",
    "    for i in date_of:\n",
    "        date_li.append(i.text)\n",
    "        print(i.text)\n",
    "    #print(date_li)\n",
    "    #print(len(date_li))\n",
    "    return date_li"
   ]
  },
  {
   "cell_type": "code",
   "execution_count": 197,
   "metadata": {},
   "outputs": [],
   "source": [
    "def frame(s):\n",
    "    df=titel(s)\n",
    "    df['prices']=prices(s)#scrspping the data fro tth prices \n",
    "    df['location']=loc(s)#location in the card that is displayed\n",
    "    df['type']=lis__type(s)\n",
    "    df['area']=area(s)#area oh the house \n",
    "    #df['text']=desc(s)\n",
    "    try:\n",
    "        df['dates']=dates(s)#the on which the property was posted o the 99\n",
    "    except:\n",
    "        df['dates']='not give'\n",
    "    df['link']='https://www.99acres.com'+df['link']\n",
    "    return df\n"
   ]
  },
  {
   "cell_type": "code",
   "execution_count": 198,
   "metadata": {},
   "outputs": [
    {
     "output_type": "stream",
     "name": "stdout",
     "text": [
      "Posted on 04th Feb, 2021 by Builder\nPosted on 13th Apr, 2021 by RERA Registered Dealer\nPosted on 04th Jun, 2021 by Builder\nPosted on 31st May, 2021 by Builder\nPosted on 14th May, 2021 by Builder\nPosted on 25th May, 2021 by Builder\nPosted on 17th Mar, 2021 by Builder\nPosted on 01st Mar, 2021 by Builder\nPosted on 05th Jun, 2021 by Builder\nPosted on 02nd Apr, 2021 by Builder\nPosted on 23rd Mar, 2021 by Builder\nPosted on 05th Jun, 2021 by Builder\nPosted on 08th Feb, 2021 by Builder\nPosted on 19th Apr, 2021 by Builder\nPosted on 19th Apr, 2021 by Builder\nPosted on 08th Apr, 2021 by Builder\nPosted on 28th Apr, 2021 by Builder\nPosted on 01st Apr, 2021 by Builder\nPosted on 08th Feb, 2021 by Builder\nPosted on 08th Apr, 2021 by Builder\nPosted on 07th Apr, 2021 by Builder\nPosted on 19th Apr, 2021 by Builder\nPosted on 07th Apr, 2021 by Builder\nPosted on 08th Feb, 2021 by Builder\nPosted on 07th Apr, 2021 by Builder\n"
     ]
    },
    {
     "output_type": "execute_result",
     "data": {
      "text/plain": [
       "                                                 link  \\\n",
       "0   https://www.99acres.com/3-bhk-bedroom-resident...   \n",
       "1   https://www.99acres.com/3-bhk-bedroom-resident...   \n",
       "2   https://www.99acres.com/2-bhk-bedroom-resident...   \n",
       "3   https://www.99acres.com/3-bhk-bedroom-resident...   \n",
       "4   https://www.99acres.com/2-bhk-bedroom-resident...   \n",
       "5   https://www.99acres.com/3-bhk-bedroom-resident...   \n",
       "6   https://www.99acres.com/4-bhk-bedroom-resident...   \n",
       "7   https://www.99acres.com/4-bhk-bedroom-resident...   \n",
       "8   https://www.99acres.com/3-bhk-bedroom-resident...   \n",
       "9   https://www.99acres.com/3-bhk-bedroom-resident...   \n",
       "10  https://www.99acres.com/3-bhk-bedroom-resident...   \n",
       "11  https://www.99acres.com/2-bhk-bedroom-resident...   \n",
       "12  https://www.99acres.com/3-bhk-bedroom-resident...   \n",
       "13  https://www.99acres.com/3-bhk-bedroom-resident...   \n",
       "14  https://www.99acres.com/residential-land-for-s...   \n",
       "15  https://www.99acres.com/4-bhk-bedroom-resident...   \n",
       "16  https://www.99acres.com/3-bhk-bedroom-resident...   \n",
       "17  https://www.99acres.com/3-bhk-bedroom-resident...   \n",
       "18  https://www.99acres.com/3-bhk-bedroom-resident...   \n",
       "19  https://www.99acres.com/3-bhk-bedroom-resident...   \n",
       "20  https://www.99acres.com/4-bhk-bedroom-resident...   \n",
       "21  https://www.99acres.com/4-bhk-bedroom-resident...   \n",
       "22  https://www.99acres.com/3-bhk-bedroom-resident...   \n",
       "23  https://www.99acres.com/2-bhk-bedroom-resident...   \n",
       "24  https://www.99acres.com/2-bhk-bedroom-resident...   \n",
       "\n",
       "                                                title  \\\n",
       "0            3 BHK Residential Apartment in Naranpura   \n",
       "1                 3 BHK Residential Apartment in Gota   \n",
       "2                2 BHK Residential Apartment in Shela   \n",
       "3               3 BHK Residential Apartment in Zundal   \n",
       "4              2 BHK Residential Apartment in Godhavi   \n",
       "5                3 BHK Residential Apartment in Shela   \n",
       "6             4 BHK Residential Apartment in Jagatpur   \n",
       "7              4 BHK Residential Apartment in Thaltej   \n",
       "8          3 BHK Residential Apartment in South Bopal   \n",
       "9           3 BHK Residential Apartment in Shantipura   \n",
       "10                3 BHK Residential Apartment in Gota   \n",
       "11         2 BHK Residential Apartment in South Bopal   \n",
       "12             3 BHK Residential Apartment in Kudasan   \n",
       "13  3 BHK Residential Apartment in Sindhu Bhavan Road   \n",
       "14  Residential land / Plot in Sanand Nalsarovar Road   \n",
       "15           4 BHK Residential Apartment in Vastrapur   \n",
       "16               3 BHK Residential Apartment in Shela   \n",
       "17             3 BHK Residential Apartment in Isanpur   \n",
       "18              3 BHK Residential Apartment in Tragad   \n",
       "19           3 BHK Residential Apartment in Vastrapur   \n",
       "20           4 BHK Residential Apartment in Naranpura   \n",
       "21               4 BHK Residential Apartment in Ambli   \n",
       "22           3 BHK Residential Apartment in Naranpura   \n",
       "23              2 BHK Residential Apartment in Tragad   \n",
       "24           2 BHK Residential Apartment in Changodar   \n",
       "\n",
       "                                prices                       location  \\\n",
       "0                    ₹ 1.11 Cr Onwards                  Ekta Festival   \n",
       "1               ₹ 85 Lac₹ 4,088/sq.ft.                   Aristo Crest   \n",
       "2                   ₹ 54.5 Lac Onwards                 Anand Elegance   \n",
       "3                 ₹ 50.76  - 52.49 Lac               Vivaan Elementos   \n",
       "4   ₹ 27.35  - 29.35 Lac₹ 3,884/sq.ft.               Hari Om Elegance   \n",
       "5                           ₹ 54.5 Lac               Vishwanath Samam   \n",
       "6                             ₹ 1.6 Cr          Avirat Silver Luxuria   \n",
       "7      ₹ 2.62  - 2.72 Cr₹ 7,559/sq.ft.         Sahajanand Casa Amplio   \n",
       "8                     Price on Request               Palladian Greens   \n",
       "9            ₹ 42.51 Lac₹ 2,742/sq.ft.       Rang Reality Seattle Sky   \n",
       "10      ₹ 1.06  - 1.4 Cr₹ 5,608/sq.ft.                         Skylon   \n",
       "11                    Price on Request               Palladian Greens   \n",
       "12                    Price on Request           Arpan Radhe Infinity   \n",
       "13                    Price on Request                Captown Enhance   \n",
       "14                    Price on Request                  Suramya Abode   \n",
       "15                            ₹ 1.5 Cr     Sheetal Westpark Residency   \n",
       "16                         ₹ 42.28 Lac                  Shilp Revanta   \n",
       "17                    Price on Request           Sheladia Empire Evok   \n",
       "18                    Price on Request  Himalaya Mainland Pinnacle II   \n",
       "19                 ₹ 98.27 Lac Onwards     Sheetal Westpark Residency   \n",
       "20                            ₹ 1.7 Cr               Satyam Skyline 2   \n",
       "21                    Price on Request          Synthesis Altius Vibe   \n",
       "22                   ₹ 1.05 Cr Onwards               Satyam Skyline 2   \n",
       "23                    Price on Request  Himalaya Mainland Pinnacle II   \n",
       "24           ₹ 22.57 Lac₹ 2,458/sq.ft.                       Sarjan 2   \n",
       "\n",
       "            type                                               area  \\\n",
       "0   3 BHK3 Baths     1,209-1,218 sq.ft. (112-113 sq.m.) Carpet Area   \n",
       "1   3 BHK3 Baths       2,079 sq.ft. (193 sq.m.) Super built-up Area   \n",
       "2          2 BHK  1,405-1,495 sq.ft. (131-139 sq.m.) Super built...   \n",
       "3   3 BHK3 Baths           822-850 sq.ft. (76-79 sq.m.) Carpet Area   \n",
       "4   2 BHK2 Baths           702-760 sq.ft. (65-71 sq.m.) Carpet Area   \n",
       "5   3 BHK3 Baths       1,500 sq.ft. (139 sq.m.) Super built-up Area   \n",
       "6   4 BHK4 Baths       4,150 sq.ft. (386 sq.m.) Super built-up Area   \n",
       "7   4 BHK4 Baths  3,464-3,600 sq.ft. (322-334 sq.m.) Super built...   \n",
       "8          3 BHK  1,440-1,485 sq.ft. (134-138 sq.m.) Super built...   \n",
       "9   3 BHK3 Baths       1,550 sq.ft. (144 sq.m.) Super built-up Area   \n",
       "10  3 BHK3 Baths  1,890-2,502 sq.ft. (176-232 sq.m.) Super built...   \n",
       "11         2 BHK  1,125-1,251 sq.ft. (105-116 sq.m.) Super built...   \n",
       "12  3 BHK3 Baths             1,350 sq.ft. (125 sq.m.) Built-up Area   \n",
       "13         3 BHK       1,651 sq.ft. (153 sq.m.) Super built-up Area   \n",
       "14                   3,600-27,000 sq.ft. (334-2508 sq.m.) Plot Area   \n",
       "15  4 BHK4 Baths       2,415 sq.ft. (224 sq.m.) Super built-up Area   \n",
       "16         3 BHK       1,510 sq.ft. (140 sq.m.) Super built-up Area   \n",
       "17         3 BHK       1,672 sq.ft. (155 sq.m.) Super built-up Area   \n",
       "18  3 BHK2 Baths           746-765 sq.ft. (69-71 sq.m.) Carpet Area   \n",
       "19  3 BHK3 Baths  1,585-2,020 sq.ft. (147-188 sq.m.) Super built...   \n",
       "20  4 BHK4 Baths       2,705 sq.ft. (251 sq.m.) Super built-up Area   \n",
       "21  4 BHK6 Baths               3,046 sq.ft. (283 sq.m.) Carpet Area   \n",
       "22  3 BHK3 Baths  1,672-1,912 sq.ft. (155-178 sq.m.) Super built...   \n",
       "23  2 BHK2 Baths           602-645 sq.ft. (56-60 sq.m.) Carpet Area   \n",
       "24  2 BHK2 Baths          918 sq.ft. (85 sq.m.) Super built-up Area   \n",
       "\n",
       "                                                dates  \n",
       "0                 Posted on 04th Feb, 2021 by Builder  \n",
       "1   Posted on 13th Apr, 2021 by RERA Registered De...  \n",
       "2                 Posted on 04th Jun, 2021 by Builder  \n",
       "3                 Posted on 31st May, 2021 by Builder  \n",
       "4                 Posted on 14th May, 2021 by Builder  \n",
       "5                 Posted on 25th May, 2021 by Builder  \n",
       "6                 Posted on 17th Mar, 2021 by Builder  \n",
       "7                 Posted on 01st Mar, 2021 by Builder  \n",
       "8                 Posted on 05th Jun, 2021 by Builder  \n",
       "9                 Posted on 02nd Apr, 2021 by Builder  \n",
       "10                Posted on 23rd Mar, 2021 by Builder  \n",
       "11                Posted on 05th Jun, 2021 by Builder  \n",
       "12                Posted on 08th Feb, 2021 by Builder  \n",
       "13                Posted on 19th Apr, 2021 by Builder  \n",
       "14                Posted on 19th Apr, 2021 by Builder  \n",
       "15                Posted on 08th Apr, 2021 by Builder  \n",
       "16                Posted on 28th Apr, 2021 by Builder  \n",
       "17                Posted on 01st Apr, 2021 by Builder  \n",
       "18                Posted on 08th Feb, 2021 by Builder  \n",
       "19                Posted on 08th Apr, 2021 by Builder  \n",
       "20                Posted on 07th Apr, 2021 by Builder  \n",
       "21                Posted on 19th Apr, 2021 by Builder  \n",
       "22                Posted on 07th Apr, 2021 by Builder  \n",
       "23                Posted on 08th Feb, 2021 by Builder  \n",
       "24                Posted on 07th Apr, 2021 by Builder  "
      ],
      "text/html": "<div>\n<style scoped>\n    .dataframe tbody tr th:only-of-type {\n        vertical-align: middle;\n    }\n\n    .dataframe tbody tr th {\n        vertical-align: top;\n    }\n\n    .dataframe thead th {\n        text-align: right;\n    }\n</style>\n<table border=\"1\" class=\"dataframe\">\n  <thead>\n    <tr style=\"text-align: right;\">\n      <th></th>\n      <th>link</th>\n      <th>title</th>\n      <th>prices</th>\n      <th>location</th>\n      <th>type</th>\n      <th>area</th>\n      <th>dates</th>\n    </tr>\n  </thead>\n  <tbody>\n    <tr>\n      <th>0</th>\n      <td>https://www.99acres.com/3-bhk-bedroom-resident...</td>\n      <td>3 BHK Residential Apartment in Naranpura</td>\n      <td>₹ 1.11 Cr Onwards</td>\n      <td>Ekta Festival</td>\n      <td>3 BHK3 Baths</td>\n      <td>1,209-1,218 sq.ft. (112-113 sq.m.) Carpet Area</td>\n      <td>Posted on 04th Feb, 2021 by Builder</td>\n    </tr>\n    <tr>\n      <th>1</th>\n      <td>https://www.99acres.com/3-bhk-bedroom-resident...</td>\n      <td>3 BHK Residential Apartment in Gota</td>\n      <td>₹ 85 Lac₹ 4,088/sq.ft.</td>\n      <td>Aristo Crest</td>\n      <td>3 BHK3 Baths</td>\n      <td>2,079 sq.ft. (193 sq.m.) Super built-up Area</td>\n      <td>Posted on 13th Apr, 2021 by RERA Registered De...</td>\n    </tr>\n    <tr>\n      <th>2</th>\n      <td>https://www.99acres.com/2-bhk-bedroom-resident...</td>\n      <td>2 BHK Residential Apartment in Shela</td>\n      <td>₹ 54.5 Lac Onwards</td>\n      <td>Anand Elegance</td>\n      <td>2 BHK</td>\n      <td>1,405-1,495 sq.ft. (131-139 sq.m.) Super built...</td>\n      <td>Posted on 04th Jun, 2021 by Builder</td>\n    </tr>\n    <tr>\n      <th>3</th>\n      <td>https://www.99acres.com/3-bhk-bedroom-resident...</td>\n      <td>3 BHK Residential Apartment in Zundal</td>\n      <td>₹ 50.76  - 52.49 Lac</td>\n      <td>Vivaan Elementos</td>\n      <td>3 BHK3 Baths</td>\n      <td>822-850 sq.ft. (76-79 sq.m.) Carpet Area</td>\n      <td>Posted on 31st May, 2021 by Builder</td>\n    </tr>\n    <tr>\n      <th>4</th>\n      <td>https://www.99acres.com/2-bhk-bedroom-resident...</td>\n      <td>2 BHK Residential Apartment in Godhavi</td>\n      <td>₹ 27.35  - 29.35 Lac₹ 3,884/sq.ft.</td>\n      <td>Hari Om Elegance</td>\n      <td>2 BHK2 Baths</td>\n      <td>702-760 sq.ft. (65-71 sq.m.) Carpet Area</td>\n      <td>Posted on 14th May, 2021 by Builder</td>\n    </tr>\n    <tr>\n      <th>5</th>\n      <td>https://www.99acres.com/3-bhk-bedroom-resident...</td>\n      <td>3 BHK Residential Apartment in Shela</td>\n      <td>₹ 54.5 Lac</td>\n      <td>Vishwanath Samam</td>\n      <td>3 BHK3 Baths</td>\n      <td>1,500 sq.ft. (139 sq.m.) Super built-up Area</td>\n      <td>Posted on 25th May, 2021 by Builder</td>\n    </tr>\n    <tr>\n      <th>6</th>\n      <td>https://www.99acres.com/4-bhk-bedroom-resident...</td>\n      <td>4 BHK Residential Apartment in Jagatpur</td>\n      <td>₹ 1.6 Cr</td>\n      <td>Avirat Silver Luxuria</td>\n      <td>4 BHK4 Baths</td>\n      <td>4,150 sq.ft. (386 sq.m.) Super built-up Area</td>\n      <td>Posted on 17th Mar, 2021 by Builder</td>\n    </tr>\n    <tr>\n      <th>7</th>\n      <td>https://www.99acres.com/4-bhk-bedroom-resident...</td>\n      <td>4 BHK Residential Apartment in Thaltej</td>\n      <td>₹ 2.62  - 2.72 Cr₹ 7,559/sq.ft.</td>\n      <td>Sahajanand Casa Amplio</td>\n      <td>4 BHK4 Baths</td>\n      <td>3,464-3,600 sq.ft. (322-334 sq.m.) Super built...</td>\n      <td>Posted on 01st Mar, 2021 by Builder</td>\n    </tr>\n    <tr>\n      <th>8</th>\n      <td>https://www.99acres.com/3-bhk-bedroom-resident...</td>\n      <td>3 BHK Residential Apartment in South Bopal</td>\n      <td>Price on Request</td>\n      <td>Palladian Greens</td>\n      <td>3 BHK</td>\n      <td>1,440-1,485 sq.ft. (134-138 sq.m.) Super built...</td>\n      <td>Posted on 05th Jun, 2021 by Builder</td>\n    </tr>\n    <tr>\n      <th>9</th>\n      <td>https://www.99acres.com/3-bhk-bedroom-resident...</td>\n      <td>3 BHK Residential Apartment in Shantipura</td>\n      <td>₹ 42.51 Lac₹ 2,742/sq.ft.</td>\n      <td>Rang Reality Seattle Sky</td>\n      <td>3 BHK3 Baths</td>\n      <td>1,550 sq.ft. (144 sq.m.) Super built-up Area</td>\n      <td>Posted on 02nd Apr, 2021 by Builder</td>\n    </tr>\n    <tr>\n      <th>10</th>\n      <td>https://www.99acres.com/3-bhk-bedroom-resident...</td>\n      <td>3 BHK Residential Apartment in Gota</td>\n      <td>₹ 1.06  - 1.4 Cr₹ 5,608/sq.ft.</td>\n      <td>Skylon</td>\n      <td>3 BHK3 Baths</td>\n      <td>1,890-2,502 sq.ft. (176-232 sq.m.) Super built...</td>\n      <td>Posted on 23rd Mar, 2021 by Builder</td>\n    </tr>\n    <tr>\n      <th>11</th>\n      <td>https://www.99acres.com/2-bhk-bedroom-resident...</td>\n      <td>2 BHK Residential Apartment in South Bopal</td>\n      <td>Price on Request</td>\n      <td>Palladian Greens</td>\n      <td>2 BHK</td>\n      <td>1,125-1,251 sq.ft. (105-116 sq.m.) Super built...</td>\n      <td>Posted on 05th Jun, 2021 by Builder</td>\n    </tr>\n    <tr>\n      <th>12</th>\n      <td>https://www.99acres.com/3-bhk-bedroom-resident...</td>\n      <td>3 BHK Residential Apartment in Kudasan</td>\n      <td>Price on Request</td>\n      <td>Arpan Radhe Infinity</td>\n      <td>3 BHK3 Baths</td>\n      <td>1,350 sq.ft. (125 sq.m.) Built-up Area</td>\n      <td>Posted on 08th Feb, 2021 by Builder</td>\n    </tr>\n    <tr>\n      <th>13</th>\n      <td>https://www.99acres.com/3-bhk-bedroom-resident...</td>\n      <td>3 BHK Residential Apartment in Sindhu Bhavan Road</td>\n      <td>Price on Request</td>\n      <td>Captown Enhance</td>\n      <td>3 BHK</td>\n      <td>1,651 sq.ft. (153 sq.m.) Super built-up Area</td>\n      <td>Posted on 19th Apr, 2021 by Builder</td>\n    </tr>\n    <tr>\n      <th>14</th>\n      <td>https://www.99acres.com/residential-land-for-s...</td>\n      <td>Residential land / Plot in Sanand Nalsarovar Road</td>\n      <td>Price on Request</td>\n      <td>Suramya Abode</td>\n      <td></td>\n      <td>3,600-27,000 sq.ft. (334-2508 sq.m.) Plot Area</td>\n      <td>Posted on 19th Apr, 2021 by Builder</td>\n    </tr>\n    <tr>\n      <th>15</th>\n      <td>https://www.99acres.com/4-bhk-bedroom-resident...</td>\n      <td>4 BHK Residential Apartment in Vastrapur</td>\n      <td>₹ 1.5 Cr</td>\n      <td>Sheetal Westpark Residency</td>\n      <td>4 BHK4 Baths</td>\n      <td>2,415 sq.ft. (224 sq.m.) Super built-up Area</td>\n      <td>Posted on 08th Apr, 2021 by Builder</td>\n    </tr>\n    <tr>\n      <th>16</th>\n      <td>https://www.99acres.com/3-bhk-bedroom-resident...</td>\n      <td>3 BHK Residential Apartment in Shela</td>\n      <td>₹ 42.28 Lac</td>\n      <td>Shilp Revanta</td>\n      <td>3 BHK</td>\n      <td>1,510 sq.ft. (140 sq.m.) Super built-up Area</td>\n      <td>Posted on 28th Apr, 2021 by Builder</td>\n    </tr>\n    <tr>\n      <th>17</th>\n      <td>https://www.99acres.com/3-bhk-bedroom-resident...</td>\n      <td>3 BHK Residential Apartment in Isanpur</td>\n      <td>Price on Request</td>\n      <td>Sheladia Empire Evok</td>\n      <td>3 BHK</td>\n      <td>1,672 sq.ft. (155 sq.m.) Super built-up Area</td>\n      <td>Posted on 01st Apr, 2021 by Builder</td>\n    </tr>\n    <tr>\n      <th>18</th>\n      <td>https://www.99acres.com/3-bhk-bedroom-resident...</td>\n      <td>3 BHK Residential Apartment in Tragad</td>\n      <td>Price on Request</td>\n      <td>Himalaya Mainland Pinnacle II</td>\n      <td>3 BHK2 Baths</td>\n      <td>746-765 sq.ft. (69-71 sq.m.) Carpet Area</td>\n      <td>Posted on 08th Feb, 2021 by Builder</td>\n    </tr>\n    <tr>\n      <th>19</th>\n      <td>https://www.99acres.com/3-bhk-bedroom-resident...</td>\n      <td>3 BHK Residential Apartment in Vastrapur</td>\n      <td>₹ 98.27 Lac Onwards</td>\n      <td>Sheetal Westpark Residency</td>\n      <td>3 BHK3 Baths</td>\n      <td>1,585-2,020 sq.ft. (147-188 sq.m.) Super built...</td>\n      <td>Posted on 08th Apr, 2021 by Builder</td>\n    </tr>\n    <tr>\n      <th>20</th>\n      <td>https://www.99acres.com/4-bhk-bedroom-resident...</td>\n      <td>4 BHK Residential Apartment in Naranpura</td>\n      <td>₹ 1.7 Cr</td>\n      <td>Satyam Skyline 2</td>\n      <td>4 BHK4 Baths</td>\n      <td>2,705 sq.ft. (251 sq.m.) Super built-up Area</td>\n      <td>Posted on 07th Apr, 2021 by Builder</td>\n    </tr>\n    <tr>\n      <th>21</th>\n      <td>https://www.99acres.com/4-bhk-bedroom-resident...</td>\n      <td>4 BHK Residential Apartment in Ambli</td>\n      <td>Price on Request</td>\n      <td>Synthesis Altius Vibe</td>\n      <td>4 BHK6 Baths</td>\n      <td>3,046 sq.ft. (283 sq.m.) Carpet Area</td>\n      <td>Posted on 19th Apr, 2021 by Builder</td>\n    </tr>\n    <tr>\n      <th>22</th>\n      <td>https://www.99acres.com/3-bhk-bedroom-resident...</td>\n      <td>3 BHK Residential Apartment in Naranpura</td>\n      <td>₹ 1.05 Cr Onwards</td>\n      <td>Satyam Skyline 2</td>\n      <td>3 BHK3 Baths</td>\n      <td>1,672-1,912 sq.ft. (155-178 sq.m.) Super built...</td>\n      <td>Posted on 07th Apr, 2021 by Builder</td>\n    </tr>\n    <tr>\n      <th>23</th>\n      <td>https://www.99acres.com/2-bhk-bedroom-resident...</td>\n      <td>2 BHK Residential Apartment in Tragad</td>\n      <td>Price on Request</td>\n      <td>Himalaya Mainland Pinnacle II</td>\n      <td>2 BHK2 Baths</td>\n      <td>602-645 sq.ft. (56-60 sq.m.) Carpet Area</td>\n      <td>Posted on 08th Feb, 2021 by Builder</td>\n    </tr>\n    <tr>\n      <th>24</th>\n      <td>https://www.99acres.com/2-bhk-bedroom-resident...</td>\n      <td>2 BHK Residential Apartment in Changodar</td>\n      <td>₹ 22.57 Lac₹ 2,458/sq.ft.</td>\n      <td>Sarjan 2</td>\n      <td>2 BHK2 Baths</td>\n      <td>918 sq.ft. (85 sq.m.) Super built-up Area</td>\n      <td>Posted on 07th Apr, 2021 by Builder</td>\n    </tr>\n  </tbody>\n</table>\n</div>"
     },
     "metadata": {},
     "execution_count": 198
    }
   ],
   "source": [
    "\n",
    "the_data=frame(s)\n",
    "the_data"
   ]
  },
  {
   "cell_type": "code",
   "execution_count": 12,
   "metadata": {},
   "outputs": [
    {
     "output_type": "error",
     "ename": "NameError",
     "evalue": "name 'jshffjw' is not defined",
     "traceback": [
      "\u001b[1;31m---------------------------------------------------------------------------\u001b[0m",
      "\u001b[1;31mNameError\u001b[0m                                 Traceback (most recent call last)",
      "\u001b[1;32m<ipython-input-12-320130bf46f0>\u001b[0m in \u001b[0;36m<module>\u001b[1;34m\u001b[0m\n\u001b[1;32m----> 1\u001b[1;33m \u001b[0mjshffjw\u001b[0m\u001b[1;33m\u001b[0m\u001b[1;33m\u001b[0m\u001b[0m\n\u001b[0m",
      "\u001b[1;31mNameError\u001b[0m: name 'jshffjw' is not defined"
     ]
    }
   ],
   "source": []
  },
  {
   "cell_type": "code",
   "execution_count": 199,
   "metadata": {},
   "outputs": [
    {
     "output_type": "stream",
     "name": "stdout",
     "text": [
      "2\n",
      "Posted on 01st Mar, 2021 by Builder\n",
      "Posted on 04th Feb, 2021 by Builder\n",
      "Posted on 04th Jun, 2021 by Builder\n",
      "Posted on 31st May, 2021 by Builder\n",
      "Posted on 14th May, 2021 by Builder\n",
      "Posted on 25th May, 2021 by Builder\n",
      "Posted on 17th Mar, 2021 by Builder\n",
      "Posted on 01st Mar, 2021 by Builder\n",
      "Posted on 05th Jun, 2021 by Builder\n",
      "Posted on 02nd Apr, 2021 by Builder\n",
      "Posted on 23rd Mar, 2021 by Builder\n",
      "Posted on 05th Jun, 2021 by Builder\n",
      "Posted on 08th Feb, 2021 by Builder\n",
      "Posted on 19th Apr, 2021 by Builder\n",
      "Posted on 19th Apr, 2021 by Builder\n",
      "Posted on 08th Apr, 2021 by Builder\n",
      "Posted on 28th Apr, 2021 by Builder\n",
      "Posted on 01st Apr, 2021 by Builder\n",
      "Posted on 08th Feb, 2021 by Builder\n",
      "Posted on 08th Apr, 2021 by Builder\n",
      "Posted on 07th Apr, 2021 by Builder\n",
      "Posted on 19th Apr, 2021 by Builder\n",
      "Posted on 07th Apr, 2021 by Builder\n",
      "Posted on 08th Feb, 2021 by Builder\n",
      "Posted on 07th Apr, 2021 by Builder\n",
      "Posted on 07th Apr, 2021 by Builder\n",
      "3\n",
      "4\n",
      "5\n",
      "6\n",
      "7\n",
      "8\n",
      "9\n",
      "10\n"
     ]
    }
   ],
   "source": [
    "from selenium import webdriver\n",
    "from selenium.webdriver.common.keys import Keys\n",
    "from time import sleep\n",
    "the_data_pull=[]\n",
    "browser = webdriver.Firefox(executable_path=r\"C:\\Users\\swaraj\\Desktop\\codes\\modules\\geckodriver-v0.29.1-win64\\geckodriver\")\n",
    "browser.get(url)\n",
    "# element = browser.find_element_by_link_text('Newest First')\n",
    "# k=element.click()\n",
    "for i in range(2,11):\n",
    "    \n",
    "   \n",
    "        i=str(i)\n",
    "        print(i)\n",
    "        try:\n",
    "            \n",
    "            element = browser.find_element_by_link_text(i)\n",
    "            k=element.click()\n",
    "            s=BeautifulSoup(browser.page_source,'lxml')\n",
    "            browser.execute_script(\"window.scrollTo(0, document.body.scrollHeight);\")\n",
    "\n",
    "            s=BeautifulSoup(browser.page_source,'lxml')\n",
    "            THE_DA=frame(s)\n",
    "            the_data_pull.append(THE_DA)\n",
    "        except:\n",
    "            browser.execute_script(\"window.scrollTo(0, document.body.scrollHeight);\")\n",
    "\n",
    "            s=BeautifulSoup(browser.page_source,'lxml')\n",
    "            THE_DA=frame(s)\n",
    "            the_data_pull.append(THE_DA)\n",
    "        # else :\n",
    "        #         url='https://www.99acres.com/property-for-rent-in-pune-ffid-page-10'               \n",
    "        #         i=str(i)\n",
    "        #         print(i)\n",
    "        #         url=url[:url.index('page')+5]\n",
    "        #         url=url+i\n",
    "        #         print(url)\n",
    "        #         browser.get(url)\n",
    "        #         s=BeautifulSoup(browser.page_source,'lxml')\n",
    "        #         THE_DA=frame(s)\n",
    "                \n",
    "        #         print(THE_DA.shape)\n",
    "        #         the_data_pull.append(THE_DA)\n",
    "\n",
    "\n",
    "        sleep(2)\n",
    "browser.quit()"
   ]
  },
  {
   "cell_type": "code",
   "execution_count": 200,
   "metadata": {
    "tags": []
   },
   "outputs": [],
   "source": [
    "the_data_pull.insert(0,the_data)\n",
    "result = pd.concat(the_data_pull)"
   ]
  },
  {
   "cell_type": "code",
   "execution_count": 201,
   "metadata": {},
   "outputs": [],
   "source": [
    "result.to_csv('hjjolkkjj99acers2.csv')\n",
    "result.shape"
   ]
  },
  {
   "cell_type": "code",
   "execution_count": 202,
   "metadata": {},
   "outputs": [
    {
     "output_type": "stream",
     "name": "stdout",
     "text": [
      "₹ 1.11 Cr Onwards\n₹ 85 Lac₹ 4,088/sq.ft.\n₹ 54.5 Lac Onwards\n₹ 50.76  - 52.49 Lac\n₹ 27.35  - 29.35 Lac₹ 3,884/sq.ft.\n₹ 54.5 Lac\n₹ 1.6 Cr\n₹ 2.62  - 2.72 Cr₹ 7,559/sq.ft.\nPrice on Request\n₹ 42.51 Lac₹ 2,742/sq.ft.\n₹ 1.06  - 1.4 Cr₹ 5,608/sq.ft.\nPrice on Request\nPrice on Request\nPrice on Request\nPrice on Request\n₹ 1.5 Cr\n₹ 42.28 Lac\nPrice on Request\nPrice on Request\n₹ 98.27 Lac Onwards\n₹ 1.7 Cr\nPrice on Request\n₹ 1.05 Cr Onwards\nPrice on Request\n₹ 22.57 Lac₹ 2,458/sq.ft.\nPrice on Request\n₹ 1.11 Cr Onwards\n₹ 54.5 Lac Onwards\n₹ 50.76  - 52.49 Lac\n₹ 27.35  - 29.35 Lac₹ 3,884/sq.ft.\n₹ 54.5 Lac\n₹ 1.6 Cr\n₹ 2.62  - 2.72 Cr₹ 7,559/sq.ft.\nPrice on Request\n₹ 42.51 Lac₹ 2,742/sq.ft.\n₹ 1.06  - 1.4 Cr₹ 5,608/sq.ft.\nPrice on Request\nPrice on Request\nPrice on Request\nPrice on Request\n₹ 1.5 Cr\n₹ 42.28 Lac\nPrice on Request\nPrice on Request\n₹ 98.27 Lac Onwards\n₹ 1.7 Cr\nPrice on Request\n₹ 1.05 Cr Onwards\nPrice on Request\n₹ 22.57 Lac₹ 2,458/sq.ft.\n₹ 22.57 Lac₹ 2,458/sq.ft.\n"
     ]
    }
   ],
   "source": [
    "# for u in result.prices:\n",
    "#     print(u)"
   ]
  },
  {
   "cell_type": "code",
   "execution_count": 203,
   "metadata": {},
   "outputs": [
    {
     "output_type": "execute_result",
     "data": {
      "text/plain": [
       "0     <class 'str'>\n",
       "1     <class 'str'>\n",
       "2     <class 'str'>\n",
       "3     <class 'str'>\n",
       "4     <class 'str'>\n",
       "5     <class 'str'>\n",
       "6     <class 'str'>\n",
       "7     <class 'str'>\n",
       "8     <class 'str'>\n",
       "9     <class 'str'>\n",
       "10    <class 'str'>\n",
       "11    <class 'str'>\n",
       "12    <class 'str'>\n",
       "13    <class 'str'>\n",
       "14    <class 'str'>\n",
       "15    <class 'str'>\n",
       "16    <class 'str'>\n",
       "17    <class 'str'>\n",
       "18    <class 'str'>\n",
       "19    <class 'str'>\n",
       "20    <class 'str'>\n",
       "21    <class 'str'>\n",
       "22    <class 'str'>\n",
       "23    <class 'str'>\n",
       "24    <class 'str'>\n",
       "0     <class 'str'>\n",
       "1     <class 'str'>\n",
       "2     <class 'str'>\n",
       "3     <class 'str'>\n",
       "4     <class 'str'>\n",
       "5     <class 'str'>\n",
       "6     <class 'str'>\n",
       "7     <class 'str'>\n",
       "8     <class 'str'>\n",
       "9     <class 'str'>\n",
       "10    <class 'str'>\n",
       "11    <class 'str'>\n",
       "12    <class 'str'>\n",
       "13    <class 'str'>\n",
       "14    <class 'str'>\n",
       "15    <class 'str'>\n",
       "16    <class 'str'>\n",
       "17    <class 'str'>\n",
       "18    <class 'str'>\n",
       "19    <class 'str'>\n",
       "20    <class 'str'>\n",
       "21    <class 'str'>\n",
       "22    <class 'str'>\n",
       "23    <class 'str'>\n",
       "24    <class 'str'>\n",
       "25    <class 'str'>\n",
       "Name: prices, dtype: object"
      ]
     },
     "metadata": {},
     "execution_count": 203
    }
   ],
   "source": [
    "\n",
    "# result['prices'].apply(lambda x:type(x))"
   ]
  },
  {
   "cell_type": "code",
   "execution_count": 204,
   "metadata": {},
   "outputs": [],
   "source": [
    "# result=result.dropna(subset=['prices'])\n",
    "# k=result['prices'].apply(lambda x: re.sub('[^A-Za-z0-9.]+', ' ', x))"
   ]
  },
  {
   "cell_type": "code",
   "execution_count": 205,
   "metadata": {},
   "outputs": [
    {
     "output_type": "execute_result",
     "data": {
      "text/plain": [
       "0                   1.11 Cr Onwards\n",
       "1               85 Lac 4 088 sq.ft.\n",
       "2                  54.5 Lac Onwards\n",
       "3                   50.76 52.49 Lac\n",
       "4      27.35 29.35 Lac 3 884 sq.ft.\n",
       "5                          54.5 Lac\n",
       "6                            1.6 Cr\n",
       "7         2.62 2.72 Cr 7 559 sq.ft.\n",
       "8                  Price on Request\n",
       "9            42.51 Lac 2 742 sq.ft.\n",
       "10         1.06 1.4 Cr 5 608 sq.ft.\n",
       "11                 Price on Request\n",
       "12                 Price on Request\n",
       "13                 Price on Request\n",
       "14                 Price on Request\n",
       "15                           1.5 Cr\n",
       "16                        42.28 Lac\n",
       "17                 Price on Request\n",
       "18                 Price on Request\n",
       "19                98.27 Lac Onwards\n",
       "20                           1.7 Cr\n",
       "21                 Price on Request\n",
       "22                  1.05 Cr Onwards\n",
       "23                 Price on Request\n",
       "24           22.57 Lac 2 458 sq.ft.\n",
       "0                  Price on Request\n",
       "1                   1.11 Cr Onwards\n",
       "2                  54.5 Lac Onwards\n",
       "3                   50.76 52.49 Lac\n",
       "4      27.35 29.35 Lac 3 884 sq.ft.\n",
       "5                          54.5 Lac\n",
       "6                            1.6 Cr\n",
       "7         2.62 2.72 Cr 7 559 sq.ft.\n",
       "8                  Price on Request\n",
       "9            42.51 Lac 2 742 sq.ft.\n",
       "10         1.06 1.4 Cr 5 608 sq.ft.\n",
       "11                 Price on Request\n",
       "12                 Price on Request\n",
       "13                 Price on Request\n",
       "14                 Price on Request\n",
       "15                           1.5 Cr\n",
       "16                        42.28 Lac\n",
       "17                 Price on Request\n",
       "18                 Price on Request\n",
       "19                98.27 Lac Onwards\n",
       "20                           1.7 Cr\n",
       "21                 Price on Request\n",
       "22                  1.05 Cr Onwards\n",
       "23                 Price on Request\n",
       "24           22.57 Lac 2 458 sq.ft.\n",
       "25           22.57 Lac 2 458 sq.ft.\n",
       "Name: prices, dtype: object"
      ]
     },
     "metadata": {},
     "execution_count": 205
    }
   ],
   "source": [
    "k"
   ]
  },
  {
   "cell_type": "code",
   "execution_count": 206,
   "metadata": {},
   "outputs": [
    {
     "output_type": "execute_result",
     "data": {
      "text/plain": [
       "[11100000.000000002,\n",
       " 8500000.0,\n",
       " 5450000.0,\n",
       " 5076000.0,\n",
       " 2735000.0,\n",
       " 5450000.0,\n",
       " 16000000.0,\n",
       " 26200000.0,\n",
       " 0,\n",
       " 4251000.0,\n",
       " 10600000.0,\n",
       " 0,\n",
       " 0,\n",
       " 0,\n",
       " 0,\n",
       " 15000000.0,\n",
       " 4228000.0,\n",
       " 0,\n",
       " 0,\n",
       " 9827000.0,\n",
       " 17000000.0,\n",
       " 0,\n",
       " 10500000.0,\n",
       " 0,\n",
       " 2257000.0,\n",
       " 0,\n",
       " 11100000.000000002,\n",
       " 5450000.0,\n",
       " 5076000.0,\n",
       " 2735000.0,\n",
       " 5450000.0,\n",
       " 16000000.0,\n",
       " 26200000.0,\n",
       " 0,\n",
       " 4251000.0,\n",
       " 10600000.0,\n",
       " 0,\n",
       " 0,\n",
       " 0,\n",
       " 0,\n",
       " 15000000.0,\n",
       " 4228000.0,\n",
       " 0,\n",
       " 0,\n",
       " 9827000.0,\n",
       " 17000000.0,\n",
       " 0,\n",
       " 10500000.0,\n",
       " 0,\n",
       " 2257000.0,\n",
       " 2257000.0]"
      ]
     },
     "metadata": {},
     "execution_count": 206
    }
   ],
   "source": [
    "# j=[]\n",
    "# for x in k:\n",
    "#     x=x.split()\n",
    "#     if 'lacs' in x:\n",
    "#         x=float(x[0])*100000\n",
    "#         j.append(x)\n",
    "#     elif 'Lac' in x:\n",
    "#         x=float(x[0])*100000\n",
    "#         j.append(x)\n",
    "#     elif 'Cr' in x:\n",
    "#         x=float(x[0])*10000000\n",
    "#         j.append(x)\n",
    "#     elif 'lac' in x:\n",
    "#         x=float(x[0])*100000\n",
    "#         j.append(x)\n",
    "\n",
    "#     else:\n",
    "#         if len(x)==1:\n",
    "#             try:\n",
    "#                 x=float(x[0])*100000\n",
    "#                 j.append(x)\n",
    "#             except:\n",
    "#                 x=0\n",
    "#                 j.append(x)\n",
    "#         else:\n",
    "#             x=0\n",
    "#             j.append(x)\n",
    "    \n",
    "\n",
    "# j"
   ]
  },
  {
   "cell_type": "code",
   "execution_count": 207,
   "metadata": {},
   "outputs": [
    {
     "output_type": "execute_result",
     "data": {
      "text/plain": [
       "5923627.450980392"
      ]
     },
     "metadata": {},
     "execution_count": 207
    }
   ],
   "source": [
    "# sum(j)/len(j)"
   ]
  },
  {
   "cell_type": "code",
   "execution_count": 209,
   "metadata": {},
   "outputs": [
    {
     "output_type": "execute_result",
     "data": {
      "text/plain": [
       "9440781.25"
      ]
     },
     "metadata": {},
     "execution_count": 209
    }
   ],
   "source": [
    "# sum(kp)/len(kp)"
   ]
  },
  {
   "cell_type": "code",
   "execution_count": 208,
   "metadata": {},
   "outputs": [],
   "source": [
    "# kp=[]\n",
    "# for i in j:\n",
    "#     if i != 0:\n",
    "#         kp.append(i)"
   ]
  }
 ]
}