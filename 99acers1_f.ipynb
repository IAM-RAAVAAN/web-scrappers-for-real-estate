{
 "metadata": {
  "language_info": {
   "codemirror_mode": {
    "name": "ipython",
    "version": 3
   },
   "file_extension": ".py",
   "mimetype": "text/x-python",
   "name": "python",
   "nbconvert_exporter": "python",
   "pygments_lexer": "ipython3",
   "version": "3.9.2"
  },
  "orig_nbformat": 2,
  "kernelspec": {
   "name": "python392jvsc74a57bd0588b1dd76ca082666fe2f995fff1e9efb2de790f2352d1450e516a9edc988200",
   "display_name": "Python 3.9.2 64-bit"
  },
  "metadata": {
   "interpreter": {
    "hash": "588b1dd76ca082666fe2f995fff1e9efb2de790f2352d1450e516a9edc988200"
   }
  }
 },
 "nbformat": 4,
 "nbformat_minor": 2,
 "cells": [
  {
   "cell_type": "code",
   "execution_count": 18,
   "metadata": {},
   "outputs": [],
   "source": [
    "import pandas as pd \n",
    "import numpy as np \n",
    "import requests\n",
    "import csv \n",
    "import re\n",
    "from bs4 import BeautifulSoup"
   ]
  },
  {
   "cell_type": "code",
   "execution_count": 19,
   "metadata": {},
   "outputs": [],
   "source": [
    "    url='https://www.99acres.com/search/property/rent/pune?city=19&class=O&preference=R&area_unit=1&budget_min=0&res_com=R'\n",
    "    j=requests.get(url)\n",
    "    k=j.text\n",
    "    s=BeautifulSoup(k,'lxml')"
   ]
  },
  {
   "cell_type": "code",
   "execution_count": 20,
   "metadata": {},
   "outputs": [],
   "source": [
    "def titel(s):\n",
    "    titel=[]\n",
    "    link=[]\n",
    "    titel=s.find_all('a',attrs={'class':\"body_med srpTuple__propertyName\"}) \n",
    "    for i in titel:\n",
    "        k=i['href']\n",
    "        #print(i['href'])\n",
    "        link.append(k)\n",
    "        #print(i.text)\n",
    "    z=[]\n",
    "    for i in titel:\n",
    "       z.append(i.text)\n",
    "    d={\n",
    "    'link':link,\n",
    "    'title':z\n",
    "     }\n",
    "    df=pd.DataFrame(d)\n",
    "    return df"
   ]
  },
  {
   "cell_type": "code",
   "execution_count": 21,
   "metadata": {},
   "outputs": [],
   "source": [
    "def loc(s):\n",
    "    location=s.find_all('td',attrs={'class':\"list_header_bold srpTuple__spacer10\"}) \n",
    "    loc=[]\n",
    "    for i in location:\n",
    "        loc.append(i.text)\n",
    "    return loc"
   ]
  },
  {
   "cell_type": "code",
   "execution_count": 22,
   "metadata": {},
   "outputs": [],
   "source": [
    "def prices(s):\n",
    "    prices=s.find_all('td',attrs={'id':\"srp_tuple_price\"}) \n",
    "    k=[]\n",
    "    for i in prices:\n",
    "        j=i.text\n",
    "        j=j.split(' ')\n",
    "        k.append(j[1])\n",
    "    return k"
   ]
  },
  {
   "cell_type": "code",
   "execution_count": 23,
   "metadata": {},
   "outputs": [],
   "source": [
    "def area(s):\n",
    "    area=s.find_all('td',attrs={'id':\"srp_tuple_primary_area\"}) \n",
    "    lis_area=[]\n",
    "    for i in area:\n",
    "        j=i.text\n",
    "        j=j.split(\" \")\n",
    "        lis_area.append(j[0])\n",
    "    return lis_area\n",
    "    "
   ]
  },
  {
   "cell_type": "code",
   "execution_count": 24,
   "metadata": {},
   "outputs": [],
   "source": [
    "def lis__type(s):\n",
    "    type=s.find_all('td',attrs={'id':\"srp_tuple_bedroom\"}) \n",
    "    lis__type=[]\n",
    "    for i in type:\n",
    "        lis__type.append(i.text)\n",
    "        #print(i.text)\n",
    "    return lis__type\n"
   ]
  },
  {
   "cell_type": "code",
   "execution_count": 25,
   "metadata": {},
   "outputs": [],
   "source": [
    "def desc(s):\n",
    "    desc=s.find_all('div',attrs={'id':\"srp_tuple_description\"}) \n",
    "    lis__desc=[]\n",
    "    for i in desc:\n",
    "        lis__desc.append(i.text)\n",
    "        #print(i.text)\n",
    "    return lis__desc"
   ]
  },
  {
   "cell_type": "code",
   "execution_count": 26,
   "metadata": {},
   "outputs": [],
   "source": [
    "def dates(s):\n",
    "    date_of=s.find_all('div',attrs={'class':\"caption_strong_small\"}) \n",
    "    date_li=[]\n",
    "    for i in date_of:\n",
    "        date_li.append(i.text)\n",
    "        #print(i.text)\n",
    "    return date_li"
   ]
  },
  {
   "cell_type": "code",
   "execution_count": 27,
   "metadata": {},
   "outputs": [],
   "source": [
    "def names(s):\n",
    "    name=s.find_all('div',attrs={'class':\"list_header_semiBold\"}) \n",
    "    name_l=[]\n",
    "    for i in name:\n",
    "        name_l.append(i.text)\n",
    "    return  name_l[13:-8]"
   ]
  },
  {
   "cell_type": "code",
   "execution_count": 28,
   "metadata": {},
   "outputs": [],
   "source": [
    "def owners(s):\n",
    "    owner=s.find_all('div',attrs={'class':\"caption_strong_small\"}) \n",
    "    owner_l=[]\n",
    "    for i in owner:\n",
    "        owner_l.append(i.text)\n",
    "    return owner_l"
   ]
  },
  {
   "cell_type": "code",
   "execution_count": 21,
   "metadata": {},
   "outputs": [],
   "source": []
  },
  {
   "cell_type": "code",
   "execution_count": 29,
   "metadata": {},
   "outputs": [],
   "source": [
    "def frame(s):\n",
    "    df=titel(s)\n",
    "    df['prices']=prices(s)\n",
    "    df['location']=loc(s)\n",
    "    df['place']=df.title.apply(lambda x: x[x.index('in'):])\n",
    "    df['type']=lis__type(s)\n",
    "    df['area']=area(s)\n",
    "    #df['text']=desc(s)\n",
    "    df['dates']=dates(s)\n",
    "    df['link']='https://www.99acres.com'+df['link']\n",
    "    #df['owners']=owners(s)\n",
    "    df['names']=names(s)\n",
    "    return df\n"
   ]
  },
  {
   "cell_type": "code",
   "execution_count": 30,
   "metadata": {},
   "outputs": [],
   "source": [
    "frame(s).to_csv(r'C:\\Users\\swaraj\\Desktop\\codes\\working\\99acers2_pa.csv')"
   ]
  },
  {
   "cell_type": "code",
   "execution_count": 31,
   "metadata": {},
   "outputs": [
    {
     "output_type": "execute_result",
     "data": {
      "text/plain": [
       "\"the_data=frame(s)\\nthe_data\\nthe_data['owners']=owner_l\\nthe_data['owners']=the_data['owners'].apply(lambda x:x[x.index('by'):].strip())\\nthe_data['owners']\""
      ]
     },
     "metadata": {},
     "execution_count": 31
    }
   ],
   "source": [
    "\"\"\"the_data=frame(s)\n",
    "the_data\n",
    "the_data['owners']=owner_l\n",
    "the_data['owners']=the_data['owners'].apply(lambda x:x[x.index('by'):].strip())\n",
    "the_data['owners']\"\"\""
   ]
  },
  {
   "cell_type": "code",
   "execution_count": 34,
   "metadata": {},
   "outputs": [],
   "source": [
    "import time"
   ]
  },
  {
   "cell_type": "code",
   "execution_count": 36,
   "metadata": {},
   "outputs": [],
   "source": [
    "from selenium import webdriver\n",
    "from selenium.webdriver.common.keys import Keys\n",
    "from time import sleep\n",
    "the_data_pull=[]\n",
    "browser = webdriver.Firefox(executable_path=r\"C:\\Users\\swaraj\\Desktop\\codes\\modules\\geckodriver-v0.29.1-win64\\geckodriver\")\n",
    "browser.execute_script(\"window.scrollTo(0, document.body.scrollHeight);\")\n",
    "browser.get(url)\n",
    "for i in range(2,7):\n",
    "    i=str(i)\n",
    "    browser.execute_script(\"window.scrollTo(0, document.body.scrollHeight);\")\n",
    "    time.sleep(2)\n",
    "    element = browser.find_element_by_link_text(i)\n",
    "    k=element.click()\n",
    "    \n",
    "    #j=requests.get(browser.page_source)\n",
    "    #k=j.text\n",
    "    s=BeautifulSoup(browser.page_source,'lxml')\n",
    "    THE_DA=frame(s)\n",
    "    the_data_pull.append(THE_DA)\n",
    "\n",
    "    sleep(2)\n",
    "browser.quit()"
   ]
  },
  {
   "cell_type": "code",
   "execution_count": 134,
   "metadata": {
    "tags": []
   },
   "outputs": [
    {
     "output_type": "execute_result",
     "data": {
      "text/plain": [
       "'    browser = webdriver.Firefox(executable_path=\"/home/swaraj/Downloads/driver/geckodriver\")\\n    browser.get(url)\\n    browser.execute_script(\"window.scrollTo(0, document.body.scrollHeight);\")\\n    element = browser.find_element_by_link_text(\\'2\\')\\n    j=element.click()\\n    print(browser.page_source.encode(\\'utf-8\\'))'"
      ]
     },
     "metadata": {},
     "execution_count": 134
    }
   ],
   "source": [
    "\"\"\"    browser = webdriver.Firefox(executable_path=\"/home/swaraj/Downloads/driver/geckodriver\")\n",
    "    browser.get(url)\n",
    "    browser.execute_script(\"window.scrollTo(0, document.body.scrollHeight);\")\n",
    "    element = browser.find_element_by_link_text('2')\n",
    "    j=element.click()\n",
    "    print(browser.page_source.encode('utf-8'))\"\"\"\n",
    "    \n",
    "   "
   ]
  },
  {
   "cell_type": "code",
   "execution_count": 135,
   "metadata": {},
   "outputs": [],
   "source": [
    "k"
   ]
  },
  {
   "cell_type": "code",
   "execution_count": 136,
   "metadata": {
    "tags": []
   },
   "outputs": [],
   "source": [
    "the_data_pull.insert(0,the_data)\n",
    "result = pd.concat(the_data_pull)"
   ]
  },
  {
   "cell_type": "code",
   "execution_count": 137,
   "metadata": {},
   "outputs": [],
   "source": [
    "result.to_csv('/run/media/swaraj/volume y/code/work/working/99acers2.csv')\n"
   ]
  },
  {
   "cell_type": "code",
   "execution_count": 138,
   "metadata": {},
   "outputs": [
    {
     "output_type": "execute_result",
     "data": {
      "text/plain": [
       "6"
      ]
     },
     "metadata": {},
     "execution_count": 138
    }
   ],
   "source": [
    "len(the_data_pull)"
   ]
  }
 ]
}