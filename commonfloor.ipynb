{
 "metadata": {
  "language_info": {
   "codemirror_mode": {
    "name": "ipython",
    "version": 3
   },
   "file_extension": ".py",
   "mimetype": "text/x-python",
   "name": "python",
   "nbconvert_exporter": "python",
   "pygments_lexer": "ipython3",
   "version": "3.9.2"
  },
  "orig_nbformat": 2,
  "kernelspec": {
   "name": "python392jvsc74a57bd0588b1dd76ca082666fe2f995fff1e9efb2de790f2352d1450e516a9edc988200",
   "display_name": "Python 3.9.2 64-bit"
  },
  "metadata": {
   "interpreter": {
    "hash": "588b1dd76ca082666fe2f995fff1e9efb2de790f2352d1450e516a9edc988200"
   }
  }
 },
 "nbformat": 4,
 "nbformat_minor": 2,
 "cells": [
  {
   "cell_type": "code",
   "execution_count": 24,
   "metadata": {},
   "outputs": [],
   "source": [
    "import pandas as pd  \n",
    "import numpy as np \n",
    "import re \n",
    "import requests \n",
    "import selenium \n",
    "import csv \n",
    "import urllib\n",
    "from bs4 import BeautifulSoup"
   ]
  },
  {
   "cell_type": "code",
   "execution_count": 25,
   "metadata": {},
   "outputs": [],
   "source": [
    "url='https://www.commonfloor.com/pune-property/for-rent'\n",
    "s=requests.get(url).text\n",
    "s=BeautifulSoup(s,'lxml')"
   ]
  },
  {
   "cell_type": "code",
   "execution_count": 26,
   "metadata": {},
   "outputs": [],
   "source": [
    "def head(s):\n",
    "    head1=[]\n",
    "    head=s.find_all('h2')\n",
    "    for i in head:\n",
    "        head1.append(i.text)\n",
    "    return head1"
   ]
  },
  {
   "cell_type": "code",
   "execution_count": 27,
   "metadata": {},
   "outputs": [],
   "source": [
    "def link(s):\n",
    "    lin=[]\n",
    "    for a in s.select(\"h2 > a\"):\n",
    "        lin.append(a['href'])\n",
    "    return lin"
   ]
  },
  {
   "cell_type": "code",
   "execution_count": 28,
   "metadata": {},
   "outputs": [],
   "source": [
    "def prices(s):\n",
    "    price=[]\n",
    "    pric=s.find_all('span',attrs={'class':'s_p'})\n",
    "    for i in pric:\n",
    "        price.append(i.text)\n",
    "    return price"
   ]
  },
  {
   "cell_type": "code",
   "execution_count": 29,
   "metadata": {},
   "outputs": [],
   "source": [
    "def info(s):\n",
    "    info=[]\n",
    "    inf=s.find_all('div',attrs={'class':'inforow pull-left graybg'})\n",
    "    for i in inf:\n",
    "        info.append(i.text.split())\n",
    "    area=[]\n",
    "    for i in info:\n",
    "        area.append(i[2])\n",
    "    inform=[]\n",
    "    for i in info:\n",
    "        inform.append(i[6:-1])\n",
    "    bath=[]\n",
    "    for i in info:\n",
    "        bath.append(i[-1])\n",
    "    the_details=[]\n",
    "    for i in inform:\n",
    "        the_details.append(i[:-1])\n",
    "    return area,bath,the_details\n"
   ]
  },
  {
   "cell_type": "code",
   "execution_count": 30,
   "metadata": {},
   "outputs": [],
   "source": [
    "areas,bathroom,others=info(s)\n",
    "link=link(s)\n",
    "header=head(s)[1:-1]\n",
    "price=prices(s)"
   ]
  },
  {
   "cell_type": "code",
   "execution_count": 32,
   "metadata": {},
   "outputs": [],
   "source": [
    "d={\n",
    "    'areas':areas,\n",
    "    'bathroom':bathroom\n",
    "}\n",
    "\n",
    "df=pd.DataFrame(others,hea)"
   ]
  }
 ]
}