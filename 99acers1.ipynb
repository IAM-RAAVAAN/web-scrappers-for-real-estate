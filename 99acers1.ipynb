{
 "metadata": {
  "language_info": {
   "codemirror_mode": {
    "name": "ipython",
    "version": 3
   },
   "file_extension": ".py",
   "mimetype": "text/x-python",
   "name": "python",
   "nbconvert_exporter": "python",
   "pygments_lexer": "ipython3",
   "version": "3.9.2"
  },
  "orig_nbformat": 2,
  "kernelspec": {
   "name": "python3",
   "display_name": "Python 3.9.2 64-bit",
   "metadata": {
    "interpreter": {
     "hash": "e7370f93d1d0cde622a1f8e1c04877d8463912d04d973331ad4851f04de6915a"
    }
   }
  },
  "metadata": {
   "interpreter": {
    "hash": "07c0eba680f48f47a5ba37da399cd5e89b67f1875bf63e9a800e8853b1dcac6f"
   }
  }
 },
 "nbformat": 4,
 "nbformat_minor": 2,
 "cells": [
  {
   "cell_type": "code",
   "execution_count": 1,
   "metadata": {},
   "outputs": [],
   "source": [
    "import pandas as pd \n",
    "import numpy as np \n",
    "import requests\n",
    "import csv \n",
    "import re\n",
    "from bs4 import BeautifulSoup"
   ]
  },
  {
   "cell_type": "code",
   "execution_count": 2,
   "metadata": {},
   "outputs": [],
   "source": [
    "    url='https://www.99acres.com/search/property/buy/residential-all/indore?search_type=QS&refSection=GNB&search_location=CP19&lstAcn=CP_R&lstAcnId=19&src=CLUSTER&preference=S&selected_tab=1&city=142&res_com=R&property_type=R&isvoicesearch=N&keyword=indore&strEntityMap=IiI%3D&refine_results=Y&Refine_Localities=Refine%20Localities&action=%2Fdo%2Fquicksearch%2Fsearch&searchform=1&price_min=null&price_max=null'\n",
    "    j=requests.get(url)\n",
    "    k=j.text\n",
    "    s=BeautifulSoup(k,'lxml')"
   ]
  },
  {
   "cell_type": "code",
   "execution_count": 3,
   "metadata": {},
   "outputs": [],
   "source": [
    "def titel(s):\n",
    "    titel=[]\n",
    "    link=[]\n",
    "    titel=s.find_all('a',attrs={'class':\"body_med srpTuple__propertyName\"}) \n",
    "    for i in titel:\n",
    "        k=i['href']\n",
    "        #print(i['href'])\n",
    "        link.append(k)\n",
    "        #print(i.text)\n",
    "    z=[]\n",
    "    for i in titel:\n",
    "       z.append(i.text)\n",
    "    d={\n",
    "    'link':link,\n",
    "    'title':z\n",
    "     }\n",
    "    df=pd.DataFrame(d)\n",
    "    return df"
   ]
  },
  {
   "cell_type": "code",
   "execution_count": 4,
   "metadata": {},
   "outputs": [],
   "source": [
    "def loc(s):\n",
    "    location=s.find_all('td',attrs={'class':\"list_header_bold srpTuple__spacer10\"}) \n",
    "    loc=[]\n",
    "    for i in location:\n",
    "        loc.append(i.text)\n",
    "    return loc"
   ]
  },
  {
   "cell_type": "code",
   "execution_count": 5,
   "metadata": {},
   "outputs": [],
   "source": [
    "def prices(s):\n",
    "    prices=s.find_all('td',attrs={'id':\"srp_tuple_price\"}) \n",
    "    k=[]\n",
    "    for i in prices:\n",
    "        k.append(i.text)\n",
    "    return k"
   ]
  },
  {
   "cell_type": "code",
   "execution_count": 6,
   "metadata": {},
   "outputs": [],
   "source": [
    "def area(s):\n",
    "    area=s.find_all('td',attrs={'id':\"srp_tuple_primary_area\"}) \n",
    "    lis_area=[]\n",
    "    for i in area:\n",
    "        lis_area.append(i.text)\n",
    "    return lis_area\n",
    "    "
   ]
  },
  {
   "cell_type": "code",
   "execution_count": 7,
   "metadata": {},
   "outputs": [],
   "source": [
    "def lis__type(s):\n",
    "    type=s.find_all('td',attrs={'id':\"srp_tuple_bedroom\"}) \n",
    "    lis__type=[]\n",
    "    for i in type:\n",
    "        lis__type.append(i.text)\n",
    "        #print(i.text)\n",
    "    return lis__type\n"
   ]
  },
  {
   "cell_type": "code",
   "execution_count": 8,
   "metadata": {},
   "outputs": [],
   "source": [
    "def desc(s):\n",
    "    desc=s.find_all('div',attrs={'id':\"srp_tuple_description\"}) \n",
    "    lis__desc=[]\n",
    "    for i in desc:\n",
    "        lis__desc.append(i.text)\n",
    "        #print(i.text)\n",
    "    return lis__desc"
   ]
  },
  {
   "cell_type": "code",
   "execution_count": 9,
   "metadata": {},
   "outputs": [],
   "source": [
    "def dates(s):\n",
    "    date_of=s.find_all('div',attrs={'class':\"caption_strong_small\"}) \n",
    "    date_li=[]\n",
    "    for i in date_of:\n",
    "        date_li.append(i.text)\n",
    "        #print(i.text)\n",
    "    return date_li"
   ]
  },
  {
   "cell_type": "code",
   "execution_count": 10,
   "metadata": {},
   "outputs": [],
   "source": [
    "def frame(s):\n",
    "    df=titel(s)\n",
    "    df['prices']=prices(s)\n",
    "    df['location']=loc(s)\n",
    "    df['type']=lis__type(s)\n",
    "    df['area']=area(s)\n",
    "    df['text']=desc(s)\n",
    "    df['dates']=dates(s)\n",
    "    df['link']='https://www.99acres.com'+df['link']\n",
    "    return df\n"
   ]
  },
  {
   "cell_type": "code",
   "execution_count": 11,
   "metadata": {},
   "outputs": [
    {
     "output_type": "execute_result",
     "data": {
      "text/plain": [
       "                                                 link  \\\n",
       "0   https://www.99acres.com/residential-land-for-s...   \n",
       "1   https://www.99acres.com/1-bhk-bedroom-farm-hou...   \n",
       "2   https://www.99acres.com/residential-land-for-s...   \n",
       "3   https://www.99acres.com/residential-land-for-s...   \n",
       "4   https://www.99acres.com/2-bhk-bedroom-resident...   \n",
       "5   https://www.99acres.com/residential-land-for-s...   \n",
       "6   https://www.99acres.com/2-bhk-bedroom-resident...   \n",
       "7   https://www.99acres.com/residential-land-for-s...   \n",
       "8   https://www.99acres.com/3-bhk-bedroom-resident...   \n",
       "9   https://www.99acres.com/4-bhk-bedroom-resident...   \n",
       "10  https://www.99acres.com/3-bhk-bedroom-resident...   \n",
       "11  https://www.99acres.com/2-bhk-bedroom-resident...   \n",
       "12  https://www.99acres.com/3-bhk-bedroom-resident...   \n",
       "13  https://www.99acres.com/residential-land-for-s...   \n",
       "14  https://www.99acres.com/3-bhk-bedroom-resident...   \n",
       "15  https://www.99acres.com/1-bhk-bedroom-resident...   \n",
       "16  https://www.99acres.com/2-bhk-bedroom-resident...   \n",
       "17  https://www.99acres.com/residential-land-for-s...   \n",
       "18  https://www.99acres.com/4-bhk-bedroom-resident...   \n",
       "19  https://www.99acres.com/5-bhk-bedroom-resident...   \n",
       "20  https://www.99acres.com/3-bhk-bedroom-resident...   \n",
       "21  https://www.99acres.com/2-bhk-bedroom-resident...   \n",
       "22  https://www.99acres.com/2-bhk-bedroom-resident...   \n",
       "23  https://www.99acres.com/residential-land-for-s...   \n",
       "24  https://www.99acres.com/3-bhk-bedroom-resident...   \n",
       "25  https://www.99acres.com/3-bhk-bedroom-resident...   \n",
       "\n",
       "                                             title  \\\n",
       "0                 Residential land / Plot in MR 10   \n",
       "1                     1 Bedroom Farm house in Mhow   \n",
       "2                Residential land / Plot in Nainod   \n",
       "3                Residential land / Plot in Nainod   \n",
       "4      2 BHK Residential Apartment in Pipaliyahana   \n",
       "5                Residential land / Plot in Paliya   \n",
       "6   2 BHK Residential Apartment in Nalanda Parisar   \n",
       "7        Residential land / Plot in AB Bypass Road   \n",
       "8   3 BHK Residential Apartment in Nalanda Parisar   \n",
       "9   4 BHK Residential Apartment in Bicholi Mardana   \n",
       "10  3 BHK Residential Apartment in Bicholi Mardana   \n",
       "11      2 BHK Residential Apartment in Ujjain Road   \n",
       "12      3 BHK Residential Apartment in Ujjain Road   \n",
       "13                 Residential land / Plot in Mhow   \n",
       "14   3 BHK Residential Apartment in Rajendra Nagar   \n",
       "15   1 BHK Residential Apartment in Rajendra Nagar   \n",
       "16   2 BHK Residential Apartment in Rajendra Nagar   \n",
       "17       Residential land / Plot in AB Bypass Road   \n",
       "18          4 BHK Residential Apartment in Nipania   \n",
       "19          5 BHK Residential Apartment in Nipania   \n",
       "20          3 BHK Residential Apartment in Nipania   \n",
       "21         2 BHK Residential Apartment in Sukhliya   \n",
       "22         2 BHK Residential Apartment in Bijalpur   \n",
       "23       Residential land / Plot in AB Bypass Road   \n",
       "24         3 BHK Residential Apartment in Bijalpur   \n",
       "25         3 BHK Residential Apartment in Bijalpur   \n",
       "\n",
       "                                prices                     location  \\\n",
       "0             ₹ 28.4 Lac₹ 3,550/sq.ft.                Tushar Avenue   \n",
       "1              ₹ 14.04 Lac₹ 351/sq.ft.                  Raya Estate   \n",
       "2                ₹ 91.99 Lac - 1.02 Cr       Emaar Continental City   \n",
       "3                ₹ 91.99 Lac - 1.02 Cr       Emaar Continental City   \n",
       "4     ₹ 36.5  - 36.5 Lac₹ 3,685/sq.ft.            Signature Heights   \n",
       "5                  ₹ 9.31  - 23.26 Lac      Takshit Rudraaksh Prime   \n",
       "6                             ₹ 82 Lac              Gorani D Ornate   \n",
       "7        ₹ 48 Lac - 2 Cr₹ 2,000/sq.ft.             Ruchi Lifescapes   \n",
       "8                     Price on Request              Gorani D Ornate   \n",
       "9      ₹ 1.25  - 1.47 Cr₹ 4,300/sq.ft.                The Residence   \n",
       "10   ₹ 90.3  - 99.07 Lac₹ 4,300/sq.ft.                The Residence   \n",
       "11  ₹ 38.61  - 42.21 Lac₹ 3,040/sq.ft.                 KBG Platinum   \n",
       "12              ₹ 57 Lac₹ 3,229/sq.ft.                 KBG Platinum   \n",
       "13                ₹ 14.04  - 31.59 Lac                  Raya Estate   \n",
       "14                         ₹ 51.77 Lac       Shree Radhe Green Park   \n",
       "15                         ₹ 22.41 Lac       Shree Radhe Green Park   \n",
       "16                ₹ 32.54  - 38.39 Lac       Shree Radhe Green Park   \n",
       "17                    Price on Request             Vistara Township   \n",
       "18     ₹ 1.44  - 1.45 Cr₹ 4,100/sq.ft.               Apollo DB City   \n",
       "19             ₹ 2.03 Cr₹ 4,100/sq.ft.               Apollo DB City   \n",
       "20           ₹ 75.32 Lac₹ 3,800/sq.ft.               Apollo DB City   \n",
       "21              ₹ 35 Lac₹ 3,553/sq.ft.  Mirchandani Shalimar Swayam   \n",
       "22            ₹ 35.5 Lac₹ 3,026/sq.ft.        Shri Sai Century Park   \n",
       "23   ₹ 17.7  - 49.28 Lac₹ 1,265/sq.ft.               DLF Gardencity   \n",
       "24            ₹ 45.5 Lac₹ 2,948/sq.ft.        Shri Sai Century Park   \n",
       "25            ₹ 45.5 Lac₹ 2,948/sq.ft.        Shri Sai Century Park   \n",
       "\n",
       "            type                                               area  \\\n",
       "0                                   800 sq.ft. (74 sq.m.) Plot Area   \n",
       "1    1 BHK1 Bath                 4,000 sq.ft. (372 sq.m.) Plot Area   \n",
       "2                      2,530-2,800 sq.ft. (235-260 sq.m.) Plot Area   \n",
       "3                      2,530-2,800 sq.ft. (235-260 sq.m.) Plot Area   \n",
       "4   2 BHK2 Baths           986-996 sq.ft. (92-93 sq.m.) Carpet Area   \n",
       "5                         600-1,500 sq.ft. (56-139 sq.m.) Plot Area   \n",
       "6          2 BHK                1,069 sq.ft. (99 sq.m.) Carpet Area   \n",
       "7                     2,400-10,000 sq.ft. (223-929 sq.m.) Plot Area   \n",
       "8          3 BHK     1,503-1,525 sq.ft. (140-142 sq.m.) Carpet Area   \n",
       "9          4 BHK  2,900-3,422 sq.ft. (269-318 sq.m.) Super built...   \n",
       "10  3 BHK3 Baths  2,100-2,304 sq.ft. (195-214 sq.m.) Super built...   \n",
       "11  2 BHK2 Baths  1,270-1,388 sq.ft. (118-129 sq.m.) Super built...   \n",
       "12  3 BHK3 Baths       1,765 sq.ft. (164 sq.m.) Super built-up Area   \n",
       "13                     4,000-9,000 sq.ft. (372-836 sq.m.) Plot Area   \n",
       "14         3 BHK                  935 sq.ft. (87 sq.m.) Carpet Area   \n",
       "15         1 BHK                  447 sq.ft. (42 sq.m.) Carpet Area   \n",
       "16         2 BHK           673-727 sq.ft. (63-68 sq.m.) Carpet Area   \n",
       "17                        800-7,000 sq.ft. (74-650 sq.m.) Plot Area   \n",
       "18         4 BHK  3,514-3,541 sq.ft. (326-329 sq.m.) Super built...   \n",
       "19         5 BHK       4,963 sq.ft. (461 sq.m.) Super built-up Area   \n",
       "20  3 BHK2 Baths       1,982 sq.ft. (184 sq.m.) Super built-up Area   \n",
       "21  2 BHK2 Baths          985 sq.ft. (92 sq.m.) Super built-up Area   \n",
       "22         2 BHK       1,173 sq.ft. (109 sq.m.) Super built-up Area   \n",
       "23                     1,264-4,000 sq.ft. (117-372 sq.m.) Plot Area   \n",
       "24         3 BHK       1,543 sq.ft. (143 sq.m.) Super built-up Area   \n",
       "25         3 BHK       1,543 sq.ft. (143 sq.m.) Super built-up Area   \n",
       "\n",
       "                                                 text  \\\n",
       "0   Ready to move \\nClose to me 11\\nClose to kumed...   \n",
       "1   Raya estate is a residential development of ra...   \n",
       "2   Emaar continental city is a residential develo...   \n",
       "3   Emaar continental city is a residential develo...   \n",
       "4   Enjoy a blissful living experience in Signatur...   \n",
       "5   Takshit rudraaksh prime, a plot estate situate...   \n",
       "6   Gorani D Ornate offers 2 BHK flats in Nalanda ...   \n",
       "7   Ruchi lifescapes in jhalaria, indore by ruchi ...   \n",
       "8   This well-known project offers 3 BHK apartment...   \n",
       "9   Live in a world of comfort and style at The Re...   \n",
       "10  Enjoy a blissful living experience in The Resi...   \n",
       "11  The project offers 2 BHK apartments in Ujjain ...   \n",
       "12  KBG Platinum is a new launch project, offering...   \n",
       "13  Raya estate is a residential development of ra...   \n",
       "14  Shree Radhe Green Park is a residential projec...   \n",
       "15  Shree Radhe Green Park is a ready to move proj...   \n",
       "16  Enjoy a blissful living experience in Shree Ra...   \n",
       "17  Vistara township in ab bypass road, indore by ...   \n",
       "18  Apollo DB City is a ready to move project, off...   \n",
       "19  Let your dream of owning a flat come true with...   \n",
       "20  Book a spectacular property in Apollo DB City ...   \n",
       "21  Book your 2 BHK flat in Sukhliya, Indore with ...   \n",
       "22  Experience a new style of living with Shri Sai...   \n",
       "23  Dlf gardencity in ab bypass road, indore by dl...   \n",
       "24  Shri Sai Century Park offers 3 BHK flats in Bi...   \n",
       "25  Shri Sai Century Park offers 3 BHK flats in Bi...   \n",
       "\n",
       "                                                dates  \n",
       "0                  Posted on 15th Mar, 2021 by Dealer  \n",
       "1                  Posted on 19th Mar, 2021 by Dealer  \n",
       "2                 Posted on 20th Mar, 2021 by Builder  \n",
       "3                 Posted on 20th Mar, 2021 by Builder  \n",
       "4                      Posted on Yesterday by Builder  \n",
       "5   Posted on 18th Mar, 2021 by RERA Registered De...  \n",
       "6                 Posted on 30th Mar, 2021 by Builder  \n",
       "7                 Posted on 10th Feb, 2021 by Builder  \n",
       "8                 Posted on 30th Mar, 2021 by Builder  \n",
       "9                 Posted on 29th Jan, 2021 by Builder  \n",
       "10                Posted on 29th Jan, 2021 by Builder  \n",
       "11                Posted on 26th Feb, 2021 by Builder  \n",
       "12                Posted on 26th Feb, 2021 by Builder  \n",
       "13                Posted on 04th Mar, 2021 by Builder  \n",
       "14                Posted on 11th Mar, 2021 by Builder  \n",
       "15                Posted on 11th Mar, 2021 by Builder  \n",
       "16                Posted on 11th Mar, 2021 by Builder  \n",
       "17  Posted on 01st Mar, 2021 by RERA Registered De...  \n",
       "18                Posted on 01st Feb, 2021 by Builder  \n",
       "19                Posted on 01st Feb, 2021 by Builder  \n",
       "20                Posted on 01st Feb, 2021 by Builder  \n",
       "21                Posted on 16th Jan, 2021 by Builder  \n",
       "22                Posted on 10th Mar, 2021 by Builder  \n",
       "23  Posted on 26th Mar, 2021 by RERA Registered De...  \n",
       "24                Posted on 10th Mar, 2021 by Builder  \n",
       "25                Posted on 10th Mar, 2021 by Builder  "
      ],
      "text/html": "<div>\n<style scoped>\n    .dataframe tbody tr th:only-of-type {\n        vertical-align: middle;\n    }\n\n    .dataframe tbody tr th {\n        vertical-align: top;\n    }\n\n    .dataframe thead th {\n        text-align: right;\n    }\n</style>\n<table border=\"1\" class=\"dataframe\">\n  <thead>\n    <tr style=\"text-align: right;\">\n      <th></th>\n      <th>link</th>\n      <th>title</th>\n      <th>prices</th>\n      <th>location</th>\n      <th>type</th>\n      <th>area</th>\n      <th>text</th>\n      <th>dates</th>\n    </tr>\n  </thead>\n  <tbody>\n    <tr>\n      <th>0</th>\n      <td>https://www.99acres.com/residential-land-for-s...</td>\n      <td>Residential land / Plot in MR 10</td>\n      <td>₹ 28.4 Lac₹ 3,550/sq.ft.</td>\n      <td>Tushar Avenue</td>\n      <td></td>\n      <td>800 sq.ft. (74 sq.m.) Plot Area</td>\n      <td>Ready to move \\nClose to me 11\\nClose to kumed...</td>\n      <td>Posted on 15th Mar, 2021 by Dealer</td>\n    </tr>\n    <tr>\n      <th>1</th>\n      <td>https://www.99acres.com/1-bhk-bedroom-farm-hou...</td>\n      <td>1 Bedroom Farm house in Mhow</td>\n      <td>₹ 14.04 Lac₹ 351/sq.ft.</td>\n      <td>Raya Estate</td>\n      <td>1 BHK1 Bath</td>\n      <td>4,000 sq.ft. (372 sq.m.) Plot Area</td>\n      <td>Raya estate is a residential development of ra...</td>\n      <td>Posted on 19th Mar, 2021 by Dealer</td>\n    </tr>\n    <tr>\n      <th>2</th>\n      <td>https://www.99acres.com/residential-land-for-s...</td>\n      <td>Residential land / Plot in Nainod</td>\n      <td>₹ 91.99 Lac - 1.02 Cr</td>\n      <td>Emaar Continental City</td>\n      <td></td>\n      <td>2,530-2,800 sq.ft. (235-260 sq.m.) Plot Area</td>\n      <td>Emaar continental city is a residential develo...</td>\n      <td>Posted on 20th Mar, 2021 by Builder</td>\n    </tr>\n    <tr>\n      <th>3</th>\n      <td>https://www.99acres.com/residential-land-for-s...</td>\n      <td>Residential land / Plot in Nainod</td>\n      <td>₹ 91.99 Lac - 1.02 Cr</td>\n      <td>Emaar Continental City</td>\n      <td></td>\n      <td>2,530-2,800 sq.ft. (235-260 sq.m.) Plot Area</td>\n      <td>Emaar continental city is a residential develo...</td>\n      <td>Posted on 20th Mar, 2021 by Builder</td>\n    </tr>\n    <tr>\n      <th>4</th>\n      <td>https://www.99acres.com/2-bhk-bedroom-resident...</td>\n      <td>2 BHK Residential Apartment in Pipaliyahana</td>\n      <td>₹ 36.5  - 36.5 Lac₹ 3,685/sq.ft.</td>\n      <td>Signature Heights</td>\n      <td>2 BHK2 Baths</td>\n      <td>986-996 sq.ft. (92-93 sq.m.) Carpet Area</td>\n      <td>Enjoy a blissful living experience in Signatur...</td>\n      <td>Posted on Yesterday by Builder</td>\n    </tr>\n    <tr>\n      <th>5</th>\n      <td>https://www.99acres.com/residential-land-for-s...</td>\n      <td>Residential land / Plot in Paliya</td>\n      <td>₹ 9.31  - 23.26 Lac</td>\n      <td>Takshit Rudraaksh Prime</td>\n      <td></td>\n      <td>600-1,500 sq.ft. (56-139 sq.m.) Plot Area</td>\n      <td>Takshit rudraaksh prime, a plot estate situate...</td>\n      <td>Posted on 18th Mar, 2021 by RERA Registered De...</td>\n    </tr>\n    <tr>\n      <th>6</th>\n      <td>https://www.99acres.com/2-bhk-bedroom-resident...</td>\n      <td>2 BHK Residential Apartment in Nalanda Parisar</td>\n      <td>₹ 82 Lac</td>\n      <td>Gorani D Ornate</td>\n      <td>2 BHK</td>\n      <td>1,069 sq.ft. (99 sq.m.) Carpet Area</td>\n      <td>Gorani D Ornate offers 2 BHK flats in Nalanda ...</td>\n      <td>Posted on 30th Mar, 2021 by Builder</td>\n    </tr>\n    <tr>\n      <th>7</th>\n      <td>https://www.99acres.com/residential-land-for-s...</td>\n      <td>Residential land / Plot in AB Bypass Road</td>\n      <td>₹ 48 Lac - 2 Cr₹ 2,000/sq.ft.</td>\n      <td>Ruchi Lifescapes</td>\n      <td></td>\n      <td>2,400-10,000 sq.ft. (223-929 sq.m.) Plot Area</td>\n      <td>Ruchi lifescapes in jhalaria, indore by ruchi ...</td>\n      <td>Posted on 10th Feb, 2021 by Builder</td>\n    </tr>\n    <tr>\n      <th>8</th>\n      <td>https://www.99acres.com/3-bhk-bedroom-resident...</td>\n      <td>3 BHK Residential Apartment in Nalanda Parisar</td>\n      <td>Price on Request</td>\n      <td>Gorani D Ornate</td>\n      <td>3 BHK</td>\n      <td>1,503-1,525 sq.ft. (140-142 sq.m.) Carpet Area</td>\n      <td>This well-known project offers 3 BHK apartment...</td>\n      <td>Posted on 30th Mar, 2021 by Builder</td>\n    </tr>\n    <tr>\n      <th>9</th>\n      <td>https://www.99acres.com/4-bhk-bedroom-resident...</td>\n      <td>4 BHK Residential Apartment in Bicholi Mardana</td>\n      <td>₹ 1.25  - 1.47 Cr₹ 4,300/sq.ft.</td>\n      <td>The Residence</td>\n      <td>4 BHK</td>\n      <td>2,900-3,422 sq.ft. (269-318 sq.m.) Super built...</td>\n      <td>Live in a world of comfort and style at The Re...</td>\n      <td>Posted on 29th Jan, 2021 by Builder</td>\n    </tr>\n    <tr>\n      <th>10</th>\n      <td>https://www.99acres.com/3-bhk-bedroom-resident...</td>\n      <td>3 BHK Residential Apartment in Bicholi Mardana</td>\n      <td>₹ 90.3  - 99.07 Lac₹ 4,300/sq.ft.</td>\n      <td>The Residence</td>\n      <td>3 BHK3 Baths</td>\n      <td>2,100-2,304 sq.ft. (195-214 sq.m.) Super built...</td>\n      <td>Enjoy a blissful living experience in The Resi...</td>\n      <td>Posted on 29th Jan, 2021 by Builder</td>\n    </tr>\n    <tr>\n      <th>11</th>\n      <td>https://www.99acres.com/2-bhk-bedroom-resident...</td>\n      <td>2 BHK Residential Apartment in Ujjain Road</td>\n      <td>₹ 38.61  - 42.21 Lac₹ 3,040/sq.ft.</td>\n      <td>KBG Platinum</td>\n      <td>2 BHK2 Baths</td>\n      <td>1,270-1,388 sq.ft. (118-129 sq.m.) Super built...</td>\n      <td>The project offers 2 BHK apartments in Ujjain ...</td>\n      <td>Posted on 26th Feb, 2021 by Builder</td>\n    </tr>\n    <tr>\n      <th>12</th>\n      <td>https://www.99acres.com/3-bhk-bedroom-resident...</td>\n      <td>3 BHK Residential Apartment in Ujjain Road</td>\n      <td>₹ 57 Lac₹ 3,229/sq.ft.</td>\n      <td>KBG Platinum</td>\n      <td>3 BHK3 Baths</td>\n      <td>1,765 sq.ft. (164 sq.m.) Super built-up Area</td>\n      <td>KBG Platinum is a new launch project, offering...</td>\n      <td>Posted on 26th Feb, 2021 by Builder</td>\n    </tr>\n    <tr>\n      <th>13</th>\n      <td>https://www.99acres.com/residential-land-for-s...</td>\n      <td>Residential land / Plot in Mhow</td>\n      <td>₹ 14.04  - 31.59 Lac</td>\n      <td>Raya Estate</td>\n      <td></td>\n      <td>4,000-9,000 sq.ft. (372-836 sq.m.) Plot Area</td>\n      <td>Raya estate is a residential development of ra...</td>\n      <td>Posted on 04th Mar, 2021 by Builder</td>\n    </tr>\n    <tr>\n      <th>14</th>\n      <td>https://www.99acres.com/3-bhk-bedroom-resident...</td>\n      <td>3 BHK Residential Apartment in Rajendra Nagar</td>\n      <td>₹ 51.77 Lac</td>\n      <td>Shree Radhe Green Park</td>\n      <td>3 BHK</td>\n      <td>935 sq.ft. (87 sq.m.) Carpet Area</td>\n      <td>Shree Radhe Green Park is a residential projec...</td>\n      <td>Posted on 11th Mar, 2021 by Builder</td>\n    </tr>\n    <tr>\n      <th>15</th>\n      <td>https://www.99acres.com/1-bhk-bedroom-resident...</td>\n      <td>1 BHK Residential Apartment in Rajendra Nagar</td>\n      <td>₹ 22.41 Lac</td>\n      <td>Shree Radhe Green Park</td>\n      <td>1 BHK</td>\n      <td>447 sq.ft. (42 sq.m.) Carpet Area</td>\n      <td>Shree Radhe Green Park is a ready to move proj...</td>\n      <td>Posted on 11th Mar, 2021 by Builder</td>\n    </tr>\n    <tr>\n      <th>16</th>\n      <td>https://www.99acres.com/2-bhk-bedroom-resident...</td>\n      <td>2 BHK Residential Apartment in Rajendra Nagar</td>\n      <td>₹ 32.54  - 38.39 Lac</td>\n      <td>Shree Radhe Green Park</td>\n      <td>2 BHK</td>\n      <td>673-727 sq.ft. (63-68 sq.m.) Carpet Area</td>\n      <td>Enjoy a blissful living experience in Shree Ra...</td>\n      <td>Posted on 11th Mar, 2021 by Builder</td>\n    </tr>\n    <tr>\n      <th>17</th>\n      <td>https://www.99acres.com/residential-land-for-s...</td>\n      <td>Residential land / Plot in AB Bypass Road</td>\n      <td>Price on Request</td>\n      <td>Vistara Township</td>\n      <td></td>\n      <td>800-7,000 sq.ft. (74-650 sq.m.) Plot Area</td>\n      <td>Vistara township in ab bypass road, indore by ...</td>\n      <td>Posted on 01st Mar, 2021 by RERA Registered De...</td>\n    </tr>\n    <tr>\n      <th>18</th>\n      <td>https://www.99acres.com/4-bhk-bedroom-resident...</td>\n      <td>4 BHK Residential Apartment in Nipania</td>\n      <td>₹ 1.44  - 1.45 Cr₹ 4,100/sq.ft.</td>\n      <td>Apollo DB City</td>\n      <td>4 BHK</td>\n      <td>3,514-3,541 sq.ft. (326-329 sq.m.) Super built...</td>\n      <td>Apollo DB City is a ready to move project, off...</td>\n      <td>Posted on 01st Feb, 2021 by Builder</td>\n    </tr>\n    <tr>\n      <th>19</th>\n      <td>https://www.99acres.com/5-bhk-bedroom-resident...</td>\n      <td>5 BHK Residential Apartment in Nipania</td>\n      <td>₹ 2.03 Cr₹ 4,100/sq.ft.</td>\n      <td>Apollo DB City</td>\n      <td>5 BHK</td>\n      <td>4,963 sq.ft. (461 sq.m.) Super built-up Area</td>\n      <td>Let your dream of owning a flat come true with...</td>\n      <td>Posted on 01st Feb, 2021 by Builder</td>\n    </tr>\n    <tr>\n      <th>20</th>\n      <td>https://www.99acres.com/3-bhk-bedroom-resident...</td>\n      <td>3 BHK Residential Apartment in Nipania</td>\n      <td>₹ 75.32 Lac₹ 3,800/sq.ft.</td>\n      <td>Apollo DB City</td>\n      <td>3 BHK2 Baths</td>\n      <td>1,982 sq.ft. (184 sq.m.) Super built-up Area</td>\n      <td>Book a spectacular property in Apollo DB City ...</td>\n      <td>Posted on 01st Feb, 2021 by Builder</td>\n    </tr>\n    <tr>\n      <th>21</th>\n      <td>https://www.99acres.com/2-bhk-bedroom-resident...</td>\n      <td>2 BHK Residential Apartment in Sukhliya</td>\n      <td>₹ 35 Lac₹ 3,553/sq.ft.</td>\n      <td>Mirchandani Shalimar Swayam</td>\n      <td>2 BHK2 Baths</td>\n      <td>985 sq.ft. (92 sq.m.) Super built-up Area</td>\n      <td>Book your 2 BHK flat in Sukhliya, Indore with ...</td>\n      <td>Posted on 16th Jan, 2021 by Builder</td>\n    </tr>\n    <tr>\n      <th>22</th>\n      <td>https://www.99acres.com/2-bhk-bedroom-resident...</td>\n      <td>2 BHK Residential Apartment in Bijalpur</td>\n      <td>₹ 35.5 Lac₹ 3,026/sq.ft.</td>\n      <td>Shri Sai Century Park</td>\n      <td>2 BHK</td>\n      <td>1,173 sq.ft. (109 sq.m.) Super built-up Area</td>\n      <td>Experience a new style of living with Shri Sai...</td>\n      <td>Posted on 10th Mar, 2021 by Builder</td>\n    </tr>\n    <tr>\n      <th>23</th>\n      <td>https://www.99acres.com/residential-land-for-s...</td>\n      <td>Residential land / Plot in AB Bypass Road</td>\n      <td>₹ 17.7  - 49.28 Lac₹ 1,265/sq.ft.</td>\n      <td>DLF Gardencity</td>\n      <td></td>\n      <td>1,264-4,000 sq.ft. (117-372 sq.m.) Plot Area</td>\n      <td>Dlf gardencity in ab bypass road, indore by dl...</td>\n      <td>Posted on 26th Mar, 2021 by RERA Registered De...</td>\n    </tr>\n    <tr>\n      <th>24</th>\n      <td>https://www.99acres.com/3-bhk-bedroom-resident...</td>\n      <td>3 BHK Residential Apartment in Bijalpur</td>\n      <td>₹ 45.5 Lac₹ 2,948/sq.ft.</td>\n      <td>Shri Sai Century Park</td>\n      <td>3 BHK</td>\n      <td>1,543 sq.ft. (143 sq.m.) Super built-up Area</td>\n      <td>Shri Sai Century Park offers 3 BHK flats in Bi...</td>\n      <td>Posted on 10th Mar, 2021 by Builder</td>\n    </tr>\n    <tr>\n      <th>25</th>\n      <td>https://www.99acres.com/3-bhk-bedroom-resident...</td>\n      <td>3 BHK Residential Apartment in Bijalpur</td>\n      <td>₹ 45.5 Lac₹ 2,948/sq.ft.</td>\n      <td>Shri Sai Century Park</td>\n      <td>3 BHK</td>\n      <td>1,543 sq.ft. (143 sq.m.) Super built-up Area</td>\n      <td>Shri Sai Century Park offers 3 BHK flats in Bi...</td>\n      <td>Posted on 10th Mar, 2021 by Builder</td>\n    </tr>\n  </tbody>\n</table>\n</div>"
     },
     "metadata": {},
     "execution_count": 11
    }
   ],
   "source": [
    "the_data=frame(s)\n",
    "the_data"
   ]
  },
  {
   "cell_type": "code",
   "execution_count": 12,
   "metadata": {},
   "outputs": [],
   "source": [
    "from selenium import webdriver\n",
    "from selenium.webdriver.common.keys import Keys\n",
    "from time import sleep\n",
    "the_data_pull=[]\n",
    "browser = webdriver.Firefox(executable_path=\"/home/swaraj/Downloads/driver/geckodriver\")\n",
    "browser.get(url)\n",
    "for i in range(2,5):\n",
    "    i=str(i)\n",
    "    element = browser.find_element_by_link_text(i)\n",
    "    k=element.click()\n",
    "    browser.get(url)\n",
    "    j=requests.get(url)\n",
    "    k=j.text\n",
    "    s=BeautifulSoup(k,'lxml')\n",
    "    THE_DA=frame(s)\n",
    "    the_data_pull.append(THE_DA)\n",
    "\n",
    "    sleep(2)\n",
    "browser.quit()"
   ]
  },
  {
   "cell_type": "code",
   "execution_count": 14,
   "metadata": {
    "tags": []
   },
   "outputs": [],
   "source": [
    "the_data_pull.insert(0,the_data)\n",
    "result = pd.concat(the_data_pull)"
   ]
  },
  {
   "cell_type": "code",
   "execution_count": 15,
   "metadata": {},
   "outputs": [],
   "source": [
    "result.to_csv('/run/media/swaraj/volume y/code/work/working/99acers2.csv')\n"
   ]
  },
  {
   "cell_type": "code",
   "execution_count": null,
   "metadata": {},
   "outputs": [],
   "source": []
  }
 ]
}