{
 "metadata": {
  "language_info": {
   "codemirror_mode": {
    "name": "ipython",
    "version": 3
   },
   "file_extension": ".py",
   "mimetype": "text/x-python",
   "name": "python",
   "nbconvert_exporter": "python",
   "pygments_lexer": "ipython3",
   "version": "3.9.2"
  },
  "orig_nbformat": 2,
  "kernelspec": {
   "name": "python3",
   "display_name": "Python 3.9.2 64-bit",
   "metadata": {
    "interpreter": {
     "hash": "e7370f93d1d0cde622a1f8e1c04877d8463912d04d973331ad4851f04de6915a"
    }
   }
  },
  "metadata": {
   "interpreter": {
    "hash": "07c0eba680f48f47a5ba37da399cd5e89b67f1875bf63e9a800e8853b1dcac6f"
   }
  }
 },
 "nbformat": 4,
 "nbformat_minor": 2,
 "cells": [
  {
   "cell_type": "code",
   "execution_count": 3,
   "metadata": {},
   "outputs": [],
   "source": [
    "import pandas as pd \r\n",
    "import numpy as np \r\n",
    "import requests\r\n",
    "import csv \r\n",
    "import re\r\n",
    "from bs4 import BeautifulSoup"
   ]
  },
  {
   "cell_type": "code",
   "execution_count": 4,
   "metadata": {},
   "outputs": [],
   "source": [
    "    url='https://www.99acres.com/search/property/rent/pune?city=19&class=O&preference=R&area_unit=1&budget_min=0&res_com=R'\n",
    "    j=requests.get(url)\n",
    "    k=j.text\n",
    "    s=BeautifulSoup(k,'lxml')"
   ]
  },
  {
   "cell_type": "code",
   "execution_count": 25,
   "metadata": {},
   "outputs": [],
   "source": [
    "titel=[]\n",
    "link=[]\n",
    "titel=s.find_all('a',attrs={'class':\"body_med srpTuple__propertyName\"}) \n",
    "for i in titel:\n",
    "    k=i['href']\n",
    "    #print(i['href'])\n",
    "    link.append(k)\n",
    "    #print(i.text)"
   ]
  },
  {
   "cell_type": "code",
   "execution_count": 26,
   "metadata": {},
   "outputs": [],
   "source": [
    "z=[]\n",
    "for i in titel:\n",
    "    z.append(i.text)"
   ]
  },
  {
   "cell_type": "code",
   "execution_count": 43,
   "metadata": {},
   "outputs": [],
   "source": []
  },
  {
   "cell_type": "code",
   "execution_count": null,
   "metadata": {},
   "outputs": [],
   "source": [
    "location=s.find_all('td',attrs={'class':\"list_header_bold srpTuple__spacer10\"}) \n",
    "loc=[]\n",
    "for i in location:\n",
    "    loc.append(i.text)\n"
   ]
  },
  {
   "cell_type": "code",
   "execution_count": 61,
   "metadata": {},
   "outputs": [],
   "source": [
    "prices=s.find_all('td',attrs={'id':\"srp_tuple_price\"}) \n",
    "k=[]\n",
    "for i in prices:\n",
    "    k.append(i.text)"
   ]
  },
  {
   "cell_type": "code",
   "execution_count": 62,
   "metadata": {},
   "outputs": [
    {
     "output_type": "execute_result",
     "data": {
      "text/plain": [
       "['₹ 8,000 /monthDeposit 2 month(s) rent',\n",
       " '₹ 15,000 /monthDeposit ₹ 32000',\n",
       " '₹ 35,000 /monthDeposit ₹ 150000',\n",
       " '₹ 30,000 /monthDeposit ₹ 150000',\n",
       " '₹ 18,000 /monthDeposit ₹ 50000',\n",
       " '₹ 10,000 /monthDeposit ₹ 30000',\n",
       " '₹ 38,000 /monthDeposit 3 month(s) rent',\n",
       " '₹ 11,000 /monthDeposit ₹ 25000',\n",
       " '₹ 8,500 /monthDeposit ₹ 20000',\n",
       " '₹ 22,500 /monthDeposit ₹ 50000',\n",
       " '₹ 18,000 /monthDeposit ₹ 50000',\n",
       " '₹ 23,000 /monthDeposit ₹ 70000',\n",
       " '₹ 17,000 /monthDeposit ₹ 60000',\n",
       " '₹ 17,000 /monthDeposit ₹ 38000',\n",
       " '₹ 16,500 /month',\n",
       " '₹ 7,000 /monthDeposit ₹ 7000',\n",
       " '₹ 17,500 /monthDeposit ₹ 30000',\n",
       " '₹ 21,000 /monthDeposit ₹ 30000',\n",
       " '₹ 16,000 /monthDeposit ₹ 50000',\n",
       " '₹ 4,000 /monthDeposit ₹ 12000',\n",
       " '₹ 90,000 /monthDeposit 3 month(s) rent',\n",
       " '₹ 18,000 /monthDeposit ₹ 50000',\n",
       " '₹ 22,000 /monthDeposit 3 month(s) rent',\n",
       " '₹ 18,000 /monthDeposit 3 month(s) rent',\n",
       " '₹ 18,000 /monthDeposit ₹ 35000']"
      ]
     },
     "metadata": {},
     "execution_count": 62
    }
   ],
   "source": [
    "k"
   ]
  },
  {
   "cell_type": "code",
   "execution_count": 85,
   "metadata": {},
   "outputs": [],
   "source": [
    "area=s.find_all('td',attrs={'id':\"srp_tuple_primary_area\"}) \n",
    "lis_area=[]\n",
    "for i in area:\n",
    "    lis_area.append(i.text)\n",
    "   "
   ]
  },
  {
   "cell_type": "code",
   "execution_count": 88,
   "metadata": {},
   "outputs": [
    {
     "output_type": "stream",
     "name": "stdout",
     "text": [
      "2 BHK2 Baths\n2 BHK2 Baths\n4 BHK4 Baths\n3 BHK3 Baths\n1 BHK1 Bath\n2 BHK2 Baths\n3 BHK3 Baths\n2 BHK2 Baths\n1 BHK2 Baths\n3 BHK2 Baths\n2 BHK2 Baths\n3 BHK3 Baths\n2 BHK2 Baths\n2 BHK2 Baths\n1 BHK1 Bath\n1 BHK1 Bath\n2 BHK2 Baths\n2 BHK2 Baths\n1 BHK1 Bath\n1 BHK1 Bath\n5 BHK5 Baths\n2 BHK2 Baths\n3 BHK2 Baths\n2 BHK2 Baths\n2 BHK2 Baths\n"
     ]
    }
   ],
   "source": [
    "type=s.find_all('td',attrs={'id':\"srp_tuple_bedroom\"}) \n",
    "lis__type=[]\n",
    "for i in type:\n",
    "    lis__type.append(i.text)\n",
    "    print(i.text)\n"
   ]
  },
  {
   "cell_type": "code",
   "execution_count": 89,
   "metadata": {},
   "outputs": [
    {
     "output_type": "stream",
     "name": "stdout",
     "text": [
      "Property near to pune saswad road cool place and natural air\n2bhk flat for rent at prime location with all modern amenties swimming pool,gym etc..\nThe house of your dreams is available for rent! Get ready to live in this beautiful semi furnished independent house with plot area of 2500 sq. Ft. At market yard, pune. The property has 3 floors, which comprises of 4 bedrooms, 4 bathrooms, 2 beds, modular kitchen, lights, fans, and bathroom fixtures. Everything within the house is of high quality. Buying daily essentials gets convenient for th...\nLooking for an affordable apartment with best facilities? You are at the right place! A semi furnished residential apartment at shankar kalat nagar, pune, with carpet area of 1457 sq. Ft. Is available for rent. It is located on the 12th floor, which comprises of 3 bedrooms, 3 bathrooms, 3 wardrobes, modular kitchen, water purifier, exhaust fan, 3 geysers, stove, 3 ac, and fans. There are 3 balc...\nPrime location fully furnished airy society every need at walkable distance . Water available 24 hours. Western toilet. Exclusive covered parking, maintenance by owner. Well maintained society. Garden and play area. Good housekeeping. All transport available . Walking track.\nLooking for an affordable apartment with best facilities? You are at the right place! A residential apartment at chikhali, pune, with super built up area of 1000 sq. Ft. Is available for rent. It is located on the 8th floor, which comprises of 2 bedrooms, 2 bathrooms, kitchen, lights, and fans. There are 2 balconies in the property, which makes it fully ventilated, full of natural light, with a...\nClover acropolis is a prestigious society in viman nagar, pune. Right next to the biggest mall, phoenix mall and the main road, nagar road is just 100m away. The society is also 1.5 km from the airport and is in close proximity to kalyani nagar. There are very good schools within 4 km radius and lot of it hubs within 5 kms. Viman nagar is the most happening place in pune. We are willing to go f...\nI want to rent out a 2 bhk apartment available in majestique manhattan, wagholi, pune. Located in a serene place, it has a super built-Up area of 838. 0 sq. Ft. It is an attractive and a newly constructed property. The property has an amazing location and is unfurnished. It has 3 balcony(s) which offer an excellent view. Immediately available. Additional details : The society has dedicated secu...\nA promise to the tenants to provide a lifestyle which is not just comforting and subtle but ensures you a royal lifestyle. This independent builder floor is located in the prime locality of pimpri chinchwad, pune, maharashtra and offers a number of facilities and advantages. Property configuration- The property is eloquently designed and is stretched across an area of 325 sq. Ft. This independe...\nLooking for an affordable apartment with best facilities? You are at the right place! A fully furnished residential apartment at bhausaheb kalate nagar, pune, with super built up area of 1275 sq. Ft. Is available for rent. It is located on the 3rd floor, which comprises of 3 bedrooms, 2 bathrooms, 4 beds, 4 wardrobes, modular kitchen, water purifier, fridge, 3 geysers, stove, lights, and fans. ...\nAll basic amenities like mall, hospital,scholl at the walking distance .....\nBig,spacious & airy flat ....Newly painted & renovated .\n3 bhk available for rent from -11 august\n2 bedroom apartment in dwarka queens park available for rent. The property location is it's usp and has accessibility to super markets and all the malls around the area. It's close to the main road.\nFully furnished home with appliances and piped natural gas connection.\nPerfect for family who are newly moving in the city and want a set home with all furniture and appliances. Mall and multiplex just opoosite side of the road.\nThis is a terrace flat with big terrace of 750 sq. Ft.. It is well ventilated and ideally located with schools, colleges, banks, malls etc in the vicinity.\nVery good society with 24 hours water and electricity.\nA 1 bhk property is available on rent in marunji, pune. It is an unfurnished property. It is located on the 2nd floor(Out of a total of 3 floor(s)). It is north facing property. It is situated near marunji chowk. From marunji chowk there is a road to hinjewadi phase 2 through embassy techzone. This road is is not having any traffic. You reach embassy techzone in 7 minutes and hinjewadi phase 2 ...\nResidential apartment for rent.The property comes with a good construction quality which ages 10  years old propertylocated in vishrantwadi.Property is built in 1200.00 sq.Ft.(Builtup area)  it is a semifurnished property.The property has 2 bedrooms with 2 bathrooms .Available at an expected price of rs 17500.Located on 4th floor out of the 8\nSpacious with big private terrace.Water tanks fitted for water storage. Near to vishrantwadi chowk, easy access to supermarkets, school,hospital, local market, traffic free peaceful location amidst main vishrantwadi chowk.Overlooking main road, east facing,\nAmazing flat location road touch. All essentials available in complex. Contact on whatsapp or email. Fully furnished flat at prime location. Elevator (Lift)available.Furnished apartment with 1 double bed with mattress, 1 almirah, 1 gas stove, modular kitchen, 1 fridge, 1 lcd tv , tatasky , 2 fan(s) 6 light(s), 1 washing machine. Can add sofa 3+2+2 & dining table if need. The society has dedicat...\nI want to rent out a 1 bhk apartment available in pristine palms, bakori, pune. Located in a serene place, it has a super built-Up area of 705. 0 sq. Ft. It is an attractive and a newly constructed property. The property has an amazing location and is unfurnished. It has 1 balcony(s) which offer an excellent view. Immediately available.\nQqqqqqqqqqqqqqqqqqqqqqqqqqqqqqqqqqqqqqqqqqqqqqqqq\nAll basic amenities like market, hospital,mall & school at walking distance....\nBig ,airy flat with recently painted & renovated .\nThis is an excellent 2.5 bhk flat available for rent in green valley society, wakad. \nPrime location in wakad.\nResidential apartment for rent.Located on 7th floor out of the 12 located in wagholi.It is a semifurnished property.The property has 2 bedrooms with 2 bathrooms .Available at an expected price of rs 18000.The property comes with a good construction quality which ages 1-5 years old property. It is close to highway, schools and market.\nResidential apartment for rent.The property has 2 bedrooms with 2 bathrooms .It is a furnished property.Located in pimple saudagar.Available at an expected price of rs 18000.Located on 3rd floor out of the 4 the property comes with a good construction quality which ages 1-5 years old property.\n"
     ]
    }
   ],
   "source": [
    "desc=s.find_all('div',attrs={'id':\"srp_tuple_description\"}) \n",
    "lis__desc=[]\n",
    "for i in desc:\n",
    "    lis__desc.append(i.text)\n",
    "    print(i.text)"
   ]
  },
  {
   "cell_type": "code",
   "execution_count": 90,
   "metadata": {},
   "outputs": [],
   "source": [
    "d={\n",
    "    'link':link,\n",
    "    'title':z\n",
    "}"
   ]
  },
  {
   "cell_type": "code",
   "execution_count": 91,
   "metadata": {},
   "outputs": [],
   "source": [
    "df=pd.DataFrame(d)"
   ]
  },
  {
   "cell_type": "code",
   "execution_count": 101,
   "metadata": {},
   "outputs": [],
   "source": [
    "df['prices']=k\n",
    "df['location']=loc\n",
    "df['type']=lis__type\n",
    "df['area']=lis_area\n",
    "df['text']=lis__desc\n"
   ]
  },
  {
   "cell_type": "code",
   "execution_count": 102,
   "metadata": {},
   "outputs": [
    {
     "output_type": "execute_result",
     "data": {
      "text/plain": [
       "                                                 link  \\\n",
       "0   /2-bhk-bedroom-builder-floor-for-rent-in-on-re...   \n",
       "1   /2-bhk-bedroom-residential-apartments-for-rent...   \n",
       "2   /4-bhk-bedroom-independent-house-for-rent-in-m...   \n",
       "3   /3-bhk-bedroom-residential-apartments-for-rent...   \n",
       "4   /1-bhk-bedroom-residential-apartments-for-rent...   \n",
       "5   /2-bhk-bedroom-residential-apartments-for-rent...   \n",
       "6   /3-bhk-bedroom-residential-apartments-for-rent...   \n",
       "7   /2-bhk-bedroom-residential-apartments-for-rent...   \n",
       "8   /1-bhk-bedroom-builder-floor-for-rent-in-shri-...   \n",
       "9   /3-bhk-bedroom-residential-apartments-for-rent...   \n",
       "10  /2-bhk-bedroom-residential-apartments-for-rent...   \n",
       "11  /3-bhk-bedroom-residential-apartments-for-rent...   \n",
       "12  /2-bhk-bedroom-residential-apartments-for-rent...   \n",
       "13  /2-bhk-bedroom-residential-apartments-for-rent...   \n",
       "14  /1-bhk-bedroom-residential-apartments-for-rent...   \n",
       "15  /1-bhk-bedroom-residential-apartments-for-rent...   \n",
       "16  /2-bhk-bedroom-residential-apartments-for-rent...   \n",
       "17  /2-bhk-bedroom-builder-floor-for-rent-in-vishr...   \n",
       "18  /1-bhk-bedroom-residential-apartments-for-rent...   \n",
       "19  /1-bhk-bedroom-residential-apartments-for-rent...   \n",
       "20  /5-bhk-bedroom-residential-apartments-for-rent...   \n",
       "21  /2-bhk-bedroom-residential-apartments-for-rent...   \n",
       "22  /3-bhk-bedroom-residential-apartments-for-rent...   \n",
       "23  /2-bhk-bedroom-residential-apartments-for-rent...   \n",
       "24  /2-bhk-bedroom-residential-apartments-for-rent...   \n",
       "\n",
       "                                                title  \\\n",
       "0   2 BHK Independent Builder Floor for rent in Bh...   \n",
       "1   2 BHK Residential Apartment for rent in Keshav...   \n",
       "2   4 Bedroom Independent House for rent in Market...   \n",
       "3   3 BHK Residential Apartment for rent in Shanka...   \n",
       "4       1 BHK Residential Apartment for rent in Aundh   \n",
       "5    2 BHK Residential Apartment for rent in Chikhali   \n",
       "6   3 BHK Residential Apartment for rent in Viman ...   \n",
       "7     2 BHK Residential Apartment for rent in Wagholi   \n",
       "8   1 BHK Independent Builder Floor for rent in Pi...   \n",
       "9   3 BHK Residential Apartment for rent in Bhausa...   \n",
       "10    2 BHK Residential Apartment for rent in Kharadi   \n",
       "11   3 BHK Residential Apartment for rent in Rahatani   \n",
       "12   2 BHK Residential Apartment for rent in Rahatani   \n",
       "13    2 BHK Residential Apartment for rent in Bhosari   \n",
       "14  1 BHK Residential Apartment for rent in Viman ...   \n",
       "15    1 BHK Residential Apartment for rent in Marunji   \n",
       "16  2 BHK Residential Apartment for rent in Vishra...   \n",
       "17  2 BHK Independent Builder Floor for rent in Vi...   \n",
       "18    1 BHK Residential Apartment for rent in Kothrud   \n",
       "19     1 BHK Residential Apartment for rent in Bakori   \n",
       "20  5 BHK Residential Apartment for rent in JJC Co...   \n",
       "21    2 BHK Residential Apartment for rent in Kharadi   \n",
       "22      3 BHK Residential Apartment for rent in Wakad   \n",
       "23    2 BHK Residential Apartment for rent in Wagholi   \n",
       "24  2 BHK Residential Apartment for rent in Pimple...   \n",
       "\n",
       "                                    prices  \\\n",
       "0    ₹ 8,000 /monthDeposit 2 month(s) rent   \n",
       "1           ₹ 15,000 /monthDeposit ₹ 32000   \n",
       "2          ₹ 35,000 /monthDeposit ₹ 150000   \n",
       "3          ₹ 30,000 /monthDeposit ₹ 150000   \n",
       "4           ₹ 18,000 /monthDeposit ₹ 50000   \n",
       "5           ₹ 10,000 /monthDeposit ₹ 30000   \n",
       "6   ₹ 38,000 /monthDeposit 3 month(s) rent   \n",
       "7           ₹ 11,000 /monthDeposit ₹ 25000   \n",
       "8            ₹ 8,500 /monthDeposit ₹ 20000   \n",
       "9           ₹ 22,500 /monthDeposit ₹ 50000   \n",
       "10          ₹ 18,000 /monthDeposit ₹ 50000   \n",
       "11          ₹ 23,000 /monthDeposit ₹ 70000   \n",
       "12          ₹ 17,000 /monthDeposit ₹ 60000   \n",
       "13          ₹ 17,000 /monthDeposit ₹ 38000   \n",
       "14                         ₹ 16,500 /month   \n",
       "15            ₹ 7,000 /monthDeposit ₹ 7000   \n",
       "16          ₹ 17,500 /monthDeposit ₹ 30000   \n",
       "17          ₹ 21,000 /monthDeposit ₹ 30000   \n",
       "18          ₹ 16,000 /monthDeposit ₹ 50000   \n",
       "19           ₹ 4,000 /monthDeposit ₹ 12000   \n",
       "20  ₹ 90,000 /monthDeposit 3 month(s) rent   \n",
       "21          ₹ 18,000 /monthDeposit ₹ 50000   \n",
       "22  ₹ 22,000 /monthDeposit 3 month(s) rent   \n",
       "23  ₹ 18,000 /monthDeposit 3 month(s) rent   \n",
       "24          ₹ 18,000 /monthDeposit ₹ 35000   \n",
       "\n",
       "                              location          type  \\\n",
       "0                           on request  2 BHK2 Baths   \n",
       "1                      Godrej Infinity  2 BHK2 Baths   \n",
       "2                                       4 BHK4 Baths   \n",
       "3                  Kalpataru Splendour  3 BHK3 Baths   \n",
       "4                         Surobhi Park   1 BHK1 Bath   \n",
       "5                   Sonigara Blue Dice  2 BHK2 Baths   \n",
       "6                     Clover Acropolis  3 BHK3 Baths   \n",
       "7                 Majestique Manhattan  2 BHK2 Baths   \n",
       "8             Shri Sai Housing society  1 BHK2 Baths   \n",
       "9                    Vridavan Elegance  3 BHK2 Baths   \n",
       "10  Giridhar Oasis, Thite Wasti , Pune  2 BHK2 Baths   \n",
       "11     GK Royal Rahadki Greens Phase 2  3 BHK3 Baths   \n",
       "12               GK Dwarka Queens Park  2 BHK2 Baths   \n",
       "13                Landge Nestworth Chs  2 BHK2 Baths   \n",
       "14              Siddharth Modern Homes   1 BHK1 Bath   \n",
       "15                Vasundhara Apartment   1 BHK1 Bath   \n",
       "16            Vishrant Housing Society  2 BHK2 Baths   \n",
       "17                                      2 BHK2 Baths   \n",
       "18                       Rahul Complex   1 BHK1 Bath   \n",
       "19                  Pristine Aakanksha   1 BHK1 Bath   \n",
       "20                Amanora Park Town R3  5 BHK5 Baths   \n",
       "21                       Girdhar Oasis  2 BHK2 Baths   \n",
       "22                 Aswani Green Valley  3 BHK2 Baths   \n",
       "23                 Karia Konark Orchid  2 BHK2 Baths   \n",
       "24                           Rose Icon  2 BHK2 Baths   \n",
       "\n",
       "                                            area  \\\n",
       "0            800 sq.ft. (74 sq.m.) Built-up Area   \n",
       "1   1,100 sq.ft. (102 sq.m.) Super built-up Area   \n",
       "2             2,500 sq.ft. (232 sq.m.) Plot Area   \n",
       "3           1,457 sq.ft. (135 sq.m.) Carpet Area   \n",
       "4      700 sq.ft. (65 sq.m.) Super built-up Area   \n",
       "5    1,000 sq.ft. (93 sq.m.) Super built-up Area   \n",
       "6   1,530 sq.ft. (142 sq.m.) Super built-up Area   \n",
       "7      838 sq.ft. (78 sq.m.) Super built-up Area   \n",
       "8      630 sq.ft. (59 sq.m.) Super built-up Area   \n",
       "9   1,275 sq.ft. (118 sq.m.) Super built-up Area   \n",
       "10  1,800 sq.ft. (167 sq.m.) Super built-up Area   \n",
       "11  1,600 sq.ft. (149 sq.m.) Super built-up Area   \n",
       "12  1,096 sq.ft. (102 sq.m.) Super built-up Area   \n",
       "13     900 sq.ft. (84 sq.m.) Super built-up Area   \n",
       "14     650 sq.ft. (60 sq.m.) Super built-up Area   \n",
       "15             600 sq.ft. (56 sq.m.) Carpet Area   \n",
       "16        1,200 sq.ft. (111 sq.m.) Built-up Area   \n",
       "17        1,140 sq.ft. (106 sq.m.) Built-up Area   \n",
       "18     550 sq.ft. (51 sq.m.) Super built-up Area   \n",
       "19     705 sq.ft. (66 sq.m.) Super built-up Area   \n",
       "20  2,880 sq.ft. (268 sq.m.) Super built-up Area   \n",
       "21  1,400 sq.ft. (130 sq.m.) Super built-up Area   \n",
       "22           1,010 sq.ft. (94 sq.m.) Carpet Area   \n",
       "23   1,035 sq.ft. (96 sq.m.) Super built-up Area   \n",
       "24     920 sq.ft. (85 sq.m.) Super built-up Area   \n",
       "\n",
       "                                                 text  \n",
       "0   Property near to pune saswad road cool place a...  \n",
       "1   2bhk flat for rent at prime location with all ...  \n",
       "2   The house of your dreams is available for rent...  \n",
       "3   Looking for an affordable apartment with best ...  \n",
       "4   Prime location fully furnished airy society ev...  \n",
       "5   Looking for an affordable apartment with best ...  \n",
       "6   Clover acropolis is a prestigious society in v...  \n",
       "7   I want to rent out a 2 bhk apartment available...  \n",
       "8   A promise to the tenants to provide a lifestyl...  \n",
       "9   Looking for an affordable apartment with best ...  \n",
       "10  All basic amenities like mall, hospital,scholl...  \n",
       "11           3 bhk available for rent from -11 august  \n",
       "12  2 bedroom apartment in dwarka queens park avai...  \n",
       "13  Fully furnished home with appliances and piped...  \n",
       "14  This is a terrace flat with big terrace of 750...  \n",
       "15  A 1 bhk property is available on rent in marun...  \n",
       "16  Residential apartment for rent.The property co...  \n",
       "17  Spacious with big private terrace.Water tanks ...  \n",
       "18  Amazing flat location road touch. All essentia...  \n",
       "19  I want to rent out a 1 bhk apartment available...  \n",
       "20  Qqqqqqqqqqqqqqqqqqqqqqqqqqqqqqqqqqqqqqqqqqqqqqqqq  \n",
       "21  All basic amenities like market, hospital,mall...  \n",
       "22  This is an excellent 2.5 bhk flat available fo...  \n",
       "23  Residential apartment for rent.Located on 7th ...  \n",
       "24  Residential apartment for rent.The property ha...  "
      ],
      "text/html": "<div>\n<style scoped>\n    .dataframe tbody tr th:only-of-type {\n        vertical-align: middle;\n    }\n\n    .dataframe tbody tr th {\n        vertical-align: top;\n    }\n\n    .dataframe thead th {\n        text-align: right;\n    }\n</style>\n<table border=\"1\" class=\"dataframe\">\n  <thead>\n    <tr style=\"text-align: right;\">\n      <th></th>\n      <th>link</th>\n      <th>title</th>\n      <th>prices</th>\n      <th>location</th>\n      <th>type</th>\n      <th>area</th>\n      <th>text</th>\n    </tr>\n  </thead>\n  <tbody>\n    <tr>\n      <th>0</th>\n      <td>/2-bhk-bedroom-builder-floor-for-rent-in-on-re...</td>\n      <td>2 BHK Independent Builder Floor for rent in Bh...</td>\n      <td>₹ 8,000 /monthDeposit 2 month(s) rent</td>\n      <td>on request</td>\n      <td>2 BHK2 Baths</td>\n      <td>800 sq.ft. (74 sq.m.) Built-up Area</td>\n      <td>Property near to pune saswad road cool place a...</td>\n    </tr>\n    <tr>\n      <th>1</th>\n      <td>/2-bhk-bedroom-residential-apartments-for-rent...</td>\n      <td>2 BHK Residential Apartment for rent in Keshav...</td>\n      <td>₹ 15,000 /monthDeposit ₹ 32000</td>\n      <td>Godrej Infinity</td>\n      <td>2 BHK2 Baths</td>\n      <td>1,100 sq.ft. (102 sq.m.) Super built-up Area</td>\n      <td>2bhk flat for rent at prime location with all ...</td>\n    </tr>\n    <tr>\n      <th>2</th>\n      <td>/4-bhk-bedroom-independent-house-for-rent-in-m...</td>\n      <td>4 Bedroom Independent House for rent in Market...</td>\n      <td>₹ 35,000 /monthDeposit ₹ 150000</td>\n      <td></td>\n      <td>4 BHK4 Baths</td>\n      <td>2,500 sq.ft. (232 sq.m.) Plot Area</td>\n      <td>The house of your dreams is available for rent...</td>\n    </tr>\n    <tr>\n      <th>3</th>\n      <td>/3-bhk-bedroom-residential-apartments-for-rent...</td>\n      <td>3 BHK Residential Apartment for rent in Shanka...</td>\n      <td>₹ 30,000 /monthDeposit ₹ 150000</td>\n      <td>Kalpataru Splendour</td>\n      <td>3 BHK3 Baths</td>\n      <td>1,457 sq.ft. (135 sq.m.) Carpet Area</td>\n      <td>Looking for an affordable apartment with best ...</td>\n    </tr>\n    <tr>\n      <th>4</th>\n      <td>/1-bhk-bedroom-residential-apartments-for-rent...</td>\n      <td>1 BHK Residential Apartment for rent in Aundh</td>\n      <td>₹ 18,000 /monthDeposit ₹ 50000</td>\n      <td>Surobhi Park</td>\n      <td>1 BHK1 Bath</td>\n      <td>700 sq.ft. (65 sq.m.) Super built-up Area</td>\n      <td>Prime location fully furnished airy society ev...</td>\n    </tr>\n    <tr>\n      <th>5</th>\n      <td>/2-bhk-bedroom-residential-apartments-for-rent...</td>\n      <td>2 BHK Residential Apartment for rent in Chikhali</td>\n      <td>₹ 10,000 /monthDeposit ₹ 30000</td>\n      <td>Sonigara Blue Dice</td>\n      <td>2 BHK2 Baths</td>\n      <td>1,000 sq.ft. (93 sq.m.) Super built-up Area</td>\n      <td>Looking for an affordable apartment with best ...</td>\n    </tr>\n    <tr>\n      <th>6</th>\n      <td>/3-bhk-bedroom-residential-apartments-for-rent...</td>\n      <td>3 BHK Residential Apartment for rent in Viman ...</td>\n      <td>₹ 38,000 /monthDeposit 3 month(s) rent</td>\n      <td>Clover Acropolis</td>\n      <td>3 BHK3 Baths</td>\n      <td>1,530 sq.ft. (142 sq.m.) Super built-up Area</td>\n      <td>Clover acropolis is a prestigious society in v...</td>\n    </tr>\n    <tr>\n      <th>7</th>\n      <td>/2-bhk-bedroom-residential-apartments-for-rent...</td>\n      <td>2 BHK Residential Apartment for rent in Wagholi</td>\n      <td>₹ 11,000 /monthDeposit ₹ 25000</td>\n      <td>Majestique Manhattan</td>\n      <td>2 BHK2 Baths</td>\n      <td>838 sq.ft. (78 sq.m.) Super built-up Area</td>\n      <td>I want to rent out a 2 bhk apartment available...</td>\n    </tr>\n    <tr>\n      <th>8</th>\n      <td>/1-bhk-bedroom-builder-floor-for-rent-in-shri-...</td>\n      <td>1 BHK Independent Builder Floor for rent in Pi...</td>\n      <td>₹ 8,500 /monthDeposit ₹ 20000</td>\n      <td>Shri Sai Housing society</td>\n      <td>1 BHK2 Baths</td>\n      <td>630 sq.ft. (59 sq.m.) Super built-up Area</td>\n      <td>A promise to the tenants to provide a lifestyl...</td>\n    </tr>\n    <tr>\n      <th>9</th>\n      <td>/3-bhk-bedroom-residential-apartments-for-rent...</td>\n      <td>3 BHK Residential Apartment for rent in Bhausa...</td>\n      <td>₹ 22,500 /monthDeposit ₹ 50000</td>\n      <td>Vridavan Elegance</td>\n      <td>3 BHK2 Baths</td>\n      <td>1,275 sq.ft. (118 sq.m.) Super built-up Area</td>\n      <td>Looking for an affordable apartment with best ...</td>\n    </tr>\n    <tr>\n      <th>10</th>\n      <td>/2-bhk-bedroom-residential-apartments-for-rent...</td>\n      <td>2 BHK Residential Apartment for rent in Kharadi</td>\n      <td>₹ 18,000 /monthDeposit ₹ 50000</td>\n      <td>Giridhar Oasis, Thite Wasti , Pune</td>\n      <td>2 BHK2 Baths</td>\n      <td>1,800 sq.ft. (167 sq.m.) Super built-up Area</td>\n      <td>All basic amenities like mall, hospital,scholl...</td>\n    </tr>\n    <tr>\n      <th>11</th>\n      <td>/3-bhk-bedroom-residential-apartments-for-rent...</td>\n      <td>3 BHK Residential Apartment for rent in Rahatani</td>\n      <td>₹ 23,000 /monthDeposit ₹ 70000</td>\n      <td>GK Royal Rahadki Greens Phase 2</td>\n      <td>3 BHK3 Baths</td>\n      <td>1,600 sq.ft. (149 sq.m.) Super built-up Area</td>\n      <td>3 bhk available for rent from -11 august</td>\n    </tr>\n    <tr>\n      <th>12</th>\n      <td>/2-bhk-bedroom-residential-apartments-for-rent...</td>\n      <td>2 BHK Residential Apartment for rent in Rahatani</td>\n      <td>₹ 17,000 /monthDeposit ₹ 60000</td>\n      <td>GK Dwarka Queens Park</td>\n      <td>2 BHK2 Baths</td>\n      <td>1,096 sq.ft. (102 sq.m.) Super built-up Area</td>\n      <td>2 bedroom apartment in dwarka queens park avai...</td>\n    </tr>\n    <tr>\n      <th>13</th>\n      <td>/2-bhk-bedroom-residential-apartments-for-rent...</td>\n      <td>2 BHK Residential Apartment for rent in Bhosari</td>\n      <td>₹ 17,000 /monthDeposit ₹ 38000</td>\n      <td>Landge Nestworth Chs</td>\n      <td>2 BHK2 Baths</td>\n      <td>900 sq.ft. (84 sq.m.) Super built-up Area</td>\n      <td>Fully furnished home with appliances and piped...</td>\n    </tr>\n    <tr>\n      <th>14</th>\n      <td>/1-bhk-bedroom-residential-apartments-for-rent...</td>\n      <td>1 BHK Residential Apartment for rent in Viman ...</td>\n      <td>₹ 16,500 /month</td>\n      <td>Siddharth Modern Homes</td>\n      <td>1 BHK1 Bath</td>\n      <td>650 sq.ft. (60 sq.m.) Super built-up Area</td>\n      <td>This is a terrace flat with big terrace of 750...</td>\n    </tr>\n    <tr>\n      <th>15</th>\n      <td>/1-bhk-bedroom-residential-apartments-for-rent...</td>\n      <td>1 BHK Residential Apartment for rent in Marunji</td>\n      <td>₹ 7,000 /monthDeposit ₹ 7000</td>\n      <td>Vasundhara Apartment</td>\n      <td>1 BHK1 Bath</td>\n      <td>600 sq.ft. (56 sq.m.) Carpet Area</td>\n      <td>A 1 bhk property is available on rent in marun...</td>\n    </tr>\n    <tr>\n      <th>16</th>\n      <td>/2-bhk-bedroom-residential-apartments-for-rent...</td>\n      <td>2 BHK Residential Apartment for rent in Vishra...</td>\n      <td>₹ 17,500 /monthDeposit ₹ 30000</td>\n      <td>Vishrant Housing Society</td>\n      <td>2 BHK2 Baths</td>\n      <td>1,200 sq.ft. (111 sq.m.) Built-up Area</td>\n      <td>Residential apartment for rent.The property co...</td>\n    </tr>\n    <tr>\n      <th>17</th>\n      <td>/2-bhk-bedroom-builder-floor-for-rent-in-vishr...</td>\n      <td>2 BHK Independent Builder Floor for rent in Vi...</td>\n      <td>₹ 21,000 /monthDeposit ₹ 30000</td>\n      <td></td>\n      <td>2 BHK2 Baths</td>\n      <td>1,140 sq.ft. (106 sq.m.) Built-up Area</td>\n      <td>Spacious with big private terrace.Water tanks ...</td>\n    </tr>\n    <tr>\n      <th>18</th>\n      <td>/1-bhk-bedroom-residential-apartments-for-rent...</td>\n      <td>1 BHK Residential Apartment for rent in Kothrud</td>\n      <td>₹ 16,000 /monthDeposit ₹ 50000</td>\n      <td>Rahul Complex</td>\n      <td>1 BHK1 Bath</td>\n      <td>550 sq.ft. (51 sq.m.) Super built-up Area</td>\n      <td>Amazing flat location road touch. All essentia...</td>\n    </tr>\n    <tr>\n      <th>19</th>\n      <td>/1-bhk-bedroom-residential-apartments-for-rent...</td>\n      <td>1 BHK Residential Apartment for rent in Bakori</td>\n      <td>₹ 4,000 /monthDeposit ₹ 12000</td>\n      <td>Pristine Aakanksha</td>\n      <td>1 BHK1 Bath</td>\n      <td>705 sq.ft. (66 sq.m.) Super built-up Area</td>\n      <td>I want to rent out a 1 bhk apartment available...</td>\n    </tr>\n    <tr>\n      <th>20</th>\n      <td>/5-bhk-bedroom-residential-apartments-for-rent...</td>\n      <td>5 BHK Residential Apartment for rent in JJC Co...</td>\n      <td>₹ 90,000 /monthDeposit 3 month(s) rent</td>\n      <td>Amanora Park Town R3</td>\n      <td>5 BHK5 Baths</td>\n      <td>2,880 sq.ft. (268 sq.m.) Super built-up Area</td>\n      <td>Qqqqqqqqqqqqqqqqqqqqqqqqqqqqqqqqqqqqqqqqqqqqqqqqq</td>\n    </tr>\n    <tr>\n      <th>21</th>\n      <td>/2-bhk-bedroom-residential-apartments-for-rent...</td>\n      <td>2 BHK Residential Apartment for rent in Kharadi</td>\n      <td>₹ 18,000 /monthDeposit ₹ 50000</td>\n      <td>Girdhar Oasis</td>\n      <td>2 BHK2 Baths</td>\n      <td>1,400 sq.ft. (130 sq.m.) Super built-up Area</td>\n      <td>All basic amenities like market, hospital,mall...</td>\n    </tr>\n    <tr>\n      <th>22</th>\n      <td>/3-bhk-bedroom-residential-apartments-for-rent...</td>\n      <td>3 BHK Residential Apartment for rent in Wakad</td>\n      <td>₹ 22,000 /monthDeposit 3 month(s) rent</td>\n      <td>Aswani Green Valley</td>\n      <td>3 BHK2 Baths</td>\n      <td>1,010 sq.ft. (94 sq.m.) Carpet Area</td>\n      <td>This is an excellent 2.5 bhk flat available fo...</td>\n    </tr>\n    <tr>\n      <th>23</th>\n      <td>/2-bhk-bedroom-residential-apartments-for-rent...</td>\n      <td>2 BHK Residential Apartment for rent in Wagholi</td>\n      <td>₹ 18,000 /monthDeposit 3 month(s) rent</td>\n      <td>Karia Konark Orchid</td>\n      <td>2 BHK2 Baths</td>\n      <td>1,035 sq.ft. (96 sq.m.) Super built-up Area</td>\n      <td>Residential apartment for rent.Located on 7th ...</td>\n    </tr>\n    <tr>\n      <th>24</th>\n      <td>/2-bhk-bedroom-residential-apartments-for-rent...</td>\n      <td>2 BHK Residential Apartment for rent in Pimple...</td>\n      <td>₹ 18,000 /monthDeposit ₹ 35000</td>\n      <td>Rose Icon</td>\n      <td>2 BHK2 Baths</td>\n      <td>920 sq.ft. (85 sq.m.) Super built-up Area</td>\n      <td>Residential apartment for rent.The property ha...</td>\n    </tr>\n  </tbody>\n</table>\n</div>"
     },
     "metadata": {},
     "execution_count": 102
    }
   ],
   "source": [
    "df"
   ]
  },
  {
   "cell_type": "code",
   "execution_count": 103,
   "metadata": {},
   "outputs": [],
   "source": [
    "df.to_csv('/run/media/swaraj/volume y/code/work/working/99acers.csv')"
   ]
  }
 ]
}