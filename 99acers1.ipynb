{
 "metadata": {
  "language_info": {
   "codemirror_mode": {
    "name": "ipython",
    "version": 3
   },
   "file_extension": ".py",
   "mimetype": "text/x-python",
   "name": "python",
   "nbconvert_exporter": "python",
   "pygments_lexer": "ipython3",
   "version": "3.9.2-final"
  },
  "orig_nbformat": 2,
  "kernelspec": {
   "name": "python392jvsc74a57bd0588b1dd76ca082666fe2f995fff1e9efb2de790f2352d1450e516a9edc988200",
   "display_name": "Python 3.9.2 64-bit"
  },
  "metadata": {
   "interpreter": {
    "hash": "588b1dd76ca082666fe2f995fff1e9efb2de790f2352d1450e516a9edc988200"
   }
  }
 },
 "nbformat": 4,
 "nbformat_minor": 2,
 "cells": [
  {
   "cell_type": "code",
   "execution_count": 25,
   "metadata": {},
   "outputs": [],
   "source": [
    "import pandas as pd \n",
    "import numpy as np \n",
    "import requests\n",
    "import csv \n",
    "import re\n",
    "from bs4 import BeautifulSoup"
   ]
  },
  {
   "cell_type": "code",
   "execution_count": 26,
   "metadata": {},
   "outputs": [],
   "source": [
    "    url='https://www.99acres.com/search/property/buy/residential-all/indore?search_type=QS&refSection=GNB&search_location=CP19&lstAcn=CP_R&lstAcnId=19&src=CLUSTER&preference=S&selected_tab=1&city=142&res_com=R&property_type=R&isvoicesearch=N&keyword=indore&strEntityMap=IiI%3D&refine_results=Y&Refine_Localities=Refine%20Localities&action=%2Fdo%2Fquicksearch%2Fsearch&searchform=1&price_min=null&price_max=null'\n",
    "    j=requests.get(url)\n",
    "    k=j.text\n",
    "    s=BeautifulSoup(k,'lxml')"
   ]
  },
  {
   "cell_type": "code",
   "execution_count": 27,
   "metadata": {},
   "outputs": [],
   "source": [
    "def titel(s):\n",
    "    titel=[]\n",
    "    link=[]\n",
    "    titel=s.find_all('a',attrs={'class':\"body_med srpTuple__propertyName\"}) \n",
    "    for i in titel:\n",
    "        k=i['href']\n",
    "        #print(i['href'])\n",
    "        link.append(k)\n",
    "        #print(i.text)\n",
    "    z=[]\n",
    "    for i in titel:\n",
    "       z.append(i.text)\n",
    "    d={\n",
    "    'link':link,\n",
    "    'title':z\n",
    "     }\n",
    "    df=pd.DataFrame(d)\n",
    "    return df"
   ]
  },
  {
   "cell_type": "code",
   "execution_count": 28,
   "metadata": {},
   "outputs": [],
   "source": [
    "def loc(s):\n",
    "    location=s.find_all('td',attrs={'class':\"list_header_bold srpTuple__spacer10\"}) \n",
    "    loc=[]\n",
    "    for i in location:\n",
    "        loc.append(i.text)\n",
    "    return loc"
   ]
  },
  {
   "cell_type": "code",
   "execution_count": 29,
   "metadata": {},
   "outputs": [],
   "source": [
    "def prices(s):\n",
    "    prices=s.find_all('td',attrs={'id':\"srp_tuple_price\"}) \n",
    "    k=[]\n",
    "    for i in prices:\n",
    "        k.append(i.text)\n",
    "    return k"
   ]
  },
  {
   "cell_type": "code",
   "execution_count": 30,
   "metadata": {},
   "outputs": [],
   "source": [
    "def area(s):\n",
    "    area=s.find_all('td',attrs={'id':\"srp_tuple_primary_area\"}) \n",
    "    lis_area=[]\n",
    "    for i in area:\n",
    "        lis_area.append(i.text)\n",
    "    return lis_area\n",
    "    "
   ]
  },
  {
   "cell_type": "code",
   "execution_count": 31,
   "metadata": {},
   "outputs": [],
   "source": [
    "def lis__type(s):\n",
    "    type=s.find_all('td',attrs={'id':\"srp_tuple_bedroom\"}) \n",
    "    lis__type=[]\n",
    "    for i in type:\n",
    "        lis__type.append(i.text)\n",
    "        #print(i.text)\n",
    "    return lis__type\n"
   ]
  },
  {
   "cell_type": "code",
   "execution_count": 32,
   "metadata": {},
   "outputs": [],
   "source": [
    "def desc(s):\n",
    "    desc=s.find_all('div',attrs={'id':\"srp_tuple_description\"}) \n",
    "    lis__desc=[]\n",
    "    for i in desc:\n",
    "        lis__desc.append(i.text)\n",
    "        #print(i.text)\n",
    "    return lis__desc"
   ]
  },
  {
   "cell_type": "code",
   "execution_count": 33,
   "metadata": {},
   "outputs": [],
   "source": [
    "def dates(s):\n",
    "    date_of=s.find_all('div',attrs={'class':\"caption_strong_small\"}) \n",
    "    date_li=[]\n",
    "    for i in date_of:\n",
    "        date_li.append(i.text)\n",
    "        #print(i.text)\n",
    "    return date_li"
   ]
  },
  {
   "cell_type": "code",
   "execution_count": 34,
   "metadata": {},
   "outputs": [],
   "source": [
    "def frame(s):\n",
    "    df=titel(s)\n",
    "    df['prices']=prices(s)\n",
    "    df['location']=loc(s)\n",
    "    df['type']=lis__type(s)\n",
    "    df['area']=area(s)\n",
    "    df['text']=desc(s)\n",
    "    df['dates']=dates(s)\n",
    "    df['link']='https://www.99acres.com'+df['link']\n",
    "    return df\n"
   ]
  },
  {
   "cell_type": "code",
   "execution_count": 35,
   "metadata": {},
   "outputs": [
    {
     "output_type": "execute_result",
     "data": {
      "text/plain": [
       "                                                 link  \\\n",
       "0   https://www.99acres.com/residential-land-for-s...   \n",
       "1   https://www.99acres.com/3-bhk-bedroom-resident...   \n",
       "2   https://www.99acres.com/residential-land-for-s...   \n",
       "3   https://www.99acres.com/2-bhk-bedroom-resident...   \n",
       "4   https://www.99acres.com/residential-land-for-s...   \n",
       "5   https://www.99acres.com/2-bhk-bedroom-resident...   \n",
       "6   https://www.99acres.com/3-bhk-bedroom-resident...   \n",
       "7   https://www.99acres.com/residential-land-for-s...   \n",
       "8   https://www.99acres.com/4-bhk-bedroom-resident...   \n",
       "9   https://www.99acres.com/3-bhk-bedroom-resident...   \n",
       "10  https://www.99acres.com/2-bhk-bedroom-resident...   \n",
       "11  https://www.99acres.com/residential-land-for-s...   \n",
       "12  https://www.99acres.com/3-bhk-bedroom-independ...   \n",
       "13  https://www.99acres.com/3-bhk-bedroom-resident...   \n",
       "14  https://www.99acres.com/residential-land-for-s...   \n",
       "15  https://www.99acres.com/1-bhk-bedroom-resident...   \n",
       "16  https://www.99acres.com/2-bhk-bedroom-resident...   \n",
       "17  https://www.99acres.com/3-bhk-bedroom-resident...   \n",
       "18  https://www.99acres.com/4-bhk-bedroom-resident...   \n",
       "19  https://www.99acres.com/5-bhk-bedroom-resident...   \n",
       "20  https://www.99acres.com/residential-land-for-s...   \n",
       "21  https://www.99acres.com/3-bhk-bedroom-resident...   \n",
       "22  https://www.99acres.com/residential-land-for-s...   \n",
       "23  https://www.99acres.com/residential-land-for-s...   \n",
       "24  https://www.99acres.com/2-bhk-bedroom-resident...   \n",
       "25  https://www.99acres.com/2-bhk-bedroom-resident...   \n",
       "\n",
       "                                             title  \\\n",
       "0                 Residential land / Plot in MR 10   \n",
       "1           3 BHK Residential Apartment in Nipania   \n",
       "2                Residential land / Plot in Nainod   \n",
       "3      2 BHK Residential Apartment in Pipaliyahana   \n",
       "4                Residential land / Plot in Paliya   \n",
       "5   2 BHK Residential Apartment in Nalanda Parisar   \n",
       "6   3 BHK Residential Apartment in Nalanda Parisar   \n",
       "7        Residential land / Plot in AB Bypass Road   \n",
       "8   4 BHK Residential Apartment in Bicholi Mardana   \n",
       "9   3 BHK Residential Apartment in Bicholi Mardana   \n",
       "10      2 BHK Residential Apartment in Ujjain Road   \n",
       "11       Residential land / Plot in Super Corridor   \n",
       "12   3 Bedroom Independent House in Super Corridor   \n",
       "13      3 BHK Residential Apartment in Ujjain Road   \n",
       "14               Residential land / Plot in Nainod   \n",
       "15   1 BHK Residential Apartment in Rajendra Nagar   \n",
       "16   2 BHK Residential Apartment in Rajendra Nagar   \n",
       "17   3 BHK Residential Apartment in Rajendra Nagar   \n",
       "18          4 BHK Residential Apartment in Nipania   \n",
       "19          5 BHK Residential Apartment in Nipania   \n",
       "20       Residential land / Plot in AB Bypass Road   \n",
       "21          3 BHK Residential Apartment in Nipania   \n",
       "22               Residential land / Plot in Nainod   \n",
       "23       Residential land / Plot in AB Bypass Road   \n",
       "24         2 BHK Residential Apartment in Bijalpur   \n",
       "25         2 BHK Residential Apartment in Bijalpur   \n",
       "\n",
       "                                prices                 location          type  \\\n",
       "0             ₹ 28.4 Lac₹ 3,550/sq.ft.            Tushar Avenue                 \n",
       "1            ₹ 41.08 Lac₹ 3,100/sq.ft.             SS Infinitus  3 BHK3 Baths   \n",
       "2                   ₹ 92 Lac - 1.02 Cr   Emaar Continental City                 \n",
       "3     ₹ 36.5  - 36.5 Lac₹ 3,685/sq.ft.        Signature Heights  2 BHK2 Baths   \n",
       "4                  ₹ 9.31  - 23.26 Lac  Takshit Rudraaksh Prime                 \n",
       "5                             ₹ 82 Lac          Gorani D Ornate         2 BHK   \n",
       "6                     Price on Request          Gorani D Ornate         3 BHK   \n",
       "7      ₹ 52.8 Lac - 2 Cr₹ 2,100/sq.ft.         Ruchi Lifescapes                 \n",
       "8      ₹ 1.28  - 1.28 Cr₹ 4,400/sq.ft.            The Residence  4 BHK4 Baths   \n",
       "9   ₹ 92.4 Lac - 1.01 Cr₹ 4,400/sq.ft.            The Residence  3 BHK3 Baths   \n",
       "10  ₹ 38.61  - 42.21 Lac₹ 3,040/sq.ft.             KBG Platinum  2 BHK2 Baths   \n",
       "11                ₹ 66.6 Lac - 1.48 Cr         Sarthak Elite 27                 \n",
       "12                         ₹ 66.81 Lac         Sarthak Elite 27         3 BHK   \n",
       "13              ₹ 57 Lac₹ 3,229/sq.ft.             KBG Platinum  3 BHK3 Baths   \n",
       "14               ₹ 74.55 Lac - 1.27 Cr   Emaar Continental City                 \n",
       "15                         ₹ 22.41 Lac   Shree Radhe Green Park         1 BHK   \n",
       "16                ₹ 32.54  - 38.39 Lac   Shree Radhe Green Park         2 BHK   \n",
       "17                         ₹ 51.77 Lac   Shree Radhe Green Park         3 BHK   \n",
       "18     ₹ 1.44  - 1.45 Cr₹ 4,100/sq.ft.           Apollo DB City         4 BHK   \n",
       "19             ₹ 2.03 Cr₹ 4,100/sq.ft.           Apollo DB City         5 BHK   \n",
       "20                    Price on Request         Vistara Township                 \n",
       "21           ₹ 75.32 Lac₹ 3,800/sq.ft.           Apollo DB City  3 BHK2 Baths   \n",
       "22                  ₹ 92 Lac - 1.02 Cr   Emaar Continental City                 \n",
       "23        ₹ 17  - 48 Lac₹ 2,000/sq.ft.            Pumarth Bliss                 \n",
       "24            ₹ 35.5 Lac₹ 3,026/sq.ft.    Shri Sai Century Park         2 BHK   \n",
       "25            ₹ 35.5 Lac₹ 3,026/sq.ft.    Shri Sai Century Park         2 BHK   \n",
       "\n",
       "                                                 area  \\\n",
       "0                     800 sq.ft. (74 sq.m.) Plot Area   \n",
       "1        1,325 sq.ft. (123 sq.m.) Super built-up Area   \n",
       "2        2,530-2,800 sq.ft. (235-260 sq.m.) Plot Area   \n",
       "3            986-996 sq.ft. (92-93 sq.m.) Carpet Area   \n",
       "4           600-1,500 sq.ft. (56-139 sq.m.) Plot Area   \n",
       "5                 1,069 sq.ft. (99 sq.m.) Carpet Area   \n",
       "6      1,503-1,525 sq.ft. (140-142 sq.m.) Carpet Area   \n",
       "7       2,400-10,000 sq.ft. (223-929 sq.m.) Plot Area   \n",
       "8        2,900 sq.ft. (269 sq.m.) Super built-up Area   \n",
       "9   2,100-2,304 sq.ft. (195-214 sq.m.) Super built...   \n",
       "10  1,270-1,388 sq.ft. (118-129 sq.m.) Super built...   \n",
       "11       1,800-4,000 sq.ft. (167-372 sq.m.) Plot Area   \n",
       "12             1,821 sq.ft. (169 sq.m.) Built-up Area   \n",
       "13       1,765 sq.ft. (164 sq.m.) Super built-up Area   \n",
       "14       2,130-3,636 sq.ft. (198-338 sq.m.) Plot Area   \n",
       "15                  447 sq.ft. (42 sq.m.) Carpet Area   \n",
       "16           673-727 sq.ft. (63-68 sq.m.) Carpet Area   \n",
       "17                  935 sq.ft. (87 sq.m.) Carpet Area   \n",
       "18  3,514-3,541 sq.ft. (326-329 sq.m.) Super built...   \n",
       "19       4,963 sq.ft. (461 sq.m.) Super built-up Area   \n",
       "20          800-7,000 sq.ft. (74-650 sq.m.) Plot Area   \n",
       "21       1,982 sq.ft. (184 sq.m.) Super built-up Area   \n",
       "22       2,530-2,800 sq.ft. (235-260 sq.m.) Plot Area   \n",
       "23          850-2,400 sq.ft. (79-223 sq.m.) Plot Area   \n",
       "24       1,173 sq.ft. (109 sq.m.) Super built-up Area   \n",
       "25       1,173 sq.ft. (109 sq.m.) Super built-up Area   \n",
       "\n",
       "                                                 text  \\\n",
       "0   Ready to move \\nClose to me 11\\nClose to kumed...   \n",
       "1   Make SS Infinitus your next home. Book your 3 ...   \n",
       "2   Emaar continental city is a residential develo...   \n",
       "3   Enjoy a blissful living experience in Signatur...   \n",
       "4   Takshit rudraaksh prime, a plot estate situate...   \n",
       "5   Gorani D Ornate offers 2 BHK flats in Nalanda ...   \n",
       "6   This well-known project offers 3 BHK apartment...   \n",
       "7   Ruchi lifescapes in jhalaria, indore by ruchi ...   \n",
       "8   Make The Residence your next home. This projec...   \n",
       "9   Book your 3 BHK apartment in Bicholi Mardana, ...   \n",
       "10  The project offers 2 BHK apartments in Ujjain ...   \n",
       "11  The elite 27 by sarthak estate developers is a...   \n",
       "12  The elite 27 by sarthak estate developers is a...   \n",
       "13  KBG Platinum is a new launch project, offering...   \n",
       "14  Emaar continental city is a residential develo...   \n",
       "15  Shree Radhe Green Park is a ready to move proj...   \n",
       "16  Enjoy a blissful living experience in Shree Ra...   \n",
       "17  Shree Radhe Green Park is a residential projec...   \n",
       "18  Apollo DB City is a ready to move project, off...   \n",
       "19  Let your dream of owning a flat come true with...   \n",
       "20  Vistara township in ab bypass road, indore by ...   \n",
       "21  Book a spectacular property in Apollo DB City ...   \n",
       "22  Emaar continental city is a residential develo...   \n",
       "23  Pumarth bliss in ab bypass road, indore by pum...   \n",
       "24  Experience a new style of living with Shri Sai...   \n",
       "25  Experience a new style of living with Shri Sai...   \n",
       "\n",
       "                                                dates  \n",
       "0                  Posted on 15th Mar, 2021 by Dealer  \n",
       "1                 Posted on 03rd Mar, 2021 by Builder  \n",
       "2                 Posted on 20th Mar, 2021 by Builder  \n",
       "3                 Posted on 01st Apr, 2021 by Builder  \n",
       "4   Posted on 18th Mar, 2021 by RERA Registered De...  \n",
       "5                 Posted on 30th Mar, 2021 by Builder  \n",
       "6                 Posted on 30th Mar, 2021 by Builder  \n",
       "7                 Posted on 10th Feb, 2021 by Builder  \n",
       "8                 Posted on 29th Jan, 2021 by Builder  \n",
       "9                 Posted on 29th Jan, 2021 by Builder  \n",
       "10                Posted on 26th Feb, 2021 by Builder  \n",
       "11                 Posted on 15th Apr, 2021 by Dealer  \n",
       "12                 Posted on 15th Apr, 2021 by Dealer  \n",
       "13                Posted on 26th Feb, 2021 by Builder  \n",
       "14                      Posted on Yesterday by Dealer  \n",
       "15                Posted on 11th Mar, 2021 by Builder  \n",
       "16                Posted on 11th Mar, 2021 by Builder  \n",
       "17                Posted on 11th Mar, 2021 by Builder  \n",
       "18                Posted on 01st Feb, 2021 by Builder  \n",
       "19                Posted on 01st Feb, 2021 by Builder  \n",
       "20  Posted on 01st Mar, 2021 by RERA Registered De...  \n",
       "21                Posted on 01st Feb, 2021 by Builder  \n",
       "22                Posted on 20th Mar, 2021 by Builder  \n",
       "23  Posted on 15th Apr, 2021 by RERA Registered De...  \n",
       "24                Posted on 10th Mar, 2021 by Builder  \n",
       "25                Posted on 10th Mar, 2021 by Builder  "
      ],
      "text/html": "<div>\n<style scoped>\n    .dataframe tbody tr th:only-of-type {\n        vertical-align: middle;\n    }\n\n    .dataframe tbody tr th {\n        vertical-align: top;\n    }\n\n    .dataframe thead th {\n        text-align: right;\n    }\n</style>\n<table border=\"1\" class=\"dataframe\">\n  <thead>\n    <tr style=\"text-align: right;\">\n      <th></th>\n      <th>link</th>\n      <th>title</th>\n      <th>prices</th>\n      <th>location</th>\n      <th>type</th>\n      <th>area</th>\n      <th>text</th>\n      <th>dates</th>\n    </tr>\n  </thead>\n  <tbody>\n    <tr>\n      <th>0</th>\n      <td>https://www.99acres.com/residential-land-for-s...</td>\n      <td>Residential land / Plot in MR 10</td>\n      <td>₹ 28.4 Lac₹ 3,550/sq.ft.</td>\n      <td>Tushar Avenue</td>\n      <td></td>\n      <td>800 sq.ft. (74 sq.m.) Plot Area</td>\n      <td>Ready to move \\nClose to me 11\\nClose to kumed...</td>\n      <td>Posted on 15th Mar, 2021 by Dealer</td>\n    </tr>\n    <tr>\n      <th>1</th>\n      <td>https://www.99acres.com/3-bhk-bedroom-resident...</td>\n      <td>3 BHK Residential Apartment in Nipania</td>\n      <td>₹ 41.08 Lac₹ 3,100/sq.ft.</td>\n      <td>SS Infinitus</td>\n      <td>3 BHK3 Baths</td>\n      <td>1,325 sq.ft. (123 sq.m.) Super built-up Area</td>\n      <td>Make SS Infinitus your next home. Book your 3 ...</td>\n      <td>Posted on 03rd Mar, 2021 by Builder</td>\n    </tr>\n    <tr>\n      <th>2</th>\n      <td>https://www.99acres.com/residential-land-for-s...</td>\n      <td>Residential land / Plot in Nainod</td>\n      <td>₹ 92 Lac - 1.02 Cr</td>\n      <td>Emaar Continental City</td>\n      <td></td>\n      <td>2,530-2,800 sq.ft. (235-260 sq.m.) Plot Area</td>\n      <td>Emaar continental city is a residential develo...</td>\n      <td>Posted on 20th Mar, 2021 by Builder</td>\n    </tr>\n    <tr>\n      <th>3</th>\n      <td>https://www.99acres.com/2-bhk-bedroom-resident...</td>\n      <td>2 BHK Residential Apartment in Pipaliyahana</td>\n      <td>₹ 36.5  - 36.5 Lac₹ 3,685/sq.ft.</td>\n      <td>Signature Heights</td>\n      <td>2 BHK2 Baths</td>\n      <td>986-996 sq.ft. (92-93 sq.m.) Carpet Area</td>\n      <td>Enjoy a blissful living experience in Signatur...</td>\n      <td>Posted on 01st Apr, 2021 by Builder</td>\n    </tr>\n    <tr>\n      <th>4</th>\n      <td>https://www.99acres.com/residential-land-for-s...</td>\n      <td>Residential land / Plot in Paliya</td>\n      <td>₹ 9.31  - 23.26 Lac</td>\n      <td>Takshit Rudraaksh Prime</td>\n      <td></td>\n      <td>600-1,500 sq.ft. (56-139 sq.m.) Plot Area</td>\n      <td>Takshit rudraaksh prime, a plot estate situate...</td>\n      <td>Posted on 18th Mar, 2021 by RERA Registered De...</td>\n    </tr>\n    <tr>\n      <th>5</th>\n      <td>https://www.99acres.com/2-bhk-bedroom-resident...</td>\n      <td>2 BHK Residential Apartment in Nalanda Parisar</td>\n      <td>₹ 82 Lac</td>\n      <td>Gorani D Ornate</td>\n      <td>2 BHK</td>\n      <td>1,069 sq.ft. (99 sq.m.) Carpet Area</td>\n      <td>Gorani D Ornate offers 2 BHK flats in Nalanda ...</td>\n      <td>Posted on 30th Mar, 2021 by Builder</td>\n    </tr>\n    <tr>\n      <th>6</th>\n      <td>https://www.99acres.com/3-bhk-bedroom-resident...</td>\n      <td>3 BHK Residential Apartment in Nalanda Parisar</td>\n      <td>Price on Request</td>\n      <td>Gorani D Ornate</td>\n      <td>3 BHK</td>\n      <td>1,503-1,525 sq.ft. (140-142 sq.m.) Carpet Area</td>\n      <td>This well-known project offers 3 BHK apartment...</td>\n      <td>Posted on 30th Mar, 2021 by Builder</td>\n    </tr>\n    <tr>\n      <th>7</th>\n      <td>https://www.99acres.com/residential-land-for-s...</td>\n      <td>Residential land / Plot in AB Bypass Road</td>\n      <td>₹ 52.8 Lac - 2 Cr₹ 2,100/sq.ft.</td>\n      <td>Ruchi Lifescapes</td>\n      <td></td>\n      <td>2,400-10,000 sq.ft. (223-929 sq.m.) Plot Area</td>\n      <td>Ruchi lifescapes in jhalaria, indore by ruchi ...</td>\n      <td>Posted on 10th Feb, 2021 by Builder</td>\n    </tr>\n    <tr>\n      <th>8</th>\n      <td>https://www.99acres.com/4-bhk-bedroom-resident...</td>\n      <td>4 BHK Residential Apartment in Bicholi Mardana</td>\n      <td>₹ 1.28  - 1.28 Cr₹ 4,400/sq.ft.</td>\n      <td>The Residence</td>\n      <td>4 BHK4 Baths</td>\n      <td>2,900 sq.ft. (269 sq.m.) Super built-up Area</td>\n      <td>Make The Residence your next home. This projec...</td>\n      <td>Posted on 29th Jan, 2021 by Builder</td>\n    </tr>\n    <tr>\n      <th>9</th>\n      <td>https://www.99acres.com/3-bhk-bedroom-resident...</td>\n      <td>3 BHK Residential Apartment in Bicholi Mardana</td>\n      <td>₹ 92.4 Lac - 1.01 Cr₹ 4,400/sq.ft.</td>\n      <td>The Residence</td>\n      <td>3 BHK3 Baths</td>\n      <td>2,100-2,304 sq.ft. (195-214 sq.m.) Super built...</td>\n      <td>Book your 3 BHK apartment in Bicholi Mardana, ...</td>\n      <td>Posted on 29th Jan, 2021 by Builder</td>\n    </tr>\n    <tr>\n      <th>10</th>\n      <td>https://www.99acres.com/2-bhk-bedroom-resident...</td>\n      <td>2 BHK Residential Apartment in Ujjain Road</td>\n      <td>₹ 38.61  - 42.21 Lac₹ 3,040/sq.ft.</td>\n      <td>KBG Platinum</td>\n      <td>2 BHK2 Baths</td>\n      <td>1,270-1,388 sq.ft. (118-129 sq.m.) Super built...</td>\n      <td>The project offers 2 BHK apartments in Ujjain ...</td>\n      <td>Posted on 26th Feb, 2021 by Builder</td>\n    </tr>\n    <tr>\n      <th>11</th>\n      <td>https://www.99acres.com/residential-land-for-s...</td>\n      <td>Residential land / Plot in Super Corridor</td>\n      <td>₹ 66.6 Lac - 1.48 Cr</td>\n      <td>Sarthak Elite 27</td>\n      <td></td>\n      <td>1,800-4,000 sq.ft. (167-372 sq.m.) Plot Area</td>\n      <td>The elite 27 by sarthak estate developers is a...</td>\n      <td>Posted on 15th Apr, 2021 by Dealer</td>\n    </tr>\n    <tr>\n      <th>12</th>\n      <td>https://www.99acres.com/3-bhk-bedroom-independ...</td>\n      <td>3 Bedroom Independent House in Super Corridor</td>\n      <td>₹ 66.81 Lac</td>\n      <td>Sarthak Elite 27</td>\n      <td>3 BHK</td>\n      <td>1,821 sq.ft. (169 sq.m.) Built-up Area</td>\n      <td>The elite 27 by sarthak estate developers is a...</td>\n      <td>Posted on 15th Apr, 2021 by Dealer</td>\n    </tr>\n    <tr>\n      <th>13</th>\n      <td>https://www.99acres.com/3-bhk-bedroom-resident...</td>\n      <td>3 BHK Residential Apartment in Ujjain Road</td>\n      <td>₹ 57 Lac₹ 3,229/sq.ft.</td>\n      <td>KBG Platinum</td>\n      <td>3 BHK3 Baths</td>\n      <td>1,765 sq.ft. (164 sq.m.) Super built-up Area</td>\n      <td>KBG Platinum is a new launch project, offering...</td>\n      <td>Posted on 26th Feb, 2021 by Builder</td>\n    </tr>\n    <tr>\n      <th>14</th>\n      <td>https://www.99acres.com/residential-land-for-s...</td>\n      <td>Residential land / Plot in Nainod</td>\n      <td>₹ 74.55 Lac - 1.27 Cr</td>\n      <td>Emaar Continental City</td>\n      <td></td>\n      <td>2,130-3,636 sq.ft. (198-338 sq.m.) Plot Area</td>\n      <td>Emaar continental city is a residential develo...</td>\n      <td>Posted on Yesterday by Dealer</td>\n    </tr>\n    <tr>\n      <th>15</th>\n      <td>https://www.99acres.com/1-bhk-bedroom-resident...</td>\n      <td>1 BHK Residential Apartment in Rajendra Nagar</td>\n      <td>₹ 22.41 Lac</td>\n      <td>Shree Radhe Green Park</td>\n      <td>1 BHK</td>\n      <td>447 sq.ft. (42 sq.m.) Carpet Area</td>\n      <td>Shree Radhe Green Park is a ready to move proj...</td>\n      <td>Posted on 11th Mar, 2021 by Builder</td>\n    </tr>\n    <tr>\n      <th>16</th>\n      <td>https://www.99acres.com/2-bhk-bedroom-resident...</td>\n      <td>2 BHK Residential Apartment in Rajendra Nagar</td>\n      <td>₹ 32.54  - 38.39 Lac</td>\n      <td>Shree Radhe Green Park</td>\n      <td>2 BHK</td>\n      <td>673-727 sq.ft. (63-68 sq.m.) Carpet Area</td>\n      <td>Enjoy a blissful living experience in Shree Ra...</td>\n      <td>Posted on 11th Mar, 2021 by Builder</td>\n    </tr>\n    <tr>\n      <th>17</th>\n      <td>https://www.99acres.com/3-bhk-bedroom-resident...</td>\n      <td>3 BHK Residential Apartment in Rajendra Nagar</td>\n      <td>₹ 51.77 Lac</td>\n      <td>Shree Radhe Green Park</td>\n      <td>3 BHK</td>\n      <td>935 sq.ft. (87 sq.m.) Carpet Area</td>\n      <td>Shree Radhe Green Park is a residential projec...</td>\n      <td>Posted on 11th Mar, 2021 by Builder</td>\n    </tr>\n    <tr>\n      <th>18</th>\n      <td>https://www.99acres.com/4-bhk-bedroom-resident...</td>\n      <td>4 BHK Residential Apartment in Nipania</td>\n      <td>₹ 1.44  - 1.45 Cr₹ 4,100/sq.ft.</td>\n      <td>Apollo DB City</td>\n      <td>4 BHK</td>\n      <td>3,514-3,541 sq.ft. (326-329 sq.m.) Super built...</td>\n      <td>Apollo DB City is a ready to move project, off...</td>\n      <td>Posted on 01st Feb, 2021 by Builder</td>\n    </tr>\n    <tr>\n      <th>19</th>\n      <td>https://www.99acres.com/5-bhk-bedroom-resident...</td>\n      <td>5 BHK Residential Apartment in Nipania</td>\n      <td>₹ 2.03 Cr₹ 4,100/sq.ft.</td>\n      <td>Apollo DB City</td>\n      <td>5 BHK</td>\n      <td>4,963 sq.ft. (461 sq.m.) Super built-up Area</td>\n      <td>Let your dream of owning a flat come true with...</td>\n      <td>Posted on 01st Feb, 2021 by Builder</td>\n    </tr>\n    <tr>\n      <th>20</th>\n      <td>https://www.99acres.com/residential-land-for-s...</td>\n      <td>Residential land / Plot in AB Bypass Road</td>\n      <td>Price on Request</td>\n      <td>Vistara Township</td>\n      <td></td>\n      <td>800-7,000 sq.ft. (74-650 sq.m.) Plot Area</td>\n      <td>Vistara township in ab bypass road, indore by ...</td>\n      <td>Posted on 01st Mar, 2021 by RERA Registered De...</td>\n    </tr>\n    <tr>\n      <th>21</th>\n      <td>https://www.99acres.com/3-bhk-bedroom-resident...</td>\n      <td>3 BHK Residential Apartment in Nipania</td>\n      <td>₹ 75.32 Lac₹ 3,800/sq.ft.</td>\n      <td>Apollo DB City</td>\n      <td>3 BHK2 Baths</td>\n      <td>1,982 sq.ft. (184 sq.m.) Super built-up Area</td>\n      <td>Book a spectacular property in Apollo DB City ...</td>\n      <td>Posted on 01st Feb, 2021 by Builder</td>\n    </tr>\n    <tr>\n      <th>22</th>\n      <td>https://www.99acres.com/residential-land-for-s...</td>\n      <td>Residential land / Plot in Nainod</td>\n      <td>₹ 92 Lac - 1.02 Cr</td>\n      <td>Emaar Continental City</td>\n      <td></td>\n      <td>2,530-2,800 sq.ft. (235-260 sq.m.) Plot Area</td>\n      <td>Emaar continental city is a residential develo...</td>\n      <td>Posted on 20th Mar, 2021 by Builder</td>\n    </tr>\n    <tr>\n      <th>23</th>\n      <td>https://www.99acres.com/residential-land-for-s...</td>\n      <td>Residential land / Plot in AB Bypass Road</td>\n      <td>₹ 17  - 48 Lac₹ 2,000/sq.ft.</td>\n      <td>Pumarth Bliss</td>\n      <td></td>\n      <td>850-2,400 sq.ft. (79-223 sq.m.) Plot Area</td>\n      <td>Pumarth bliss in ab bypass road, indore by pum...</td>\n      <td>Posted on 15th Apr, 2021 by RERA Registered De...</td>\n    </tr>\n    <tr>\n      <th>24</th>\n      <td>https://www.99acres.com/2-bhk-bedroom-resident...</td>\n      <td>2 BHK Residential Apartment in Bijalpur</td>\n      <td>₹ 35.5 Lac₹ 3,026/sq.ft.</td>\n      <td>Shri Sai Century Park</td>\n      <td>2 BHK</td>\n      <td>1,173 sq.ft. (109 sq.m.) Super built-up Area</td>\n      <td>Experience a new style of living with Shri Sai...</td>\n      <td>Posted on 10th Mar, 2021 by Builder</td>\n    </tr>\n    <tr>\n      <th>25</th>\n      <td>https://www.99acres.com/2-bhk-bedroom-resident...</td>\n      <td>2 BHK Residential Apartment in Bijalpur</td>\n      <td>₹ 35.5 Lac₹ 3,026/sq.ft.</td>\n      <td>Shri Sai Century Park</td>\n      <td>2 BHK</td>\n      <td>1,173 sq.ft. (109 sq.m.) Super built-up Area</td>\n      <td>Experience a new style of living with Shri Sai...</td>\n      <td>Posted on 10th Mar, 2021 by Builder</td>\n    </tr>\n  </tbody>\n</table>\n</div>"
     },
     "metadata": {},
     "execution_count": 35
    }
   ],
   "source": [
    "the_data=frame(s)\n",
    "the_data"
   ]
  },
  {
   "cell_type": "code",
   "execution_count": 36,
   "metadata": {},
   "outputs": [],
   "source": [
    "from selenium import webdriver\n",
    "from selenium.webdriver.common.keys import Keys\n",
    "from time import sleep\n",
    "the_data_pull=[]\n",
    "browser = webdriver.Firefox(executable_path=r\"C:\\Users\\swaraj\\Downloads\\codes\\modules\\geckodriver-v0.29.1-win64\\geckodriver\")\n",
    "browser.get(url)\n",
    "for i in range(2,5):\n",
    "    i=str(i)\n",
    "    element = browser.find_element_by_link_text(i)\n",
    "    k=element.click()\n",
    "\n",
    "    s=BeautifulSoup(browser.page_source,'lxml')\n",
    "    THE_DA=frame(s)\n",
    "    the_data_pull.append(THE_DA)\n",
    "\n",
    "    sleep(2)\n",
    "browser.quit()"
   ]
  },
  {
   "cell_type": "code",
   "execution_count": 37,
   "metadata": {
    "tags": []
   },
   "outputs": [],
   "source": [
    "the_data_pull.insert(0,the_data)\n",
    "result = pd.concat(the_data_pull)"
   ]
  },
  {
   "cell_type": "code",
   "execution_count": 39,
   "metadata": {},
   "outputs": [],
   "source": [
    "result.to_csv('hjjolkkjj99acers2.csv')\n"
   ]
  },
  {
   "cell_type": "code",
   "execution_count": null,
   "metadata": {},
   "outputs": [],
   "source": []
  }
 ]
}