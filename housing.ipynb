{
 "metadata": {
  "language_info": {
   "codemirror_mode": {
    "name": "ipython",
    "version": 3
   },
   "file_extension": ".py",
   "mimetype": "text/x-python",
   "name": "python",
   "nbconvert_exporter": "python",
   "pygments_lexer": "ipython3",
   "version": "3.9.2"
  },
  "orig_nbformat": 2,
  "kernelspec": {
   "name": "python392jvsc74a57bd0588b1dd76ca082666fe2f995fff1e9efb2de790f2352d1450e516a9edc988200",
   "display_name": "Python 3.9.2 64-bit"
  },
  "metadata": {
   "interpreter": {
    "hash": "588b1dd76ca082666fe2f995fff1e9efb2de790f2352d1450e516a9edc988200"
   }
  }
 },
 "nbformat": 4,
 "nbformat_minor": 2,
 "cells": [
  {
   "cell_type": "code",
   "execution_count": 1,
   "metadata": {},
   "outputs": [],
   "source": [
    "import pandas as pd \n",
    "import numpy as np \n",
    "import csv \n",
    "from bs4 import BeautifulSoup \n",
    "import requests"
   ]
  },
  {
   "cell_type": "code",
   "execution_count": 2,
   "metadata": {},
   "outputs": [],
   "source": [
    "url='https://housing.com/rent/search-M2P2r4v3l939lxd541t'\n",
    "j=requests.get(url)\n",
    "k=j.text\n",
    "s=BeautifulSoup(k,'lxml')"
   ]
  },
  {
   "cell_type": "code",
   "execution_count": 3,
   "metadata": {},
   "outputs": [],
   "source": [
    "def price(s):\n",
    "    prices=[]\n",
    "    price=s.find_all('div',attrs={'class':\"css-1cxwewr\"})\n",
    "    for p in price:\n",
    "        prices.append(p.text) \n",
    "    return prices"
   ]
  },
  {
   "cell_type": "code",
   "execution_count": 4,
   "metadata": {},
   "outputs": [],
   "source": [
    "\n",
    "def titles(s):\n",
    "    title=[]\n",
    "    titles=s.find_all('div',attrs={'class':\"css-ybv4ci\"})\n",
    "    for p in titles:\n",
    "        title.append(p.text) \n",
    "    return title"
   ]
  },
  {
   "cell_type": "code",
   "execution_count": 5,
   "metadata": {},
   "outputs": [],
   "source": [
    "def location(s):\n",
    "    loca=[]\n",
    "    location=s.find_all('div',attrs={'class':\"css-1o3sqfg\"})\n",
    "    for p in location:\n",
    "        loca.append(p.text) \n",
    "    return loca"
   ]
  },
  {
   "cell_type": "code",
   "execution_count": 6,
   "metadata": {},
   "outputs": [],
   "source": [
    "def furnished(s):\n",
    "    fur=[]\n",
    "    furni=s.find_all('div',attrs={'class':\"css-14teu4h\"})\n",
    "    for p in furni:\n",
    "        fur.append(p.text) \n",
    "    return fur"
   ]
  },
  {
   "cell_type": "code",
   "execution_count": 7,
   "metadata": {},
   "outputs": [],
   "source": [
    "def contac(s):\n",
    "    own=[]\n",
    "    o=s.find_all('div',attrs={'class':\"css-wni7av\"})\n",
    "    for p in o:\n",
    "        own.append(p.text)\n",
    "    return own "
   ]
  },
  {
   "cell_type": "code",
   "execution_count": 8,
   "metadata": {},
   "outputs": [],
   "source": [
    "def link(s):\n",
    "    l=[]\n",
    "    o=s.find_all('a',attrs={'class':\"css-1ym6yxe\"})\n",
    "    url='https://housing.com'\n",
    "    for p in o:\n",
    "            l.append(url+p['href'])\n",
    "    return l"
   ]
  },
  {
   "cell_type": "code",
   "execution_count": 9,
   "metadata": {},
   "outputs": [],
   "source": [
    "d={\n",
    "    'prices' : price(s),\n",
    "    'locations':location(s),\n",
    "    'furnishde':furnished(s),\n",
    "    'the_own':contac(s),\n",
    "    'links':link(s),\n",
    "    'title':titles(s)\n",
    "\n",
    "}\n",
    "df=pd.DataFrame(d)\n"
   ]
  },
  {
   "cell_type": "code",
   "execution_count": 10,
   "metadata": {},
   "outputs": [],
   "source": [
    "def the_funki(s):\n",
    "    d={\n",
    "    'prices' : price(s),\n",
    "    'locations':location(s),\n",
    "    'furnishde':furnished(s),\n",
    "    'the_own':contac(s),\n",
    "    'links':link(s),\n",
    "    'title':titles(s)\n",
    "\n",
    "    }\n",
    "    df=pd.DataFrame(d)\n",
    "    return df\n"
   ]
  },
  {
   "cell_type": "code",
   "execution_count": 11,
   "metadata": {},
   "outputs": [],
   "source": [
    "from selenium import webdriver\n",
    "from selenium.webdriver.common.keys import Keys\n",
    "from time import sleep\n",
    "the_data_pull=[]\n",
    "browser = webdriver.Firefox(executable_path=r\"C:\\Users\\swaraj\\Desktop\\codes\\modules\\geckodriver-v0.29.1-win64\\geckodriver\")\n",
    "browser.execute_script(\"window.scrollTo(0, document.body.scrollHeight);\")\n",
    "browser.get(url)\n",
    "for i in range(2,7):\n",
    "    i=str(i)\n",
    "    browser.execute_script(\"window.scrollTo(0, document.body.scrollHeight);\")\n",
    "\n",
    "    \n",
    "    #j=requests.get(browser.page_source)\n",
    "    #k=j.text\n",
    "    s=BeautifulSoup(browser.page_source,'lxml')\n",
    "    THE_DA=the_funki(s)\n",
    "    the_data_pull.append(THE_DA)\n",
    "\n",
    "    sleep(2)\n",
    "browser.quit()"
   ]
  },
  {
   "cell_type": "code",
   "execution_count": 12,
   "metadata": {},
   "outputs": [],
   "source": [
    "\n",
    "f=pd.concat(the_data_pull)"
   ]
  },
  {
   "cell_type": "code",
   "execution_count": 13,
   "metadata": {},
   "outputs": [],
   "source": [
    "f\n",
    "f['area']=f['furnishde'].apply(lambda x:x[x.index('d')+1:])\n",
    "f['furnishde']=f['furnishde'].apply(lambda x:x[:x.index('d')+1])"
   ]
  },
  {
   "cell_type": "code",
   "execution_count": 14,
   "metadata": {},
   "outputs": [
    {
     "output_type": "execute_result",
     "data": {
      "text/plain": [
       "    prices                          locations        furnishde  \\\n",
       "0   18,500                    Chinchwad, Pune   Semi Furnished   \n",
       "1    7,500                Chandan Nagar, Pune   Semi Furnished   \n",
       "2   25,000               Manjari Budruk, Pune  Fully Furnished   \n",
       "3   10,000  Hinjawadi Village, Hinjewadi,Pune  Fully Furnished   \n",
       "4    9,000         Keshav Nagar, Mundhwa,Pune   Semi Furnished   \n",
       "..     ...                                ...              ...   \n",
       "95  20,000           Kaweri Nagar, Wakad,Pune   Semi Furnished   \n",
       "96  22,000        Nigade Nagar, Ghorpadi,Pune   Semi Furnished   \n",
       "97  15,100          Thite Nagar, Kharadi,Pune      Unfurnished   \n",
       "98   4,800               Manjari Budruk, Pune      Unfurnished   \n",
       "99  20,000              Pimple Saudagar, Pune      Unfurnished   \n",
       "\n",
       "                            the_own  \\\n",
       "0                  Srikant Kulkarni   \n",
       "1                       Suraj Gupta   \n",
       "2                     Ronal Nikalje   \n",
       "3         Balaji Om Shiv Sai Home's   \n",
       "4                    Dalvi Sambhaji   \n",
       "..                              ...   \n",
       "95  Nestaway Technologies Pvt. Ltd.   \n",
       "96  Nestaway Technologies Pvt. Ltd.   \n",
       "97  Nestaway Technologies Pvt. Ltd.   \n",
       "98  Nestaway Technologies Pvt. Ltd.   \n",
       "99  Nestaway Technologies Pvt. Ltd.   \n",
       "\n",
       "                                                links  \\\n",
       "0   https://housing.com/rent/6503271-1500-sqft-3-b...   \n",
       "1   https://housing.com/rent/5840386-151-sqft-1-rk...   \n",
       "2   https://housing.com/rent/6235262-2000-sqft-2-b...   \n",
       "3   https://housing.com/rent/6304684-450-sqft-1-bh...   \n",
       "4   https://housing.com/rent/4014042-510-sqft-2-bh...   \n",
       "..                                                ...   \n",
       "95  https://housing.com/rent/6479779-1200-sqft-3-b...   \n",
       "96  https://housing.com/rent/6478414-800-sqft-2-bh...   \n",
       "97  https://housing.com/rent/6478440-700-sqft-1-bh...   \n",
       "98  https://housing.com/rent/6478515-300-sqft-1-rk...   \n",
       "99  https://housing.com/rent/6478559-900-sqft-2-bh...   \n",
       "\n",
       "                                                title        area  \n",
       "0       3 BHK Independent House for rent in Chinchwad  1500 sq.ft  \n",
       "1    1 RK Independent House for rent in Chandan Nagar   151 sq.ft  \n",
       "2   2 BHK Independent House for rent in Manjari Bu...  2000 sq.ft  \n",
       "3       1 BHK Independent House for rent in Hinjewadi   450 sq.ft  \n",
       "4         2 BHK Independent House for rent in Mundhwa   510 sq.ft  \n",
       "..                                                ...         ...  \n",
       "95          3 BHK Independent House for rent in Wakad  1200 sq.ft  \n",
       "96       2 BHK Independent House for rent in Ghorpadi   800 sq.ft  \n",
       "97        1 BHK Independent House for rent in Kharadi   700 sq.ft  \n",
       "98  1 RK Independent House for rent in Manjari Budruk   300 sq.ft  \n",
       "99  2 BHK Independent House for rent in Pimple Sau...   900 sq.ft  \n",
       "\n",
       "[300 rows x 7 columns]"
      ],
      "text/html": "<div>\n<style scoped>\n    .dataframe tbody tr th:only-of-type {\n        vertical-align: middle;\n    }\n\n    .dataframe tbody tr th {\n        vertical-align: top;\n    }\n\n    .dataframe thead th {\n        text-align: right;\n    }\n</style>\n<table border=\"1\" class=\"dataframe\">\n  <thead>\n    <tr style=\"text-align: right;\">\n      <th></th>\n      <th>prices</th>\n      <th>locations</th>\n      <th>furnishde</th>\n      <th>the_own</th>\n      <th>links</th>\n      <th>title</th>\n      <th>area</th>\n    </tr>\n  </thead>\n  <tbody>\n    <tr>\n      <th>0</th>\n      <td>18,500</td>\n      <td>Chinchwad, Pune</td>\n      <td>Semi Furnished</td>\n      <td>Srikant Kulkarni</td>\n      <td>https://housing.com/rent/6503271-1500-sqft-3-b...</td>\n      <td>3 BHK Independent House for rent in Chinchwad</td>\n      <td>1500 sq.ft</td>\n    </tr>\n    <tr>\n      <th>1</th>\n      <td>7,500</td>\n      <td>Chandan Nagar, Pune</td>\n      <td>Semi Furnished</td>\n      <td>Suraj Gupta</td>\n      <td>https://housing.com/rent/5840386-151-sqft-1-rk...</td>\n      <td>1 RK Independent House for rent in Chandan Nagar</td>\n      <td>151 sq.ft</td>\n    </tr>\n    <tr>\n      <th>2</th>\n      <td>25,000</td>\n      <td>Manjari Budruk, Pune</td>\n      <td>Fully Furnished</td>\n      <td>Ronal Nikalje</td>\n      <td>https://housing.com/rent/6235262-2000-sqft-2-b...</td>\n      <td>2 BHK Independent House for rent in Manjari Bu...</td>\n      <td>2000 sq.ft</td>\n    </tr>\n    <tr>\n      <th>3</th>\n      <td>10,000</td>\n      <td>Hinjawadi Village, Hinjewadi,Pune</td>\n      <td>Fully Furnished</td>\n      <td>Balaji Om Shiv Sai Home's</td>\n      <td>https://housing.com/rent/6304684-450-sqft-1-bh...</td>\n      <td>1 BHK Independent House for rent in Hinjewadi</td>\n      <td>450 sq.ft</td>\n    </tr>\n    <tr>\n      <th>4</th>\n      <td>9,000</td>\n      <td>Keshav Nagar, Mundhwa,Pune</td>\n      <td>Semi Furnished</td>\n      <td>Dalvi Sambhaji</td>\n      <td>https://housing.com/rent/4014042-510-sqft-2-bh...</td>\n      <td>2 BHK Independent House for rent in Mundhwa</td>\n      <td>510 sq.ft</td>\n    </tr>\n    <tr>\n      <th>...</th>\n      <td>...</td>\n      <td>...</td>\n      <td>...</td>\n      <td>...</td>\n      <td>...</td>\n      <td>...</td>\n      <td>...</td>\n    </tr>\n    <tr>\n      <th>95</th>\n      <td>20,000</td>\n      <td>Kaweri Nagar, Wakad,Pune</td>\n      <td>Semi Furnished</td>\n      <td>Nestaway Technologies Pvt. Ltd.</td>\n      <td>https://housing.com/rent/6479779-1200-sqft-3-b...</td>\n      <td>3 BHK Independent House for rent in Wakad</td>\n      <td>1200 sq.ft</td>\n    </tr>\n    <tr>\n      <th>96</th>\n      <td>22,000</td>\n      <td>Nigade Nagar, Ghorpadi,Pune</td>\n      <td>Semi Furnished</td>\n      <td>Nestaway Technologies Pvt. Ltd.</td>\n      <td>https://housing.com/rent/6478414-800-sqft-2-bh...</td>\n      <td>2 BHK Independent House for rent in Ghorpadi</td>\n      <td>800 sq.ft</td>\n    </tr>\n    <tr>\n      <th>97</th>\n      <td>15,100</td>\n      <td>Thite Nagar, Kharadi,Pune</td>\n      <td>Unfurnished</td>\n      <td>Nestaway Technologies Pvt. Ltd.</td>\n      <td>https://housing.com/rent/6478440-700-sqft-1-bh...</td>\n      <td>1 BHK Independent House for rent in Kharadi</td>\n      <td>700 sq.ft</td>\n    </tr>\n    <tr>\n      <th>98</th>\n      <td>4,800</td>\n      <td>Manjari Budruk, Pune</td>\n      <td>Unfurnished</td>\n      <td>Nestaway Technologies Pvt. Ltd.</td>\n      <td>https://housing.com/rent/6478515-300-sqft-1-rk...</td>\n      <td>1 RK Independent House for rent in Manjari Budruk</td>\n      <td>300 sq.ft</td>\n    </tr>\n    <tr>\n      <th>99</th>\n      <td>20,000</td>\n      <td>Pimple Saudagar, Pune</td>\n      <td>Unfurnished</td>\n      <td>Nestaway Technologies Pvt. Ltd.</td>\n      <td>https://housing.com/rent/6478559-900-sqft-2-bh...</td>\n      <td>2 BHK Independent House for rent in Pimple Sau...</td>\n      <td>900 sq.ft</td>\n    </tr>\n  </tbody>\n</table>\n<p>300 rows × 7 columns</p>\n</div>"
     },
     "metadata": {},
     "execution_count": 14
    }
   ],
   "source": [
    "f"
   ]
  },
  {
   "cell_type": "code",
   "execution_count": 15,
   "metadata": {},
   "outputs": [],
   "source": [
    "f.to_csv(r'C:\\Users\\swaraj\\Desktop\\codes\\housing.csv')"
   ]
  },
  {
   "cell_type": "code",
   "execution_count": null,
   "metadata": {},
   "outputs": [],
   "source": []
  }
 ]
}