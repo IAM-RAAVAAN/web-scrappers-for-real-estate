{
 "metadata": {
  "language_info": {
   "codemirror_mode": {
    "name": "ipython",
    "version": 3
   },
   "file_extension": ".py",
   "mimetype": "text/x-python",
   "name": "python",
   "nbconvert_exporter": "python",
   "pygments_lexer": "ipython3",
   "version": "3.9.2"
  },
  "orig_nbformat": 2,
  "kernelspec": {
   "name": "python392jvsc74a57bd0588b1dd76ca082666fe2f995fff1e9efb2de790f2352d1450e516a9edc988200",
   "display_name": "Python 3.9.2 64-bit"
  },
  "metadata": {
   "interpreter": {
    "hash": "588b1dd76ca082666fe2f995fff1e9efb2de790f2352d1450e516a9edc988200"
   }
  }
 },
 "nbformat": 4,
 "nbformat_minor": 2,
 "cells": [
  {
   "cell_type": "code",
   "execution_count": 32,
   "metadata": {},
   "outputs": [],
   "source": [
    "import pandas as pd \n",
    "import numpy as np \n",
    "import csv \n",
    "from bs4 import BeautifulSoup \n",
    "import requests"
   ]
  },
  {
   "cell_type": "code",
   "execution_count": 33,
   "metadata": {},
   "outputs": [],
   "source": [
    "url='https://housing.com/rent/search-M2P2r4v3l939lxd541t'\n",
    "j=requests.get(url)\n",
    "k=j.text\n",
    "s=BeautifulSoup(k,'lxml')"
   ]
  },
  {
   "cell_type": "code",
   "execution_count": 34,
   "metadata": {},
   "outputs": [],
   "source": [
    "def price(s):\n",
    "    prices=[]\n",
    "    price=s.find_all('div',attrs={'class':\"css-1cxwewr\"})\n",
    "    for p in price:\n",
    "        prices.append(p.text) \n",
    "    return prices"
   ]
  },
  {
   "cell_type": "code",
   "execution_count": 35,
   "metadata": {},
   "outputs": [],
   "source": [
    "\n",
    "def titles(s):\n",
    "    title=[]\n",
    "    titles=s.find_all('div',attrs={'class':\"css-ybv4ci\"})\n",
    "    for p in titles:\n",
    "        title.append(p.text) \n",
    "    return title"
   ]
  },
  {
   "cell_type": "code",
   "execution_count": 36,
   "metadata": {},
   "outputs": [],
   "source": [
    "def location(s):\n",
    "    loca=[]\n",
    "    location=s.find_all('div',attrs={'class':\"css-1o3sqfg\"})\n",
    "    for p in location:\n",
    "        loca.append(p.text) \n",
    "    return loca"
   ]
  },
  {
   "cell_type": "code",
   "execution_count": 37,
   "metadata": {},
   "outputs": [],
   "source": [
    "def furnished(s):\n",
    "    fur=[]\n",
    "    furni=s.find_all('div',attrs={'class':\"css-14teu4h\"})\n",
    "    for p in furni:\n",
    "        fur.append(p.text) \n",
    "    return fur"
   ]
  },
  {
   "cell_type": "code",
   "execution_count": 38,
   "metadata": {},
   "outputs": [],
   "source": [
    "def contac(s):\n",
    "    own=[]\n",
    "    o=s.find_all('div',attrs={'class':\"css-wni7av\"})\n",
    "    for p in o:\n",
    "        own.append(p.text)\n",
    "    return own "
   ]
  },
  {
   "cell_type": "code",
   "execution_count": 60,
   "metadata": {},
   "outputs": [],
   "source": [
    "def link(s):\n",
    "    l=[]\n",
    "    o=s.find_all('a',attrs={'class':\"css-1ym6yxe\"})\n",
    "    \n",
    "    for p in o:\n",
    "            l.append(p['href'])\n",
    "    return l"
   ]
  },
  {
   "cell_type": "code",
   "execution_count": 62,
   "metadata": {},
   "outputs": [],
   "source": [
    "d={\n",
    "    'prices' : price(s),\n",
    "    'locations':location(s),\n",
    "    'furnishde':furnished(s),\n",
    "    'the_own':contac(s),\n",
    "    'links':link(s)\n",
    "\n",
    "}\n",
    "df=pd.DataFrame(d)\n"
   ]
  },
  {
   "cell_type": "code",
   "execution_count": 64,
   "metadata": {},
   "outputs": [],
   "source": [
    "def the_funki(s):\n",
    "    d={\n",
    "    'prices' : price(s),\n",
    "    'locations':location(s),\n",
    "    'furnishde':furnished(s),\n",
    "    'the_own':contac(s),\n",
    "    'links':link(s)\n",
    "\n",
    "    }\n",
    "    df=pd.DataFrame(d)\n",
    "    return df\n"
   ]
  },
  {
   "cell_type": "code",
   "execution_count": 68,
   "metadata": {},
   "outputs": [],
   "source": [
    "from selenium import webdriver\n",
    "from selenium.webdriver.common.keys import Keys\n",
    "from time import sleep\n",
    "the_data_pull=[]\n",
    "browser = webdriver.Firefox(executable_path=r\"C:\\Users\\swaraj\\Desktop\\codes\\modules\\geckodriver-v0.29.1-win64\\geckodriver\")\n",
    "browser.execute_script(\"window.scrollTo(0, document.body.scrollHeight);\")\n",
    "browser.get(url)\n",
    "for i in range(2,7):\n",
    "    i=str(i)\n",
    "    browser.execute_script(\"window.scrollTo(0, document.body.scrollHeight);\")\n",
    "\n",
    "    \n",
    "    #j=requests.get(browser.page_source)\n",
    "    #k=j.text\n",
    "    s=BeautifulSoup(browser.page_source,'lxml')\n",
    "    THE_DA=the_funki(s)\n",
    "    the_data_pull.append(THE_DA)\n",
    "\n",
    "    sleep(2)\n",
    "browser.quit()"
   ]
  },
  {
   "cell_type": "code",
   "execution_count": 70,
   "metadata": {},
   "outputs": [],
   "source": [
    "f=pd.concat(the_data_pull)"
   ]
  },
  {
   "cell_type": "code",
   "execution_count": 73,
   "metadata": {},
   "outputs": [],
   "source": [
    "f.to_csv(r'C:\\Users\\swaraj\\Desktop\\codes\\housing.csv')"
   ]
  }
 ]
}