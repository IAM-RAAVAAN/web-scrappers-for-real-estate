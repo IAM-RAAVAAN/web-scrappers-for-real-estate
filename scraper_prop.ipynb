{
 "metadata": {
  "language_info": {
   "codemirror_mode": {
    "name": "ipython",
    "version": 3
   },
   "file_extension": ".py",
   "mimetype": "text/x-python",
   "name": "python",
   "nbconvert_exporter": "python",
   "pygments_lexer": "ipython3",
   "version": "3.9.4"
  },
  "orig_nbformat": 2,
  "kernelspec": {
   "name": "python3",
   "display_name": "Python 3.9.4 64-bit"
  },
  "interpreter": {
   "hash": "588b1dd76ca082666fe2f995fff1e9efb2de790f2352d1450e516a9edc988200"
  }
 },
 "nbformat": 4,
 "nbformat_minor": 2,
 "cells": [
  {
   "cell_type": "code",
   "execution_count": 36,
   "metadata": {},
   "outputs": [],
   "source": [
    "import requests \n",
    "import re\n",
    "from bs4 import BeautifulSoup\n",
    "import pandas as pd"
   ]
  },
  {
   "cell_type": "code",
   "execution_count": 37,
   "metadata": {},
   "outputs": [],
   "source": [
    "url='https://www.propertywala.com/properties/type-residential_apartment_flat/for-rent/location-pune_maharashtra'\n",
    "\n",
    "j=requests.get(url)\n",
    "k=j.text\n",
    "s=BeautifulSoup(k,'lxml')"
   ]
  },
  {
   "cell_type": "code",
   "execution_count": 38,
   "metadata": {
    "tags": []
   },
   "outputs": [],
   "source": [
    "def title(s):\n",
    "    title=s.find_all('h4')\n",
    "    the_text=[]\n",
    "    for a in title:\n",
    "        the_text.append(a.text.strip())\n",
    "        \n",
    "        #print(the_text[:-4])\n",
    "    return the_text[:-4]"
   ]
  },
  {
   "cell_type": "code",
   "execution_count": 39,
   "metadata": {},
   "outputs": [],
   "source": [
    "def link(s):\n",
    "    link=[]\n",
    "    for a in s.findAll('a', attrs={'href': re.compile(\"/P\")}):\n",
    "        link.append('https://www.propertywala.com/'+a.get('href'))\n",
    "    the_final=list(set(link[1:]))\n",
    "    return the_final  "
   ]
  },
  {
   "cell_type": "code",
   "execution_count": 40,
   "metadata": {},
   "outputs": [],
   "source": [
    "def price(s):\n",
    "    prices=[]\n",
    "    price=s.find_all('div',attrs={'class':\"propertyPrice\"})\n",
    "    for p in price:\n",
    "        prices.append(p.text) \n",
    "    return prices"
   ]
  },
  {
   "cell_type": "code",
   "execution_count": 41,
   "metadata": {},
   "outputs": [],
   "source": [
    "def area(s):\n",
    "    area=[]\n",
    "    areas=s.find_all('li',attrs={'class':\"features\"})\n",
    "    for p in areas:\n",
    "        area.append(p.text.strip()) \n",
    "    return area"
   ]
  },
  {
   "cell_type": "code",
   "execution_count": 42,
   "metadata": {},
   "outputs": [],
   "source": [
    "def post(s):\n",
    "    postede=[]\n",
    "    pdate=s.find_all('li',attrs={'class':\"posted\"})\n",
    "    for p in pdate:\n",
    "        postede.append(p.text.strip()) \n",
    "    return postede"
   ]
  },
  {
   "cell_type": "code",
   "execution_count": 43,
   "metadata": {
    "tags": []
   },
   "outputs": [],
   "source": [
    "d={}\n",
    "df=pd.DataFrame(d)\n",
    "df['titile']=title(s)\n",
    "df['link']=link(s)\n",
    "df['post']=post(s)\n",
    "df['area']=area(s)\n",
    "df['price']=price(s)\n",
    "l=[]\n",
    "l.append(df)"
   ]
  },
  {
   "cell_type": "code",
   "execution_count": 44,
   "metadata": {},
   "outputs": [],
   "source": [
    "def fra(s):\n",
    "    df1=pd.DataFrame(d)\n",
    "    df1['titile']=title(s)\n",
    "    df1['link']=link(s)\n",
    "    df1['post']=post(s)\n",
    "    df1['area']=area(s)\n",
    "    df1['price']=price(s)\n",
    "    return df1"
   ]
  },
  {
   "cell_type": "code",
   "execution_count": 45,
   "metadata": {},
   "outputs": [
    {
     "output_type": "stream",
     "name": "stdout",
     "text": [
      "https://www.propertywala.com/properties/type-residential_apartment_flat/for-rent/location-pune_maharashtra?page=2\n",
      "https://www.propertywala.com/properties/type-residential_apartment_flat/for-rent/location-pune_maharashtra?page=3\n",
      "https://www.propertywala.com/properties/type-residential_apartment_flat/for-rent/location-pune_maharashtra?page=4\n"
     ]
    }
   ],
   "source": [
    "url='https://www.propertywala.com/properties/type-residential_apartment_flat/for-rent/location-pune_maharashtra?page=2'\n",
    "for i in range(2,5):\n",
    "    \n",
    "    \n",
    "    url=url[:url.index(\"=\")+1]\n",
    "\n",
    "    url=url+str(i)\n",
    "    print(url)\n",
    "    j=requests.get(url)\n",
    "    k=j.text\n",
    "    s=BeautifulSoup(k,'lxml')\n",
    "    l.append(fra(s))\n",
    "df2=pd.concat(l)"
   ]
  },
  {
   "cell_type": "code",
   "execution_count": 50,
   "metadata": {},
   "outputs": [],
   "source": [
    "df2['price']=df2['price'].apply(lambda x: x.strip())\n",
    "df2.to_csv('prop.csv')"
   ]
  },
  {
   "cell_type": "code",
   "execution_count": 48,
   "metadata": {},
   "outputs": [],
   "source": []
  },
  {
   "cell_type": "code",
   "execution_count": null,
   "metadata": {},
   "outputs": [],
   "source": []
  }
 ]
}