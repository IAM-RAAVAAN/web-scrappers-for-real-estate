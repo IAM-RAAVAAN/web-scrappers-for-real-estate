{
 "metadata": {
  "language_info": {
   "codemirror_mode": {
    "name": "ipython",
    "version": 3
   },
   "file_extension": ".py",
   "mimetype": "text/x-python",
   "name": "python",
   "nbconvert_exporter": "python",
   "pygments_lexer": "ipython3",
   "version": "3.9.2"
  },
  "orig_nbformat": 2,
  "kernelspec": {
   "name": "python3",
   "display_name": "Python 3.9.2 64-bit",
   "metadata": {
    "interpreter": {
     "hash": "e7370f93d1d0cde622a1f8e1c04877d8463912d04d973331ad4851f04de6915a"
    }
   }
  }
 },
 "nbformat": 4,
 "nbformat_minor": 2,
 "cells": [
  {
   "cell_type": "code",
   "execution_count": 51,
   "metadata": {},
   "outputs": [],
   "source": [
    "import requests \n",
    "import re\n",
    "from bs4 import BeautifulSoup\n",
    "import pandas as pd"
   ]
  },
  {
   "cell_type": "code",
   "execution_count": 52,
   "metadata": {},
   "outputs": [],
   "source": [
    "url='https://www.propertywala.com/properties/type-residential_apartment_flat/for-rent/location-pune_maharashtra'\n",
    "j=requests.get(url)\n",
    "k=j.text\n",
    "s=BeautifulSoup(k,'lxml')"
   ]
  },
  {
   "cell_type": "code",
   "execution_count": 74,
   "metadata": {
    "tags": []
   },
   "outputs": [],
   "source": [
    "def title(s):\n",
    "    title=s.find_all('h4')\n",
    "    the_text=[]\n",
    "    for a in title:\n",
    "        the_text.append(a.text.strip())\n",
    "        \n",
    "        #print(the_text[:-4])\n",
    "    return the_text[:-4]"
   ]
  },
  {
   "cell_type": "code",
   "execution_count": 54,
   "metadata": {},
   "outputs": [],
   "source": [
    "def link(s):\n",
    "    link=[]\n",
    "    for a in s.findAll('a', attrs={'href': re.compile(\"/P\")}):\n",
    "        link.append( a.get('href'))\n",
    "    the_final=list(set(link[1:]))\n",
    "    return the_final  "
   ]
  },
  {
   "cell_type": "code",
   "execution_count": 55,
   "metadata": {},
   "outputs": [],
   "source": [
    "def price(s):\n",
    "    prices=[]\n",
    "    price=s.find_all('div',attrs={'class':\"propertyPrice\"})\n",
    "    for p in price:\n",
    "        prices.append(p.text) \n",
    "    return prices"
   ]
  },
  {
   "cell_type": "code",
   "execution_count": 56,
   "metadata": {},
   "outputs": [],
   "source": [
    "def area(s):\n",
    "    area=[]\n",
    "    areas=s.find_all('li',attrs={'class':\"features\"})\n",
    "    for p in areas:\n",
    "        area.append(p.text.strip()) \n",
    "    return area"
   ]
  },
  {
   "cell_type": "code",
   "execution_count": 57,
   "metadata": {},
   "outputs": [],
   "source": [
    "def post(s):\n",
    "    postede=[]\n",
    "    pdate=s.find_all('li',attrs={'class':\"posted\"})\n",
    "    for p in pdate:\n",
    "        postede.append(p.text.strip()) \n",
    "    return postede"
   ]
  },
  {
   "cell_type": "code",
   "execution_count": 77,
   "metadata": {
    "tags": []
   },
   "outputs": [],
   "source": [
    "d={}\n",
    "df=pd.DataFrame(d)\n",
    "df['titile']=title(s)\n",
    "df['link']=link(s)\n",
    "df['post']=post(s)\n",
    "df['area']=area(s)\n",
    "df['price']=price(s)"
   ]
  },
  {
   "cell_type": "code",
   "execution_count": 78,
   "metadata": {},
   "outputs": [
    {
     "output_type": "execute_result",
     "data": {
      "text/plain": [
       "                                               titile        link  \\\n",
       "0   2 Bedroom Apartment / Flat for rent in Balewad...  /P97910726   \n",
       "1   1 Bedroom Apartment / Flat for rent in Balewad...  /P49922680   \n",
       "2   1 Bedroom Apartment / Flat for rent in Balewad...  /P97916126   \n",
       "3   2 Bedroom Flat for rent in Runwal Seagull, Had...  /P27793926   \n",
       "4   2 Bedroom Apartment / Flat for rent in Hadapsa...  /P95038826   \n",
       "5   2 Bedroom Flat for rent in Kumar Picasso, Hada...  /P64252889   \n",
       "6   2 Bedroom Apartment / Flat for rent in Pirangu...  /P56425092   \n",
       "7   1 Bedroom Apartment / Flat for rent in Lohegao...  /P58426503   \n",
       "8   3 Bedroom Apartment / Flat for rent in Lohegao...  /P72705556   \n",
       "9   3 Bedroom Flat for rent in Skyi Songbirds, Bhu...  /P87113532   \n",
       "10  3 Bedroom Apartment / Flat for rent in Undri, ...  /P86472192   \n",
       "11  3 Bedroom Apartment / Flat for rent in Godrej ...  /P33487238   \n",
       "12  1 Bedroom Flat for rent in Pristine Prolife, W...  /P11788963   \n",
       "13  1 Bedroom Apartment / Flat for rent in Wakad, ...  /P16471762   \n",
       "14  2 Bedroom Apartment / Flat for rent in Wakad, ...  /P35318261   \n",
       "15  2 Bedroom Apartment / Flat for rent in Wakad, ...  /P58928280   \n",
       "16  2 Bedroom Apartment / Flat for rent in Mont Ve...  /P37421264   \n",
       "17  2 Bedroom Apartment / Flat for rent in Wakad, ...  /P16809982   \n",
       "18  2 Bedroom Apartment / Flat for rent in Wakad, ...  /P27405225   \n",
       "19  2 Bedroom Flat for rent in Mont Vert Tropez, W...  /P21550626   \n",
       "20  3 Bedroom Apartment / Flat for rent in Wakad, ...  /P18594592   \n",
       "21  3 Bedroom Apartment / Flat for rent in Rohan T...  /P65268170   \n",
       "22  4 Bedroom Apartment / Flat for rent in Wakad, ...  /P85749852   \n",
       "23  3 Bedroom Flat for rent in Puraniks Aldea, Mah...  /P51426789   \n",
       "24  2 Bedroom Apartment / Flat for rent in Dhanori...  /P86965122   \n",
       "\n",
       "                                                 post  \\\n",
       "0   ID: P11788963 — Posted: 7 days ago by Vishal K...   \n",
       "1   ID: P56425092 — Posted: 8 days ago by Kajal Sh...   \n",
       "2   ID: P35318261 — Posted: 8 days ago by Kajal Sh...   \n",
       "3   ID: P85749852 — Posted: 8 days ago by Kajal Sh...   \n",
       "4   ID: P95038826 — Posted: 8 days ago by Kajal Sh...   \n",
       "5   ID: P72705556 — Posted: 8 days ago by Kajal Sh...   \n",
       "6   ID: P58928280 — Posted: 8 days ago by Kajal Sh...   \n",
       "7   ID: P58426503 — Posted: 8 days ago by Kajal Sh...   \n",
       "8   ID: P33487238 — Posted: 8 days ago by Kajal Sh...   \n",
       "9   ID: P65268170 — Posted: 8 days ago by Kajal Sh...   \n",
       "10  ID: P21550626 — Posted: 8 days ago by Kajal Sh...   \n",
       "11  ID: P64252889 — Posted: 8 days ago by Kajal Sh...   \n",
       "12  ID: P37421264 — Posted: 8 days ago by Kajal Sh...   \n",
       "13  ID: P16471762 — Posted: 8 days ago by Kajal Sh...   \n",
       "14  ID: P86965122 — Posted: 8 days ago by Kajal Sh...   \n",
       "15  ID: P97910726 — Posted: 8 days ago by Kajal Sh...   \n",
       "16  ID: P51426789 — Posted: 8 days ago by Kajal Sh...   \n",
       "17  ID: P16809982 — Posted: 8 days ago by Kajal Sh...   \n",
       "18  ID: P49922680 — Posted: 8 days ago by Kajal Sh...   \n",
       "19  ID: P27793926 — Posted: 8 days ago by Kajal Sh...   \n",
       "20  ID: P87113532 — Posted: 8 days ago by Kajal Sh...   \n",
       "21  ID: P86472192 — Posted: 8 days ago by Kajal Sh...   \n",
       "22  ID: P27405225 — Posted: 8 days ago by Kajal Sh...   \n",
       "23  ID: P97916126 — Posted: 8 days ago by Kajal Sh...   \n",
       "24  ID: P18594592 — Posted: 8 days ago by Kajal Sh...   \n",
       "\n",
       "                                          area  \\\n",
       "0    1005 SqFeet Apartment @ Rs.20/SqFeet +15%   \n",
       "1     630 SqFeet Apartment @ Rs.29/SqFeet +70%   \n",
       "2     570 SqFeet Apartment @ Rs.25/SqFeet +45%   \n",
       "3     1100 SqFeet Apartment @ Rs.15/SqFeet +5%   \n",
       "4     945 SqFeet Apartment @ Rs.17/SqFeet +20%   \n",
       "5    1100 SqFeet Apartment @ Rs.24/SqFeet +70%   \n",
       "6     1025 SqFeet Apartment @ Rs.8/SqFeet -20%   \n",
       "7    1000 SqFeet Apartment @ Rs.16/SqFeet +10%   \n",
       "8    1400 SqFeet Apartment @ Rs.17/SqFeet +20%   \n",
       "9         1427 SqFeet Apartment @ Rs.15/SqFeet   \n",
       "10    1080 SqFeet Apartment @ Rs.13/SqFeet +5%   \n",
       "11   1300 SqFeet Apartment @ Rs.16/SqFeet +30%   \n",
       "12    560 SqFeet Apartment @ Rs.27/SqFeet +90%   \n",
       "13    560 SqFeet Apartment @ Rs.20/SqFeet +40%   \n",
       "14   600 SqFeet Apartment @ Rs.28/SqFeet +100%   \n",
       "15   1100 SqFeet Apartment @ Rs.18/SqFeet +25%   \n",
       "16   1000 SqFeet Apartment @ Rs.20/SqFeet +40%   \n",
       "17   1100 SqFeet Apartment @ Rs.18/SqFeet +25%   \n",
       "18    1100 SqFeet Apartment @ Rs.15/SqFeet +5%   \n",
       "19   1300 SqFeet Apartment @ Rs.17/SqFeet +20%   \n",
       "20   1480 SqFeet Apartment @ Rs.17/SqFeet +20%   \n",
       "21   1550 SqFeet Apartment @ Rs.16/SqFeet +10%   \n",
       "22  2400 SqFeet Apartment @ Rs.31/SqFeet +120%   \n",
       "23    1150 SqFeet Apartment @ Rs.20/SqFeet +5%   \n",
       "24    600 SqFeet Apartment @ Rs.22/SqFeet +25%   \n",
       "\n",
       "                                           price  \n",
       "0   \\n\\r\\n                20,000\\r\\n              \n",
       "1   \\n\\r\\n                18,000\\r\\n              \n",
       "2   \\n\\r\\n                14,000\\r\\n              \n",
       "3   \\n\\r\\n                16,000\\r\\n              \n",
       "4   \\n\\r\\n                16,000\\r\\n              \n",
       "5   \\n\\r\\n                26,000\\r\\n              \n",
       "6    \\n\\r\\n                8,500\\r\\n              \n",
       "7   \\n\\r\\n                16,000\\r\\n              \n",
       "8   \\n\\r\\n                24,000\\r\\n              \n",
       "9   \\n\\r\\n                21,000\\r\\n              \n",
       "10  \\n\\r\\n                14,000\\r\\n              \n",
       "11  \\n\\r\\n                21,000\\r\\n              \n",
       "12  \\n\\r\\n                15,000\\r\\n              \n",
       "13  \\n\\r\\n                11,000\\r\\n              \n",
       "14  \\n\\r\\n                17,000\\r\\n              \n",
       "15  \\n\\r\\n                20,000\\r\\n              \n",
       "16  \\n\\r\\n                20,000\\r\\n              \n",
       "17  \\n\\r\\n                20,000\\r\\n              \n",
       "18  \\n\\r\\n                16,000\\r\\n              \n",
       "19  \\n\\r\\n                22,000\\r\\n              \n",
       "20  \\n\\r\\n                25,000\\r\\n              \n",
       "21  \\n\\r\\n                25,000\\r\\n              \n",
       "22  \\n\\r\\n                75,000\\r\\n              \n",
       "23  \\n\\r\\n                23,000\\r\\n              \n",
       "24  \\n\\r\\n                13,000\\r\\n              "
      ],
      "text/html": "<div>\n<style scoped>\n    .dataframe tbody tr th:only-of-type {\n        vertical-align: middle;\n    }\n\n    .dataframe tbody tr th {\n        vertical-align: top;\n    }\n\n    .dataframe thead th {\n        text-align: right;\n    }\n</style>\n<table border=\"1\" class=\"dataframe\">\n  <thead>\n    <tr style=\"text-align: right;\">\n      <th></th>\n      <th>titile</th>\n      <th>link</th>\n      <th>post</th>\n      <th>area</th>\n      <th>price</th>\n    </tr>\n  </thead>\n  <tbody>\n    <tr>\n      <th>0</th>\n      <td>2 Bedroom Apartment / Flat for rent in Balewad...</td>\n      <td>/P97910726</td>\n      <td>ID: P11788963 — Posted: 7 days ago by Vishal K...</td>\n      <td>1005 SqFeet Apartment @ Rs.20/SqFeet +15%</td>\n      <td>\\n\\r\\n                20,000\\r\\n</td>\n    </tr>\n    <tr>\n      <th>1</th>\n      <td>1 Bedroom Apartment / Flat for rent in Balewad...</td>\n      <td>/P49922680</td>\n      <td>ID: P56425092 — Posted: 8 days ago by Kajal Sh...</td>\n      <td>630 SqFeet Apartment @ Rs.29/SqFeet +70%</td>\n      <td>\\n\\r\\n                18,000\\r\\n</td>\n    </tr>\n    <tr>\n      <th>2</th>\n      <td>1 Bedroom Apartment / Flat for rent in Balewad...</td>\n      <td>/P97916126</td>\n      <td>ID: P35318261 — Posted: 8 days ago by Kajal Sh...</td>\n      <td>570 SqFeet Apartment @ Rs.25/SqFeet +45%</td>\n      <td>\\n\\r\\n                14,000\\r\\n</td>\n    </tr>\n    <tr>\n      <th>3</th>\n      <td>2 Bedroom Flat for rent in Runwal Seagull, Had...</td>\n      <td>/P27793926</td>\n      <td>ID: P85749852 — Posted: 8 days ago by Kajal Sh...</td>\n      <td>1100 SqFeet Apartment @ Rs.15/SqFeet +5%</td>\n      <td>\\n\\r\\n                16,000\\r\\n</td>\n    </tr>\n    <tr>\n      <th>4</th>\n      <td>2 Bedroom Apartment / Flat for rent in Hadapsa...</td>\n      <td>/P95038826</td>\n      <td>ID: P95038826 — Posted: 8 days ago by Kajal Sh...</td>\n      <td>945 SqFeet Apartment @ Rs.17/SqFeet +20%</td>\n      <td>\\n\\r\\n                16,000\\r\\n</td>\n    </tr>\n    <tr>\n      <th>5</th>\n      <td>2 Bedroom Flat for rent in Kumar Picasso, Hada...</td>\n      <td>/P64252889</td>\n      <td>ID: P72705556 — Posted: 8 days ago by Kajal Sh...</td>\n      <td>1100 SqFeet Apartment @ Rs.24/SqFeet +70%</td>\n      <td>\\n\\r\\n                26,000\\r\\n</td>\n    </tr>\n    <tr>\n      <th>6</th>\n      <td>2 Bedroom Apartment / Flat for rent in Pirangu...</td>\n      <td>/P56425092</td>\n      <td>ID: P58928280 — Posted: 8 days ago by Kajal Sh...</td>\n      <td>1025 SqFeet Apartment @ Rs.8/SqFeet -20%</td>\n      <td>\\n\\r\\n                8,500\\r\\n</td>\n    </tr>\n    <tr>\n      <th>7</th>\n      <td>1 Bedroom Apartment / Flat for rent in Lohegao...</td>\n      <td>/P58426503</td>\n      <td>ID: P58426503 — Posted: 8 days ago by Kajal Sh...</td>\n      <td>1000 SqFeet Apartment @ Rs.16/SqFeet +10%</td>\n      <td>\\n\\r\\n                16,000\\r\\n</td>\n    </tr>\n    <tr>\n      <th>8</th>\n      <td>3 Bedroom Apartment / Flat for rent in Lohegao...</td>\n      <td>/P72705556</td>\n      <td>ID: P33487238 — Posted: 8 days ago by Kajal Sh...</td>\n      <td>1400 SqFeet Apartment @ Rs.17/SqFeet +20%</td>\n      <td>\\n\\r\\n                24,000\\r\\n</td>\n    </tr>\n    <tr>\n      <th>9</th>\n      <td>3 Bedroom Flat for rent in Skyi Songbirds, Bhu...</td>\n      <td>/P87113532</td>\n      <td>ID: P65268170 — Posted: 8 days ago by Kajal Sh...</td>\n      <td>1427 SqFeet Apartment @ Rs.15/SqFeet</td>\n      <td>\\n\\r\\n                21,000\\r\\n</td>\n    </tr>\n    <tr>\n      <th>10</th>\n      <td>3 Bedroom Apartment / Flat for rent in Undri, ...</td>\n      <td>/P86472192</td>\n      <td>ID: P21550626 — Posted: 8 days ago by Kajal Sh...</td>\n      <td>1080 SqFeet Apartment @ Rs.13/SqFeet +5%</td>\n      <td>\\n\\r\\n                14,000\\r\\n</td>\n    </tr>\n    <tr>\n      <th>11</th>\n      <td>3 Bedroom Apartment / Flat for rent in Godrej ...</td>\n      <td>/P33487238</td>\n      <td>ID: P64252889 — Posted: 8 days ago by Kajal Sh...</td>\n      <td>1300 SqFeet Apartment @ Rs.16/SqFeet +30%</td>\n      <td>\\n\\r\\n                21,000\\r\\n</td>\n    </tr>\n    <tr>\n      <th>12</th>\n      <td>1 Bedroom Flat for rent in Pristine Prolife, W...</td>\n      <td>/P11788963</td>\n      <td>ID: P37421264 — Posted: 8 days ago by Kajal Sh...</td>\n      <td>560 SqFeet Apartment @ Rs.27/SqFeet +90%</td>\n      <td>\\n\\r\\n                15,000\\r\\n</td>\n    </tr>\n    <tr>\n      <th>13</th>\n      <td>1 Bedroom Apartment / Flat for rent in Wakad, ...</td>\n      <td>/P16471762</td>\n      <td>ID: P16471762 — Posted: 8 days ago by Kajal Sh...</td>\n      <td>560 SqFeet Apartment @ Rs.20/SqFeet +40%</td>\n      <td>\\n\\r\\n                11,000\\r\\n</td>\n    </tr>\n    <tr>\n      <th>14</th>\n      <td>2 Bedroom Apartment / Flat for rent in Wakad, ...</td>\n      <td>/P35318261</td>\n      <td>ID: P86965122 — Posted: 8 days ago by Kajal Sh...</td>\n      <td>600 SqFeet Apartment @ Rs.28/SqFeet +100%</td>\n      <td>\\n\\r\\n                17,000\\r\\n</td>\n    </tr>\n    <tr>\n      <th>15</th>\n      <td>2 Bedroom Apartment / Flat for rent in Wakad, ...</td>\n      <td>/P58928280</td>\n      <td>ID: P97910726 — Posted: 8 days ago by Kajal Sh...</td>\n      <td>1100 SqFeet Apartment @ Rs.18/SqFeet +25%</td>\n      <td>\\n\\r\\n                20,000\\r\\n</td>\n    </tr>\n    <tr>\n      <th>16</th>\n      <td>2 Bedroom Apartment / Flat for rent in Mont Ve...</td>\n      <td>/P37421264</td>\n      <td>ID: P51426789 — Posted: 8 days ago by Kajal Sh...</td>\n      <td>1000 SqFeet Apartment @ Rs.20/SqFeet +40%</td>\n      <td>\\n\\r\\n                20,000\\r\\n</td>\n    </tr>\n    <tr>\n      <th>17</th>\n      <td>2 Bedroom Apartment / Flat for rent in Wakad, ...</td>\n      <td>/P16809982</td>\n      <td>ID: P16809982 — Posted: 8 days ago by Kajal Sh...</td>\n      <td>1100 SqFeet Apartment @ Rs.18/SqFeet +25%</td>\n      <td>\\n\\r\\n                20,000\\r\\n</td>\n    </tr>\n    <tr>\n      <th>18</th>\n      <td>2 Bedroom Apartment / Flat for rent in Wakad, ...</td>\n      <td>/P27405225</td>\n      <td>ID: P49922680 — Posted: 8 days ago by Kajal Sh...</td>\n      <td>1100 SqFeet Apartment @ Rs.15/SqFeet +5%</td>\n      <td>\\n\\r\\n                16,000\\r\\n</td>\n    </tr>\n    <tr>\n      <th>19</th>\n      <td>2 Bedroom Flat for rent in Mont Vert Tropez, W...</td>\n      <td>/P21550626</td>\n      <td>ID: P27793926 — Posted: 8 days ago by Kajal Sh...</td>\n      <td>1300 SqFeet Apartment @ Rs.17/SqFeet +20%</td>\n      <td>\\n\\r\\n                22,000\\r\\n</td>\n    </tr>\n    <tr>\n      <th>20</th>\n      <td>3 Bedroom Apartment / Flat for rent in Wakad, ...</td>\n      <td>/P18594592</td>\n      <td>ID: P87113532 — Posted: 8 days ago by Kajal Sh...</td>\n      <td>1480 SqFeet Apartment @ Rs.17/SqFeet +20%</td>\n      <td>\\n\\r\\n                25,000\\r\\n</td>\n    </tr>\n    <tr>\n      <th>21</th>\n      <td>3 Bedroom Apartment / Flat for rent in Rohan T...</td>\n      <td>/P65268170</td>\n      <td>ID: P86472192 — Posted: 8 days ago by Kajal Sh...</td>\n      <td>1550 SqFeet Apartment @ Rs.16/SqFeet +10%</td>\n      <td>\\n\\r\\n                25,000\\r\\n</td>\n    </tr>\n    <tr>\n      <th>22</th>\n      <td>4 Bedroom Apartment / Flat for rent in Wakad, ...</td>\n      <td>/P85749852</td>\n      <td>ID: P27405225 — Posted: 8 days ago by Kajal Sh...</td>\n      <td>2400 SqFeet Apartment @ Rs.31/SqFeet +120%</td>\n      <td>\\n\\r\\n                75,000\\r\\n</td>\n    </tr>\n    <tr>\n      <th>23</th>\n      <td>3 Bedroom Flat for rent in Puraniks Aldea, Mah...</td>\n      <td>/P51426789</td>\n      <td>ID: P97916126 — Posted: 8 days ago by Kajal Sh...</td>\n      <td>1150 SqFeet Apartment @ Rs.20/SqFeet +5%</td>\n      <td>\\n\\r\\n                23,000\\r\\n</td>\n    </tr>\n    <tr>\n      <th>24</th>\n      <td>2 Bedroom Apartment / Flat for rent in Dhanori...</td>\n      <td>/P86965122</td>\n      <td>ID: P18594592 — Posted: 8 days ago by Kajal Sh...</td>\n      <td>600 SqFeet Apartment @ Rs.22/SqFeet +25%</td>\n      <td>\\n\\r\\n                13,000\\r\\n</td>\n    </tr>\n  </tbody>\n</table>\n</div>"
     },
     "metadata": {},
     "execution_count": 78
    }
   ],
   "source": [
    "for i in range(2,page_number)\n",
    "j=requests.get(url)\n",
    "k=j.text\n",
    "s=BeautifulSoup(k,'lxml')"
   ]
  },
  {
   "cell_type": "code",
   "execution_count": null,
   "metadata": {},
   "outputs": [],
   "source": []
  }
 ]
}