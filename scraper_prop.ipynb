{
 "metadata": {
  "language_info": {
   "codemirror_mode": {
    "name": "ipython",
    "version": 3
   },
   "file_extension": ".py",
   "mimetype": "text/x-python",
   "name": "python",
   "nbconvert_exporter": "python",
   "pygments_lexer": "ipython3",
   "version": "3.9.4"
  },
  "orig_nbformat": 2,
  "kernelspec": {
   "name": "python3",
   "display_name": "Python 3.9.4 64-bit"
  },
  "interpreter": {
   "hash": "588b1dd76ca082666fe2f995fff1e9efb2de790f2352d1450e516a9edc988200"
  }
 },
 "nbformat": 4,
 "nbformat_minor": 2,
 "cells": [
  {
   "cell_type": "code",
   "execution_count": 1,
   "metadata": {},
   "outputs": [],
   "source": [
    "import requests \n",
    "import re\n",
    "from bs4 import BeautifulSoup\n",
    "import pandas as pd"
   ]
  },
  {
   "cell_type": "code",
   "execution_count": 2,
   "metadata": {},
   "outputs": [],
   "source": [
    "url='https://www.propertywala.com/properties/type-residential_apartment_flat/for-rent/location-pune_maharashtra'\n",
    "\n",
    "j=requests.get(url)\n",
    "k=j.text\n",
    "s=BeautifulSoup(k,'lxml')"
   ]
  },
  {
   "cell_type": "code",
   "execution_count": 3,
   "metadata": {
    "tags": []
   },
   "outputs": [],
   "source": [
    "def title(s):\n",
    "    title=s.find_all('h4')\n",
    "    the_text=[]\n",
    "    for a in title:\n",
    "        the_text.append(a.text.strip())\n",
    "        \n",
    "        #print(the_text[:-4])\n",
    "    return the_text[:-4]"
   ]
  },
  {
   "cell_type": "code",
   "execution_count": 4,
   "metadata": {},
   "outputs": [],
   "source": [
    "def link(s):\n",
    "    link=[]\n",
    "    for a in s.findAll('a', attrs={'href': re.compile(\"/P\")}):\n",
    "        link.append( a.get('href'))\n",
    "    the_final=list(set(link[1:]))\n",
    "    return the_final  "
   ]
  },
  {
   "cell_type": "code",
   "execution_count": 5,
   "metadata": {},
   "outputs": [],
   "source": [
    "def price(s):\n",
    "    prices=[]\n",
    "    price=s.find_all('div',attrs={'class':\"propertyPrice\"})\n",
    "    for p in price:\n",
    "        prices.append(p.text) \n",
    "    return prices"
   ]
  },
  {
   "cell_type": "code",
   "execution_count": 6,
   "metadata": {},
   "outputs": [],
   "source": [
    "def area(s):\n",
    "    area=[]\n",
    "    areas=s.find_all('li',attrs={'class':\"features\"})\n",
    "    for p in areas:\n",
    "        area.append(p.text.strip()) \n",
    "    return area"
   ]
  },
  {
   "cell_type": "code",
   "execution_count": 7,
   "metadata": {},
   "outputs": [],
   "source": [
    "def post(s):\n",
    "    postede=[]\n",
    "    pdate=s.find_all('li',attrs={'class':\"posted\"})\n",
    "    for p in pdate:\n",
    "        postede.append(p.text.strip()) \n",
    "    return postede"
   ]
  },
  {
   "cell_type": "code",
   "execution_count": 8,
   "metadata": {
    "tags": []
   },
   "outputs": [],
   "source": [
    "d={}\n",
    "df=pd.DataFrame(d)\n",
    "df['titile']=title(s)\n",
    "df['link']=link(s)\n",
    "df['post']=post(s)\n",
    "df['area']=area(s)\n",
    "df['price']=price(s)"
   ]
  },
  {
   "cell_type": "code",
   "execution_count": 26,
   "metadata": {},
   "outputs": [
    {
     "output_type": "stream",
     "name": "stdout",
     "text": [
      "https://www.propertywala.com/properties/type-residential_apartment_flat/for-rent/location-pune_maharashtra?page=2 2\n",
      "https://www.propertywala.com/properties/type-residential_apartment_flat/for-rent/location-pune_maharashtra?page=2 3\n",
      "https://www.propertywala.com/properties/type-residential_apartment_flat/for-rent/location-pune_maharashtra?page=3 4\n"
     ]
    }
   ],
   "source": [
    "url='https://www.propertywala.com/properties/type-residential_apartment_flat/for-rent/location-pune_maharashtra?page=2'\n",
    "for i in range(2,5):\n",
    "    \n",
    "    print(url[:url.index(\"=\")+1],i)\n",
    "    url=url[:url.index(\"=\")+1]\n",
    "    url=url+str(i)\n",
    "    j=requests.get(url)\n",
    "    k=j.text\n",
    "    s=BeautifulSoup(k,'lxml')"
   ]
  }
 ]
}